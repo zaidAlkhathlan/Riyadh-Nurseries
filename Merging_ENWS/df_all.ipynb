{
 "cells": [
  {
   "cell_type": "code",
   "execution_count": 1,
   "metadata": {},
   "outputs": [],
   "source": [
    "import pandas as pd"
   ]
  },
  {
   "cell_type": "code",
   "execution_count": 2,
   "metadata": {},
   "outputs": [],
   "source": [
    "df_S= pd.read_csv(\"/Users/izx_gamex/Desktop/Tuwaiq/capston/Data/SRiyadh.csv\")\n",
    "df_N= pd.read_csv(\"/Users/izx_gamex/Desktop/Tuwaiq/capston/Data/NRiyadh.csv\")\n",
    "df_E= pd.read_csv(\"/Users/izx_gamex/Desktop/Tuwaiq/capston/Data/ERiyadh.csv\")\n",
    "df_W= pd.read_csv(\"/Users/izx_gamex/Desktop/Tuwaiq/capston/Data/WRiyadh.csv\")"
   ]
  },
  {
   "cell_type": "code",
   "execution_count": null,
   "metadata": {},
   "outputs": [],
   "source": []
  },
  {
   "cell_type": "code",
   "execution_count": 3,
   "metadata": {},
   "outputs": [],
   "source": [
    "frames = [df_S, df_N, df_E, df_W]\n"
   ]
  },
  {
   "cell_type": "code",
   "execution_count": 4,
   "metadata": {},
   "outputs": [],
   "source": [
    "df_All= pd.concat(frames)"
   ]
  },
  {
   "cell_type": "code",
   "execution_count": 6,
   "metadata": {},
   "outputs": [],
   "source": [
    "# check wepsite \n",
    "# url lat and lang\n",
    "# Rate check null\n",
    "# \n",
    "df_All.drop(columns=[ \"google-symbols\",\"Website.1\"], inplace=True)"
   ]
  },
  {
   "cell_type": "code",
   "execution_count": 7,
   "metadata": {},
   "outputs": [
    {
     "data": {
      "text/html": [
       "<div>\n",
       "<style scoped>\n",
       "    .dataframe tbody tr th:only-of-type {\n",
       "        vertical-align: middle;\n",
       "    }\n",
       "\n",
       "    .dataframe tbody tr th {\n",
       "        vertical-align: top;\n",
       "    }\n",
       "\n",
       "    .dataframe thead th {\n",
       "        text-align: right;\n",
       "    }\n",
       "</style>\n",
       "<table border=\"1\" class=\"dataframe\">\n",
       "  <thead>\n",
       "    <tr style=\"text-align: right;\">\n",
       "      <th></th>\n",
       "      <th>url</th>\n",
       "      <th>Name</th>\n",
       "      <th>Rates</th>\n",
       "      <th>Reviews</th>\n",
       "      <th>Type</th>\n",
       "      <th>Phone</th>\n",
       "      <th>Neighborhood</th>\n",
       "      <th>Website</th>\n",
       "      <th>direction</th>\n",
       "    </tr>\n",
       "  </thead>\n",
       "  <tbody>\n",
       "    <tr>\n",
       "      <th>0</th>\n",
       "      <td>https://www.google.com/maps/place/%D9%85%D8%B1...</td>\n",
       "      <td>مركز الحفلة الرائعة</td>\n",
       "      <td>4.8</td>\n",
       "      <td>(25)</td>\n",
       "      <td>حضانة أطفال</td>\n",
       "      <td>053 977 1294</td>\n",
       "      <td>الحزم</td>\n",
       "      <td>NaN</td>\n",
       "      <td>جنوب الرياض</td>\n",
       "    </tr>\n",
       "    <tr>\n",
       "      <th>1</th>\n",
       "      <td>https://www.google.com/maps/place/%D8%AD%D8%B6...</td>\n",
       "      <td>حضانه واحة بيت الطفولة</td>\n",
       "      <td>4.8</td>\n",
       "      <td>(42)</td>\n",
       "      <td>حضانة</td>\n",
       "      <td>055 159 5971</td>\n",
       "      <td>الحزم</td>\n",
       "      <td>NaN</td>\n",
       "      <td>جنوب الرياض</td>\n",
       "    </tr>\n",
       "    <tr>\n",
       "      <th>2</th>\n",
       "      <td>https://www.google.com/maps/place/%D9%85%D8%B1...</td>\n",
       "      <td>مركز لحظات الطفل</td>\n",
       "      <td>4.7</td>\n",
       "      <td>(58)</td>\n",
       "      <td>رياض أطفال</td>\n",
       "      <td>055 939 4715</td>\n",
       "      <td>الحزم</td>\n",
       "      <td>NaN</td>\n",
       "      <td>جنوب الرياض</td>\n",
       "    </tr>\n",
       "    <tr>\n",
       "      <th>3</th>\n",
       "      <td>https://www.google.com/maps/place/%D8%B1%D9%88...</td>\n",
       "      <td>روضة وحضانة فوز الطفل لرياض الاطفال</td>\n",
       "      <td>5.0</td>\n",
       "      <td>(12)</td>\n",
       "      <td>حضانة أطفال</td>\n",
       "      <td>055 808 8178</td>\n",
       "      <td>الحزم</td>\n",
       "      <td>NaN</td>\n",
       "      <td>جنوب الرياض</td>\n",
       "    </tr>\n",
       "    <tr>\n",
       "      <th>4</th>\n",
       "      <td>https://www.google.com/maps/place/%D8%B1%D9%88...</td>\n",
       "      <td>روضة براعم الاصيل الصباحيه قسم البنين</td>\n",
       "      <td>3.6</td>\n",
       "      <td>(9)</td>\n",
       "      <td>مدرسة</td>\n",
       "      <td>050 422 5592</td>\n",
       "      <td>الحزم</td>\n",
       "      <td>NaN</td>\n",
       "      <td>جنوب الرياض</td>\n",
       "    </tr>\n",
       "    <tr>\n",
       "      <th>...</th>\n",
       "      <td>...</td>\n",
       "      <td>...</td>\n",
       "      <td>...</td>\n",
       "      <td>...</td>\n",
       "      <td>...</td>\n",
       "      <td>...</td>\n",
       "      <td>...</td>\n",
       "      <td>...</td>\n",
       "      <td>...</td>\n",
       "    </tr>\n",
       "    <tr>\n",
       "      <th>187</th>\n",
       "      <td>https://www.google.com/maps/place/%D8%B9%D8%A7...</td>\n",
       "      <td>عالم منتسوري روضة تمهيدي حضانة</td>\n",
       "      <td>3.7</td>\n",
       "      <td>(70)</td>\n",
       "      <td>مدرسة</td>\n",
       "      <td>056 060 6387</td>\n",
       "      <td>الدريهمية</td>\n",
       "      <td>·</td>\n",
       "      <td>غرب الرياض</td>\n",
       "    </tr>\n",
       "    <tr>\n",
       "      <th>188</th>\n",
       "      <td>https://www.google.com/maps/place/%D9%85%D8%AF...</td>\n",
       "      <td>مدارس روضة القادة الاهلية</td>\n",
       "      <td>3.9</td>\n",
       "      <td>(101)</td>\n",
       "      <td>مدرسة خاصة</td>\n",
       "      <td>011 426 8182</td>\n",
       "      <td>الدريهمية</td>\n",
       "      <td>4094 سعد بن عتيق, 7894</td>\n",
       "      <td>غرب الرياض</td>\n",
       "    </tr>\n",
       "    <tr>\n",
       "      <th>189</th>\n",
       "      <td>https://www.google.com/maps/place/%D9%85%D8%AF...</td>\n",
       "      <td>مدارس رائدة التعليم الاهلية</td>\n",
       "      <td>3.2</td>\n",
       "      <td>(57)</td>\n",
       "      <td>مدرسة</td>\n",
       "      <td>056 068 6522</td>\n",
       "      <td>الدريهمية</td>\n",
       "      <td>·</td>\n",
       "      <td>غرب الرياض</td>\n",
       "    </tr>\n",
       "    <tr>\n",
       "      <th>190</th>\n",
       "      <td>https://www.google.com/maps/place/%D8%B1%D9%88...</td>\n",
       "      <td>روضة 41</td>\n",
       "      <td>3.6</td>\n",
       "      <td>(19)</td>\n",
       "      <td>مدرسة</td>\n",
       "      <td>050 636 6023</td>\n",
       "      <td>الدريهمية</td>\n",
       "      <td>·</td>\n",
       "      <td>غرب الرياض</td>\n",
       "    </tr>\n",
       "    <tr>\n",
       "      <th>191</th>\n",
       "      <td>https://www.google.com/maps/place/%D8%B1%D9%88...</td>\n",
       "      <td>روضة 34</td>\n",
       "      <td>3.9</td>\n",
       "      <td>(10)</td>\n",
       "      <td>حضانة أطفال</td>\n",
       "      <td>NaN</td>\n",
       "      <td>الدريهمية</td>\n",
       "      <td>NaN</td>\n",
       "      <td>غرب الرياض</td>\n",
       "    </tr>\n",
       "  </tbody>\n",
       "</table>\n",
       "<p>746 rows × 9 columns</p>\n",
       "</div>"
      ],
      "text/plain": [
       "                                                   url  \\\n",
       "0    https://www.google.com/maps/place/%D9%85%D8%B1...   \n",
       "1    https://www.google.com/maps/place/%D8%AD%D8%B6...   \n",
       "2    https://www.google.com/maps/place/%D9%85%D8%B1...   \n",
       "3    https://www.google.com/maps/place/%D8%B1%D9%88...   \n",
       "4    https://www.google.com/maps/place/%D8%B1%D9%88...   \n",
       "..                                                 ...   \n",
       "187  https://www.google.com/maps/place/%D8%B9%D8%A7...   \n",
       "188  https://www.google.com/maps/place/%D9%85%D8%AF...   \n",
       "189  https://www.google.com/maps/place/%D9%85%D8%AF...   \n",
       "190  https://www.google.com/maps/place/%D8%B1%D9%88...   \n",
       "191  https://www.google.com/maps/place/%D8%B1%D9%88...   \n",
       "\n",
       "                                      Name  Rates Reviews         Type  \\\n",
       "0                      مركز الحفلة الرائعة    4.8    (25)  حضانة أطفال   \n",
       "1                   حضانه واحة بيت الطفولة    4.8    (42)        حضانة   \n",
       "2                         مركز لحظات الطفل    4.7    (58)   رياض أطفال   \n",
       "3      روضة وحضانة فوز الطفل لرياض الاطفال    5.0    (12)  حضانة أطفال   \n",
       "4    روضة براعم الاصيل الصباحيه قسم البنين    3.6     (9)        مدرسة   \n",
       "..                                     ...    ...     ...          ...   \n",
       "187         عالم منتسوري روضة تمهيدي حضانة    3.7    (70)        مدرسة   \n",
       "188              مدارس روضة القادة الاهلية    3.9   (101)   مدرسة خاصة   \n",
       "189            مدارس رائدة التعليم الاهلية    3.2    (57)        مدرسة   \n",
       "190                                روضة 41    3.6    (19)        مدرسة   \n",
       "191                                روضة 34    3.9    (10)  حضانة أطفال   \n",
       "\n",
       "            Phone Neighborhood                 Website    direction  \n",
       "0    053 977 1294        الحزم                     NaN  جنوب الرياض  \n",
       "1    055 159 5971        الحزم                     NaN  جنوب الرياض  \n",
       "2    055 939 4715        الحزم                     NaN  جنوب الرياض  \n",
       "3    055 808 8178        الحزم                     NaN  جنوب الرياض  \n",
       "4    050 422 5592        الحزم                     NaN  جنوب الرياض  \n",
       "..            ...          ...                     ...          ...  \n",
       "187  056 060 6387    الدريهمية                       ·   غرب الرياض  \n",
       "188  011 426 8182    الدريهمية  4094 سعد بن عتيق, 7894   غرب الرياض  \n",
       "189  056 068 6522    الدريهمية                       ·   غرب الرياض  \n",
       "190  050 636 6023    الدريهمية                       ·   غرب الرياض  \n",
       "191           NaN    الدريهمية                     NaN   غرب الرياض  \n",
       "\n",
       "[746 rows x 9 columns]"
      ]
     },
     "execution_count": 7,
     "metadata": {},
     "output_type": "execute_result"
    }
   ],
   "source": [
    "df_All"
   ]
  },
  {
   "cell_type": "code",
   "execution_count": 8,
   "metadata": {},
   "outputs": [
    {
     "data": {
      "text/plain": [
       "134"
      ]
     },
     "execution_count": 8,
     "metadata": {},
     "output_type": "execute_result"
    }
   ],
   "source": [
    "df_All[\"url\"].duplicated().sum()"
   ]
  },
  {
   "cell_type": "code",
   "execution_count": 9,
   "metadata": {},
   "outputs": [],
   "source": [
    "df_All = df_All.drop_duplicates(subset=['url'], keep='first').reset_index(drop=True)\n"
   ]
  },
  {
   "cell_type": "code",
   "execution_count": 10,
   "metadata": {},
   "outputs": [],
   "source": [
    "df_All.to_csv('Riyadh_Nurseries_Raw.csv', index=False)"
   ]
  }
 ],
 "metadata": {
  "kernelspec": {
   "display_name": "base",
   "language": "python",
   "name": "python3"
  },
  "language_info": {
   "codemirror_mode": {
    "name": "ipython",
    "version": 3
   },
   "file_extension": ".py",
   "mimetype": "text/x-python",
   "name": "python",
   "nbconvert_exporter": "python",
   "pygments_lexer": "ipython3",
   "version": "3.12.7"
  }
 },
 "nbformat": 4,
 "nbformat_minor": 2
}
