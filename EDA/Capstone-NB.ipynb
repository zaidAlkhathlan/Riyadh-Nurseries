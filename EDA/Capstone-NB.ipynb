{
 "cells": [
  {
   "cell_type": "code",
   "execution_count": 181,
   "id": "e69c4ba1-85f3-4a02-ae37-c64347a01803",
   "metadata": {},
   "outputs": [],
   "source": [
    "#Import all relevant libraries\n",
    "import numpy as np\n",
    "import pandas as pd\n",
    "import matplotlib.pyplot as plt\n",
    "import seaborn as sns\n",
    "from scipy.stats import zscore\n",
    "import plotly.express as px\n",
    "## This statement allows the visuals to render within your Jupyter Notebook.\n",
    "%matplotlib inline"
   ]
  },
  {
   "cell_type": "code",
   "execution_count": 182,
   "id": "eb385970",
   "metadata": {},
   "outputs": [],
   "source": [
    "# !pip install plotly"
   ]
  },
  {
   "cell_type": "markdown",
   "id": "e395e8bf-b530-4720-8d0f-26811e927d6e",
   "metadata": {},
   "source": [
    "## Loading the data\n",
    "We can now load the dataset into pandas using the read_csv() function. This converts the CSV file into a Pandas dataframe."
   ]
  },
  {
   "cell_type": "code",
   "execution_count": 183,
   "id": "cf4030b0-aa7f-4bd7-8e9c-c1b7f4d202d0",
   "metadata": {},
   "outputs": [],
   "source": [
    "df=pd.read_csv(\"/Users/izx_gamex/Desktop/Tuwaiq/capston/Riyadh_Nurseries_Raw.csv\")"
   ]
  },
  {
   "cell_type": "markdown",
   "id": "ca5ed983-0f72-43eb-8168-6fafd48c562e",
   "metadata": {},
   "source": [
    "### Viewing the dataframe"
   ]
  },
  {
   "cell_type": "code",
   "execution_count": 184,
   "id": "88f2c2d4",
   "metadata": {},
   "outputs": [
    {
     "data": {
      "text/html": [
       "<div>\n",
       "<style scoped>\n",
       "    .dataframe tbody tr th:only-of-type {\n",
       "        vertical-align: middle;\n",
       "    }\n",
       "\n",
       "    .dataframe tbody tr th {\n",
       "        vertical-align: top;\n",
       "    }\n",
       "\n",
       "    .dataframe thead th {\n",
       "        text-align: right;\n",
       "    }\n",
       "</style>\n",
       "<table border=\"1\" class=\"dataframe\">\n",
       "  <thead>\n",
       "    <tr style=\"text-align: right;\">\n",
       "      <th></th>\n",
       "      <th>url</th>\n",
       "      <th>Name</th>\n",
       "      <th>Rates</th>\n",
       "      <th>Reviews</th>\n",
       "      <th>Type</th>\n",
       "      <th>Phone</th>\n",
       "      <th>Neighborhood</th>\n",
       "      <th>Website</th>\n",
       "      <th>direction</th>\n",
       "    </tr>\n",
       "  </thead>\n",
       "  <tbody>\n",
       "    <tr>\n",
       "      <th>0</th>\n",
       "      <td>https://www.google.com/maps/place/%D9%85%D8%B1...</td>\n",
       "      <td>مركز الحفلة الرائعة</td>\n",
       "      <td>4.8</td>\n",
       "      <td>(25)</td>\n",
       "      <td>حضانة أطفال</td>\n",
       "      <td>053 977 1294</td>\n",
       "      <td>الحزم</td>\n",
       "      <td>NaN</td>\n",
       "      <td>جنوب الرياض</td>\n",
       "    </tr>\n",
       "    <tr>\n",
       "      <th>1</th>\n",
       "      <td>https://www.google.com/maps/place/%D8%AD%D8%B6...</td>\n",
       "      <td>حضانه واحة بيت الطفولة</td>\n",
       "      <td>4.8</td>\n",
       "      <td>(42)</td>\n",
       "      <td>حضانة</td>\n",
       "      <td>055 159 5971</td>\n",
       "      <td>الحزم</td>\n",
       "      <td>NaN</td>\n",
       "      <td>جنوب الرياض</td>\n",
       "    </tr>\n",
       "    <tr>\n",
       "      <th>2</th>\n",
       "      <td>https://www.google.com/maps/place/%D9%85%D8%B1...</td>\n",
       "      <td>مركز لحظات الطفل</td>\n",
       "      <td>4.7</td>\n",
       "      <td>(58)</td>\n",
       "      <td>رياض أطفال</td>\n",
       "      <td>055 939 4715</td>\n",
       "      <td>الحزم</td>\n",
       "      <td>NaN</td>\n",
       "      <td>جنوب الرياض</td>\n",
       "    </tr>\n",
       "    <tr>\n",
       "      <th>3</th>\n",
       "      <td>https://www.google.com/maps/place/%D8%B1%D9%88...</td>\n",
       "      <td>روضة وحضانة فوز الطفل لرياض الاطفال</td>\n",
       "      <td>5.0</td>\n",
       "      <td>(12)</td>\n",
       "      <td>حضانة أطفال</td>\n",
       "      <td>055 808 8178</td>\n",
       "      <td>الحزم</td>\n",
       "      <td>NaN</td>\n",
       "      <td>جنوب الرياض</td>\n",
       "    </tr>\n",
       "    <tr>\n",
       "      <th>4</th>\n",
       "      <td>https://www.google.com/maps/place/%D8%B1%D9%88...</td>\n",
       "      <td>روضة براعم الاصيل الصباحيه قسم البنين</td>\n",
       "      <td>3.6</td>\n",
       "      <td>(9)</td>\n",
       "      <td>مدرسة</td>\n",
       "      <td>050 422 5592</td>\n",
       "      <td>الحزم</td>\n",
       "      <td>NaN</td>\n",
       "      <td>جنوب الرياض</td>\n",
       "    </tr>\n",
       "    <tr>\n",
       "      <th>...</th>\n",
       "      <td>...</td>\n",
       "      <td>...</td>\n",
       "      <td>...</td>\n",
       "      <td>...</td>\n",
       "      <td>...</td>\n",
       "      <td>...</td>\n",
       "      <td>...</td>\n",
       "      <td>...</td>\n",
       "      <td>...</td>\n",
       "    </tr>\n",
       "    <tr>\n",
       "      <th>607</th>\n",
       "      <td>https://www.google.com/maps/place/%D9%85%D8%AF...</td>\n",
       "      <td>مدرسة نوره الصبيح وحفيداتها النسائية لتحفيظ ال...</td>\n",
       "      <td>3.1</td>\n",
       "      <td>(13)</td>\n",
       "      <td>مدرسة</td>\n",
       "      <td>056 303 3919</td>\n",
       "      <td>ام الحمام</td>\n",
       "      <td>NaN</td>\n",
       "      <td>غرب الرياض</td>\n",
       "    </tr>\n",
       "    <tr>\n",
       "      <th>608</th>\n",
       "      <td>https://www.google.com/maps/place/%D9%85%D8%AF...</td>\n",
       "      <td>مدارس جيل القادة الاهلية</td>\n",
       "      <td>4.5</td>\n",
       "      <td>(145)</td>\n",
       "      <td>مدرسة</td>\n",
       "      <td>055 744 2474</td>\n",
       "      <td>الزهراء</td>\n",
       "      <td>الشيخ عبدالعزيز الشيخ عبد العزيز بن محمد بن عل...</td>\n",
       "      <td>غرب الرياض</td>\n",
       "    </tr>\n",
       "    <tr>\n",
       "      <th>609</th>\n",
       "      <td>https://www.google.com/maps/place/%D8%AD%D9%8A...</td>\n",
       "      <td>حي الزهره ، الرياض</td>\n",
       "      <td>4.4</td>\n",
       "      <td>(7)</td>\n",
       "      <td>هامبرغر</td>\n",
       "      <td>NaN</td>\n",
       "      <td>الزهراء</td>\n",
       "      <td>NaN</td>\n",
       "      <td>غرب الرياض</td>\n",
       "    </tr>\n",
       "    <tr>\n",
       "      <th>610</th>\n",
       "      <td>https://www.google.com/maps/place/%D9%85%D8%AF...</td>\n",
       "      <td>مدرسة الإمام محمد بن سعود النسائية لتحفيظ القرآن</td>\n",
       "      <td>4.3</td>\n",
       "      <td>(33)</td>\n",
       "      <td>مدرسة</td>\n",
       "      <td>054 676 0092</td>\n",
       "      <td>سلطانة</td>\n",
       "      <td>3381 آل عبدالقادر</td>\n",
       "      <td>غرب الرياض</td>\n",
       "    </tr>\n",
       "    <tr>\n",
       "      <th>611</th>\n",
       "      <td>https://www.google.com/maps/place/%D8%B1%D9%88...</td>\n",
       "      <td>روضة 41</td>\n",
       "      <td>3.6</td>\n",
       "      <td>(19)</td>\n",
       "      <td>مدرسة</td>\n",
       "      <td>050 636 6023</td>\n",
       "      <td>الدريهمية</td>\n",
       "      <td>·</td>\n",
       "      <td>غرب الرياض</td>\n",
       "    </tr>\n",
       "  </tbody>\n",
       "</table>\n",
       "<p>612 rows × 9 columns</p>\n",
       "</div>"
      ],
      "text/plain": [
       "                                                   url  \\\n",
       "0    https://www.google.com/maps/place/%D9%85%D8%B1...   \n",
       "1    https://www.google.com/maps/place/%D8%AD%D8%B6...   \n",
       "2    https://www.google.com/maps/place/%D9%85%D8%B1...   \n",
       "3    https://www.google.com/maps/place/%D8%B1%D9%88...   \n",
       "4    https://www.google.com/maps/place/%D8%B1%D9%88...   \n",
       "..                                                 ...   \n",
       "607  https://www.google.com/maps/place/%D9%85%D8%AF...   \n",
       "608  https://www.google.com/maps/place/%D9%85%D8%AF...   \n",
       "609  https://www.google.com/maps/place/%D8%AD%D9%8A...   \n",
       "610  https://www.google.com/maps/place/%D9%85%D8%AF...   \n",
       "611  https://www.google.com/maps/place/%D8%B1%D9%88...   \n",
       "\n",
       "                                                  Name  Rates Reviews  \\\n",
       "0                                  مركز الحفلة الرائعة    4.8    (25)   \n",
       "1                               حضانه واحة بيت الطفولة    4.8    (42)   \n",
       "2                                     مركز لحظات الطفل    4.7    (58)   \n",
       "3                  روضة وحضانة فوز الطفل لرياض الاطفال    5.0    (12)   \n",
       "4                روضة براعم الاصيل الصباحيه قسم البنين    3.6     (9)   \n",
       "..                                                 ...    ...     ...   \n",
       "607  مدرسة نوره الصبيح وحفيداتها النسائية لتحفيظ ال...    3.1    (13)   \n",
       "608                           مدارس جيل القادة الاهلية    4.5   (145)   \n",
       "609                                 حي الزهره ، الرياض    4.4     (7)   \n",
       "610   مدرسة الإمام محمد بن سعود النسائية لتحفيظ القرآن    4.3    (33)   \n",
       "611                                            روضة 41    3.6    (19)   \n",
       "\n",
       "            Type         Phone Neighborhood  \\\n",
       "0    حضانة أطفال  053 977 1294        الحزم   \n",
       "1          حضانة  055 159 5971        الحزم   \n",
       "2     رياض أطفال  055 939 4715        الحزم   \n",
       "3    حضانة أطفال  055 808 8178        الحزم   \n",
       "4          مدرسة  050 422 5592        الحزم   \n",
       "..           ...           ...          ...   \n",
       "607        مدرسة  056 303 3919    ام الحمام   \n",
       "608        مدرسة  055 744 2474      الزهراء   \n",
       "609      هامبرغر           NaN      الزهراء   \n",
       "610        مدرسة  054 676 0092       سلطانة   \n",
       "611        مدرسة  050 636 6023    الدريهمية   \n",
       "\n",
       "                                               Website    direction  \n",
       "0                                                  NaN  جنوب الرياض  \n",
       "1                                                  NaN  جنوب الرياض  \n",
       "2                                                  NaN  جنوب الرياض  \n",
       "3                                                  NaN  جنوب الرياض  \n",
       "4                                                  NaN  جنوب الرياض  \n",
       "..                                                 ...          ...  \n",
       "607                                                NaN   غرب الرياض  \n",
       "608  الشيخ عبدالعزيز الشيخ عبد العزيز بن محمد بن عل...   غرب الرياض  \n",
       "609                                                NaN   غرب الرياض  \n",
       "610                                  3381 آل عبدالقادر   غرب الرياض  \n",
       "611                                                  ·   غرب الرياض  \n",
       "\n",
       "[612 rows x 9 columns]"
      ]
     },
     "execution_count": 184,
     "metadata": {},
     "output_type": "execute_result"
    }
   ],
   "source": [
    "df"
   ]
  },
  {
   "cell_type": "markdown",
   "id": "bd2b5bc4-db37-4432-b666-0714afd0c4ca",
   "metadata": {},
   "source": [
    "## 1. Data Profiling:"
   ]
  },
  {
   "cell_type": "markdown",
   "id": "3a9954f5-6fbc-45b4-ad86-3e21b6e0ca2d",
   "metadata": {},
   "source": [
    "### Data Quality Checks"
   ]
  },
  {
   "cell_type": "markdown",
   "id": "4818c876-173d-4e56-9e7d-b4334d2def25",
   "metadata": {},
   "source": [
    "#### 1. Reliability:"
   ]
  },
  {
   "cell_type": "markdown",
   "id": "9034ae7b-dc1d-4cba-8f9e-bb499d021cde",
   "metadata": {},
   "source": [
    "The data is highly reliable because it comes directly from nursery owners, who manage their own listings on Google Maps. Each nursery's contact details, ratings, location, and other information are provided and verified by the business itself. For example, the \"Phone\" and \"Neighborhood\" columns are directly inputted by the nursery owners, ensuring the data reflects what they have updated in their official Google Maps profile."
   ]
  },
  {
   "cell_type": "markdown",
   "id": "2ce0cc59-8c92-4acc-8d07-c40764e1a86b",
   "metadata": {},
   "source": [
    "#### 2. Timeliness: "
   ]
  },
  {
   "cell_type": "markdown",
   "id": "4b78ae35-7226-4cb6-b8b2-a46c2ed17cf9",
   "metadata": {},
   "source": [
    "Our data aligns directly with our problem statement by ensuring that families have up-to-date information when searching for nurseries in different neighborhoods. Since nursery details such as phone numbers, locations, ratings, and reviews may change frequently, relying on Google Maps, where business owners update their own listings, ensures that our dataset remains current. This timeliness helps parents avoid outdated or incorrect information, making their search for the best nurseries more efficient and reliable. \n"
   ]
  },
  {
   "cell_type": "markdown",
   "id": "7fab0fe2-6624-4615-b9d8-3c3669056bf8",
   "metadata": {},
   "source": [
    "#### 3. Consistency: "
   ]
  },
  {
   "cell_type": "markdown",
   "id": "7fecc573-959f-4800-8ddd-a67985c68b18",
   "metadata": {},
   "source": [
    "Since the data is sourced from Google Maps, which uses a structured system for listing business information, we ensure consistency across all nurseries. The \"Rates\", \"Reviews\", \"Type\", and \"Neighborhood\" columns, for instance, follow the same format, making it easy for users to compare different nurseries consistently. All entries also share a uniform structure of information, ensuring reliability in data analysis.\n"
   ]
  },
  {
   "cell_type": "markdown",
   "id": "bec3d183-bba0-4b12-b963-487daab1e876",
   "metadata": {},
   "source": [
    "#### 4. Relevance: \n"
   ]
  },
  {
   "cell_type": "markdown",
   "id": "50a934b7-a0cd-443f-8a27-f10e9a6e8647",
   "metadata": {
    "scrolled": true
   },
   "source": [
    "The dataset is highly relevant as it includes important variables such as ratings, reviews, neighborhoods, type of nursery, and contact information. These variables are critical for families looking for nurseries and allow them to make decisions based on relevant factors. The \"Name\", \"Neighborhood\", and \"Phone\" columns are tailored to what parents need to know when choosing a nursery."
   ]
  },
  {
   "cell_type": "markdown",
   "id": "0f5e3a2a-bbb7-4d06-8220-c93277b70146",
   "metadata": {},
   "source": [
    "#### 5. Uniqueness: \n"
   ]
  },
  {
   "cell_type": "code",
   "execution_count": 185,
   "id": "a509a7aa-58f4-4d39-8eb8-e8298a21f2a7",
   "metadata": {},
   "outputs": [
    {
     "data": {
      "text/plain": [
       "0"
      ]
     },
     "execution_count": 185,
     "metadata": {},
     "output_type": "execute_result"
    }
   ],
   "source": [
    "df.duplicated().sum()"
   ]
  },
  {
   "cell_type": "code",
   "execution_count": 186,
   "id": "04c62559-3b48-48cf-a4e9-857e2e0ff416",
   "metadata": {},
   "outputs": [],
   "source": [
    "# go to delete duplicates columns"
   ]
  },
  {
   "cell_type": "markdown",
   "id": "c7724ac2-4ea2-4cf4-a9e0-e64368f87b92",
   "metadata": {},
   "source": [
    "#### 6. Completeness: "
   ]
  },
  {
   "cell_type": "code",
   "execution_count": 187,
   "id": "48a4de54-a344-4b94-9908-9528c15c13f7",
   "metadata": {},
   "outputs": [
    {
     "name": "stdout",
     "output_type": "stream",
     "text": [
      "<class 'pandas.core.frame.DataFrame'>\n",
      "RangeIndex: 612 entries, 0 to 611\n",
      "Data columns (total 9 columns):\n",
      " #   Column        Non-Null Count  Dtype  \n",
      "---  ------        --------------  -----  \n",
      " 0   url           612 non-null    object \n",
      " 1   Name          612 non-null    object \n",
      " 2   Rates         584 non-null    float64\n",
      " 3   Reviews       584 non-null    object \n",
      " 4   Type          612 non-null    object \n",
      " 5   Phone         491 non-null    object \n",
      " 6   Neighborhood  612 non-null    object \n",
      " 7   Website       166 non-null    object \n",
      " 8   direction     612 non-null    object \n",
      "dtypes: float64(1), object(8)\n",
      "memory usage: 43.2+ KB\n"
     ]
    }
   ],
   "source": [
    "df.info()"
   ]
  },
  {
   "cell_type": "code",
   "execution_count": 188,
   "id": "abec31c4-0904-4b73-8cee-b7bc14ab1e67",
   "metadata": {},
   "outputs": [],
   "source": [
    "# go to clean them "
   ]
  },
  {
   "cell_type": "markdown",
   "id": "b40de63c-5a1d-49ed-a87e-c5229ee08bbe",
   "metadata": {},
   "source": [
    "#### 7. Check Accuracy:"
   ]
  },
  {
   "cell_type": "code",
   "execution_count": 189,
   "id": "68be5334-ae10-4abd-8097-3259fe5e72c8",
   "metadata": {},
   "outputs": [
    {
     "data": {
      "text/plain": [
       "url              object\n",
       "Name             object\n",
       "Rates           float64\n",
       "Reviews          object\n",
       "Type             object\n",
       "Phone            object\n",
       "Neighborhood     object\n",
       "Website          object\n",
       "direction        object\n",
       "dtype: object"
      ]
     },
     "execution_count": 189,
     "metadata": {},
     "output_type": "execute_result"
    }
   ],
   "source": [
    "df.dtypes"
   ]
  },
  {
   "cell_type": "code",
   "execution_count": 190,
   "id": "2ee790ba-dcc0-45f1-b6f8-0133e913e149",
   "metadata": {},
   "outputs": [],
   "source": [
    "# go to clean them "
   ]
  },
  {
   "cell_type": "code",
   "execution_count": 191,
   "id": "c69b303a-5459-45f9-a28e-fcee45c21c05",
   "metadata": {},
   "outputs": [],
   "source": [
    "# check outliers "
   ]
  },
  {
   "cell_type": "code",
   "execution_count": 192,
   "id": "4e66d611-6958-4860-8522-9ada7fce40b0",
   "metadata": {},
   "outputs": [],
   "source": [
    "# go to delete ouliers"
   ]
  },
  {
   "attachments": {},
   "cell_type": "markdown",
   "id": "4e886ec7-388c-414b-ada7-803c2fb1f2cb",
   "metadata": {},
   "source": [
    "## 2. Data Cleaning: "
   ]
  },
  {
   "cell_type": "markdown",
   "id": "21876b48-f5ec-4970-85a9-0520d45d8841",
   "metadata": {},
   "source": [
    "### Handling missing values:"
   ]
  },
  {
   "cell_type": "code",
   "execution_count": 193,
   "id": "57e741fb-71c1-46ad-a526-d8f0b1564dc3",
   "metadata": {},
   "outputs": [
    {
     "data": {
      "text/plain": [
       "Website         446\n",
       "Phone           121\n",
       "Rates            28\n",
       "Reviews          28\n",
       "url               0\n",
       "Name              0\n",
       "Type              0\n",
       "Neighborhood      0\n",
       "direction         0\n",
       "dtype: int64"
      ]
     },
     "execution_count": 193,
     "metadata": {},
     "output_type": "execute_result"
    }
   ],
   "source": [
    "df.isnull().sum().sort_values(ascending=False)"
   ]
  },
  {
   "cell_type": "code",
   "execution_count": 194,
   "id": "f2435ceb",
   "metadata": {},
   "outputs": [
    {
     "data": {
      "text/html": [
       "<div>\n",
       "<style scoped>\n",
       "    .dataframe tbody tr th:only-of-type {\n",
       "        vertical-align: middle;\n",
       "    }\n",
       "\n",
       "    .dataframe tbody tr th {\n",
       "        vertical-align: top;\n",
       "    }\n",
       "\n",
       "    .dataframe thead th {\n",
       "        text-align: right;\n",
       "    }\n",
       "</style>\n",
       "<table border=\"1\" class=\"dataframe\">\n",
       "  <thead>\n",
       "    <tr style=\"text-align: right;\">\n",
       "      <th></th>\n",
       "      <th>url</th>\n",
       "      <th>Name</th>\n",
       "      <th>Rates</th>\n",
       "      <th>Reviews</th>\n",
       "      <th>Type</th>\n",
       "      <th>Phone</th>\n",
       "      <th>Neighborhood</th>\n",
       "      <th>Website</th>\n",
       "      <th>direction</th>\n",
       "    </tr>\n",
       "  </thead>\n",
       "  <tbody>\n",
       "    <tr>\n",
       "      <th>30</th>\n",
       "      <td>https://www.google.com/maps/place/%D8%B1%D9%88...</td>\n",
       "      <td>روضة15</td>\n",
       "      <td>NaN</td>\n",
       "      <td>NaN</td>\n",
       "      <td>رياض أطفال</td>\n",
       "      <td>NaN</td>\n",
       "      <td>العزيزية</td>\n",
       "      <td>NaN</td>\n",
       "      <td>جنوب الرياض</td>\n",
       "    </tr>\n",
       "    <tr>\n",
       "      <th>36</th>\n",
       "      <td>https://www.google.com/maps/place/%D8%B9%D8%A7...</td>\n",
       "      <td>عايلة</td>\n",
       "      <td>NaN</td>\n",
       "      <td>NaN</td>\n",
       "      <td>حضانة أطفال</td>\n",
       "      <td>NaN</td>\n",
       "      <td>الدار البيضاء</td>\n",
       "      <td>NaN</td>\n",
       "      <td>جنوب الرياض</td>\n",
       "    </tr>\n",
       "    <tr>\n",
       "      <th>37</th>\n",
       "      <td>https://www.google.com/maps/place/%D8%A7%D9%83...</td>\n",
       "      <td>اكاديميه</td>\n",
       "      <td>NaN</td>\n",
       "      <td>NaN</td>\n",
       "      <td>رياض أطفال</td>\n",
       "      <td>NaN</td>\n",
       "      <td>الدار البيضاء</td>\n",
       "      <td>NaN</td>\n",
       "      <td>جنوب الرياض</td>\n",
       "    </tr>\n",
       "    <tr>\n",
       "      <th>45</th>\n",
       "      <td>https://www.google.com/maps/place/%D8%B1%D9%88...</td>\n",
       "      <td>روضة سما بيبي</td>\n",
       "      <td>NaN</td>\n",
       "      <td>NaN</td>\n",
       "      <td>رياض أطفال</td>\n",
       "      <td>NaN</td>\n",
       "      <td>المربع</td>\n",
       "      <td>NaN</td>\n",
       "      <td>جنوب الرياض</td>\n",
       "    </tr>\n",
       "    <tr>\n",
       "      <th>50</th>\n",
       "      <td>https://www.google.com/maps/place/%D8%A7%D9%84...</td>\n",
       "      <td>اليمامة</td>\n",
       "      <td>NaN</td>\n",
       "      <td>NaN</td>\n",
       "      <td>الرياض</td>\n",
       "      <td>NaN</td>\n",
       "      <td>اليمامة</td>\n",
       "      <td>NaN</td>\n",
       "      <td>جنوب الرياض</td>\n",
       "    </tr>\n",
       "    <tr>\n",
       "      <th>67</th>\n",
       "      <td>https://www.google.com/maps/place/%D8%A7%D8%A8...</td>\n",
       "      <td>ابو كنان</td>\n",
       "      <td>NaN</td>\n",
       "      <td>NaN</td>\n",
       "      <td>حضانة أطفال</td>\n",
       "      <td>NaN</td>\n",
       "      <td>بدر</td>\n",
       "      <td>NaN</td>\n",
       "      <td>جنوب الرياض</td>\n",
       "    </tr>\n",
       "    <tr>\n",
       "      <th>107</th>\n",
       "      <td>https://www.google.com/maps/place/Sa113611/dat...</td>\n",
       "      <td>Sa113611</td>\n",
       "      <td>NaN</td>\n",
       "      <td>NaN</td>\n",
       "      <td>حضانة أطفال</td>\n",
       "      <td>NaN</td>\n",
       "      <td>العقيق</td>\n",
       "      <td>NaN</td>\n",
       "      <td>شمال الرياض</td>\n",
       "    </tr>\n",
       "    <tr>\n",
       "      <th>166</th>\n",
       "      <td>https://www.google.com/maps/place/%D8%AC%D8%AF...</td>\n",
       "      <td>جدة الاجاويد</td>\n",
       "      <td>NaN</td>\n",
       "      <td>NaN</td>\n",
       "      <td>حضانة أطفال</td>\n",
       "      <td>NaN</td>\n",
       "      <td>النزهة</td>\n",
       "      <td>NaN</td>\n",
       "      <td>شمال الرياض</td>\n",
       "    </tr>\n",
       "    <tr>\n",
       "      <th>216</th>\n",
       "      <td>https://www.google.com/maps/place/%D8%AD%D8%B6...</td>\n",
       "      <td>حضانة مصادر التعلم لضيافة الاطفال</td>\n",
       "      <td>NaN</td>\n",
       "      <td>NaN</td>\n",
       "      <td>حضانة أطفال</td>\n",
       "      <td>056 665 7612</td>\n",
       "      <td>حطين</td>\n",
       "      <td>NaN</td>\n",
       "      <td>شمال الرياض</td>\n",
       "    </tr>\n",
       "    <tr>\n",
       "      <th>248</th>\n",
       "      <td>https://www.google.com/maps/place/%D8%AD%D8%B6...</td>\n",
       "      <td>حضانة حي الملقا المنزلية</td>\n",
       "      <td>NaN</td>\n",
       "      <td>NaN</td>\n",
       "      <td>مدرسة</td>\n",
       "      <td>NaN</td>\n",
       "      <td>الملقا</td>\n",
       "      <td>NaN</td>\n",
       "      <td>شمال الرياض</td>\n",
       "    </tr>\n",
       "    <tr>\n",
       "      <th>263</th>\n",
       "      <td>https://www.google.com/maps/place/%D9%88%D8%A7...</td>\n",
       "      <td>وائل السعدون لاقم 8</td>\n",
       "      <td>NaN</td>\n",
       "      <td>NaN</td>\n",
       "      <td>حضانة أطفال</td>\n",
       "      <td>NaN</td>\n",
       "      <td>الحمراء</td>\n",
       "      <td>NaN</td>\n",
       "      <td>شرق الرياض</td>\n",
       "    </tr>\n",
       "    <tr>\n",
       "      <th>291</th>\n",
       "      <td>https://www.google.com/maps/place/CareBears+Pr...</td>\n",
       "      <td>CareBears Preschool</td>\n",
       "      <td>NaN</td>\n",
       "      <td>NaN</td>\n",
       "      <td>حضانة أطفال</td>\n",
       "      <td>NaN</td>\n",
       "      <td>الخليج</td>\n",
       "      <td>https://www.instagram.com/carebearsriyadh?igsh...</td>\n",
       "      <td>شرق الرياض</td>\n",
       "    </tr>\n",
       "    <tr>\n",
       "      <th>307</th>\n",
       "      <td>https://www.google.com/maps/place/%D9%85%D8%B1...</td>\n",
       "      <td>مركز عالم الفرسان لضيافة الأطفال ( حضانة )</td>\n",
       "      <td>NaN</td>\n",
       "      <td>NaN</td>\n",
       "      <td>حضانة أطفال</td>\n",
       "      <td>054 368 6049</td>\n",
       "      <td>المونسية</td>\n",
       "      <td>NaN</td>\n",
       "      <td>شرق الرياض</td>\n",
       "    </tr>\n",
       "    <tr>\n",
       "      <th>311</th>\n",
       "      <td>https://www.google.com/maps/place/%D8%AD%D8%B6...</td>\n",
       "      <td>حضانه منزلية حي قرطبه _حي المونسيه</td>\n",
       "      <td>NaN</td>\n",
       "      <td>NaN</td>\n",
       "      <td>حضانة أطفال</td>\n",
       "      <td>5099108</td>\n",
       "      <td>المونسية</td>\n",
       "      <td>NaN</td>\n",
       "      <td>شرق الرياض</td>\n",
       "    </tr>\n",
       "    <tr>\n",
       "      <th>342</th>\n",
       "      <td>https://www.google.com/maps/place/%D8%AD%D8%B6...</td>\n",
       "      <td>حضانة</td>\n",
       "      <td>NaN</td>\n",
       "      <td>NaN</td>\n",
       "      <td>رياض أطفال</td>\n",
       "      <td>NaN</td>\n",
       "      <td>النهضة</td>\n",
       "      <td>NaN</td>\n",
       "      <td>شرق الرياض</td>\n",
       "    </tr>\n",
       "    <tr>\n",
       "      <th>350</th>\n",
       "      <td>https://www.google.com/maps/place/%D8%AD%D8%B6...</td>\n",
       "      <td>حضانه لارين</td>\n",
       "      <td>NaN</td>\n",
       "      <td>NaN</td>\n",
       "      <td>مدرسة</td>\n",
       "      <td>NaN</td>\n",
       "      <td>النسيم الغربي</td>\n",
       "      <td>NaN</td>\n",
       "      <td>شرق الرياض</td>\n",
       "    </tr>\n",
       "    <tr>\n",
       "      <th>369</th>\n",
       "      <td>https://www.google.com/maps/place/%D8%AD%D8%B6...</td>\n",
       "      <td>حضانه اطفال</td>\n",
       "      <td>NaN</td>\n",
       "      <td>NaN</td>\n",
       "      <td>حضانة أطفال</td>\n",
       "      <td>055 344 6964</td>\n",
       "      <td>قرطبة</td>\n",
       "      <td>NaN</td>\n",
       "      <td>شرق الرياض</td>\n",
       "    </tr>\n",
       "    <tr>\n",
       "      <th>401</th>\n",
       "      <td>https://www.google.com/maps/place/%D9%84%D8%A7...</td>\n",
       "      <td>لازم نرجع</td>\n",
       "      <td>NaN</td>\n",
       "      <td>NaN</td>\n",
       "      <td>حضانة أطفال</td>\n",
       "      <td>NaN</td>\n",
       "      <td>الرمال</td>\n",
       "      <td>NaN</td>\n",
       "      <td>شرق الرياض</td>\n",
       "    </tr>\n",
       "    <tr>\n",
       "      <th>440</th>\n",
       "      <td>https://www.google.com/maps/place/%D8%A7%D9%84...</td>\n",
       "      <td>الفلاح</td>\n",
       "      <td>NaN</td>\n",
       "      <td>NaN</td>\n",
       "      <td>رياض أطفال</td>\n",
       "      <td>NaN</td>\n",
       "      <td>السلي</td>\n",
       "      <td>NaN</td>\n",
       "      <td>شرق الرياض</td>\n",
       "    </tr>\n",
       "    <tr>\n",
       "      <th>447</th>\n",
       "      <td>https://www.google.com/maps/place/%D8%B1%D9%88...</td>\n",
       "      <td>روضة ركن العباقرة لضيافة الأطفال</td>\n",
       "      <td>NaN</td>\n",
       "      <td>NaN</td>\n",
       "      <td>حضانة أطفال</td>\n",
       "      <td>NaN</td>\n",
       "      <td>السلي</td>\n",
       "      <td>NaN</td>\n",
       "      <td>شرق الرياض</td>\n",
       "    </tr>\n",
       "    <tr>\n",
       "      <th>512</th>\n",
       "      <td>https://www.google.com/maps/place/%D9%86%D9%88...</td>\n",
       "      <td>نوف</td>\n",
       "      <td>NaN</td>\n",
       "      <td>NaN</td>\n",
       "      <td>حضانة أطفال</td>\n",
       "      <td>NaN</td>\n",
       "      <td>الشفا</td>\n",
       "      <td>NaN</td>\n",
       "      <td>غرب الرياض</td>\n",
       "    </tr>\n",
       "    <tr>\n",
       "      <th>543</th>\n",
       "      <td>https://www.google.com/maps/place/%D8%B1%D9%88...</td>\n",
       "      <td>روضه وثنويه</td>\n",
       "      <td>NaN</td>\n",
       "      <td>NaN</td>\n",
       "      <td>رياض أطفال</td>\n",
       "      <td>NaN</td>\n",
       "      <td>طويق</td>\n",
       "      <td>NaN</td>\n",
       "      <td>غرب الرياض</td>\n",
       "    </tr>\n",
       "    <tr>\n",
       "      <th>574</th>\n",
       "      <td>https://www.google.com/maps/place/%D8%A7%D9%84...</td>\n",
       "      <td>الرابية</td>\n",
       "      <td>NaN</td>\n",
       "      <td>NaN</td>\n",
       "      <td>حضانة أطفال</td>\n",
       "      <td>NaN</td>\n",
       "      <td>ظهرة لبن</td>\n",
       "      <td>NaN</td>\n",
       "      <td>غرب الرياض</td>\n",
       "    </tr>\n",
       "    <tr>\n",
       "      <th>577</th>\n",
       "      <td>https://www.google.com/maps/place/zala+alsalam...</td>\n",
       "      <td>zala alsalam</td>\n",
       "      <td>NaN</td>\n",
       "      <td>NaN</td>\n",
       "      <td>حضانة أطفال</td>\n",
       "      <td>NaN</td>\n",
       "      <td>ظهرة لبن</td>\n",
       "      <td>NaN</td>\n",
       "      <td>غرب الرياض</td>\n",
       "    </tr>\n",
       "    <tr>\n",
       "      <th>579</th>\n",
       "      <td>https://www.google.com/maps/place/%D9%85%D8%AF...</td>\n",
       "      <td>مدرسة أهلية مقفله</td>\n",
       "      <td>NaN</td>\n",
       "      <td>NaN</td>\n",
       "      <td>حضانة أطفال</td>\n",
       "      <td>NaN</td>\n",
       "      <td>ظهرة لبن</td>\n",
       "      <td>NaN</td>\n",
       "      <td>غرب الرياض</td>\n",
       "    </tr>\n",
       "    <tr>\n",
       "      <th>584</th>\n",
       "      <td>https://www.google.com/maps/place/%D8%B1%D9%88...</td>\n",
       "      <td>روضه عيالنا💋</td>\n",
       "      <td>NaN</td>\n",
       "      <td>NaN</td>\n",
       "      <td>حضانة أطفال</td>\n",
       "      <td>NaN</td>\n",
       "      <td>المهدية</td>\n",
       "      <td>NaN</td>\n",
       "      <td>غرب الرياض</td>\n",
       "    </tr>\n",
       "    <tr>\n",
       "      <th>592</th>\n",
       "      <td>https://www.google.com/maps/place/Joury%E2%80%...</td>\n",
       "      <td>Joury’s school</td>\n",
       "      <td>NaN</td>\n",
       "      <td>NaN</td>\n",
       "      <td>حضانة أطفال</td>\n",
       "      <td>NaN</td>\n",
       "      <td>الخزامى</td>\n",
       "      <td>NaN</td>\n",
       "      <td>غرب الرياض</td>\n",
       "    </tr>\n",
       "    <tr>\n",
       "      <th>593</th>\n",
       "      <td>https://www.google.com/maps/place/%D9%85%D8%AF...</td>\n",
       "      <td>مدارس مسك - الصالة الرياضية لمرحلة رياض الأطفا...</td>\n",
       "      <td>NaN</td>\n",
       "      <td>NaN</td>\n",
       "      <td>مدرسة</td>\n",
       "      <td>011 821 0900</td>\n",
       "      <td>الخزامى</td>\n",
       "      <td>http://www.miskschools.edu.sa/</td>\n",
       "      <td>غرب الرياض</td>\n",
       "    </tr>\n",
       "  </tbody>\n",
       "</table>\n",
       "</div>"
      ],
      "text/plain": [
       "                                                   url  \\\n",
       "30   https://www.google.com/maps/place/%D8%B1%D9%88...   \n",
       "36   https://www.google.com/maps/place/%D8%B9%D8%A7...   \n",
       "37   https://www.google.com/maps/place/%D8%A7%D9%83...   \n",
       "45   https://www.google.com/maps/place/%D8%B1%D9%88...   \n",
       "50   https://www.google.com/maps/place/%D8%A7%D9%84...   \n",
       "67   https://www.google.com/maps/place/%D8%A7%D8%A8...   \n",
       "107  https://www.google.com/maps/place/Sa113611/dat...   \n",
       "166  https://www.google.com/maps/place/%D8%AC%D8%AF...   \n",
       "216  https://www.google.com/maps/place/%D8%AD%D8%B6...   \n",
       "248  https://www.google.com/maps/place/%D8%AD%D8%B6...   \n",
       "263  https://www.google.com/maps/place/%D9%88%D8%A7...   \n",
       "291  https://www.google.com/maps/place/CareBears+Pr...   \n",
       "307  https://www.google.com/maps/place/%D9%85%D8%B1...   \n",
       "311  https://www.google.com/maps/place/%D8%AD%D8%B6...   \n",
       "342  https://www.google.com/maps/place/%D8%AD%D8%B6...   \n",
       "350  https://www.google.com/maps/place/%D8%AD%D8%B6...   \n",
       "369  https://www.google.com/maps/place/%D8%AD%D8%B6...   \n",
       "401  https://www.google.com/maps/place/%D9%84%D8%A7...   \n",
       "440  https://www.google.com/maps/place/%D8%A7%D9%84...   \n",
       "447  https://www.google.com/maps/place/%D8%B1%D9%88...   \n",
       "512  https://www.google.com/maps/place/%D9%86%D9%88...   \n",
       "543  https://www.google.com/maps/place/%D8%B1%D9%88...   \n",
       "574  https://www.google.com/maps/place/%D8%A7%D9%84...   \n",
       "577  https://www.google.com/maps/place/zala+alsalam...   \n",
       "579  https://www.google.com/maps/place/%D9%85%D8%AF...   \n",
       "584  https://www.google.com/maps/place/%D8%B1%D9%88...   \n",
       "592  https://www.google.com/maps/place/Joury%E2%80%...   \n",
       "593  https://www.google.com/maps/place/%D9%85%D8%AF...   \n",
       "\n",
       "                                                  Name  Rates Reviews  \\\n",
       "30                                              روضة15    NaN     NaN   \n",
       "36                                               عايلة    NaN     NaN   \n",
       "37                                            اكاديميه    NaN     NaN   \n",
       "45                                       روضة سما بيبي    NaN     NaN   \n",
       "50                                             اليمامة    NaN     NaN   \n",
       "67                                            ابو كنان    NaN     NaN   \n",
       "107                                           Sa113611    NaN     NaN   \n",
       "166                                       جدة الاجاويد    NaN     NaN   \n",
       "216                  حضانة مصادر التعلم لضيافة الاطفال    NaN     NaN   \n",
       "248                           حضانة حي الملقا المنزلية    NaN     NaN   \n",
       "263                                وائل السعدون لاقم 8    NaN     NaN   \n",
       "291                                CareBears Preschool    NaN     NaN   \n",
       "307         مركز عالم الفرسان لضيافة الأطفال ( حضانة )    NaN     NaN   \n",
       "311                 حضانه منزلية حي قرطبه _حي المونسيه    NaN     NaN   \n",
       "342                                              حضانة    NaN     NaN   \n",
       "350                                        حضانه لارين    NaN     NaN   \n",
       "369                                        حضانه اطفال    NaN     NaN   \n",
       "401                                          لازم نرجع    NaN     NaN   \n",
       "440                                             الفلاح    NaN     NaN   \n",
       "447                   روضة ركن العباقرة لضيافة الأطفال    NaN     NaN   \n",
       "512                                                نوف    NaN     NaN   \n",
       "543                                        روضه وثنويه    NaN     NaN   \n",
       "574                                            الرابية    NaN     NaN   \n",
       "577                                       zala alsalam    NaN     NaN   \n",
       "579                                  مدرسة أهلية مقفله    NaN     NaN   \n",
       "584                                       روضه عيالنا💋    NaN     NaN   \n",
       "592                                     Joury’s school    NaN     NaN   \n",
       "593  مدارس مسك - الصالة الرياضية لمرحلة رياض الأطفا...    NaN     NaN   \n",
       "\n",
       "            Type         Phone   Neighborhood  \\\n",
       "30    رياض أطفال           NaN       العزيزية   \n",
       "36   حضانة أطفال           NaN  الدار البيضاء   \n",
       "37    رياض أطفال           NaN  الدار البيضاء   \n",
       "45    رياض أطفال           NaN         المربع   \n",
       "50        الرياض           NaN        اليمامة   \n",
       "67   حضانة أطفال           NaN            بدر   \n",
       "107  حضانة أطفال           NaN         العقيق   \n",
       "166  حضانة أطفال           NaN         النزهة   \n",
       "216  حضانة أطفال  056 665 7612           حطين   \n",
       "248        مدرسة           NaN         الملقا   \n",
       "263  حضانة أطفال           NaN        الحمراء   \n",
       "291  حضانة أطفال           NaN         الخليج   \n",
       "307  حضانة أطفال  054 368 6049       المونسية   \n",
       "311  حضانة أطفال       5099108       المونسية   \n",
       "342   رياض أطفال           NaN         النهضة   \n",
       "350        مدرسة           NaN  النسيم الغربي   \n",
       "369  حضانة أطفال  055 344 6964          قرطبة   \n",
       "401  حضانة أطفال           NaN         الرمال   \n",
       "440   رياض أطفال           NaN          السلي   \n",
       "447  حضانة أطفال           NaN          السلي   \n",
       "512  حضانة أطفال           NaN          الشفا   \n",
       "543   رياض أطفال           NaN           طويق   \n",
       "574  حضانة أطفال           NaN       ظهرة لبن   \n",
       "577  حضانة أطفال           NaN       ظهرة لبن   \n",
       "579  حضانة أطفال           NaN       ظهرة لبن   \n",
       "584  حضانة أطفال           NaN        المهدية   \n",
       "592  حضانة أطفال           NaN        الخزامى   \n",
       "593        مدرسة  011 821 0900        الخزامى   \n",
       "\n",
       "                                               Website    direction  \n",
       "30                                                 NaN  جنوب الرياض  \n",
       "36                                                 NaN  جنوب الرياض  \n",
       "37                                                 NaN  جنوب الرياض  \n",
       "45                                                 NaN  جنوب الرياض  \n",
       "50                                                 NaN  جنوب الرياض  \n",
       "67                                                 NaN  جنوب الرياض  \n",
       "107                                                NaN  شمال الرياض  \n",
       "166                                                NaN  شمال الرياض  \n",
       "216                                                NaN  شمال الرياض  \n",
       "248                                                NaN  شمال الرياض  \n",
       "263                                                NaN   شرق الرياض  \n",
       "291  https://www.instagram.com/carebearsriyadh?igsh...   شرق الرياض  \n",
       "307                                                NaN   شرق الرياض  \n",
       "311                                                NaN   شرق الرياض  \n",
       "342                                                NaN   شرق الرياض  \n",
       "350                                                NaN   شرق الرياض  \n",
       "369                                                NaN   شرق الرياض  \n",
       "401                                                NaN   شرق الرياض  \n",
       "440                                                NaN   شرق الرياض  \n",
       "447                                                NaN   شرق الرياض  \n",
       "512                                                NaN   غرب الرياض  \n",
       "543                                                NaN   غرب الرياض  \n",
       "574                                                NaN   غرب الرياض  \n",
       "577                                                NaN   غرب الرياض  \n",
       "579                                                NaN   غرب الرياض  \n",
       "584                                                NaN   غرب الرياض  \n",
       "592                                                NaN   غرب الرياض  \n",
       "593                     http://www.miskschools.edu.sa/   غرب الرياض  "
      ]
     },
     "execution_count": 194,
     "metadata": {},
     "output_type": "execute_result"
    }
   ],
   "source": [
    "df[df[\"Rates\"].isnull()]"
   ]
  },
  {
   "cell_type": "code",
   "execution_count": 195,
   "id": "03f670d3",
   "metadata": {},
   "outputs": [],
   "source": [
    "df = df.dropna(subset=['Rates']).reset_index(drop=True)\n"
   ]
  },
  {
   "cell_type": "code",
   "execution_count": 196,
   "id": "d831a31e",
   "metadata": {},
   "outputs": [
    {
     "data": {
      "text/html": [
       "<div>\n",
       "<style scoped>\n",
       "    .dataframe tbody tr th:only-of-type {\n",
       "        vertical-align: middle;\n",
       "    }\n",
       "\n",
       "    .dataframe tbody tr th {\n",
       "        vertical-align: top;\n",
       "    }\n",
       "\n",
       "    .dataframe thead th {\n",
       "        text-align: right;\n",
       "    }\n",
       "</style>\n",
       "<table border=\"1\" class=\"dataframe\">\n",
       "  <thead>\n",
       "    <tr style=\"text-align: right;\">\n",
       "      <th></th>\n",
       "      <th>url</th>\n",
       "      <th>Name</th>\n",
       "      <th>Rates</th>\n",
       "      <th>Reviews</th>\n",
       "      <th>Type</th>\n",
       "      <th>Phone</th>\n",
       "      <th>Neighborhood</th>\n",
       "      <th>Website</th>\n",
       "      <th>direction</th>\n",
       "    </tr>\n",
       "  </thead>\n",
       "  <tbody>\n",
       "    <tr>\n",
       "      <th>0</th>\n",
       "      <td>https://www.google.com/maps/place/%D9%85%D8%B1...</td>\n",
       "      <td>مركز الحفلة الرائعة</td>\n",
       "      <td>4.8</td>\n",
       "      <td>(25)</td>\n",
       "      <td>حضانة أطفال</td>\n",
       "      <td>053 977 1294</td>\n",
       "      <td>الحزم</td>\n",
       "      <td>NaN</td>\n",
       "      <td>جنوب الرياض</td>\n",
       "    </tr>\n",
       "    <tr>\n",
       "      <th>1</th>\n",
       "      <td>https://www.google.com/maps/place/%D8%AD%D8%B6...</td>\n",
       "      <td>حضانه واحة بيت الطفولة</td>\n",
       "      <td>4.8</td>\n",
       "      <td>(42)</td>\n",
       "      <td>حضانة</td>\n",
       "      <td>055 159 5971</td>\n",
       "      <td>الحزم</td>\n",
       "      <td>NaN</td>\n",
       "      <td>جنوب الرياض</td>\n",
       "    </tr>\n",
       "    <tr>\n",
       "      <th>2</th>\n",
       "      <td>https://www.google.com/maps/place/%D9%85%D8%B1...</td>\n",
       "      <td>مركز لحظات الطفل</td>\n",
       "      <td>4.7</td>\n",
       "      <td>(58)</td>\n",
       "      <td>رياض أطفال</td>\n",
       "      <td>055 939 4715</td>\n",
       "      <td>الحزم</td>\n",
       "      <td>NaN</td>\n",
       "      <td>جنوب الرياض</td>\n",
       "    </tr>\n",
       "    <tr>\n",
       "      <th>3</th>\n",
       "      <td>https://www.google.com/maps/place/%D8%B1%D9%88...</td>\n",
       "      <td>روضة وحضانة فوز الطفل لرياض الاطفال</td>\n",
       "      <td>5.0</td>\n",
       "      <td>(12)</td>\n",
       "      <td>حضانة أطفال</td>\n",
       "      <td>055 808 8178</td>\n",
       "      <td>الحزم</td>\n",
       "      <td>NaN</td>\n",
       "      <td>جنوب الرياض</td>\n",
       "    </tr>\n",
       "    <tr>\n",
       "      <th>4</th>\n",
       "      <td>https://www.google.com/maps/place/%D8%B1%D9%88...</td>\n",
       "      <td>روضة براعم الاصيل الصباحيه قسم البنين</td>\n",
       "      <td>3.6</td>\n",
       "      <td>(9)</td>\n",
       "      <td>مدرسة</td>\n",
       "      <td>050 422 5592</td>\n",
       "      <td>الحزم</td>\n",
       "      <td>NaN</td>\n",
       "      <td>جنوب الرياض</td>\n",
       "    </tr>\n",
       "    <tr>\n",
       "      <th>...</th>\n",
       "      <td>...</td>\n",
       "      <td>...</td>\n",
       "      <td>...</td>\n",
       "      <td>...</td>\n",
       "      <td>...</td>\n",
       "      <td>...</td>\n",
       "      <td>...</td>\n",
       "      <td>...</td>\n",
       "      <td>...</td>\n",
       "    </tr>\n",
       "    <tr>\n",
       "      <th>579</th>\n",
       "      <td>https://www.google.com/maps/place/%D9%85%D8%AF...</td>\n",
       "      <td>مدرسة نوره الصبيح وحفيداتها النسائية لتحفيظ ال...</td>\n",
       "      <td>3.1</td>\n",
       "      <td>(13)</td>\n",
       "      <td>مدرسة</td>\n",
       "      <td>056 303 3919</td>\n",
       "      <td>ام الحمام</td>\n",
       "      <td>NaN</td>\n",
       "      <td>غرب الرياض</td>\n",
       "    </tr>\n",
       "    <tr>\n",
       "      <th>580</th>\n",
       "      <td>https://www.google.com/maps/place/%D9%85%D8%AF...</td>\n",
       "      <td>مدارس جيل القادة الاهلية</td>\n",
       "      <td>4.5</td>\n",
       "      <td>(145)</td>\n",
       "      <td>مدرسة</td>\n",
       "      <td>055 744 2474</td>\n",
       "      <td>الزهراء</td>\n",
       "      <td>الشيخ عبدالعزيز الشيخ عبد العزيز بن محمد بن عل...</td>\n",
       "      <td>غرب الرياض</td>\n",
       "    </tr>\n",
       "    <tr>\n",
       "      <th>581</th>\n",
       "      <td>https://www.google.com/maps/place/%D8%AD%D9%8A...</td>\n",
       "      <td>حي الزهره ، الرياض</td>\n",
       "      <td>4.4</td>\n",
       "      <td>(7)</td>\n",
       "      <td>هامبرغر</td>\n",
       "      <td>NaN</td>\n",
       "      <td>الزهراء</td>\n",
       "      <td>NaN</td>\n",
       "      <td>غرب الرياض</td>\n",
       "    </tr>\n",
       "    <tr>\n",
       "      <th>582</th>\n",
       "      <td>https://www.google.com/maps/place/%D9%85%D8%AF...</td>\n",
       "      <td>مدرسة الإمام محمد بن سعود النسائية لتحفيظ القرآن</td>\n",
       "      <td>4.3</td>\n",
       "      <td>(33)</td>\n",
       "      <td>مدرسة</td>\n",
       "      <td>054 676 0092</td>\n",
       "      <td>سلطانة</td>\n",
       "      <td>3381 آل عبدالقادر</td>\n",
       "      <td>غرب الرياض</td>\n",
       "    </tr>\n",
       "    <tr>\n",
       "      <th>583</th>\n",
       "      <td>https://www.google.com/maps/place/%D8%B1%D9%88...</td>\n",
       "      <td>روضة 41</td>\n",
       "      <td>3.6</td>\n",
       "      <td>(19)</td>\n",
       "      <td>مدرسة</td>\n",
       "      <td>050 636 6023</td>\n",
       "      <td>الدريهمية</td>\n",
       "      <td>·</td>\n",
       "      <td>غرب الرياض</td>\n",
       "    </tr>\n",
       "  </tbody>\n",
       "</table>\n",
       "<p>584 rows × 9 columns</p>\n",
       "</div>"
      ],
      "text/plain": [
       "                                                   url  \\\n",
       "0    https://www.google.com/maps/place/%D9%85%D8%B1...   \n",
       "1    https://www.google.com/maps/place/%D8%AD%D8%B6...   \n",
       "2    https://www.google.com/maps/place/%D9%85%D8%B1...   \n",
       "3    https://www.google.com/maps/place/%D8%B1%D9%88...   \n",
       "4    https://www.google.com/maps/place/%D8%B1%D9%88...   \n",
       "..                                                 ...   \n",
       "579  https://www.google.com/maps/place/%D9%85%D8%AF...   \n",
       "580  https://www.google.com/maps/place/%D9%85%D8%AF...   \n",
       "581  https://www.google.com/maps/place/%D8%AD%D9%8A...   \n",
       "582  https://www.google.com/maps/place/%D9%85%D8%AF...   \n",
       "583  https://www.google.com/maps/place/%D8%B1%D9%88...   \n",
       "\n",
       "                                                  Name  Rates Reviews  \\\n",
       "0                                  مركز الحفلة الرائعة    4.8    (25)   \n",
       "1                               حضانه واحة بيت الطفولة    4.8    (42)   \n",
       "2                                     مركز لحظات الطفل    4.7    (58)   \n",
       "3                  روضة وحضانة فوز الطفل لرياض الاطفال    5.0    (12)   \n",
       "4                روضة براعم الاصيل الصباحيه قسم البنين    3.6     (9)   \n",
       "..                                                 ...    ...     ...   \n",
       "579  مدرسة نوره الصبيح وحفيداتها النسائية لتحفيظ ال...    3.1    (13)   \n",
       "580                           مدارس جيل القادة الاهلية    4.5   (145)   \n",
       "581                                 حي الزهره ، الرياض    4.4     (7)   \n",
       "582   مدرسة الإمام محمد بن سعود النسائية لتحفيظ القرآن    4.3    (33)   \n",
       "583                                            روضة 41    3.6    (19)   \n",
       "\n",
       "            Type         Phone Neighborhood  \\\n",
       "0    حضانة أطفال  053 977 1294        الحزم   \n",
       "1          حضانة  055 159 5971        الحزم   \n",
       "2     رياض أطفال  055 939 4715        الحزم   \n",
       "3    حضانة أطفال  055 808 8178        الحزم   \n",
       "4          مدرسة  050 422 5592        الحزم   \n",
       "..           ...           ...          ...   \n",
       "579        مدرسة  056 303 3919    ام الحمام   \n",
       "580        مدرسة  055 744 2474      الزهراء   \n",
       "581      هامبرغر           NaN      الزهراء   \n",
       "582        مدرسة  054 676 0092       سلطانة   \n",
       "583        مدرسة  050 636 6023    الدريهمية   \n",
       "\n",
       "                                               Website    direction  \n",
       "0                                                  NaN  جنوب الرياض  \n",
       "1                                                  NaN  جنوب الرياض  \n",
       "2                                                  NaN  جنوب الرياض  \n",
       "3                                                  NaN  جنوب الرياض  \n",
       "4                                                  NaN  جنوب الرياض  \n",
       "..                                                 ...          ...  \n",
       "579                                                NaN   غرب الرياض  \n",
       "580  الشيخ عبدالعزيز الشيخ عبد العزيز بن محمد بن عل...   غرب الرياض  \n",
       "581                                                NaN   غرب الرياض  \n",
       "582                                  3381 آل عبدالقادر   غرب الرياض  \n",
       "583                                                  ·   غرب الرياض  \n",
       "\n",
       "[584 rows x 9 columns]"
      ]
     },
     "execution_count": 196,
     "metadata": {},
     "output_type": "execute_result"
    }
   ],
   "source": [
    "df"
   ]
  },
  {
   "cell_type": "code",
   "execution_count": 197,
   "id": "a2055c8f",
   "metadata": {},
   "outputs": [
    {
     "data": {
      "text/plain": [
       "Website         420\n",
       "Phone            98\n",
       "url               0\n",
       "Name              0\n",
       "Rates             0\n",
       "Reviews           0\n",
       "Type              0\n",
       "Neighborhood      0\n",
       "direction         0\n",
       "dtype: int64"
      ]
     },
     "execution_count": 197,
     "metadata": {},
     "output_type": "execute_result"
    }
   ],
   "source": [
    "df.isnull().sum().sort_values(ascending=False)"
   ]
  },
  {
   "cell_type": "code",
   "execution_count": 198,
   "id": "c8d476f4",
   "metadata": {},
   "outputs": [
    {
     "name": "stderr",
     "output_type": "stream",
     "text": [
      "/var/folders/8x/lx_l3ybs0yx0nx_wtwwkvy6c0000gn/T/ipykernel_77264/2839110086.py:1: FutureWarning: A value is trying to be set on a copy of a DataFrame or Series through chained assignment using an inplace method.\n",
      "The behavior will change in pandas 3.0. This inplace method will never work because the intermediate object on which we are setting values always behaves as a copy.\n",
      "\n",
      "For example, when doing 'df[col].method(value, inplace=True)', try using 'df.method({col: value}, inplace=True)' or df[col] = df[col].method(value) instead, to perform the operation inplace on the original object.\n",
      "\n",
      "\n",
      "  df[\"Website\"].fillna(\"No Website\", inplace = True)\n"
     ]
    }
   ],
   "source": [
    "df[\"Website\"].fillna(\"No Website\", inplace = True)"
   ]
  },
  {
   "cell_type": "code",
   "execution_count": 199,
   "id": "d0c0f77f",
   "metadata": {},
   "outputs": [
    {
     "name": "stderr",
     "output_type": "stream",
     "text": [
      "/var/folders/8x/lx_l3ybs0yx0nx_wtwwkvy6c0000gn/T/ipykernel_77264/1776333469.py:1: FutureWarning: A value is trying to be set on a copy of a DataFrame or Series through chained assignment using an inplace method.\n",
      "The behavior will change in pandas 3.0. This inplace method will never work because the intermediate object on which we are setting values always behaves as a copy.\n",
      "\n",
      "For example, when doing 'df[col].method(value, inplace=True)', try using 'df.method({col: value}, inplace=True)' or df[col] = df[col].method(value) instead, to perform the operation inplace on the original object.\n",
      "\n",
      "\n",
      "  df[\"Phone\"].fillna(\"No Phone\", inplace = True)\n"
     ]
    }
   ],
   "source": [
    "df[\"Phone\"].fillna(\"No Phone\", inplace = True)"
   ]
  },
  {
   "cell_type": "code",
   "execution_count": 200,
   "id": "b412f462",
   "metadata": {},
   "outputs": [
    {
     "data": {
      "text/plain": [
       "url             0\n",
       "Name            0\n",
       "Rates           0\n",
       "Reviews         0\n",
       "Type            0\n",
       "Phone           0\n",
       "Neighborhood    0\n",
       "Website         0\n",
       "direction       0\n",
       "dtype: int64"
      ]
     },
     "execution_count": 200,
     "metadata": {},
     "output_type": "execute_result"
    }
   ],
   "source": [
    "df.isnull().sum().sort_values(ascending=False)"
   ]
  },
  {
   "cell_type": "code",
   "execution_count": 201,
   "id": "01287962-8077-4c01-8d1d-5f8aed6cb37a",
   "metadata": {},
   "outputs": [],
   "source": [
    "# go back to 6th dimention --> Completeness"
   ]
  },
  {
   "cell_type": "markdown",
   "id": "f7cee10f-0af8-44e5-b595-8e965294daad",
   "metadata": {},
   "source": [
    "### Correcting errors\n",
    "\n",
    "-------------------"
   ]
  },
  {
   "cell_type": "code",
   "execution_count": 202,
   "id": "06273b88-a169-42e8-81f5-5d71cb3f9c21",
   "metadata": {},
   "outputs": [
    {
     "data": {
      "text/plain": [
       "'(25)'"
      ]
     },
     "execution_count": 202,
     "metadata": {},
     "output_type": "execute_result"
    }
   ],
   "source": [
    "# removing the parentheses from the column Reviews\n",
    "df[\"Reviews\"][0]"
   ]
  },
  {
   "cell_type": "code",
   "execution_count": 203,
   "id": "b629ef5e",
   "metadata": {},
   "outputs": [],
   "source": [
    "import re\n",
    "\n",
    "df['Reviews'] = df['Reviews'].astype(str).apply(lambda x: re.sub(r'\\D', '', x)).astype(int)\n"
   ]
  },
  {
   "cell_type": "code",
   "execution_count": 204,
   "id": "efd42910",
   "metadata": {},
   "outputs": [
    {
     "data": {
      "text/plain": [
       "url              object\n",
       "Name             object\n",
       "Rates           float64\n",
       "Reviews           int64\n",
       "Type             object\n",
       "Phone            object\n",
       "Neighborhood     object\n",
       "Website          object\n",
       "direction        object\n",
       "dtype: object"
      ]
     },
     "execution_count": 204,
     "metadata": {},
     "output_type": "execute_result"
    }
   ],
   "source": [
    "df.dtypes"
   ]
  },
  {
   "cell_type": "code",
   "execution_count": 205,
   "id": "be0cf248",
   "metadata": {},
   "outputs": [
    {
     "data": {
      "text/plain": [
       "'https://www.google.com/maps/place/%D9%85%D8%B1%D9%83%D8%B2+%D8%A7%D9%84%D8%AD%D9%81%D9%84%D8%A9+%D8%A7%D9%84%D8%B1%D8%A7%D8%A6%D8%B9%D8%A9%E2%80%AD/data=!4m7!3m6!1s0x3e2f11003ad9e31f:0x73cdda28dd47c933!8m2!3d24.5301864!4d46.639017!16s%2Fg%2F11vpcfrs2c!19sChIJH-PZOgARLz4RM8lH3SjazXM?authuser=0&hl=ar&rclk=1'"
      ]
     },
     "execution_count": 205,
     "metadata": {},
     "output_type": "execute_result"
    }
   ],
   "source": [
    "# url lat and long \n",
    "df[\"url\"][0]"
   ]
  },
  {
   "cell_type": "code",
   "execution_count": 215,
   "id": "12467500",
   "metadata": {},
   "outputs": [],
   "source": [
    "import re\n",
    "\n",
    "def extract_lat_long(url):\n",
    "    match = re.search(r'!3d([-?\\d.]+)!4d([-?\\d.]+)', url)\n",
    "    if match:\n",
    "        return match.group(1), match.group(2)  # Latitude, Longitude\n",
    "    return None, None\n",
    "\n",
    "df[['Latitude', 'Longitude']] = df['url'].apply(lambda x: pd.Series(extract_lat_long(str(x))))\n",
    "\n"
   ]
  },
  {
   "cell_type": "code",
   "execution_count": 216,
   "id": "00e3ed3e",
   "metadata": {},
   "outputs": [
    {
     "data": {
      "text/html": [
       "<div>\n",
       "<style scoped>\n",
       "    .dataframe tbody tr th:only-of-type {\n",
       "        vertical-align: middle;\n",
       "    }\n",
       "\n",
       "    .dataframe tbody tr th {\n",
       "        vertical-align: top;\n",
       "    }\n",
       "\n",
       "    .dataframe thead th {\n",
       "        text-align: right;\n",
       "    }\n",
       "</style>\n",
       "<table border=\"1\" class=\"dataframe\">\n",
       "  <thead>\n",
       "    <tr style=\"text-align: right;\">\n",
       "      <th></th>\n",
       "      <th>url</th>\n",
       "      <th>Name</th>\n",
       "      <th>Rates</th>\n",
       "      <th>Reviews</th>\n",
       "      <th>Type</th>\n",
       "      <th>Phone</th>\n",
       "      <th>Neighborhood</th>\n",
       "      <th>Website</th>\n",
       "      <th>direction</th>\n",
       "      <th>Latitude</th>\n",
       "      <th>Longitude</th>\n",
       "    </tr>\n",
       "  </thead>\n",
       "  <tbody>\n",
       "  </tbody>\n",
       "</table>\n",
       "</div>"
      ],
      "text/plain": [
       "Empty DataFrame\n",
       "Columns: [url, Name, Rates, Reviews, Type, Phone, Neighborhood, Website, direction, Latitude, Longitude]\n",
       "Index: []"
      ]
     },
     "execution_count": 216,
     "metadata": {},
     "output_type": "execute_result"
    }
   ],
   "source": [
    "df[df['Latitude'].isnull()]"
   ]
  },
  {
   "cell_type": "code",
   "execution_count": 208,
   "id": "028cbd42",
   "metadata": {},
   "outputs": [],
   "source": [
    "df.loc[df[\"Name\"] == \"مركز الحفلة الرائعة\", \"url\"] = 'https://www.google.com/maps/place/%D9%85%D8%B1%D9%83%D8%B2+%D8%A7%D9%84%D8%AD%D9%81%D9%84%D8%A9+%D8%A7%D9%84%D8%B1%D8%A7%D8%A6%D8%B9%D8%A9%E2%80%AD/data=!4m7!3m6!1s0x3e2f11003ad9e31f:0x73cdda28dd47c933!8m2!3d24.5301864!4d46.639017!16s%2Fg%2F11vpcfrs2c!19sChIJH-PZOgARLz4RM8lH3SjazXM?authuser=0&hl=ar&rclk=1'"
   ]
  },
  {
   "cell_type": "code",
   "execution_count": 209,
   "id": "7e4285f8",
   "metadata": {},
   "outputs": [],
   "source": [
    "df.loc[df[\"Name\"] == \"روضة براعم الاصيل الصباحيه قسم البنين\", \"url\"] = 'https://www.google.com/maps/place/%D8%B1%D9%88%D8%B6%D8%A9+%D8%A8%D8%B1%D8%A7%D8%B9%D9%85+%D8%A7%D9%84%D8%A7%D8%B5%D9%8A%D9%84+%D8%A7%D9%84%D8%B5%D8%A8%D8%A7%D8%AD%D9%8A%D9%87+%D9%82%D8%B3%D9%85+%D8%A7%D9%84%D8%A8%D9%86%D9%8A%D9%86%E2%80%AD/data=!4m7!3m6!1s0x3e2f11d45c6507b7:0xf54bbf58ee38096a!8m2!3d24.5481153!4d46.6670534!16s%2Fg%2F11f_1y523n!19sChIJtwdlXNQRLz4Ragk47li_S_U?authuser=0&hl=ar&rclk=1'"
   ]
  },
  {
   "cell_type": "code",
   "execution_count": 210,
   "id": "36f2a098",
   "metadata": {},
   "outputs": [],
   "source": [
    "df.loc[df[\"Name\"] == \"روضة ثبيتة الأوسية\", \"url\"] = 'https://www.google.com/maps/place/روضة+ثبيتة+الأوسية%E2%80%AD/@24.4909708,46.585692,14z/data=!4m10!1m2!2m1!1z2LHZiNi22Kk!3m6!1s0x3e2f138e143ebd79:0x8b35d1e8472d9fc4!8m2!3d24.4909708!4d46.6217409!15sCgjYsdmI2LbYqVoKIgjYsdmI2LbYqZIBCXByZXNjaG9vbJoBI0NoWkRTVWhOTUc5blMwVkpRMEZuU1VSc2VqUklaVVpuRUFF4AEA-gEECAAQMg!16s%2Fg%2F11t2_sbph3!5m1!1e1?entry=ttu&g_ep=EgoyMDI1MDMxMS4wIKXMDSoASAFQAw%3D%3DD'"
   ]
  },
  {
   "cell_type": "code",
   "execution_count": 211,
   "id": "f1c7730a",
   "metadata": {},
   "outputs": [],
   "source": [
    "df.loc[df[\"Name\"] == \"روضة براعم الهدى\", \"url\"] = 'https://www.google.com/maps/place/روضة+براعم+الهدى%E2%80%AD/@24.5019692,46.5519486,13z/data=!4m10!1m2!2m1!1z2K3Yttin2YbYqQ!3m6!1s0x3e2f117c9caf927d:0xae1d1b567ce14622!8m2!3d24.5019692!4d46.6240464!15sCgrYrdi22KfZhtipkgEMa2luZGVyZ2FydGVu4AEA!16s%2Fg%2F11cs269vcr!5m1!1e1?entry=ttu&g_ep=EgoyMDI1MDMxMS4wIKXMDSoASAFQAw%3D%3D'"
   ]
  },
  {
   "cell_type": "code",
   "execution_count": 212,
   "id": "18eb2c36",
   "metadata": {},
   "outputs": [],
   "source": [
    "df = df.drop(index=63)  # Drops row with index 5"
   ]
  },
  {
   "cell_type": "code",
   "execution_count": 213,
   "id": "6a4d34ca",
   "metadata": {},
   "outputs": [],
   "source": [
    "df = df.drop(index=467)  # Drops row with index 5"
   ]
  },
  {
   "cell_type": "code",
   "execution_count": 109,
   "id": "b397e653",
   "metadata": {},
   "outputs": [
    {
     "data": {
      "text/plain": [
       "url              object\n",
       "Name             object\n",
       "Rates           float64\n",
       "Reviews           int64\n",
       "Type             object\n",
       "Phone            object\n",
       "Neighborhood     object\n",
       "Website          object\n",
       "direction        object\n",
       "Latitude         object\n",
       "Longitude        object\n",
       "dtype: object"
      ]
     },
     "execution_count": 109,
     "metadata": {},
     "output_type": "execute_result"
    }
   ],
   "source": [
    "df.dtypes"
   ]
  },
  {
   "cell_type": "code",
   "execution_count": 111,
   "id": "c71635ed",
   "metadata": {},
   "outputs": [
    {
     "data": {
      "text/html": [
       "<div>\n",
       "<style scoped>\n",
       "    .dataframe tbody tr th:only-of-type {\n",
       "        vertical-align: middle;\n",
       "    }\n",
       "\n",
       "    .dataframe tbody tr th {\n",
       "        vertical-align: top;\n",
       "    }\n",
       "\n",
       "    .dataframe thead th {\n",
       "        text-align: right;\n",
       "    }\n",
       "</style>\n",
       "<table border=\"1\" class=\"dataframe\">\n",
       "  <thead>\n",
       "    <tr style=\"text-align: right;\">\n",
       "      <th></th>\n",
       "      <th>url</th>\n",
       "      <th>Name</th>\n",
       "      <th>Rates</th>\n",
       "      <th>Reviews</th>\n",
       "      <th>Type</th>\n",
       "      <th>Phone</th>\n",
       "      <th>Neighborhood</th>\n",
       "      <th>Website</th>\n",
       "      <th>direction</th>\n",
       "      <th>Latitude</th>\n",
       "      <th>Longitude</th>\n",
       "    </tr>\n",
       "  </thead>\n",
       "  <tbody>\n",
       "    <tr>\n",
       "      <th>45</th>\n",
       "      <td>https://www.google.com/maps/place/%D8%B1%D9%88...</td>\n",
       "      <td>روضة الأطفال الثالثة</td>\n",
       "      <td>4.7</td>\n",
       "      <td>18</td>\n",
       "      <td>مدرسة</td>\n",
       "      <td>No Phone</td>\n",
       "      <td>اليمامة</td>\n",
       "      <td>7746 البركات</td>\n",
       "      <td>جنوب الرياض</td>\n",
       "      <td>24.6010057</td>\n",
       "      <td>46.7139221</td>\n",
       "    </tr>\n",
       "    <tr>\n",
       "      <th>47</th>\n",
       "      <td>https://www.google.com/maps/place/%D9%85%D8%AF...</td>\n",
       "      <td>مدرسة البراء بن مالك المتوسطة</td>\n",
       "      <td>3.9</td>\n",
       "      <td>59</td>\n",
       "      <td>مدرسة</td>\n",
       "      <td>No Phone</td>\n",
       "      <td>اليمامة</td>\n",
       "      <td>المستجدة</td>\n",
       "      <td>جنوب الرياض</td>\n",
       "      <td>24.5954025</td>\n",
       "      <td>46.719934</td>\n",
       "    </tr>\n",
       "    <tr>\n",
       "      <th>87</th>\n",
       "      <td>https://www.google.com/maps/place/%D8%AD%D8%B6...</td>\n",
       "      <td>حضانة بيتي الثاني</td>\n",
       "      <td>4.1</td>\n",
       "      <td>224</td>\n",
       "      <td>حضانة</td>\n",
       "      <td>9200 22756</td>\n",
       "      <td>العقيق</td>\n",
       "      <td>https://my2ndhome.com.sa/</td>\n",
       "      <td>شمال الرياض</td>\n",
       "      <td>24.7764051</td>\n",
       "      <td>46.6285312</td>\n",
       "    </tr>\n",
       "    <tr>\n",
       "      <th>89</th>\n",
       "      <td>https://www.google.com/maps/place/%D8%B1%D9%83...</td>\n",
       "      <td>ركن الطفل حضانة ورياض أطفال</td>\n",
       "      <td>4.5</td>\n",
       "      <td>43</td>\n",
       "      <td>حضانة أطفال</td>\n",
       "      <td>055 190 9956</td>\n",
       "      <td>العقيق</td>\n",
       "      <td>https://childcorner.net/</td>\n",
       "      <td>شمال الرياض</td>\n",
       "      <td>24.7721072</td>\n",
       "      <td>46.6317287</td>\n",
       "    </tr>\n",
       "    <tr>\n",
       "      <th>94</th>\n",
       "      <td>https://www.google.com/maps/place/%D9%85%D8%B1...</td>\n",
       "      <td>مركز اركان النمو للرعاية النهارية</td>\n",
       "      <td>4.7</td>\n",
       "      <td>95</td>\n",
       "      <td>مركز لرعاية الأطفال</td>\n",
       "      <td>053 504 0211</td>\n",
       "      <td>العقيق</td>\n",
       "      <td>https://alnumo.com/</td>\n",
       "      <td>شمال الرياض</td>\n",
       "      <td>24.7742527</td>\n",
       "      <td>46.6203801</td>\n",
       "    </tr>\n",
       "    <tr>\n",
       "      <th>...</th>\n",
       "      <td>...</td>\n",
       "      <td>...</td>\n",
       "      <td>...</td>\n",
       "      <td>...</td>\n",
       "      <td>...</td>\n",
       "      <td>...</td>\n",
       "      <td>...</td>\n",
       "      <td>...</td>\n",
       "      <td>...</td>\n",
       "      <td>...</td>\n",
       "      <td>...</td>\n",
       "    </tr>\n",
       "    <tr>\n",
       "      <th>574</th>\n",
       "      <td>https://www.google.com/maps/place/%D9%8A%D9%88...</td>\n",
       "      <td>يوم الطفل لضيافة الأطفال</td>\n",
       "      <td>4.9</td>\n",
       "      <td>51</td>\n",
       "      <td>حضانة أطفال</td>\n",
       "      <td>054 676 2075</td>\n",
       "      <td>ام الحمام</td>\n",
       "      <td>https://instagram.com/kidsday2022?igshid=YmMyM...</td>\n",
       "      <td>غرب الرياض</td>\n",
       "      <td>24.6967956</td>\n",
       "      <td>46.6553987</td>\n",
       "    </tr>\n",
       "    <tr>\n",
       "      <th>576</th>\n",
       "      <td>https://www.google.com/maps/place/%D9%85%D8%AF...</td>\n",
       "      <td>مدارس الابتهاج الأهلية</td>\n",
       "      <td>3.9</td>\n",
       "      <td>56</td>\n",
       "      <td>مدرسة ابتدائية</td>\n",
       "      <td>054 959 9949</td>\n",
       "      <td>ام الحمام</td>\n",
       "      <td>https://linktr.ee/ibthagschol2030</td>\n",
       "      <td>غرب الرياض</td>\n",
       "      <td>24.6869558</td>\n",
       "      <td>46.6399861</td>\n",
       "    </tr>\n",
       "    <tr>\n",
       "      <th>580</th>\n",
       "      <td>https://www.google.com/maps/place/%D9%85%D8%AF...</td>\n",
       "      <td>مدارس جيل القادة الاهلية</td>\n",
       "      <td>4.5</td>\n",
       "      <td>145</td>\n",
       "      <td>مدرسة</td>\n",
       "      <td>055 744 2474</td>\n",
       "      <td>الزهراء</td>\n",
       "      <td>الشيخ عبدالعزيز الشيخ عبد العزيز بن محمد بن عل...</td>\n",
       "      <td>غرب الرياض</td>\n",
       "      <td>24.5855159</td>\n",
       "      <td>46.6390526</td>\n",
       "    </tr>\n",
       "    <tr>\n",
       "      <th>582</th>\n",
       "      <td>https://www.google.com/maps/place/%D9%85%D8%AF...</td>\n",
       "      <td>مدرسة الإمام محمد بن سعود النسائية لتحفيظ القرآن</td>\n",
       "      <td>4.3</td>\n",
       "      <td>33</td>\n",
       "      <td>مدرسة</td>\n",
       "      <td>054 676 0092</td>\n",
       "      <td>سلطانة</td>\n",
       "      <td>3381 آل عبدالقادر</td>\n",
       "      <td>غرب الرياض</td>\n",
       "      <td>24.5990801</td>\n",
       "      <td>46.6836168</td>\n",
       "    </tr>\n",
       "    <tr>\n",
       "      <th>583</th>\n",
       "      <td>https://www.google.com/maps/place/%D8%B1%D9%88...</td>\n",
       "      <td>روضة 41</td>\n",
       "      <td>3.6</td>\n",
       "      <td>19</td>\n",
       "      <td>مدرسة</td>\n",
       "      <td>050 636 6023</td>\n",
       "      <td>الدريهمية</td>\n",
       "      <td>·</td>\n",
       "      <td>غرب الرياض</td>\n",
       "      <td>24.5903241</td>\n",
       "      <td>46.6565675</td>\n",
       "    </tr>\n",
       "  </tbody>\n",
       "</table>\n",
       "<p>164 rows × 11 columns</p>\n",
       "</div>"
      ],
      "text/plain": [
       "                                                   url  \\\n",
       "45   https://www.google.com/maps/place/%D8%B1%D9%88...   \n",
       "47   https://www.google.com/maps/place/%D9%85%D8%AF...   \n",
       "87   https://www.google.com/maps/place/%D8%AD%D8%B6...   \n",
       "89   https://www.google.com/maps/place/%D8%B1%D9%83...   \n",
       "94   https://www.google.com/maps/place/%D9%85%D8%B1...   \n",
       "..                                                 ...   \n",
       "574  https://www.google.com/maps/place/%D9%8A%D9%88...   \n",
       "576  https://www.google.com/maps/place/%D9%85%D8%AF...   \n",
       "580  https://www.google.com/maps/place/%D9%85%D8%AF...   \n",
       "582  https://www.google.com/maps/place/%D9%85%D8%AF...   \n",
       "583  https://www.google.com/maps/place/%D8%B1%D9%88...   \n",
       "\n",
       "                                                 Name  Rates  Reviews  \\\n",
       "45                               روضة الأطفال الثالثة    4.7       18   \n",
       "47                      مدرسة البراء بن مالك المتوسطة    3.9       59   \n",
       "87                                  حضانة بيتي الثاني    4.1      224   \n",
       "89                        ركن الطفل حضانة ورياض أطفال    4.5       43   \n",
       "94                  مركز اركان النمو للرعاية النهارية    4.7       95   \n",
       "..                                                ...    ...      ...   \n",
       "574                          يوم الطفل لضيافة الأطفال    4.9       51   \n",
       "576                            مدارس الابتهاج الأهلية    3.9       56   \n",
       "580                          مدارس جيل القادة الاهلية    4.5      145   \n",
       "582  مدرسة الإمام محمد بن سعود النسائية لتحفيظ القرآن    4.3       33   \n",
       "583                                           روضة 41    3.6       19   \n",
       "\n",
       "                    Type         Phone Neighborhood  \\\n",
       "45                 مدرسة      No Phone      اليمامة   \n",
       "47                 مدرسة      No Phone      اليمامة   \n",
       "87                 حضانة    9200 22756       العقيق   \n",
       "89           حضانة أطفال  055 190 9956       العقيق   \n",
       "94   مركز لرعاية الأطفال  053 504 0211       العقيق   \n",
       "..                   ...           ...          ...   \n",
       "574          حضانة أطفال  054 676 2075    ام الحمام   \n",
       "576       مدرسة ابتدائية  054 959 9949    ام الحمام   \n",
       "580                مدرسة  055 744 2474      الزهراء   \n",
       "582                مدرسة  054 676 0092       سلطانة   \n",
       "583                مدرسة  050 636 6023    الدريهمية   \n",
       "\n",
       "                                               Website    direction  \\\n",
       "45                                        7746 البركات  جنوب الرياض   \n",
       "47                                            المستجدة  جنوب الرياض   \n",
       "87                           https://my2ndhome.com.sa/  شمال الرياض   \n",
       "89                            https://childcorner.net/  شمال الرياض   \n",
       "94                                 https://alnumo.com/  شمال الرياض   \n",
       "..                                                 ...          ...   \n",
       "574  https://instagram.com/kidsday2022?igshid=YmMyM...   غرب الرياض   \n",
       "576                  https://linktr.ee/ibthagschol2030   غرب الرياض   \n",
       "580  الشيخ عبدالعزيز الشيخ عبد العزيز بن محمد بن عل...   غرب الرياض   \n",
       "582                                  3381 آل عبدالقادر   غرب الرياض   \n",
       "583                                                  ·   غرب الرياض   \n",
       "\n",
       "       Latitude   Longitude  \n",
       "45   24.6010057  46.7139221  \n",
       "47   24.5954025   46.719934  \n",
       "87   24.7764051  46.6285312  \n",
       "89   24.7721072  46.6317287  \n",
       "94   24.7742527  46.6203801  \n",
       "..          ...         ...  \n",
       "574  24.6967956  46.6553987  \n",
       "576  24.6869558  46.6399861  \n",
       "580  24.5855159  46.6390526  \n",
       "582  24.5990801  46.6836168  \n",
       "583  24.5903241  46.6565675  \n",
       "\n",
       "[164 rows x 11 columns]"
      ]
     },
     "execution_count": 111,
     "metadata": {},
     "output_type": "execute_result"
    }
   ],
   "source": [
    "df[df[\"Website\"] != 'No Website']"
   ]
  },
  {
   "cell_type": "code",
   "execution_count": 112,
   "id": "2097506b",
   "metadata": {},
   "outputs": [],
   "source": [
    "df['Website'] = df['Website'].apply(lambda x: x if isinstance(x, str) and x.startswith('http') else \"No Website\")\n"
   ]
  },
  {
   "cell_type": "code",
   "execution_count": 113,
   "id": "6e86e18a",
   "metadata": {},
   "outputs": [],
   "source": [
    "png_websites = df[df['Website'].str.endswith('.png', na=False)]\n"
   ]
  },
  {
   "cell_type": "code",
   "execution_count": 114,
   "id": "89fb5db0",
   "metadata": {},
   "outputs": [
    {
     "data": {
      "text/html": [
       "<div>\n",
       "<style scoped>\n",
       "    .dataframe tbody tr th:only-of-type {\n",
       "        vertical-align: middle;\n",
       "    }\n",
       "\n",
       "    .dataframe tbody tr th {\n",
       "        vertical-align: top;\n",
       "    }\n",
       "\n",
       "    .dataframe thead th {\n",
       "        text-align: right;\n",
       "    }\n",
       "</style>\n",
       "<table border=\"1\" class=\"dataframe\">\n",
       "  <thead>\n",
       "    <tr style=\"text-align: right;\">\n",
       "      <th></th>\n",
       "      <th>url</th>\n",
       "      <th>Name</th>\n",
       "      <th>Rates</th>\n",
       "      <th>Reviews</th>\n",
       "      <th>Type</th>\n",
       "      <th>Phone</th>\n",
       "      <th>Neighborhood</th>\n",
       "      <th>Website</th>\n",
       "      <th>direction</th>\n",
       "      <th>Latitude</th>\n",
       "      <th>Longitude</th>\n",
       "    </tr>\n",
       "  </thead>\n",
       "  <tbody>\n",
       "    <tr>\n",
       "      <th>459</th>\n",
       "      <td>https://www.google.com/maps/place/%D8%A2%D9%8A...</td>\n",
       "      <td>آي آم سبيشل للأطفال</td>\n",
       "      <td>3.9</td>\n",
       "      <td>95</td>\n",
       "      <td>حضانة أطفال</td>\n",
       "      <td>053 733 3567</td>\n",
       "      <td>السويدي</td>\n",
       "      <td>https://ssl.gstatic.com/local/servicebusiness/...</td>\n",
       "      <td>غرب الرياض</td>\n",
       "      <td>24.6006828</td>\n",
       "      <td>46.6973605</td>\n",
       "    </tr>\n",
       "    <tr>\n",
       "      <th>460</th>\n",
       "      <td>https://www.google.com/maps/place/%D8%B9%D8%A7...</td>\n",
       "      <td>عالم منتسوري روضة تمهيدي حضانة</td>\n",
       "      <td>3.7</td>\n",
       "      <td>70</td>\n",
       "      <td>مدرسة</td>\n",
       "      <td>056 060 6387</td>\n",
       "      <td>السويدي</td>\n",
       "      <td>https://ssl.gstatic.com/local/servicebusiness/...</td>\n",
       "      <td>غرب الرياض</td>\n",
       "      <td>24.5936586</td>\n",
       "      <td>46.6601539</td>\n",
       "    </tr>\n",
       "    <tr>\n",
       "      <th>461</th>\n",
       "      <td>https://www.google.com/maps/place/%D9%85%D8%B1...</td>\n",
       "      <td>مركز براعم البديعة لضيافة الاطفال جديد</td>\n",
       "      <td>4.1</td>\n",
       "      <td>71</td>\n",
       "      <td>حضانة أطفال</td>\n",
       "      <td>050 069 9735</td>\n",
       "      <td>السويدي</td>\n",
       "      <td>https://ssl.gstatic.com/local/servicebusiness/...</td>\n",
       "      <td>غرب الرياض</td>\n",
       "      <td>24.5985285</td>\n",
       "      <td>46.6516845</td>\n",
       "    </tr>\n",
       "    <tr>\n",
       "      <th>462</th>\n",
       "      <td>https://www.google.com/maps/place/%D8%A7%D9%84...</td>\n",
       "      <td>الروضة 83 بحي الدريهمية</td>\n",
       "      <td>4.1</td>\n",
       "      <td>15</td>\n",
       "      <td>رياض أطفال</td>\n",
       "      <td>011 810 3127</td>\n",
       "      <td>السويدي</td>\n",
       "      <td>https://ssl.gstatic.com/local/servicebusiness/...</td>\n",
       "      <td>غرب الرياض</td>\n",
       "      <td>24.5908796</td>\n",
       "      <td>46.6950287</td>\n",
       "    </tr>\n",
       "    <tr>\n",
       "      <th>463</th>\n",
       "      <td>https://www.google.com/maps/place/%D9%85%D8%B1...</td>\n",
       "      <td>مركز المجد لضيافة الأطفال الأهلية</td>\n",
       "      <td>4.6</td>\n",
       "      <td>64</td>\n",
       "      <td>حضانة أطفال</td>\n",
       "      <td>055 744 3947</td>\n",
       "      <td>السويدي</td>\n",
       "      <td>https://ssl.gstatic.com/local/servicebusiness/...</td>\n",
       "      <td>غرب الرياض</td>\n",
       "      <td>24.5763425</td>\n",
       "      <td>46.6583325</td>\n",
       "    </tr>\n",
       "  </tbody>\n",
       "</table>\n",
       "</div>"
      ],
      "text/plain": [
       "                                                   url  \\\n",
       "459  https://www.google.com/maps/place/%D8%A2%D9%8A...   \n",
       "460  https://www.google.com/maps/place/%D8%B9%D8%A7...   \n",
       "461  https://www.google.com/maps/place/%D9%85%D8%B1...   \n",
       "462  https://www.google.com/maps/place/%D8%A7%D9%84...   \n",
       "463  https://www.google.com/maps/place/%D9%85%D8%B1...   \n",
       "\n",
       "                                       Name  Rates  Reviews         Type  \\\n",
       "459                     آي آم سبيشل للأطفال    3.9       95  حضانة أطفال   \n",
       "460          عالم منتسوري روضة تمهيدي حضانة    3.7       70        مدرسة   \n",
       "461  مركز براعم البديعة لضيافة الاطفال جديد    4.1       71  حضانة أطفال   \n",
       "462                 الروضة 83 بحي الدريهمية    4.1       15   رياض أطفال   \n",
       "463       مركز المجد لضيافة الأطفال الأهلية    4.6       64  حضانة أطفال   \n",
       "\n",
       "            Phone Neighborhood  \\\n",
       "459  053 733 3567      السويدي   \n",
       "460  056 060 6387      السويدي   \n",
       "461  050 069 9735      السويدي   \n",
       "462  011 810 3127      السويدي   \n",
       "463  055 744 3947      السويدي   \n",
       "\n",
       "                                               Website   direction  \\\n",
       "459  https://ssl.gstatic.com/local/servicebusiness/...  غرب الرياض   \n",
       "460  https://ssl.gstatic.com/local/servicebusiness/...  غرب الرياض   \n",
       "461  https://ssl.gstatic.com/local/servicebusiness/...  غرب الرياض   \n",
       "462  https://ssl.gstatic.com/local/servicebusiness/...  غرب الرياض   \n",
       "463  https://ssl.gstatic.com/local/servicebusiness/...  غرب الرياض   \n",
       "\n",
       "       Latitude   Longitude  \n",
       "459  24.6006828  46.6973605  \n",
       "460  24.5936586  46.6601539  \n",
       "461  24.5985285  46.6516845  \n",
       "462  24.5908796  46.6950287  \n",
       "463  24.5763425  46.6583325  "
      ]
     },
     "execution_count": 114,
     "metadata": {},
     "output_type": "execute_result"
    }
   ],
   "source": [
    "png_websites.head()"
   ]
  },
  {
   "cell_type": "code",
   "execution_count": 115,
   "id": "7f6a9a51",
   "metadata": {},
   "outputs": [],
   "source": [
    "df['Website'] = df['Website'].apply(lambda x: \"No Website\" if isinstance(x, str) and x.endswith('.png') else x)\n"
   ]
  },
  {
   "cell_type": "code",
   "execution_count": 116,
   "id": "56536bd0",
   "metadata": {},
   "outputs": [],
   "source": [
    "png_websites = df[df['Website'].str.endswith('.png', na=False)]\n"
   ]
  },
  {
   "cell_type": "code",
   "execution_count": 117,
   "id": "4ea37288",
   "metadata": {},
   "outputs": [
    {
     "data": {
      "text/html": [
       "<div>\n",
       "<style scoped>\n",
       "    .dataframe tbody tr th:only-of-type {\n",
       "        vertical-align: middle;\n",
       "    }\n",
       "\n",
       "    .dataframe tbody tr th {\n",
       "        vertical-align: top;\n",
       "    }\n",
       "\n",
       "    .dataframe thead th {\n",
       "        text-align: right;\n",
       "    }\n",
       "</style>\n",
       "<table border=\"1\" class=\"dataframe\">\n",
       "  <thead>\n",
       "    <tr style=\"text-align: right;\">\n",
       "      <th></th>\n",
       "      <th>url</th>\n",
       "      <th>Name</th>\n",
       "      <th>Rates</th>\n",
       "      <th>Reviews</th>\n",
       "      <th>Type</th>\n",
       "      <th>Phone</th>\n",
       "      <th>Neighborhood</th>\n",
       "      <th>Website</th>\n",
       "      <th>direction</th>\n",
       "      <th>Latitude</th>\n",
       "      <th>Longitude</th>\n",
       "    </tr>\n",
       "  </thead>\n",
       "  <tbody>\n",
       "  </tbody>\n",
       "</table>\n",
       "</div>"
      ],
      "text/plain": [
       "Empty DataFrame\n",
       "Columns: [url, Name, Rates, Reviews, Type, Phone, Neighborhood, Website, direction, Latitude, Longitude]\n",
       "Index: []"
      ]
     },
     "execution_count": 117,
     "metadata": {},
     "output_type": "execute_result"
    }
   ],
   "source": [
    "png_websites"
   ]
  },
  {
   "cell_type": "code",
   "execution_count": 118,
   "id": "3720522b",
   "metadata": {},
   "outputs": [
    {
     "data": {
      "text/plain": [
       "url              object\n",
       "Name             object\n",
       "Rates           float64\n",
       "Reviews           int64\n",
       "Type             object\n",
       "Phone            object\n",
       "Neighborhood     object\n",
       "Website          object\n",
       "direction        object\n",
       "Latitude         object\n",
       "Longitude        object\n",
       "dtype: object"
      ]
     },
     "execution_count": 118,
     "metadata": {},
     "output_type": "execute_result"
    }
   ],
   "source": [
    "df.dtypes"
   ]
  },
  {
   "cell_type": "code",
   "execution_count": 119,
   "id": "fd249fdb",
   "metadata": {},
   "outputs": [
    {
     "data": {
      "text/html": [
       "<div>\n",
       "<style scoped>\n",
       "    .dataframe tbody tr th:only-of-type {\n",
       "        vertical-align: middle;\n",
       "    }\n",
       "\n",
       "    .dataframe tbody tr th {\n",
       "        vertical-align: top;\n",
       "    }\n",
       "\n",
       "    .dataframe thead th {\n",
       "        text-align: right;\n",
       "    }\n",
       "</style>\n",
       "<table border=\"1\" class=\"dataframe\">\n",
       "  <thead>\n",
       "    <tr style=\"text-align: right;\">\n",
       "      <th></th>\n",
       "      <th>url</th>\n",
       "      <th>Name</th>\n",
       "      <th>Rates</th>\n",
       "      <th>Reviews</th>\n",
       "      <th>Type</th>\n",
       "      <th>Phone</th>\n",
       "      <th>Neighborhood</th>\n",
       "      <th>Website</th>\n",
       "      <th>direction</th>\n",
       "      <th>Latitude</th>\n",
       "      <th>Longitude</th>\n",
       "    </tr>\n",
       "  </thead>\n",
       "  <tbody>\n",
       "    <tr>\n",
       "      <th>0</th>\n",
       "      <td>https://www.google.com/maps/place/%D9%85%D8%B1...</td>\n",
       "      <td>مركز الحفلة الرائعة</td>\n",
       "      <td>4.8</td>\n",
       "      <td>25</td>\n",
       "      <td>حضانة أطفال</td>\n",
       "      <td>053 977 1294</td>\n",
       "      <td>الحزم</td>\n",
       "      <td>No Website</td>\n",
       "      <td>جنوب الرياض</td>\n",
       "      <td>24.5301864</td>\n",
       "      <td>46.639017</td>\n",
       "    </tr>\n",
       "    <tr>\n",
       "      <th>1</th>\n",
       "      <td>https://www.google.com/maps/place/%D8%AD%D8%B6...</td>\n",
       "      <td>حضانه واحة بيت الطفولة</td>\n",
       "      <td>4.8</td>\n",
       "      <td>42</td>\n",
       "      <td>حضانة</td>\n",
       "      <td>055 159 5971</td>\n",
       "      <td>الحزم</td>\n",
       "      <td>No Website</td>\n",
       "      <td>جنوب الرياض</td>\n",
       "      <td>24.551985</td>\n",
       "      <td>46.6581298</td>\n",
       "    </tr>\n",
       "    <tr>\n",
       "      <th>2</th>\n",
       "      <td>https://www.google.com/maps/place/%D9%85%D8%B1...</td>\n",
       "      <td>مركز لحظات الطفل</td>\n",
       "      <td>4.7</td>\n",
       "      <td>58</td>\n",
       "      <td>رياض أطفال</td>\n",
       "      <td>055 939 4715</td>\n",
       "      <td>الحزم</td>\n",
       "      <td>No Website</td>\n",
       "      <td>جنوب الرياض</td>\n",
       "      <td>24.5423347</td>\n",
       "      <td>46.6492086</td>\n",
       "    </tr>\n",
       "    <tr>\n",
       "      <th>3</th>\n",
       "      <td>https://www.google.com/maps/place/%D8%B1%D9%88...</td>\n",
       "      <td>روضة وحضانة فوز الطفل لرياض الاطفال</td>\n",
       "      <td>5.0</td>\n",
       "      <td>12</td>\n",
       "      <td>حضانة أطفال</td>\n",
       "      <td>055 808 8178</td>\n",
       "      <td>الحزم</td>\n",
       "      <td>No Website</td>\n",
       "      <td>جنوب الرياض</td>\n",
       "      <td>24.5515238</td>\n",
       "      <td>46.6598635</td>\n",
       "    </tr>\n",
       "    <tr>\n",
       "      <th>4</th>\n",
       "      <td>https://www.google.com/maps/place/%D8%B1%D9%88...</td>\n",
       "      <td>روضة براعم الاصيل الصباحيه قسم البنين</td>\n",
       "      <td>3.6</td>\n",
       "      <td>9</td>\n",
       "      <td>مدرسة</td>\n",
       "      <td>050 422 5592</td>\n",
       "      <td>الحزم</td>\n",
       "      <td>No Website</td>\n",
       "      <td>جنوب الرياض</td>\n",
       "      <td>24.5481153</td>\n",
       "      <td>46.6670534</td>\n",
       "    </tr>\n",
       "    <tr>\n",
       "      <th>...</th>\n",
       "      <td>...</td>\n",
       "      <td>...</td>\n",
       "      <td>...</td>\n",
       "      <td>...</td>\n",
       "      <td>...</td>\n",
       "      <td>...</td>\n",
       "      <td>...</td>\n",
       "      <td>...</td>\n",
       "      <td>...</td>\n",
       "      <td>...</td>\n",
       "      <td>...</td>\n",
       "    </tr>\n",
       "    <tr>\n",
       "      <th>579</th>\n",
       "      <td>https://www.google.com/maps/place/%D9%85%D8%AF...</td>\n",
       "      <td>مدرسة نوره الصبيح وحفيداتها النسائية لتحفيظ ال...</td>\n",
       "      <td>3.1</td>\n",
       "      <td>13</td>\n",
       "      <td>مدرسة</td>\n",
       "      <td>056 303 3919</td>\n",
       "      <td>ام الحمام</td>\n",
       "      <td>No Website</td>\n",
       "      <td>غرب الرياض</td>\n",
       "      <td>24.6970636</td>\n",
       "      <td>46.6449233</td>\n",
       "    </tr>\n",
       "    <tr>\n",
       "      <th>580</th>\n",
       "      <td>https://www.google.com/maps/place/%D9%85%D8%AF...</td>\n",
       "      <td>مدارس جيل القادة الاهلية</td>\n",
       "      <td>4.5</td>\n",
       "      <td>145</td>\n",
       "      <td>مدرسة</td>\n",
       "      <td>055 744 2474</td>\n",
       "      <td>الزهراء</td>\n",
       "      <td>No Website</td>\n",
       "      <td>غرب الرياض</td>\n",
       "      <td>24.5855159</td>\n",
       "      <td>46.6390526</td>\n",
       "    </tr>\n",
       "    <tr>\n",
       "      <th>581</th>\n",
       "      <td>https://www.google.com/maps/place/%D8%AD%D9%8A...</td>\n",
       "      <td>حي الزهره ، الرياض</td>\n",
       "      <td>4.4</td>\n",
       "      <td>7</td>\n",
       "      <td>هامبرغر</td>\n",
       "      <td>No Phone</td>\n",
       "      <td>الزهراء</td>\n",
       "      <td>No Website</td>\n",
       "      <td>غرب الرياض</td>\n",
       "      <td>24.5791834</td>\n",
       "      <td>46.6482273</td>\n",
       "    </tr>\n",
       "    <tr>\n",
       "      <th>582</th>\n",
       "      <td>https://www.google.com/maps/place/%D9%85%D8%AF...</td>\n",
       "      <td>مدرسة الإمام محمد بن سعود النسائية لتحفيظ القرآن</td>\n",
       "      <td>4.3</td>\n",
       "      <td>33</td>\n",
       "      <td>مدرسة</td>\n",
       "      <td>054 676 0092</td>\n",
       "      <td>سلطانة</td>\n",
       "      <td>No Website</td>\n",
       "      <td>غرب الرياض</td>\n",
       "      <td>24.5990801</td>\n",
       "      <td>46.6836168</td>\n",
       "    </tr>\n",
       "    <tr>\n",
       "      <th>583</th>\n",
       "      <td>https://www.google.com/maps/place/%D8%B1%D9%88...</td>\n",
       "      <td>روضة 41</td>\n",
       "      <td>3.6</td>\n",
       "      <td>19</td>\n",
       "      <td>مدرسة</td>\n",
       "      <td>050 636 6023</td>\n",
       "      <td>الدريهمية</td>\n",
       "      <td>No Website</td>\n",
       "      <td>غرب الرياض</td>\n",
       "      <td>24.5903241</td>\n",
       "      <td>46.6565675</td>\n",
       "    </tr>\n",
       "  </tbody>\n",
       "</table>\n",
       "<p>584 rows × 11 columns</p>\n",
       "</div>"
      ],
      "text/plain": [
       "                                                   url  \\\n",
       "0    https://www.google.com/maps/place/%D9%85%D8%B1...   \n",
       "1    https://www.google.com/maps/place/%D8%AD%D8%B6...   \n",
       "2    https://www.google.com/maps/place/%D9%85%D8%B1...   \n",
       "3    https://www.google.com/maps/place/%D8%B1%D9%88...   \n",
       "4    https://www.google.com/maps/place/%D8%B1%D9%88...   \n",
       "..                                                 ...   \n",
       "579  https://www.google.com/maps/place/%D9%85%D8%AF...   \n",
       "580  https://www.google.com/maps/place/%D9%85%D8%AF...   \n",
       "581  https://www.google.com/maps/place/%D8%AD%D9%8A...   \n",
       "582  https://www.google.com/maps/place/%D9%85%D8%AF...   \n",
       "583  https://www.google.com/maps/place/%D8%B1%D9%88...   \n",
       "\n",
       "                                                  Name  Rates  Reviews  \\\n",
       "0                                  مركز الحفلة الرائعة    4.8       25   \n",
       "1                               حضانه واحة بيت الطفولة    4.8       42   \n",
       "2                                     مركز لحظات الطفل    4.7       58   \n",
       "3                  روضة وحضانة فوز الطفل لرياض الاطفال    5.0       12   \n",
       "4                روضة براعم الاصيل الصباحيه قسم البنين    3.6        9   \n",
       "..                                                 ...    ...      ...   \n",
       "579  مدرسة نوره الصبيح وحفيداتها النسائية لتحفيظ ال...    3.1       13   \n",
       "580                           مدارس جيل القادة الاهلية    4.5      145   \n",
       "581                                 حي الزهره ، الرياض    4.4        7   \n",
       "582   مدرسة الإمام محمد بن سعود النسائية لتحفيظ القرآن    4.3       33   \n",
       "583                                            روضة 41    3.6       19   \n",
       "\n",
       "            Type         Phone Neighborhood     Website    direction  \\\n",
       "0    حضانة أطفال  053 977 1294        الحزم  No Website  جنوب الرياض   \n",
       "1          حضانة  055 159 5971        الحزم  No Website  جنوب الرياض   \n",
       "2     رياض أطفال  055 939 4715        الحزم  No Website  جنوب الرياض   \n",
       "3    حضانة أطفال  055 808 8178        الحزم  No Website  جنوب الرياض   \n",
       "4          مدرسة  050 422 5592        الحزم  No Website  جنوب الرياض   \n",
       "..           ...           ...          ...         ...          ...   \n",
       "579        مدرسة  056 303 3919    ام الحمام  No Website   غرب الرياض   \n",
       "580        مدرسة  055 744 2474      الزهراء  No Website   غرب الرياض   \n",
       "581      هامبرغر      No Phone      الزهراء  No Website   غرب الرياض   \n",
       "582        مدرسة  054 676 0092       سلطانة  No Website   غرب الرياض   \n",
       "583        مدرسة  050 636 6023    الدريهمية  No Website   غرب الرياض   \n",
       "\n",
       "       Latitude   Longitude  \n",
       "0    24.5301864   46.639017  \n",
       "1     24.551985  46.6581298  \n",
       "2    24.5423347  46.6492086  \n",
       "3    24.5515238  46.6598635  \n",
       "4    24.5481153  46.6670534  \n",
       "..          ...         ...  \n",
       "579  24.6970636  46.6449233  \n",
       "580  24.5855159  46.6390526  \n",
       "581  24.5791834  46.6482273  \n",
       "582  24.5990801  46.6836168  \n",
       "583  24.5903241  46.6565675  \n",
       "\n",
       "[584 rows x 11 columns]"
      ]
     },
     "execution_count": 119,
     "metadata": {},
     "output_type": "execute_result"
    }
   ],
   "source": [
    "df"
   ]
  },
  {
   "cell_type": "code",
   "execution_count": 120,
   "id": "c9fc7b15",
   "metadata": {},
   "outputs": [
    {
     "data": {
      "text/plain": [
       "url              object\n",
       "Name             object\n",
       "Rates           float64\n",
       "Reviews           int64\n",
       "Type             object\n",
       "Phone            object\n",
       "Neighborhood     object\n",
       "Website          object\n",
       "direction        object\n",
       "Latitude         object\n",
       "Longitude        object\n",
       "dtype: object"
      ]
     },
     "execution_count": 120,
     "metadata": {},
     "output_type": "execute_result"
    }
   ],
   "source": [
    "df.dtypes"
   ]
  },
  {
   "cell_type": "code",
   "execution_count": 217,
   "id": "b108a33e",
   "metadata": {},
   "outputs": [
    {
     "data": {
      "text/html": [
       "<div>\n",
       "<style scoped>\n",
       "    .dataframe tbody tr th:only-of-type {\n",
       "        vertical-align: middle;\n",
       "    }\n",
       "\n",
       "    .dataframe tbody tr th {\n",
       "        vertical-align: top;\n",
       "    }\n",
       "\n",
       "    .dataframe thead th {\n",
       "        text-align: right;\n",
       "    }\n",
       "</style>\n",
       "<table border=\"1\" class=\"dataframe\">\n",
       "  <thead>\n",
       "    <tr style=\"text-align: right;\">\n",
       "      <th></th>\n",
       "      <th>url</th>\n",
       "      <th>Name</th>\n",
       "      <th>Rates</th>\n",
       "      <th>Reviews</th>\n",
       "      <th>Type</th>\n",
       "      <th>Phone</th>\n",
       "      <th>Neighborhood</th>\n",
       "      <th>Website</th>\n",
       "      <th>direction</th>\n",
       "      <th>Latitude</th>\n",
       "      <th>Longitude</th>\n",
       "    </tr>\n",
       "  </thead>\n",
       "  <tbody>\n",
       "    <tr>\n",
       "      <th>0</th>\n",
       "      <td>https://www.google.com/maps/place/%D9%85%D8%B1...</td>\n",
       "      <td>مركز الحفلة الرائعة</td>\n",
       "      <td>4.8</td>\n",
       "      <td>25</td>\n",
       "      <td>حضانة أطفال</td>\n",
       "      <td>053 977 1294</td>\n",
       "      <td>الحزم</td>\n",
       "      <td>No Website</td>\n",
       "      <td>جنوب الرياض</td>\n",
       "      <td>24.5301864</td>\n",
       "      <td>46.639017</td>\n",
       "    </tr>\n",
       "    <tr>\n",
       "      <th>1</th>\n",
       "      <td>https://www.google.com/maps/place/%D8%AD%D8%B6...</td>\n",
       "      <td>حضانه واحة بيت الطفولة</td>\n",
       "      <td>4.8</td>\n",
       "      <td>42</td>\n",
       "      <td>حضانة</td>\n",
       "      <td>055 159 5971</td>\n",
       "      <td>الحزم</td>\n",
       "      <td>No Website</td>\n",
       "      <td>جنوب الرياض</td>\n",
       "      <td>24.551985</td>\n",
       "      <td>46.6581298</td>\n",
       "    </tr>\n",
       "    <tr>\n",
       "      <th>2</th>\n",
       "      <td>https://www.google.com/maps/place/%D9%85%D8%B1...</td>\n",
       "      <td>مركز لحظات الطفل</td>\n",
       "      <td>4.7</td>\n",
       "      <td>58</td>\n",
       "      <td>رياض أطفال</td>\n",
       "      <td>055 939 4715</td>\n",
       "      <td>الحزم</td>\n",
       "      <td>No Website</td>\n",
       "      <td>جنوب الرياض</td>\n",
       "      <td>24.5423347</td>\n",
       "      <td>46.6492086</td>\n",
       "    </tr>\n",
       "    <tr>\n",
       "      <th>3</th>\n",
       "      <td>https://www.google.com/maps/place/%D8%B1%D9%88...</td>\n",
       "      <td>روضة وحضانة فوز الطفل لرياض الاطفال</td>\n",
       "      <td>5.0</td>\n",
       "      <td>12</td>\n",
       "      <td>حضانة أطفال</td>\n",
       "      <td>055 808 8178</td>\n",
       "      <td>الحزم</td>\n",
       "      <td>No Website</td>\n",
       "      <td>جنوب الرياض</td>\n",
       "      <td>24.5515238</td>\n",
       "      <td>46.6598635</td>\n",
       "    </tr>\n",
       "    <tr>\n",
       "      <th>4</th>\n",
       "      <td>https://www.google.com/maps/place/%D8%B1%D9%88...</td>\n",
       "      <td>روضة براعم الاصيل الصباحيه قسم البنين</td>\n",
       "      <td>3.6</td>\n",
       "      <td>9</td>\n",
       "      <td>مدرسة</td>\n",
       "      <td>050 422 5592</td>\n",
       "      <td>الحزم</td>\n",
       "      <td>No Website</td>\n",
       "      <td>جنوب الرياض</td>\n",
       "      <td>24.5481153</td>\n",
       "      <td>46.6670534</td>\n",
       "    </tr>\n",
       "    <tr>\n",
       "      <th>...</th>\n",
       "      <td>...</td>\n",
       "      <td>...</td>\n",
       "      <td>...</td>\n",
       "      <td>...</td>\n",
       "      <td>...</td>\n",
       "      <td>...</td>\n",
       "      <td>...</td>\n",
       "      <td>...</td>\n",
       "      <td>...</td>\n",
       "      <td>...</td>\n",
       "      <td>...</td>\n",
       "    </tr>\n",
       "    <tr>\n",
       "      <th>579</th>\n",
       "      <td>https://www.google.com/maps/place/%D9%85%D8%AF...</td>\n",
       "      <td>مدرسة نوره الصبيح وحفيداتها النسائية لتحفيظ ال...</td>\n",
       "      <td>3.1</td>\n",
       "      <td>13</td>\n",
       "      <td>مدرسة</td>\n",
       "      <td>056 303 3919</td>\n",
       "      <td>ام الحمام</td>\n",
       "      <td>No Website</td>\n",
       "      <td>غرب الرياض</td>\n",
       "      <td>24.6970636</td>\n",
       "      <td>46.6449233</td>\n",
       "    </tr>\n",
       "    <tr>\n",
       "      <th>580</th>\n",
       "      <td>https://www.google.com/maps/place/%D9%85%D8%AF...</td>\n",
       "      <td>مدارس جيل القادة الاهلية</td>\n",
       "      <td>4.5</td>\n",
       "      <td>145</td>\n",
       "      <td>مدرسة</td>\n",
       "      <td>055 744 2474</td>\n",
       "      <td>الزهراء</td>\n",
       "      <td>الشيخ عبدالعزيز الشيخ عبد العزيز بن محمد بن عل...</td>\n",
       "      <td>غرب الرياض</td>\n",
       "      <td>24.5855159</td>\n",
       "      <td>46.6390526</td>\n",
       "    </tr>\n",
       "    <tr>\n",
       "      <th>581</th>\n",
       "      <td>https://www.google.com/maps/place/%D8%AD%D9%8A...</td>\n",
       "      <td>حي الزهره ، الرياض</td>\n",
       "      <td>4.4</td>\n",
       "      <td>7</td>\n",
       "      <td>هامبرغر</td>\n",
       "      <td>No Phone</td>\n",
       "      <td>الزهراء</td>\n",
       "      <td>No Website</td>\n",
       "      <td>غرب الرياض</td>\n",
       "      <td>24.5791834</td>\n",
       "      <td>46.6482273</td>\n",
       "    </tr>\n",
       "    <tr>\n",
       "      <th>582</th>\n",
       "      <td>https://www.google.com/maps/place/%D9%85%D8%AF...</td>\n",
       "      <td>مدرسة الإمام محمد بن سعود النسائية لتحفيظ القرآن</td>\n",
       "      <td>4.3</td>\n",
       "      <td>33</td>\n",
       "      <td>مدرسة</td>\n",
       "      <td>054 676 0092</td>\n",
       "      <td>سلطانة</td>\n",
       "      <td>3381 آل عبدالقادر</td>\n",
       "      <td>غرب الرياض</td>\n",
       "      <td>24.5990801</td>\n",
       "      <td>46.6836168</td>\n",
       "    </tr>\n",
       "    <tr>\n",
       "      <th>583</th>\n",
       "      <td>https://www.google.com/maps/place/%D8%B1%D9%88...</td>\n",
       "      <td>روضة 41</td>\n",
       "      <td>3.6</td>\n",
       "      <td>19</td>\n",
       "      <td>مدرسة</td>\n",
       "      <td>050 636 6023</td>\n",
       "      <td>الدريهمية</td>\n",
       "      <td>·</td>\n",
       "      <td>غرب الرياض</td>\n",
       "      <td>24.5903241</td>\n",
       "      <td>46.6565675</td>\n",
       "    </tr>\n",
       "  </tbody>\n",
       "</table>\n",
       "<p>582 rows × 11 columns</p>\n",
       "</div>"
      ],
      "text/plain": [
       "                                                   url  \\\n",
       "0    https://www.google.com/maps/place/%D9%85%D8%B1...   \n",
       "1    https://www.google.com/maps/place/%D8%AD%D8%B6...   \n",
       "2    https://www.google.com/maps/place/%D9%85%D8%B1...   \n",
       "3    https://www.google.com/maps/place/%D8%B1%D9%88...   \n",
       "4    https://www.google.com/maps/place/%D8%B1%D9%88...   \n",
       "..                                                 ...   \n",
       "579  https://www.google.com/maps/place/%D9%85%D8%AF...   \n",
       "580  https://www.google.com/maps/place/%D9%85%D8%AF...   \n",
       "581  https://www.google.com/maps/place/%D8%AD%D9%8A...   \n",
       "582  https://www.google.com/maps/place/%D9%85%D8%AF...   \n",
       "583  https://www.google.com/maps/place/%D8%B1%D9%88...   \n",
       "\n",
       "                                                  Name  Rates  Reviews  \\\n",
       "0                                  مركز الحفلة الرائعة    4.8       25   \n",
       "1                               حضانه واحة بيت الطفولة    4.8       42   \n",
       "2                                     مركز لحظات الطفل    4.7       58   \n",
       "3                  روضة وحضانة فوز الطفل لرياض الاطفال    5.0       12   \n",
       "4                روضة براعم الاصيل الصباحيه قسم البنين    3.6        9   \n",
       "..                                                 ...    ...      ...   \n",
       "579  مدرسة نوره الصبيح وحفيداتها النسائية لتحفيظ ال...    3.1       13   \n",
       "580                           مدارس جيل القادة الاهلية    4.5      145   \n",
       "581                                 حي الزهره ، الرياض    4.4        7   \n",
       "582   مدرسة الإمام محمد بن سعود النسائية لتحفيظ القرآن    4.3       33   \n",
       "583                                            روضة 41    3.6       19   \n",
       "\n",
       "            Type         Phone Neighborhood  \\\n",
       "0    حضانة أطفال  053 977 1294        الحزم   \n",
       "1          حضانة  055 159 5971        الحزم   \n",
       "2     رياض أطفال  055 939 4715        الحزم   \n",
       "3    حضانة أطفال  055 808 8178        الحزم   \n",
       "4          مدرسة  050 422 5592        الحزم   \n",
       "..           ...           ...          ...   \n",
       "579        مدرسة  056 303 3919    ام الحمام   \n",
       "580        مدرسة  055 744 2474      الزهراء   \n",
       "581      هامبرغر      No Phone      الزهراء   \n",
       "582        مدرسة  054 676 0092       سلطانة   \n",
       "583        مدرسة  050 636 6023    الدريهمية   \n",
       "\n",
       "                                               Website    direction  \\\n",
       "0                                           No Website  جنوب الرياض   \n",
       "1                                           No Website  جنوب الرياض   \n",
       "2                                           No Website  جنوب الرياض   \n",
       "3                                           No Website  جنوب الرياض   \n",
       "4                                           No Website  جنوب الرياض   \n",
       "..                                                 ...          ...   \n",
       "579                                         No Website   غرب الرياض   \n",
       "580  الشيخ عبدالعزيز الشيخ عبد العزيز بن محمد بن عل...   غرب الرياض   \n",
       "581                                         No Website   غرب الرياض   \n",
       "582                                  3381 آل عبدالقادر   غرب الرياض   \n",
       "583                                                  ·   غرب الرياض   \n",
       "\n",
       "       Latitude   Longitude  \n",
       "0    24.5301864   46.639017  \n",
       "1     24.551985  46.6581298  \n",
       "2    24.5423347  46.6492086  \n",
       "3    24.5515238  46.6598635  \n",
       "4    24.5481153  46.6670534  \n",
       "..          ...         ...  \n",
       "579  24.6970636  46.6449233  \n",
       "580  24.5855159  46.6390526  \n",
       "581  24.5791834  46.6482273  \n",
       "582  24.5990801  46.6836168  \n",
       "583  24.5903241  46.6565675  \n",
       "\n",
       "[582 rows x 11 columns]"
      ]
     },
     "execution_count": 217,
     "metadata": {},
     "output_type": "execute_result"
    }
   ],
   "source": [
    "df"
   ]
  },
  {
   "cell_type": "code",
   "execution_count": 224,
   "id": "9f229649",
   "metadata": {},
   "outputs": [
    {
     "data": {
      "text/plain": [
       "Type\n",
       "حضانة أطفال                      288\n",
       "مدرسة                            115\n",
       "رياض أطفال                        92\n",
       "حضانة                             34\n",
       "مركز لرعاية الأطفال               19\n",
       "مدرسة خاصة                         6\n",
       "مؤسسة تعليمية                      3\n",
       "مدرسة ابتدائية                     2\n",
       "المركز التعليمي                    2\n",
       "مدرسة عامة                         2\n",
       "مدرسة دولية                        2\n",
       "فندق                               1\n",
       "مدارس مجتمعية                      1\n",
       "مشتل للنباتات                      1\n",
       "دار أيتام                          1\n",
       "متجر                               1\n",
       "متنزه                              1\n",
       "حَضَانَة والدورف لِلْأَطْفَال      1\n",
       "مدرسة تعليم خاص                    1\n",
       "المرحلة الابتدائية                 1\n",
       "مدرسة جمنازيوم                     1\n",
       "مدرسة تعليمية متخصصة               1\n",
       "مدرسة تعليم عام                    1\n",
       "مركز رعاية الطفل                   1\n",
       "مدرسة مونتيسوري                    1\n",
       "مؤسسة دينية                        1\n",
       "مسجد                               1\n",
       "هامبرغر                            1\n",
       "Name: count, dtype: int64"
      ]
     },
     "execution_count": 224,
     "metadata": {},
     "output_type": "execute_result"
    }
   ],
   "source": [
    "df[\"Type\"].value_counts()"
   ]
  },
  {
   "cell_type": "code",
   "execution_count": 230,
   "id": "33dfefc0",
   "metadata": {},
   "outputs": [
    {
     "data": {
      "text/html": [
       "<div>\n",
       "<style scoped>\n",
       "    .dataframe tbody tr th:only-of-type {\n",
       "        vertical-align: middle;\n",
       "    }\n",
       "\n",
       "    .dataframe tbody tr th {\n",
       "        vertical-align: top;\n",
       "    }\n",
       "\n",
       "    .dataframe thead th {\n",
       "        text-align: right;\n",
       "    }\n",
       "</style>\n",
       "<table border=\"1\" class=\"dataframe\">\n",
       "  <thead>\n",
       "    <tr style=\"text-align: right;\">\n",
       "      <th></th>\n",
       "      <th>url</th>\n",
       "      <th>Name</th>\n",
       "      <th>Rates</th>\n",
       "      <th>Reviews</th>\n",
       "      <th>Type</th>\n",
       "      <th>Phone</th>\n",
       "      <th>Neighborhood</th>\n",
       "      <th>Website</th>\n",
       "      <th>direction</th>\n",
       "      <th>Latitude</th>\n",
       "      <th>Longitude</th>\n",
       "    </tr>\n",
       "  </thead>\n",
       "  <tbody>\n",
       "    <tr>\n",
       "      <th>7</th>\n",
       "      <td>https://www.google.com/maps/place/%D9%85%D8%AC...</td>\n",
       "      <td>مجمع حلقات الحزم</td>\n",
       "      <td>4.8</td>\n",
       "      <td>226</td>\n",
       "      <td>مسجد</td>\n",
       "      <td>055 004 4118</td>\n",
       "      <td>الحزم</td>\n",
       "      <td>No Website</td>\n",
       "      <td>جنوب الرياض</td>\n",
       "      <td>24.5752752</td>\n",
       "      <td>46.6309829</td>\n",
       "    </tr>\n",
       "  </tbody>\n",
       "</table>\n",
       "</div>"
      ],
      "text/plain": [
       "                                                 url              Name  Rates  \\\n",
       "7  https://www.google.com/maps/place/%D9%85%D8%AC...  مجمع حلقات الحزم    4.8   \n",
       "\n",
       "   Reviews  Type         Phone Neighborhood     Website    direction  \\\n",
       "7      226  مسجد  055 004 4118        الحزم  No Website  جنوب الرياض   \n",
       "\n",
       "     Latitude   Longitude  \n",
       "7  24.5752752  46.6309829  "
      ]
     },
     "execution_count": 230,
     "metadata": {},
     "output_type": "execute_result"
    }
   ],
   "source": [
    "\n",
    "df[df[\"Type\"]==\"مسجد\"]"
   ]
  },
  {
   "cell_type": "code",
   "execution_count": 229,
   "id": "0612ffd1",
   "metadata": {},
   "outputs": [
    {
     "data": {
      "text/html": [
       "<div>\n",
       "<style scoped>\n",
       "    .dataframe tbody tr th:only-of-type {\n",
       "        vertical-align: middle;\n",
       "    }\n",
       "\n",
       "    .dataframe tbody tr th {\n",
       "        vertical-align: top;\n",
       "    }\n",
       "\n",
       "    .dataframe thead th {\n",
       "        text-align: right;\n",
       "    }\n",
       "</style>\n",
       "<table border=\"1\" class=\"dataframe\">\n",
       "  <thead>\n",
       "    <tr style=\"text-align: right;\">\n",
       "      <th></th>\n",
       "      <th>url</th>\n",
       "      <th>Name</th>\n",
       "      <th>Rates</th>\n",
       "      <th>Reviews</th>\n",
       "      <th>Type</th>\n",
       "      <th>Phone</th>\n",
       "      <th>Neighborhood</th>\n",
       "      <th>Website</th>\n",
       "      <th>direction</th>\n",
       "      <th>Latitude</th>\n",
       "      <th>Longitude</th>\n",
       "    </tr>\n",
       "  </thead>\n",
       "  <tbody>\n",
       "    <tr>\n",
       "      <th>438</th>\n",
       "      <td>https://www.google.com/maps/place/%D8%B1%D9%88...</td>\n",
       "      <td>روضات الرياض للشقق المفروشة</td>\n",
       "      <td>4.1</td>\n",
       "      <td>99</td>\n",
       "      <td>فندق</td>\n",
       "      <td>011 222 6221</td>\n",
       "      <td>اليرموك</td>\n",
       "      <td>No Website</td>\n",
       "      <td>شرق الرياض</td>\n",
       "      <td>24.8016908</td>\n",
       "      <td>46.7812573</td>\n",
       "    </tr>\n",
       "  </tbody>\n",
       "</table>\n",
       "</div>"
      ],
      "text/plain": [
       "                                                   url  \\\n",
       "438  https://www.google.com/maps/place/%D8%B1%D9%88...   \n",
       "\n",
       "                            Name  Rates  Reviews  Type         Phone  \\\n",
       "438  روضات الرياض للشقق المفروشة    4.1       99  فندق  011 222 6221   \n",
       "\n",
       "    Neighborhood     Website   direction    Latitude   Longitude  \n",
       "438      اليرموك  No Website  شرق الرياض  24.8016908  46.7812573  "
      ]
     },
     "execution_count": 229,
     "metadata": {},
     "output_type": "execute_result"
    }
   ],
   "source": [
    "df[df[\"Type\"]==\"فندق\"]"
   ]
  },
  {
   "cell_type": "code",
   "execution_count": 228,
   "id": "13cd51b4",
   "metadata": {},
   "outputs": [
    {
     "data": {
      "text/html": [
       "<div>\n",
       "<style scoped>\n",
       "    .dataframe tbody tr th:only-of-type {\n",
       "        vertical-align: middle;\n",
       "    }\n",
       "\n",
       "    .dataframe tbody tr th {\n",
       "        vertical-align: top;\n",
       "    }\n",
       "\n",
       "    .dataframe thead th {\n",
       "        text-align: right;\n",
       "    }\n",
       "</style>\n",
       "<table border=\"1\" class=\"dataframe\">\n",
       "  <thead>\n",
       "    <tr style=\"text-align: right;\">\n",
       "      <th></th>\n",
       "      <th>url</th>\n",
       "      <th>Name</th>\n",
       "      <th>Rates</th>\n",
       "      <th>Reviews</th>\n",
       "      <th>Type</th>\n",
       "      <th>Phone</th>\n",
       "      <th>Neighborhood</th>\n",
       "      <th>Website</th>\n",
       "      <th>direction</th>\n",
       "      <th>Latitude</th>\n",
       "      <th>Longitude</th>\n",
       "    </tr>\n",
       "  </thead>\n",
       "  <tbody>\n",
       "    <tr>\n",
       "      <th>351</th>\n",
       "      <td>https://www.google.com/maps/data=!4m7!3m6!1s0x...</td>\n",
       "      <td>..</td>\n",
       "      <td>3.3</td>\n",
       "      <td>57</td>\n",
       "      <td>متجر</td>\n",
       "      <td>No Phone</td>\n",
       "      <td>قرطبة</td>\n",
       "      <td>No Website</td>\n",
       "      <td>شرق الرياض</td>\n",
       "      <td>24.222142</td>\n",
       "      <td>45.0740834</td>\n",
       "    </tr>\n",
       "  </tbody>\n",
       "</table>\n",
       "</div>"
      ],
      "text/plain": [
       "                                                   url Name  Rates  Reviews  \\\n",
       "351  https://www.google.com/maps/data=!4m7!3m6!1s0x...   ..    3.3       57   \n",
       "\n",
       "     Type     Phone Neighborhood     Website   direction   Latitude  \\\n",
       "351  متجر  No Phone        قرطبة  No Website  شرق الرياض  24.222142   \n",
       "\n",
       "      Longitude  \n",
       "351  45.0740834  "
      ]
     },
     "execution_count": 228,
     "metadata": {},
     "output_type": "execute_result"
    }
   ],
   "source": [
    "df[df[\"Type\"]==\"متجر\"]"
   ]
  },
  {
   "cell_type": "code",
   "execution_count": 227,
   "id": "ecd241dc",
   "metadata": {},
   "outputs": [
    {
     "data": {
      "text/html": [
       "<div>\n",
       "<style scoped>\n",
       "    .dataframe tbody tr th:only-of-type {\n",
       "        vertical-align: middle;\n",
       "    }\n",
       "\n",
       "    .dataframe tbody tr th {\n",
       "        vertical-align: top;\n",
       "    }\n",
       "\n",
       "    .dataframe thead th {\n",
       "        text-align: right;\n",
       "    }\n",
       "</style>\n",
       "<table border=\"1\" class=\"dataframe\">\n",
       "  <thead>\n",
       "    <tr style=\"text-align: right;\">\n",
       "      <th></th>\n",
       "      <th>url</th>\n",
       "      <th>Name</th>\n",
       "      <th>Rates</th>\n",
       "      <th>Reviews</th>\n",
       "      <th>Type</th>\n",
       "      <th>Phone</th>\n",
       "      <th>Neighborhood</th>\n",
       "      <th>Website</th>\n",
       "      <th>direction</th>\n",
       "      <th>Latitude</th>\n",
       "      <th>Longitude</th>\n",
       "    </tr>\n",
       "  </thead>\n",
       "  <tbody>\n",
       "    <tr>\n",
       "      <th>578</th>\n",
       "      <td>https://www.google.com/maps/place/%D8%AD%D8%AF...</td>\n",
       "      <td>حديقة ام الحمام الغربي</td>\n",
       "      <td>3.8</td>\n",
       "      <td>1155</td>\n",
       "      <td>متنزه</td>\n",
       "      <td>No Phone</td>\n",
       "      <td>ام الحمام</td>\n",
       "      <td>No Website</td>\n",
       "      <td>غرب الرياض</td>\n",
       "      <td>24.7004556</td>\n",
       "      <td>46.6483678</td>\n",
       "    </tr>\n",
       "  </tbody>\n",
       "</table>\n",
       "</div>"
      ],
      "text/plain": [
       "                                                   url  \\\n",
       "578  https://www.google.com/maps/place/%D8%AD%D8%AF...   \n",
       "\n",
       "                       Name  Rates  Reviews   Type     Phone Neighborhood  \\\n",
       "578  حديقة ام الحمام الغربي    3.8     1155  متنزه  No Phone    ام الحمام   \n",
       "\n",
       "        Website   direction    Latitude   Longitude  \n",
       "578  No Website  غرب الرياض  24.7004556  46.6483678  "
      ]
     },
     "execution_count": 227,
     "metadata": {},
     "output_type": "execute_result"
    }
   ],
   "source": [
    "df[df[\"Type\"]==\"متنزه\"]"
   ]
  },
  {
   "cell_type": "code",
   "execution_count": null,
   "id": "60dca808",
   "metadata": {},
   "outputs": [
    {
     "data": {
      "text/plain": [
       "'https://www.google.com/maps/place/%D8%AD%D9%8A+%D8%A7%D9%84%D8%B2%D9%87%D8%B1%D9%87+%D8%8C+%D8%A7%D9%84%D8%B1%D9%8A%D8%A7%D8%B6%E2%80%AD/data=!4m7!3m6!1s0x3e2f11006a33af3d:0x52c9874fa240eeb0!8m2!3d24.5791834!4d46.6482273!16s%2Fg%2F11w1xvdh_p!19sChIJPa8zagARLz4RsO5Aok-HyVI?authuser=0&hl=ar&rclk=1'"
      ]
     },
     "execution_count": 145,
     "metadata": {},
     "output_type": "execute_result"
    }
   ],
   "source": [
    "df[df[\"Type\"]==\"هامبرغر\"]"
   ]
  },
  {
   "cell_type": "code",
   "execution_count": 231,
   "id": "160ea275",
   "metadata": {},
   "outputs": [],
   "source": [
    "df = df[~df[\"Type\"].isin([\"مسجد\", \"فندق\", \"متجر\", \"متنزه\", \"هامبرغر\"])]\n"
   ]
  },
  {
   "cell_type": "code",
   "execution_count": 237,
   "id": "69475663",
   "metadata": {},
   "outputs": [],
   "source": [
    "df = df.drop_duplicates(subset=[\"url\"])"
   ]
  },
  {
   "cell_type": "code",
   "execution_count": 240,
   "id": "d59bc82b",
   "metadata": {},
   "outputs": [
    {
     "data": {
      "text/plain": [
       "Type\n",
       "حضانة أطفال                      287\n",
       "مدرسة                            114\n",
       "رياض أطفال                        92\n",
       "حضانة                             34\n",
       "مركز لرعاية الأطفال               19\n",
       "مدرسة خاصة                         6\n",
       "مؤسسة تعليمية                      3\n",
       "مدرسة دولية                        2\n",
       "مدرسة عامة                         2\n",
       "المركز التعليمي                    2\n",
       "مدرسة ابتدائية                     2\n",
       "مدرسة مونتيسوري                    1\n",
       "مركز رعاية الطفل                   1\n",
       "مؤسسة دينية                        1\n",
       "مدرسة تعليم عام                    1\n",
       "مدرسة تعليم خاص                    1\n",
       "مدرسة تعليمية متخصصة               1\n",
       "مدرسة جمنازيوم                     1\n",
       "المرحلة الابتدائية                 1\n",
       "حَضَانَة والدورف لِلْأَطْفَال      1\n",
       "مشتل للنباتات                      1\n",
       "مدارس مجتمعية                      1\n",
       "دار أيتام                          1\n",
       "Name: count, dtype: int64"
      ]
     },
     "execution_count": 240,
     "metadata": {},
     "output_type": "execute_result"
    }
   ],
   "source": [
    "df['Type'].value_counts()"
   ]
  },
  {
   "cell_type": "code",
   "execution_count": 244,
   "id": "63584a46",
   "metadata": {},
   "outputs": [],
   "source": [
    "categories = {\n",
    "    \"مراكز رعاية الأطفال\": [\"حضانة أطفال\", \"حضانة\", \"مركز لرعاية الأطفال\", \"مركز رعاية الطفل\", \"حَضَانَة والدورف لِلْأَطْفَال\"],\n",
    "    \"مدارس\": [\"مدرسة\", \"مدرسة خاصة\", \"مدرسة دولية\", \"مدرسة عامة\", \"مدرسة ابتدائية\", \"مدرسة مونتيسوري\", \n",
    "               \"مدرسة تعليم عام\", \"مدرسة تعليم خاص\", \"مدرسة تعليمية متخصصة\", \"مدرسة جمنازيوم\"],\n",
    "    \"رياض أطفال\": [\"رياض أطفال\"],\n",
    "    \"مؤسسات تعليمية\": [\"مؤسسة تعليمية\", \"المركز التعليمي\", \"مؤسسة دينية\", \"مدارس مجتمعية\"],\n",
    "    \"أخرى\": [\"المرحلة الابتدائية\", \"مشتل للنباتات\", \"دار أيتام\"]\n",
    "}"
   ]
  },
  {
   "cell_type": "code",
   "execution_count": 245,
   "id": "01d05080",
   "metadata": {},
   "outputs": [],
   "source": [
    "def categorize_type(type_name):\n",
    "    for category, items in categories.items():\n",
    "        if type_name in items:\n",
    "            return category\n",
    "    return 'غير مصنف'  \n"
   ]
  },
  {
   "cell_type": "code",
   "execution_count": 246,
   "id": "69955548",
   "metadata": {},
   "outputs": [
    {
     "name": "stderr",
     "output_type": "stream",
     "text": [
      "/var/folders/8x/lx_l3ybs0yx0nx_wtwwkvy6c0000gn/T/ipykernel_77264/3017576193.py:1: SettingWithCopyWarning: \n",
      "A value is trying to be set on a copy of a slice from a DataFrame.\n",
      "Try using .loc[row_indexer,col_indexer] = value instead\n",
      "\n",
      "See the caveats in the documentation: https://pandas.pydata.org/pandas-docs/stable/user_guide/indexing.html#returning-a-view-versus-a-copy\n",
      "  df['Category'] = df['Type'].apply(categorize_type)\n"
     ]
    }
   ],
   "source": [
    "df['Category'] = df['Type'].apply(categorize_type)\n"
   ]
  },
  {
   "cell_type": "code",
   "execution_count": null,
   "id": "f1d95da5-a3ba-473a-8243-aa177cadae20",
   "metadata": {},
   "outputs": [],
   "source": [
    "# go back to 7th dimension Accuracy "
   ]
  },
  {
   "cell_type": "markdown",
   "id": "5ecc7dbb-6867-44cf-8f99-1b969a80be40",
   "metadata": {},
   "source": [
    "### Dealing with outliers:"
   ]
  },
  {
   "cell_type": "code",
   "execution_count": null,
   "id": "25a585f0-2b9c-42fa-bf21-cacc6aa3be3f",
   "metadata": {},
   "outputs": [],
   "source": []
  },
  {
   "cell_type": "markdown",
   "id": "98548b66-e309-4eb8-a5dc-65fe0abbf1e8",
   "metadata": {},
   "source": [
    "## 3. Univariate Analysis: "
   ]
  },
  {
   "cell_type": "markdown",
   "id": "d6718111-7ac2-4fff-9851-654655b62e0b",
   "metadata": {},
   "source": [
    "### 1. Univariate Graphical Analysis:"
   ]
  },
  {
   "cell_type": "code",
   "execution_count": null,
   "id": "d0ec3af5",
   "metadata": {},
   "outputs": [],
   "source": [
    "# px.bar(df , x=\"Type\", color=\"medal\", title=\"Long-Form Input\")"
   ]
  },
  {
   "cell_type": "code",
   "execution_count": null,
   "id": "10fae2b7",
   "metadata": {},
   "outputs": [],
   "source": [
    "df_avg= df.groupby(\"Neighborhood\", as_index=False)[\"Rates\"].mean()"
   ]
  },
  {
   "cell_type": "code",
   "execution_count": null,
   "id": "620e44cb",
   "metadata": {},
   "outputs": [
    {
     "data": {
      "application/vnd.plotly.v1+json": {
       "config": {
        "plotlyServerURL": "https://plot.ly"
       },
       "data": [
        {
         "hovertemplate": "Neighborhood=%{x}<br>Rates=%{marker.color}<extra></extra>",
         "legendgroup": "",
         "marker": {
          "color": {
           "bdata": "AAAAAADADEAzMzMzMzMPQJqZmZmZmQlAvLu7u7u7B0DNzMzMzMwQQAAAAAAAABRAzczMzMwMEUDD9Shcj8INQOJ6FK5H4RBAMzMzMzMzEECJiIiIiIgQQOi0gU4b6BBA6qAO6qAOEEDNzMzMzMwMQD4K16NwPRJAycnJycnJEUBmZmZmZuYSQKcEeUqQpxBAlUu5lEu5EEAAAAAAAAASQM3MzMzMzBJAZmZmZmZmDkBnZmZmZmYQQNu2bdu2bRFAkML1KFyPDkDtG9a+Ye0PQO/u7u7u7hBA1qNwPQrXC0BVVVVVVVUSQHh3d3d3dxFAQy/0Qi/0EEC6urq6uroOQBERERERERFAAAAAAAAAEEDNzMzMzMwOQFVVVVVVVRFA6ZM+6ZM+EUAzMzMzM7MSQKuqqqqqqhBAKVyPwvUoEkAVrkfhehQQQGZmZmZmBhFAkML1KFyPEkCrqqqqqqoRQCIiIiIiIhBArkfhehSuC0B4d3d3d3cLQM3MzMzMzAhAiYiIiIiIEEDe3d3d3d0RQOmTPumTPhFAEREREREREUCWWqmVWqkQQE/sxE7sxA5AZmZmZmbmEUBf8RVf8RUPQBERERERERFAZmZmZmZmE0C8u7u7u7sRQLy7u7u7uxFAERERERGREUDNzMzMzMwOQDMzMzMzsxFAq6qqqqqqDkCamZmZmZkRQDMzMzMzMxFAIiIiIiIiEEBmZmZmZmYCQDMzMzMzMxFAMzMzMzMzEUBafamg1ZcQQGZmZmZmZhBAcD0K16NwDUDv7u7u7u4QQDMzMzMzMxNAIiIiIiIiEECamZmZmZkSQDMzMzMzsxJA",
           "dtype": "f8"
          },
          "coloraxis": "coloraxis",
          "pattern": {
           "shape": ""
          }
         },
         "name": "",
         "orientation": "v",
         "showlegend": false,
         "textposition": "auto",
         "type": "bar",
         "x": [
          "اشبيليه",
          "الازدهار",
          "الاندلس",
          "البديعة",
          "التعاون",
          "الجرادية",
          "الجزيرة",
          "الجنادرية",
          "الحزم",
          "الحمراء",
          "الخزامى",
          "الخليج",
          "الدار البيضاء",
          "الدريهمية",
          "الربيع",
          "الرمال",
          "الروابي",
          "الروضة",
          "الريان",
          "الزهراء",
          "السعادة",
          "السفارات",
          "السلام",
          "السلي",
          "السليمانية",
          "السويدي",
          "الشفا",
          "الشهداء",
          "الصحافة",
          "العارض",
          "العريجاء",
          "العزيزية",
          "العقيق",
          "الغدير",
          "الفلاح",
          "الفيحاء",
          "القادسية",
          "القيران",
          "المربع",
          "المصيف",
          "المغرزات",
          "الملقا",
          "الملك عبدالعزيز",
          "الملك عبدالله",
          "الملك فهد",
          "الملك فيصل",
          "المنصورة",
          "المهدية",
          "المورسلات",
          "الموروج",
          "المونسية",
          "النخيل",
          "الندوة",
          "النرجس",
          "النزهة",
          "النسيم الغربي",
          "النفل",
          "النهضة",
          "الوادي",
          "الورود",
          "الياسمين",
          "اليرموك",
          "اليمامة",
          "ام الحمام",
          "بدر",
          "حطين",
          "خشم العان",
          "ديراب",
          "سلطانة",
          "صلاح الدين",
          "طويق",
          "ظهرة لبن",
          "عرقة",
          "عليشة",
          "غرناطة",
          "قرطبة",
          "منفوحة الجديدة",
          "نمار"
         ],
         "xaxis": "x",
         "y": {
          "bdata": "AAAAAADADEAzMzMzMzMPQJqZmZmZmQlAvLu7u7u7B0DNzMzMzMwQQAAAAAAAABRAzczMzMwMEUDD9Shcj8INQOJ6FK5H4RBAMzMzMzMzEECJiIiIiIgQQOi0gU4b6BBA6qAO6qAOEEDNzMzMzMwMQD4K16NwPRJAycnJycnJEUBmZmZmZuYSQKcEeUqQpxBAlUu5lEu5EEAAAAAAAAASQM3MzMzMzBJAZmZmZmZmDkBnZmZmZmYQQNu2bdu2bRFAkML1KFyPDkDtG9a+Ye0PQO/u7u7u7hBA1qNwPQrXC0BVVVVVVVUSQHh3d3d3dxFAQy/0Qi/0EEC6urq6uroOQBERERERERFAAAAAAAAAEEDNzMzMzMwOQFVVVVVVVRFA6ZM+6ZM+EUAzMzMzM7MSQKuqqqqqqhBAKVyPwvUoEkAVrkfhehQQQGZmZmZmBhFAkML1KFyPEkCrqqqqqqoRQCIiIiIiIhBArkfhehSuC0B4d3d3d3cLQM3MzMzMzAhAiYiIiIiIEEDe3d3d3d0RQOmTPumTPhFAEREREREREUCWWqmVWqkQQE/sxE7sxA5AZmZmZmbmEUBf8RVf8RUPQBERERERERFAZmZmZmZmE0C8u7u7u7sRQLy7u7u7uxFAERERERGREUDNzMzMzMwOQDMzMzMzsxFAq6qqqqqqDkCamZmZmZkRQDMzMzMzMxFAIiIiIiIiEEBmZmZmZmYCQDMzMzMzMxFAMzMzMzMzEUBafamg1ZcQQGZmZmZmZhBAcD0K16NwDUDv7u7u7u4QQDMzMzMzMxNAIiIiIiIiEECamZmZmZkSQDMzMzMzsxJA",
          "dtype": "f8"
         },
         "yaxis": "y"
        }
       ],
       "layout": {
        "barmode": "relative",
        "coloraxis": {
         "colorbar": {
          "title": {
           "text": "Rates"
          }
         },
         "colorscale": [
          [
           0,
           "rgb(255,245,240)"
          ],
          [
           0.125,
           "rgb(254,224,210)"
          ],
          [
           0.25,
           "rgb(252,187,161)"
          ],
          [
           0.375,
           "rgb(252,146,114)"
          ],
          [
           0.5,
           "rgb(251,106,74)"
          ],
          [
           0.625,
           "rgb(239,59,44)"
          ],
          [
           0.75,
           "rgb(203,24,29)"
          ],
          [
           0.875,
           "rgb(165,15,21)"
          ],
          [
           1,
           "rgb(103,0,13)"
          ]
         ]
        },
        "legend": {
         "tracegroupgap": 0
        },
        "template": {
         "data": {
          "bar": [
           {
            "error_x": {
             "color": "#2a3f5f"
            },
            "error_y": {
             "color": "#2a3f5f"
            },
            "marker": {
             "line": {
              "color": "#E5ECF6",
              "width": 0.5
             },
             "pattern": {
              "fillmode": "overlay",
              "size": 10,
              "solidity": 0.2
             }
            },
            "type": "bar"
           }
          ],
          "barpolar": [
           {
            "marker": {
             "line": {
              "color": "#E5ECF6",
              "width": 0.5
             },
             "pattern": {
              "fillmode": "overlay",
              "size": 10,
              "solidity": 0.2
             }
            },
            "type": "barpolar"
           }
          ],
          "carpet": [
           {
            "aaxis": {
             "endlinecolor": "#2a3f5f",
             "gridcolor": "white",
             "linecolor": "white",
             "minorgridcolor": "white",
             "startlinecolor": "#2a3f5f"
            },
            "baxis": {
             "endlinecolor": "#2a3f5f",
             "gridcolor": "white",
             "linecolor": "white",
             "minorgridcolor": "white",
             "startlinecolor": "#2a3f5f"
            },
            "type": "carpet"
           }
          ],
          "choropleth": [
           {
            "colorbar": {
             "outlinewidth": 0,
             "ticks": ""
            },
            "type": "choropleth"
           }
          ],
          "contour": [
           {
            "colorbar": {
             "outlinewidth": 0,
             "ticks": ""
            },
            "colorscale": [
             [
              0,
              "#0d0887"
             ],
             [
              0.1111111111111111,
              "#46039f"
             ],
             [
              0.2222222222222222,
              "#7201a8"
             ],
             [
              0.3333333333333333,
              "#9c179e"
             ],
             [
              0.4444444444444444,
              "#bd3786"
             ],
             [
              0.5555555555555556,
              "#d8576b"
             ],
             [
              0.6666666666666666,
              "#ed7953"
             ],
             [
              0.7777777777777778,
              "#fb9f3a"
             ],
             [
              0.8888888888888888,
              "#fdca26"
             ],
             [
              1,
              "#f0f921"
             ]
            ],
            "type": "contour"
           }
          ],
          "contourcarpet": [
           {
            "colorbar": {
             "outlinewidth": 0,
             "ticks": ""
            },
            "type": "contourcarpet"
           }
          ],
          "heatmap": [
           {
            "colorbar": {
             "outlinewidth": 0,
             "ticks": ""
            },
            "colorscale": [
             [
              0,
              "#0d0887"
             ],
             [
              0.1111111111111111,
              "#46039f"
             ],
             [
              0.2222222222222222,
              "#7201a8"
             ],
             [
              0.3333333333333333,
              "#9c179e"
             ],
             [
              0.4444444444444444,
              "#bd3786"
             ],
             [
              0.5555555555555556,
              "#d8576b"
             ],
             [
              0.6666666666666666,
              "#ed7953"
             ],
             [
              0.7777777777777778,
              "#fb9f3a"
             ],
             [
              0.8888888888888888,
              "#fdca26"
             ],
             [
              1,
              "#f0f921"
             ]
            ],
            "type": "heatmap"
           }
          ],
          "histogram": [
           {
            "marker": {
             "pattern": {
              "fillmode": "overlay",
              "size": 10,
              "solidity": 0.2
             }
            },
            "type": "histogram"
           }
          ],
          "histogram2d": [
           {
            "colorbar": {
             "outlinewidth": 0,
             "ticks": ""
            },
            "colorscale": [
             [
              0,
              "#0d0887"
             ],
             [
              0.1111111111111111,
              "#46039f"
             ],
             [
              0.2222222222222222,
              "#7201a8"
             ],
             [
              0.3333333333333333,
              "#9c179e"
             ],
             [
              0.4444444444444444,
              "#bd3786"
             ],
             [
              0.5555555555555556,
              "#d8576b"
             ],
             [
              0.6666666666666666,
              "#ed7953"
             ],
             [
              0.7777777777777778,
              "#fb9f3a"
             ],
             [
              0.8888888888888888,
              "#fdca26"
             ],
             [
              1,
              "#f0f921"
             ]
            ],
            "type": "histogram2d"
           }
          ],
          "histogram2dcontour": [
           {
            "colorbar": {
             "outlinewidth": 0,
             "ticks": ""
            },
            "colorscale": [
             [
              0,
              "#0d0887"
             ],
             [
              0.1111111111111111,
              "#46039f"
             ],
             [
              0.2222222222222222,
              "#7201a8"
             ],
             [
              0.3333333333333333,
              "#9c179e"
             ],
             [
              0.4444444444444444,
              "#bd3786"
             ],
             [
              0.5555555555555556,
              "#d8576b"
             ],
             [
              0.6666666666666666,
              "#ed7953"
             ],
             [
              0.7777777777777778,
              "#fb9f3a"
             ],
             [
              0.8888888888888888,
              "#fdca26"
             ],
             [
              1,
              "#f0f921"
             ]
            ],
            "type": "histogram2dcontour"
           }
          ],
          "mesh3d": [
           {
            "colorbar": {
             "outlinewidth": 0,
             "ticks": ""
            },
            "type": "mesh3d"
           }
          ],
          "parcoords": [
           {
            "line": {
             "colorbar": {
              "outlinewidth": 0,
              "ticks": ""
             }
            },
            "type": "parcoords"
           }
          ],
          "pie": [
           {
            "automargin": true,
            "type": "pie"
           }
          ],
          "scatter": [
           {
            "fillpattern": {
             "fillmode": "overlay",
             "size": 10,
             "solidity": 0.2
            },
            "type": "scatter"
           }
          ],
          "scatter3d": [
           {
            "line": {
             "colorbar": {
              "outlinewidth": 0,
              "ticks": ""
             }
            },
            "marker": {
             "colorbar": {
              "outlinewidth": 0,
              "ticks": ""
             }
            },
            "type": "scatter3d"
           }
          ],
          "scattercarpet": [
           {
            "marker": {
             "colorbar": {
              "outlinewidth": 0,
              "ticks": ""
             }
            },
            "type": "scattercarpet"
           }
          ],
          "scattergeo": [
           {
            "marker": {
             "colorbar": {
              "outlinewidth": 0,
              "ticks": ""
             }
            },
            "type": "scattergeo"
           }
          ],
          "scattergl": [
           {
            "marker": {
             "colorbar": {
              "outlinewidth": 0,
              "ticks": ""
             }
            },
            "type": "scattergl"
           }
          ],
          "scattermap": [
           {
            "marker": {
             "colorbar": {
              "outlinewidth": 0,
              "ticks": ""
             }
            },
            "type": "scattermap"
           }
          ],
          "scattermapbox": [
           {
            "marker": {
             "colorbar": {
              "outlinewidth": 0,
              "ticks": ""
             }
            },
            "type": "scattermapbox"
           }
          ],
          "scatterpolar": [
           {
            "marker": {
             "colorbar": {
              "outlinewidth": 0,
              "ticks": ""
             }
            },
            "type": "scatterpolar"
           }
          ],
          "scatterpolargl": [
           {
            "marker": {
             "colorbar": {
              "outlinewidth": 0,
              "ticks": ""
             }
            },
            "type": "scatterpolargl"
           }
          ],
          "scatterternary": [
           {
            "marker": {
             "colorbar": {
              "outlinewidth": 0,
              "ticks": ""
             }
            },
            "type": "scatterternary"
           }
          ],
          "surface": [
           {
            "colorbar": {
             "outlinewidth": 0,
             "ticks": ""
            },
            "colorscale": [
             [
              0,
              "#0d0887"
             ],
             [
              0.1111111111111111,
              "#46039f"
             ],
             [
              0.2222222222222222,
              "#7201a8"
             ],
             [
              0.3333333333333333,
              "#9c179e"
             ],
             [
              0.4444444444444444,
              "#bd3786"
             ],
             [
              0.5555555555555556,
              "#d8576b"
             ],
             [
              0.6666666666666666,
              "#ed7953"
             ],
             [
              0.7777777777777778,
              "#fb9f3a"
             ],
             [
              0.8888888888888888,
              "#fdca26"
             ],
             [
              1,
              "#f0f921"
             ]
            ],
            "type": "surface"
           }
          ],
          "table": [
           {
            "cells": {
             "fill": {
              "color": "#EBF0F8"
             },
             "line": {
              "color": "white"
             }
            },
            "header": {
             "fill": {
              "color": "#C8D4E3"
             },
             "line": {
              "color": "white"
             }
            },
            "type": "table"
           }
          ]
         },
         "layout": {
          "annotationdefaults": {
           "arrowcolor": "#2a3f5f",
           "arrowhead": 0,
           "arrowwidth": 1
          },
          "autotypenumbers": "strict",
          "coloraxis": {
           "colorbar": {
            "outlinewidth": 0,
            "ticks": ""
           }
          },
          "colorscale": {
           "diverging": [
            [
             0,
             "#8e0152"
            ],
            [
             0.1,
             "#c51b7d"
            ],
            [
             0.2,
             "#de77ae"
            ],
            [
             0.3,
             "#f1b6da"
            ],
            [
             0.4,
             "#fde0ef"
            ],
            [
             0.5,
             "#f7f7f7"
            ],
            [
             0.6,
             "#e6f5d0"
            ],
            [
             0.7,
             "#b8e186"
            ],
            [
             0.8,
             "#7fbc41"
            ],
            [
             0.9,
             "#4d9221"
            ],
            [
             1,
             "#276419"
            ]
           ],
           "sequential": [
            [
             0,
             "#0d0887"
            ],
            [
             0.1111111111111111,
             "#46039f"
            ],
            [
             0.2222222222222222,
             "#7201a8"
            ],
            [
             0.3333333333333333,
             "#9c179e"
            ],
            [
             0.4444444444444444,
             "#bd3786"
            ],
            [
             0.5555555555555556,
             "#d8576b"
            ],
            [
             0.6666666666666666,
             "#ed7953"
            ],
            [
             0.7777777777777778,
             "#fb9f3a"
            ],
            [
             0.8888888888888888,
             "#fdca26"
            ],
            [
             1,
             "#f0f921"
            ]
           ],
           "sequentialminus": [
            [
             0,
             "#0d0887"
            ],
            [
             0.1111111111111111,
             "#46039f"
            ],
            [
             0.2222222222222222,
             "#7201a8"
            ],
            [
             0.3333333333333333,
             "#9c179e"
            ],
            [
             0.4444444444444444,
             "#bd3786"
            ],
            [
             0.5555555555555556,
             "#d8576b"
            ],
            [
             0.6666666666666666,
             "#ed7953"
            ],
            [
             0.7777777777777778,
             "#fb9f3a"
            ],
            [
             0.8888888888888888,
             "#fdca26"
            ],
            [
             1,
             "#f0f921"
            ]
           ]
          },
          "colorway": [
           "#636efa",
           "#EF553B",
           "#00cc96",
           "#ab63fa",
           "#FFA15A",
           "#19d3f3",
           "#FF6692",
           "#B6E880",
           "#FF97FF",
           "#FECB52"
          ],
          "font": {
           "color": "#2a3f5f"
          },
          "geo": {
           "bgcolor": "white",
           "lakecolor": "white",
           "landcolor": "#E5ECF6",
           "showlakes": true,
           "showland": true,
           "subunitcolor": "white"
          },
          "hoverlabel": {
           "align": "left"
          },
          "hovermode": "closest",
          "mapbox": {
           "style": "light"
          },
          "paper_bgcolor": "white",
          "plot_bgcolor": "#E5ECF6",
          "polar": {
           "angularaxis": {
            "gridcolor": "white",
            "linecolor": "white",
            "ticks": ""
           },
           "bgcolor": "#E5ECF6",
           "radialaxis": {
            "gridcolor": "white",
            "linecolor": "white",
            "ticks": ""
           }
          },
          "scene": {
           "xaxis": {
            "backgroundcolor": "#E5ECF6",
            "gridcolor": "white",
            "gridwidth": 2,
            "linecolor": "white",
            "showbackground": true,
            "ticks": "",
            "zerolinecolor": "white"
           },
           "yaxis": {
            "backgroundcolor": "#E5ECF6",
            "gridcolor": "white",
            "gridwidth": 2,
            "linecolor": "white",
            "showbackground": true,
            "ticks": "",
            "zerolinecolor": "white"
           },
           "zaxis": {
            "backgroundcolor": "#E5ECF6",
            "gridcolor": "white",
            "gridwidth": 2,
            "linecolor": "white",
            "showbackground": true,
            "ticks": "",
            "zerolinecolor": "white"
           }
          },
          "shapedefaults": {
           "line": {
            "color": "#2a3f5f"
           }
          },
          "ternary": {
           "aaxis": {
            "gridcolor": "white",
            "linecolor": "white",
            "ticks": ""
           },
           "baxis": {
            "gridcolor": "white",
            "linecolor": "white",
            "ticks": ""
           },
           "bgcolor": "#E5ECF6",
           "caxis": {
            "gridcolor": "white",
            "linecolor": "white",
            "ticks": ""
           }
          },
          "title": {
           "x": 0.05
          },
          "xaxis": {
           "automargin": true,
           "gridcolor": "white",
           "linecolor": "white",
           "ticks": "",
           "title": {
            "standoff": 15
           },
           "zerolinecolor": "white",
           "zerolinewidth": 2
          },
          "yaxis": {
           "automargin": true,
           "gridcolor": "white",
           "linecolor": "white",
           "ticks": "",
           "title": {
            "standoff": 15
           },
           "zerolinecolor": "white",
           "zerolinewidth": 2
          }
         }
        },
        "title": {
         "text": "Average Rating by Neighborhood"
        },
        "xaxis": {
         "anchor": "y",
         "domain": [
          0,
          1
         ],
         "title": {
          "text": "Neighborhood"
         }
        },
        "yaxis": {
         "anchor": "x",
         "domain": [
          0,
          1
         ],
         "title": {
          "text": "Rates"
         }
        }
       }
      }
     },
     "metadata": {},
     "output_type": "display_data"
    }
   ],
   "source": [
    "fig32 = px.bar(df_avg, x=\"Neighborhood\", y=\"Rates\", \n",
    "             title=\"متوسط التقييم للأحياء\", \n",
    "             color=\"التقييم\", \n",
    "             color_continuous_scale=\"Reds\")\n",
    "\n",
    "fig32.show()"
   ]
  },
  {
   "cell_type": "code",
   "execution_count": null,
   "id": "035ece86",
   "metadata": {},
   "outputs": [],
   "source": [
    "px.bar(df , x=\"Neighborhood\", color=\"Rates\")"
   ]
  },
  {
   "cell_type": "code",
   "execution_count": null,
   "id": "27c608e1",
   "metadata": {},
   "outputs": [],
   "source": [
    "# px.bar(df , x=\"Neighborhood\", color=\"Rates\")"
   ]
  },
  {
   "cell_type": "code",
   "execution_count": null,
   "id": "075cc432",
   "metadata": {},
   "outputs": [
    {
     "data": {
      "text/html": [
       "<div>\n",
       "<style scoped>\n",
       "    .dataframe tbody tr th:only-of-type {\n",
       "        vertical-align: middle;\n",
       "    }\n",
       "\n",
       "    .dataframe tbody tr th {\n",
       "        vertical-align: top;\n",
       "    }\n",
       "\n",
       "    .dataframe thead th {\n",
       "        text-align: right;\n",
       "    }\n",
       "</style>\n",
       "<table border=\"1\" class=\"dataframe\">\n",
       "  <thead>\n",
       "    <tr style=\"text-align: right;\">\n",
       "      <th></th>\n",
       "      <th>url</th>\n",
       "      <th>Name</th>\n",
       "      <th>Rates</th>\n",
       "      <th>Reviews</th>\n",
       "      <th>Type</th>\n",
       "      <th>Phone</th>\n",
       "      <th>Neighborhood</th>\n",
       "      <th>Website</th>\n",
       "      <th>direction</th>\n",
       "      <th>Latitude</th>\n",
       "      <th>Longitude</th>\n",
       "    </tr>\n",
       "  </thead>\n",
       "  <tbody>\n",
       "    <tr>\n",
       "      <th>0</th>\n",
       "      <td>https://www.google.com/maps/place/%D9%85%D8%B1...</td>\n",
       "      <td>مركز الرواد الاذكياء لضيافة الاطفال</td>\n",
       "      <td>4.3</td>\n",
       "      <td>163</td>\n",
       "      <td>حضانة أطفال</td>\n",
       "      <td>050 994 8694</td>\n",
       "      <td>الازدهار</td>\n",
       "      <td>No Website</td>\n",
       "      <td>شمال الرياض</td>\n",
       "      <td>24.775561</td>\n",
       "      <td>46.7219736</td>\n",
       "    </tr>\n",
       "  </tbody>\n",
       "</table>\n",
       "</div>"
      ],
      "text/plain": [
       "                                                 url  \\\n",
       "0  https://www.google.com/maps/place/%D9%85%D8%B1...   \n",
       "\n",
       "                                  Name  Rates  Reviews         Type  \\\n",
       "0  مركز الرواد الاذكياء لضيافة الاطفال    4.3      163  حضانة أطفال   \n",
       "\n",
       "          Phone Neighborhood     Website    direction   Latitude   Longitude  \n",
       "0  050 994 8694     الازدهار  No Website  شمال الرياض  24.775561  46.7219736  "
      ]
     },
     "metadata": {},
     "output_type": "display_data"
    }
   ],
   "source": [
    "df.head(1)"
   ]
  },
  {
   "cell_type": "code",
   "execution_count": null,
   "id": "ac866add",
   "metadata": {},
   "outputs": [],
   "source": [
    "df[\"Latitude\"] = pd.to_numeric(df[\"Latitude\"], errors=\"coerce\")\n",
    "df[\"Longitude\"] = pd.to_numeric(df[\"Longitude\"], errors=\"coerce\")"
   ]
  },
  {
   "cell_type": "code",
   "execution_count": null,
   "id": "e722568f",
   "metadata": {},
   "outputs": [
    {
     "name": "stdout",
     "output_type": "stream",
     "text": [
      "url              object\n",
      "Name             object\n",
      "Rates           float64\n",
      "Reviews           int64\n",
      "Type             object\n",
      "Phone            object\n",
      "Neighborhood     object\n",
      "Website          object\n",
      "direction        object\n",
      "Latitude        float64\n",
      "Longitude       float64\n",
      "dtype: object\n"
     ]
    }
   ],
   "source": [
    "print(df.dtypes)\n"
   ]
  },
  {
   "cell_type": "code",
   "execution_count": null,
   "id": "43dc71df",
   "metadata": {},
   "outputs": [],
   "source": [
    "df = df[df[\"Name\"] != \"Creative Kids Nursery\"]"
   ]
  },
  {
   "cell_type": "code",
   "execution_count": null,
   "id": "a0143378",
   "metadata": {},
   "outputs": [],
   "source": [
    "df = df[df[\"Name\"] != \"مركز الطفل الصغير لضيافة اطفال المنتسوري\"]"
   ]
  },
  {
   "cell_type": "code",
   "execution_count": null,
   "id": "378abe0b",
   "metadata": {},
   "outputs": [],
   "source": [
    "df = df[df[\"Name\"] != \"مركز الورود لضيافة الأطفال\"]"
   ]
  },
  {
   "cell_type": "code",
   "execution_count": null,
   "id": "52b77ce4",
   "metadata": {},
   "outputs": [],
   "source": [
    "df = df[df[\"Name\"] != \"مركز الطفل المتقدم لضيافة الاطفال الاهليه\"]\n",
    "df = df[df[\"Name\"] != \"مركز القرش الصغير لضيافة الاطفال\"]\n",
    "df = df[df[\"Name\"] != \"الروضة الثانية عشر بالدمام\"]\n",
    "df = df[df[\"Name\"] != \"مركز انامل الابداع لضيافة الاطفال\"]"
   ]
  },
  {
   "cell_type": "markdown",
   "id": "626cb84a",
   "metadata": {},
   "source": [
    "مركز الطفل المتقدم لضيافة الاطفال الاهليه\n",
    "مركز القرش الصغير لضيافة الاطفال\n",
    "الروضة الثانية بالدمام\n",
    "مركز انامل الابداع لضيافة الاطفال"
   ]
  },
  {
   "cell_type": "code",
   "execution_count": null,
   "id": "2d3282ae",
   "metadata": {},
   "outputs": [
    {
     "data": {
      "application/vnd.plotly.v1+json": {
       "config": {
        "plotlyServerURL": "https://plot.ly"
       },
       "data": [
        {
         "customdata": [
          [
           4.3,
           163,
           "شمال الرياض"
          ],
          [
           3.8,
           48,
           "شمال الرياض"
          ],
          [
           3.6,
           32,
           "شمال الرياض"
          ],
          [
           4.1,
           81,
           "شمال الرياض"
          ],
          [
           4,
           2,
           "شمال الرياض"
          ],
          [
           3.6,
           25,
           "شمال الرياض"
          ],
          [
           4.1,
           224,
           "شمال الرياض"
          ],
          [
           4.9,
           74,
           "شمال الرياض"
          ],
          [
           4.5,
           43,
           "شمال الرياض"
          ],
          [
           3.9,
           98,
           "شمال الرياض"
          ],
          [
           4.3,
           28,
           "شمال الرياض"
          ],
          [
           4.1,
           40,
           "شمال الرياض"
          ],
          [
           4.5,
           56,
           "شمال الرياض"
          ],
          [
           4.7,
           95,
           "شمال الرياض"
          ],
          [
           4.4,
           84,
           "شمال الرياض"
          ],
          [
           4.1,
           101,
           "شمال الرياض"
          ],
          [
           4,
           51,
           "شمال الرياض"
          ],
          [
           4,
           81,
           "شمال الرياض"
          ],
          [
           4.1,
           25,
           "شمال الرياض"
          ],
          [
           4.4,
           73,
           "شمال الرياض"
          ],
          [
           4,
           81,
           "شمال الرياض"
          ],
          [
           4.4,
           7,
           "شمال الرياض"
          ],
          [
           4.2,
           84,
           "شمال الرياض"
          ],
          [
           5,
           18,
           "شمال الرياض"
          ],
          [
           3.9,
           58,
           "شمال الرياض"
          ],
          [
           4.2,
           24,
           "شمال الرياض"
          ],
          [
           4.5,
           68,
           "شمال الرياض"
          ],
          [
           4.2,
           71,
           "شمال الرياض"
          ],
          [
           4.3,
           24,
           "شمال الرياض"
          ],
          [
           4,
           87,
           "شمال الرياض"
          ],
          [
           4.8,
           25,
           "شمال الرياض"
          ],
          [
           2.5,
           4,
           "شمال الرياض"
          ],
          [
           3.3,
           29,
           "شمال الرياض"
          ],
          [
           4.6,
           34,
           "شمال الرياض"
          ],
          [
           4.7,
           35,
           "شمال الرياض"
          ],
          [
           4.4,
           5,
           "شمال الرياض"
          ],
          [
           5,
           5,
           "شمال الرياض"
          ],
          [
           4.1,
           40,
           "شمال الرياض"
          ],
          [
           3.9,
           28,
           "شمال الرياض"
          ],
          [
           4.8,
           74,
           "شمال الرياض"
          ],
          [
           4.1,
           87,
           "شمال الرياض"
          ],
          [
           4.9,
           32,
           "شمال الرياض"
          ],
          [
           5,
           28,
           "شمال الرياض"
          ],
          [
           3.9,
           29,
           "شمال الرياض"
          ],
          [
           4.4,
           60,
           "شمال الرياض"
          ],
          [
           4.7,
           102,
           "شمال الرياض"
          ],
          [
           4.3,
           198,
           "شمال الرياض"
          ],
          [
           1.7,
           92,
           "شمال الرياض"
          ],
          [
           5,
           1,
           "شمال الرياض"
          ],
          [
           5,
           9,
           "شمال الرياض"
          ],
          [
           4.4,
           21,
           "شمال الرياض"
          ],
          [
           4,
           4,
           "شمال الرياض"
          ],
          [
           4.5,
           60,
           "شمال الرياض"
          ],
          [
           4,
           66,
           "شمال الرياض"
          ],
          [
           4,
           22,
           "شمال الرياض"
          ],
          [
           4.3,
           65,
           "شمال الرياض"
          ],
          [
           4,
           26,
           "شمال الرياض"
          ],
          [
           4,
           1,
           "شمال الرياض"
          ],
          [
           4.4,
           69,
           "شمال الرياض"
          ],
          [
           4.4,
           35,
           "شمال الرياض"
          ],
          [
           4,
           55,
           "شمال الرياض"
          ],
          [
           4.1,
           138,
           "شمال الرياض"
          ],
          [
           4.3,
           284,
           "شمال الرياض"
          ],
          [
           3.8,
           116,
           "شمال الرياض"
          ],
          [
           4.3,
           93,
           "شمال الرياض"
          ],
          [
           4.7,
           52,
           "شمال الرياض"
          ],
          [
           4.2,
           43,
           "شمال الرياض"
          ],
          [
           4.4,
           164,
           "شمال الرياض"
          ],
          [
           2,
           4,
           "شمال الرياض"
          ],
          [
           4.4,
           7,
           "شمال الرياض"
          ],
          [
           4.3,
           6,
           "شمال الرياض"
          ],
          [
           4.5,
           56,
           "شمال الرياض"
          ],
          [
           4,
           115,
           "شمال الرياض"
          ],
          [
           1,
           7,
           "شمال الرياض"
          ],
          [
           4.7,
           42,
           "شمال الرياض"
          ],
          [
           4.8,
           58,
           "شمال الرياض"
          ],
          [
           4.8,
           37,
           "شمال الرياض"
          ],
          [
           3.6,
           38,
           "شمال الرياض"
          ],
          [
           4.7,
           88,
           "شمال الرياض"
          ],
          [
           3.7,
           134,
           "شمال الرياض"
          ],
          [
           4.4,
           26,
           "شمال الرياض"
          ],
          [
           4.6,
           46,
           "شمال الرياض"
          ],
          [
           4.2,
           157,
           "شمال الرياض"
          ],
          [
           5,
           22,
           "شمال الرياض"
          ],
          [
           4.4,
           16,
           "شمال الرياض"
          ],
          [
           4.6,
           67,
           "شمال الرياض"
          ],
          [
           4.5,
           79,
           "شمال الرياض"
          ],
          [
           4.3,
           95,
           "شمال الرياض"
          ],
          [
           5,
           28,
           "شمال الرياض"
          ],
          [
           5,
           28,
           "شمال الرياض"
          ],
          [
           4.3,
           29,
           "شمال الرياض"
          ],
          [
           4.4,
           38,
           "شمال الرياض"
          ],
          [
           4.3,
           50,
           "شمال الرياض"
          ],
          [
           4.3,
           42,
           "شمال الرياض"
          ],
          [
           4.4,
           31,
           "شمال الرياض"
          ],
          [
           3.4,
           20,
           "شمال الرياض"
          ],
          [
           2.7,
           7,
           "شمال الرياض"
          ],
          [
           4,
           82,
           "شمال الرياض"
          ],
          [
           4.2,
           25,
           "شمال الرياض"
          ],
          [
           4.5,
           23,
           "شمال الرياض"
          ],
          [
           4.3,
           26,
           "شمال الرياض"
          ],
          [
           4,
           4,
           "شمال الرياض"
          ],
          [
           4.4,
           57,
           "شمال الرياض"
          ],
          [
           4.4,
           92,
           "شمال الرياض"
          ],
          [
           4.5,
           49,
           "شمال الرياض"
          ],
          [
           3.9,
           29,
           "شمال الرياض"
          ],
          [
           4.4,
           108,
           "شمال الرياض"
          ],
          [
           5,
           7,
           "شمال الرياض"
          ],
          [
           3.9,
           115,
           "شمال الرياض"
          ],
          [
           4.4,
           68,
           "شمال الرياض"
          ],
          [
           5,
           62,
           "شمال الرياض"
          ],
          [
           5,
           21,
           "شمال الرياض"
          ],
          [
           4.6,
           92,
           "شمال الرياض"
          ],
          [
           4.8,
           54,
           "شمال الرياض"
          ],
          [
           4.3,
           59,
           "شمال الرياض"
          ],
          [
           4.1,
           94,
           "شمال الرياض"
          ],
          [
           4.6,
           86,
           "شمال الرياض"
          ],
          [
           5,
           6,
           "شمال الرياض"
          ],
          [
           4.3,
           3,
           "شمال الرياض"
          ],
          [
           3.5,
           107,
           "شمال الرياض"
          ],
          [
           3.8,
           83,
           "شمال الرياض"
          ],
          [
           4.3,
           16,
           "شمال الرياض"
          ],
          [
           4.4,
           23,
           "شمال الرياض"
          ],
          [
           3.8,
           40,
           "شمال الرياض"
          ],
          [
           4.8,
           22,
           "شمال الرياض"
          ],
          [
           4.3,
           51,
           "شمال الرياض"
          ],
          [
           4.3,
           8,
           "شمال الرياض"
          ],
          [
           3.6,
           31,
           "شمال الرياض"
          ],
          [
           5,
           4,
           "شمال الرياض"
          ],
          [
           4.6,
           170,
           "شمال الرياض"
          ],
          [
           4.5,
           35,
           "شمال الرياض"
          ],
          [
           4.5,
           232,
           "شمال الرياض"
          ],
          [
           4.9,
           30,
           "شمال الرياض"
          ],
          [
           4.9,
           62,
           "شمال الرياض"
          ],
          [
           4.4,
           68,
           "شمال الرياض"
          ],
          [
           4.3,
           206,
           "شمال الرياض"
          ],
          [
           4.7,
           467,
           "شمال الرياض"
          ],
          [
           4.2,
           59,
           "شمال الرياض"
          ],
          [
           4.3,
           30,
           "شمال الرياض"
          ],
          [
           3.6,
           20,
           "شمال الرياض"
          ],
          [
           4.3,
           35,
           "شمال الرياض"
          ],
          [
           3.4,
           20,
           "شمال الرياض"
          ],
          [
           4.2,
           204,
           "شمال الرياض"
          ],
          [
           4.9,
           18,
           "شمال الرياض"
          ],
          [
           4.6,
           52,
           "شمال الرياض"
          ],
          [
           4.2,
           51,
           "شمال الرياض"
          ],
          [
           4.6,
           20,
           "شمال الرياض"
          ],
          [
           3.8,
           114,
           "شمال الرياض"
          ],
          [
           3.9,
           91,
           "شمال الرياض"
          ],
          [
           4.8,
           22,
           "شمال الرياض"
          ],
          [
           4.1,
           8,
           "شمال الرياض"
          ],
          [
           4.8,
           30,
           "شمال الرياض"
          ],
          [
           4.2,
           20,
           "شمال الرياض"
          ],
          [
           4.9,
           70,
           "شمال الرياض"
          ],
          [
           2.4,
           5,
           "شمال الرياض"
          ],
          [
           5,
           1,
           "شمال الرياض"
          ],
          [
           4.7,
           32,
           "شمال الرياض"
          ],
          [
           3.7,
           15,
           "شمال الرياض"
          ],
          [
           4.5,
           107,
           "شمال الرياض"
          ],
          [
           3.2,
           51,
           "شرق الرياض"
          ],
          [
           3.2,
           147,
           "شرق الرياض"
          ],
          [
           3.9,
           81,
           "شرق الرياض"
          ],
          [
           4.6,
           32,
           "شرق الرياض"
          ],
          [
           4.5,
           35,
           "شرق الرياض"
          ],
          [
           4.3,
           33,
           "شرق الرياض"
          ],
          [
           4.1,
           24,
           "شرق الرياض"
          ],
          [
           4.4,
           60,
           "شرق الرياض"
          ],
          [
           4.7,
           100,
           "شرق الرياض"
          ],
          [
           2.9,
           13,
           "شرق الرياض"
          ],
          [
           3.9,
           22,
           "شرق الرياض"
          ],
          [
           4.5,
           36,
           "شرق الرياض"
          ],
          [
           4.6,
           104,
           "شرق الرياض"
          ],
          [
           3,
           120,
           "شرق الرياض"
          ],
          [
           5,
           12,
           "شرق الرياض"
          ],
          [
           4.7,
           17,
           "شرق الرياض"
          ],
          [
           3.4,
           5,
           "شرق الرياض"
          ],
          [
           4,
           1,
           "شرق الرياض"
          ],
          [
           4.9,
           11,
           "شرق الرياض"
          ],
          [
           3.5,
           37,
           "شرق الرياض"
          ],
          [
           4.4,
           41,
           "شرق الرياض"
          ],
          [
           4,
           2,
           "شرق الرياض"
          ],
          [
           2.3,
           9,
           "شرق الرياض"
          ],
          [
           4.4,
           29,
           "شرق الرياض"
          ],
          [
           4.9,
           156,
           "شرق الرياض"
          ],
          [
           4.6,
           76,
           "شرق الرياض"
          ],
          [
           4.1,
           99,
           "شرق الرياض"
          ],
          [
           4.6,
           29,
           "شرق الرياض"
          ],
          [
           4.2,
           50,
           "شرق الرياض"
          ],
          [
           5,
           11,
           "شرق الرياض"
          ],
          [
           5,
           2,
           "شرق الرياض"
          ],
          [
           2.3,
           6,
           "شرق الرياض"
          ],
          [
           4,
           14,
           "شرق الرياض"
          ],
          [
           4.3,
           42,
           "شرق الرياض"
          ],
          [
           4,
           4,
           "شرق الرياض"
          ],
          [
           4.8,
           27,
           "شرق الرياض"
          ],
          [
           3.7,
           26,
           "شرق الرياض"
          ],
          [
           5,
           2,
           "شرق الرياض"
          ],
          [
           2.9,
           32,
           "شرق الرياض"
          ],
          [
           4.4,
           62,
           "شرق الرياض"
          ],
          [
           4.6,
           62,
           "شرق الرياض"
          ],
          [
           4.7,
           43,
           "شرق الرياض"
          ],
          [
           4.7,
           37,
           "شرق الرياض"
          ],
          [
           4.7,
           20,
           "شرق الرياض"
          ],
          [
           4.4,
           47,
           "شرق الرياض"
          ],
          [
           4.9,
           49,
           "شرق الرياض"
          ],
          [
           4.9,
           12,
           "شرق الرياض"
          ],
          [
           4.7,
           54,
           "شرق الرياض"
          ],
          [
           5,
           4,
           "شرق الرياض"
          ],
          [
           2.8,
           9,
           "شرق الرياض"
          ],
          [
           4.2,
           39,
           "شرق الرياض"
          ],
          [
           4,
           27,
           "شرق الرياض"
          ],
          [
           4.5,
           22,
           "شرق الرياض"
          ],
          [
           4,
           42,
           "شرق الرياض"
          ],
          [
           4.1,
           70,
           "شرق الرياض"
          ],
          [
           5,
           1,
           "شرق الرياض"
          ],
          [
           2,
           7,
           "شرق الرياض"
          ],
          [
           4.8,
           59,
           "شرق الرياض"
          ],
          [
           4.4,
           209,
           "شرق الرياض"
          ],
          [
           4.3,
           32,
           "شرق الرياض"
          ],
          [
           4.1,
           76,
           "شرق الرياض"
          ],
          [
           4.8,
           126,
           "شرق الرياض"
          ],
          [
           4.9,
           60,
           "شرق الرياض"
          ],
          [
           4.8,
           25,
           "شرق الرياض"
          ],
          [
           5,
           2,
           "شرق الرياض"
          ],
          [
           4.9,
           12,
           "شرق الرياض"
          ],
          [
           3.9,
           19,
           "شرق الرياض"
          ],
          [
           4.1,
           37,
           "شرق الرياض"
          ],
          [
           3.5,
           12,
           "شرق الرياض"
          ],
          [
           4.4,
           66,
           "شرق الرياض"
          ],
          [
           5,
           1,
           "شرق الرياض"
          ],
          [
           1,
           1,
           "شرق الرياض"
          ],
          [
           2.3,
           3,
           "شرق الرياض"
          ],
          [
           3.7,
           6,
           "شرق الرياض"
          ],
          [
           5,
           3,
           "شرق الرياض"
          ],
          [
           3.1,
           126,
           "شرق الرياض"
          ],
          [
           3.6,
           46,
           "شرق الرياض"
          ],
          [
           3.9,
           65,
           "شرق الرياض"
          ],
          [
           4,
           2,
           "شرق الرياض"
          ],
          [
           5,
           2,
           "شرق الرياض"
          ],
          [
           4.9,
           60,
           "شرق الرياض"
          ],
          [
           4.2,
           87,
           "شرق الرياض"
          ],
          [
           4.7,
           22,
           "شرق الرياض"
          ],
          [
           5,
           3,
           "شرق الرياض"
          ],
          [
           4.4,
           41,
           "شرق الرياض"
          ],
          [
           5,
           5,
           "شرق الرياض"
          ],
          [
           5,
           1,
           "شرق الرياض"
          ],
          [
           3.1,
           49,
           "شرق الرياض"
          ],
          [
           4.3,
           35,
           "شرق الرياض"
          ],
          [
           4.3,
           70,
           "شرق الرياض"
          ],
          [
           3.8,
           4,
           "شرق الرياض"
          ],
          [
           3.9,
           17,
           "شرق الرياض"
          ],
          [
           3.4,
           16,
           "شرق الرياض"
          ],
          [
           4.4,
           163,
           "شرق الرياض"
          ],
          [
           4.5,
           29,
           "شرق الرياض"
          ],
          [
           4.4,
           140,
           "شرق الرياض"
          ],
          [
           4.6,
           26,
           "شرق الرياض"
          ],
          [
           4.7,
           32,
           "شرق الرياض"
          ],
          [
           4.5,
           31,
           "شرق الرياض"
          ],
          [
           5,
           21,
           "شرق الرياض"
          ],
          [
           5,
           5,
           "شرق الرياض"
          ],
          [
           3.8,
           8,
           "شرق الرياض"
          ],
          [
           2.3,
           3,
           "شرق الرياض"
          ],
          [
           4.7,
           97,
           "شرق الرياض"
          ],
          [
           4.1,
           124,
           "شرق الرياض"
          ],
          [
           4,
           60,
           "شرق الرياض"
          ],
          [
           4.1,
           93,
           "شرق الرياض"
          ],
          [
           4.8,
           53,
           "شرق الرياض"
          ],
          [
           4.2,
           5,
           "شرق الرياض"
          ],
          [
           4.2,
           6,
           "شرق الرياض"
          ],
          [
           3.2,
           14,
           "شرق الرياض"
          ],
          [
           3,
           2,
           "شرق الرياض"
          ],
          [
           4.1,
           15,
           "شرق الرياض"
          ],
          [
           4.7,
           85,
           "شرق الرياض"
          ],
          [
           2.8,
           34,
           "شرق الرياض"
          ],
          [
           4.2,
           150,
           "شرق الرياض"
          ],
          [
           3.5,
           31,
           "شرق الرياض"
          ],
          [
           4.5,
           55,
           "شرق الرياض"
          ],
          [
           3.5,
           136,
           "شرق الرياض"
          ],
          [
           4.6,
           80,
           "شرق الرياض"
          ],
          [
           3.3,
           124,
           "شرق الرياض"
          ],
          [
           4.7,
           88,
           "شرق الرياض"
          ],
          [
           4.5,
           232,
           "شرق الرياض"
          ],
          [
           4,
           35,
           "شرق الرياض"
          ],
          [
           4.5,
           46,
           "شرق الرياض"
          ],
          [
           4.7,
           262,
           "شرق الرياض"
          ],
          [
           3.8,
           58,
           "شرق الرياض"
          ],
          [
           4.4,
           32,
           "شرق الرياض"
          ],
          [
           4.1,
           67,
           "شرق الرياض"
          ],
          [
           4,
           68,
           "شرق الرياض"
          ],
          [
           4.8,
           66,
           "شرق الرياض"
          ],
          [
           4.5,
           52,
           "شرق الرياض"
          ],
          [
           4.9,
           41,
           "شرق الرياض"
          ],
          [
           3.9,
           37,
           "شرق الرياض"
          ],
          [
           5,
           9,
           "شرق الرياض"
          ],
          [
           3,
           1,
           "شرق الرياض"
          ],
          [
           4.6,
           15,
           "شرق الرياض"
          ],
          [
           4.4,
           77,
           "شرق الرياض"
          ],
          [
           5,
           2,
           "شرق الرياض"
          ],
          [
           4.2,
           16,
           "شرق الرياض"
          ],
          [
           5,
           5,
           "شرق الرياض"
          ],
          [
           5,
           2,
           "شرق الرياض"
          ],
          [
           5,
           2,
           "شرق الرياض"
          ],
          [
           4.6,
           50,
           "شرق الرياض"
          ],
          [
           4.6,
           37,
           "شرق الرياض"
          ],
          [
           4.9,
           37,
           "شرق الرياض"
          ],
          [
           4.8,
           85,
           "شرق الرياض"
          ],
          [
           4.9,
           129,
           "شرق الرياض"
          ],
          [
           4.7,
           85,
           "شرق الرياض"
          ],
          [
           4.1,
           94,
           "شرق الرياض"
          ],
          [
           3.9,
           38,
           "شرق الرياض"
          ],
          [
           4.8,
           57,
           "شرق الرياض"
          ],
          [
           3.6,
           91,
           "شرق الرياض"
          ],
          [
           3,
           4,
           "شرق الرياض"
          ],
          [
           4.1,
           49,
           "شرق الرياض"
          ],
          [
           4.3,
           99,
           "شرق الرياض"
          ],
          [
           4.9,
           16,
           "شرق الرياض"
          ],
          [
           3.5,
           33,
           "شرق الرياض"
          ],
          [
           4.7,
           31,
           "شرق الرياض"
          ],
          [
           3.7,
           30,
           "شرق الرياض"
          ],
          [
           4.1,
           146,
           "شرق الرياض"
          ],
          [
           4.1,
           49,
           "شرق الرياض"
          ],
          [
           5,
           7,
           "شرق الرياض"
          ],
          [
           4.3,
           4,
           "شرق الرياض"
          ],
          [
           5,
           1,
           "شرق الرياض"
          ],
          [
           3.2,
           102,
           "شرق الرياض"
          ],
          [
           2.3,
           9,
           "شرق الرياض"
          ],
          [
           3.3,
           75,
           "شرق الرياض"
          ],
          [
           3.9,
           162,
           "شرق الرياض"
          ],
          [
           4.1,
           64,
           "شرق الرياض"
          ],
          [
           2.4,
           5,
           "شرق الرياض"
          ],
          [
           3.8,
           6,
           "شرق الرياض"
          ],
          [
           3.5,
           76,
           "شرق الرياض"
          ],
          [
           1,
           2,
           "شرق الرياض"
          ],
          [
           3.8,
           13,
           "شرق الرياض"
          ],
          [
           4.5,
           149,
           "شرق الرياض"
          ],
          [
           4.1,
           25,
           "شرق الرياض"
          ],
          [
           3.6,
           32,
           "شرق الرياض"
          ],
          [
           2.2,
           11,
           "شرق الرياض"
          ],
          [
           3,
           10,
           "شرق الرياض"
          ],
          [
           4.5,
           74,
           "شرق الرياض"
          ],
          [
           4.4,
           72,
           "شرق الرياض"
          ],
          [
           3.9,
           66,
           "شرق الرياض"
          ],
          [
           4.8,
           101,
           "شرق الرياض"
          ],
          [
           5,
           7,
           "شرق الرياض"
          ],
          [
           4.4,
           102,
           "شرق الرياض"
          ],
          [
           3.5,
           2,
           "شرق الرياض"
          ],
          [
           3.6,
           9,
           "شرق الرياض"
          ],
          [
           3.5,
           35,
           "شرق الرياض"
          ],
          [
           4.1,
           39,
           "شرق الرياض"
          ],
          [
           3.9,
           21,
           "شرق الرياض"
          ],
          [
           4.5,
           152,
           "شرق الرياض"
          ],
          [
           5,
           11,
           "شرق الرياض"
          ],
          [
           4.5,
           17,
           "شرق الرياض"
          ],
          [
           3.7,
           18,
           "شرق الرياض"
          ],
          [
           3.7,
           20,
           "شرق الرياض"
          ],
          [
           5,
           1,
           "شرق الرياض"
          ],
          [
           2.5,
           28,
           "شرق الرياض"
          ],
          [
           4.2,
           40,
           "شرق الرياض"
          ],
          [
           5,
           2,
           "شرق الرياض"
          ],
          [
           2.2,
           5,
           "شرق الرياض"
          ],
          [
           4.8,
           8,
           "شرق الرياض"
          ],
          [
           4,
           4,
           "شرق الرياض"
          ],
          [
           4,
           17,
           "شرق الرياض"
          ],
          [
           4.1,
           8,
           "شرق الرياض"
          ],
          [
           4.6,
           13,
           "شرق الرياض"
          ],
          [
           3,
           2,
           "شرق الرياض"
          ],
          [
           3.7,
           3,
           "شرق الرياض"
          ],
          [
           3.5,
           11,
           "شرق الرياض"
          ],
          [
           2.5,
           2,
           "شرق الرياض"
          ],
          [
           4.8,
           37,
           "شرق الرياض"
          ],
          [
           2.8,
           34,
           "شرق الرياض"
          ],
          [
           4.6,
           78,
           "شرق الرياض"
          ],
          [
           5,
           1,
           "شرق الرياض"
          ],
          [
           4.6,
           58,
           "شرق الرياض"
          ],
          [
           4.4,
           88,
           "شرق الرياض"
          ],
          [
           4,
           6,
           "شرق الرياض"
          ],
          [
           3.9,
           95,
           "غرب الرياض"
          ],
          [
           3.7,
           70,
           "غرب الرياض"
          ],
          [
           4.6,
           15,
           "غرب الرياض"
          ],
          [
           4.1,
           71,
           "غرب الرياض"
          ],
          [
           4.1,
           15,
           "غرب الرياض"
          ],
          [
           4.6,
           64,
           "غرب الرياض"
          ],
          [
           3.9,
           101,
           "غرب الرياض"
          ],
          [
           4.8,
           113,
           "غرب الرياض"
          ],
          [
           3.2,
           57,
           "غرب الرياض"
          ],
          [
           3.9,
           10,
           "غرب الرياض"
          ],
          [
           3.1,
           34,
           "غرب الرياض"
          ],
          [
           4.7,
           55,
           "غرب الرياض"
          ],
          [
           4.3,
           114,
           "غرب الرياض"
          ],
          [
           5,
           2,
           "غرب الرياض"
          ],
          [
           4.3,
           75,
           "غرب الرياض"
          ],
          [
           5,
           5,
           "غرب الرياض"
          ],
          [
           4.2,
           33,
           "غرب الرياض"
          ],
          [
           3.6,
           21,
           "غرب الرياض"
          ],
          [
           3.9,
           22,
           "غرب الرياض"
          ],
          [
           4.2,
           69,
           "غرب الرياض"
          ],
          [
           4.5,
           128,
           "غرب الرياض"
          ],
          [
           4,
           99,
           "غرب الرياض"
          ],
          [
           3,
           6,
           "غرب الرياض"
          ],
          [
           4.4,
           569,
           "غرب الرياض"
          ],
          [
           3.9,
           59,
           "غرب الرياض"
          ],
          [
           2,
           1,
           "غرب الرياض"
          ],
          [
           3,
           1,
           "غرب الرياض"
          ],
          [
           4.1,
           88,
           "غرب الرياض"
          ],
          [
           4.8,
           28,
           "غرب الرياض"
          ],
          [
           4.5,
           142,
           "غرب الرياض"
          ],
          [
           4.7,
           193,
           "غرب الرياض"
          ],
          [
           3.9,
           27,
           "غرب الرياض"
          ],
          [
           5,
           1,
           "غرب الرياض"
          ],
          [
           5,
           11,
           "غرب الرياض"
          ],
          [
           4.6,
           11,
           "غرب الرياض"
          ],
          [
           4.3,
           78,
           "غرب الرياض"
          ],
          [
           3.2,
           21,
           "غرب الرياض"
          ],
          [
           5,
           1,
           "غرب الرياض"
          ],
          [
           3.5,
           2,
           "غرب الرياض"
          ],
          [
           3.4,
           27,
           "غرب الرياض"
          ],
          [
           3.6,
           24,
           "غرب الرياض"
          ],
          [
           3.9,
           33,
           "غرب الرياض"
          ],
          [
           4.8,
           67,
           "غرب الرياض"
          ],
          [
           3.4,
           68,
           "غرب الرياض"
          ],
          [
           4.7,
           126,
           "غرب الرياض"
          ],
          [
           4.8,
           16,
           "غرب الرياض"
          ],
          [
           4.3,
           65,
           "غرب الرياض"
          ],
          [
           4.8,
           16,
           "غرب الرياض"
          ],
          [
           4.5,
           23,
           "غرب الرياض"
          ],
          [
           4.8,
           24,
           "غرب الرياض"
          ],
          [
           4.8,
           20,
           "غرب الرياض"
          ],
          [
           4.9,
           25,
           "غرب الرياض"
          ],
          [
           4.2,
           36,
           "غرب الرياض"
          ],
          [
           3.5,
           34,
           "غرب الرياض"
          ],
          [
           4.3,
           8,
           "غرب الرياض"
          ],
          [
           4.5,
           8,
           "غرب الرياض"
          ],
          [
           5,
           1,
           "غرب الرياض"
          ],
          [
           4.4,
           49,
           "غرب الرياض"
          ],
          [
           4.1,
           140,
           "غرب الرياض"
          ],
          [
           5,
           2,
           "غرب الرياض"
          ],
          [
           4.7,
           3,
           "غرب الرياض"
          ],
          [
           4.3,
           12,
           "غرب الرياض"
          ],
          [
           4.2,
           51,
           "غرب الرياض"
          ],
          [
           3.4,
           27,
           "غرب الرياض"
          ],
          [
           2.7,
           7,
           "غرب الرياض"
          ],
          [
           4.4,
           64,
           "غرب الرياض"
          ],
          [
           4,
           3,
           "غرب الرياض"
          ],
          [
           4.1,
           9,
           "غرب الرياض"
          ],
          [
           2.9,
           15,
           "غرب الرياض"
          ],
          [
           3.8,
           6,
           "غرب الرياض"
          ],
          [
           1,
           1,
           "غرب الرياض"
          ],
          [
           5,
           1,
           "غرب الرياض"
          ],
          [
           4.5,
           36,
           "غرب الرياض"
          ],
          [
           4.2,
           247,
           "غرب الرياض"
          ],
          [
           5,
           1,
           "غرب الرياض"
          ],
          [
           3.8,
           85,
           "غرب الرياض"
          ],
          [
           4.4,
           78,
           "غرب الرياض"
          ],
          [
           4.5,
           28,
           "غرب الرياض"
          ],
          [
           4.1,
           49,
           "غرب الرياض"
          ],
          [
           4.3,
           37,
           "غرب الرياض"
          ],
          [
           4.6,
           87,
           "غرب الرياض"
          ],
          [
           3.7,
           40,
           "غرب الرياض"
          ],
          [
           4.2,
           300,
           "غرب الرياض"
          ],
          [
           5,
           30,
           "غرب الرياض"
          ],
          [
           4.5,
           2,
           "غرب الرياض"
          ],
          [
           4.9,
           30,
           "غرب الرياض"
          ],
          [
           4.8,
           23,
           "غرب الرياض"
          ],
          [
           4.4,
           55,
           "غرب الرياض"
          ],
          [
           5,
           17,
           "غرب الرياض"
          ],
          [
           4.3,
           96,
           "غرب الرياض"
          ],
          [
           4.4,
           16,
           "غرب الرياض"
          ],
          [
           4.6,
           22,
           "غرب الرياض"
          ],
          [
           5,
           4,
           "غرب الرياض"
          ],
          [
           4.6,
           8,
           "غرب الرياض"
          ],
          [
           3.1,
           20,
           "غرب الرياض"
          ],
          [
           3,
           2,
           "غرب الرياض"
          ],
          [
           3.5,
           25,
           "غرب الرياض"
          ],
          [
           4.4,
           19,
           "غرب الرياض"
          ],
          [
           3.8,
           40,
           "غرب الرياض"
          ],
          [
           1.8,
           5,
           "غرب الرياض"
          ],
          [
           4.1,
           168,
           "غرب الرياض"
          ],
          [
           4.4,
           92,
           "غرب الرياض"
          ],
          [
           3.2,
           41,
           "غرب الرياض"
          ],
          [
           4.7,
           57,
           "غرب الرياض"
          ],
          [
           5,
           18,
           "غرب الرياض"
          ],
          [
           1,
           4,
           "غرب الرياض"
          ],
          [
           4.4,
           49,
           "غرب الرياض"
          ],
          [
           3.9,
           42,
           "غرب الرياض"
          ],
          [
           1,
           2,
           "غرب الرياض"
          ],
          [
           4.3,
           3,
           "غرب الرياض"
          ],
          [
           3.9,
           15,
           "غرب الرياض"
          ],
          [
           3.7,
           15,
           "غرب الرياض"
          ],
          [
           3,
           6,
           "غرب الرياض"
          ],
          [
           3.5,
           8,
           "غرب الرياض"
          ],
          [
           4.5,
           24,
           "غرب الرياض"
          ],
          [
           4.3,
           13,
           "غرب الرياض"
          ],
          [
           3.6,
           160,
           "غرب الرياض"
          ],
          [
           3.5,
           19,
           "غرب الرياض"
          ],
          [
           4.1,
           13,
           "غرب الرياض"
          ],
          [
           4.5,
           8,
           "غرب الرياض"
          ],
          [
           3.8,
           51,
           "غرب الرياض"
          ],
          [
           4.4,
           39,
           "غرب الرياض"
          ],
          [
           4.5,
           47,
           "غرب الرياض"
          ],
          [
           4.9,
           51,
           "غرب الرياض"
          ],
          [
           3.6,
           59,
           "غرب الرياض"
          ],
          [
           3.9,
           56,
           "غرب الرياض"
          ],
          [
           3,
           23,
           "غرب الرياض"
          ],
          [
           3.1,
           13,
           "غرب الرياض"
          ],
          [
           4.5,
           145,
           "غرب الرياض"
          ],
          [
           5,
           1,
           "غرب الرياض"
          ],
          [
           5,
           1,
           "غرب الرياض"
          ],
          [
           4.3,
           33,
           "غرب الرياض"
          ],
          [
           3.6,
           19,
           "غرب الرياض"
          ],
          [
           4.8,
           25,
           "جنوب الرياض"
          ],
          [
           4.8,
           42,
           "جنوب الرياض"
          ],
          [
           4.7,
           58,
           "جنوب الرياض"
          ],
          [
           5,
           12,
           "جنوب الرياض"
          ],
          [
           3.6,
           9,
           "جنوب الرياض"
          ],
          [
           3.6,
           40,
           "جنوب الرياض"
          ],
          [
           2.9,
           25,
           "جنوب الرياض"
          ],
          [
           3.5,
           2,
           "جنوب الرياض"
          ],
          [
           5,
           5,
           "جنوب الرياض"
          ],
          [
           4.3,
           3,
           "جنوب الرياض"
          ],
          [
           4.3,
           153,
           "جنوب الرياض"
          ],
          [
           4.6,
           17,
           "جنوب الرياض"
          ],
          [
           2.5,
           42,
           "جنوب الرياض"
          ],
          [
           4.5,
           48,
           "جنوب الرياض"
          ],
          [
           5,
           4,
           "جنوب الرياض"
          ],
          [
           4.1,
           10,
           "جنوب الرياض"
          ],
          [
           4.7,
           94,
           "جنوب الرياض"
          ],
          [
           4.9,
           17,
           "جنوب الرياض"
          ],
          [
           2.8,
           27,
           "جنوب الرياض"
          ],
          [
           4.4,
           20,
           "جنوب الرياض"
          ],
          [
           2.8,
           9,
           "جنوب الرياض"
          ],
          [
           1.3,
           4,
           "جنوب الرياض"
          ],
          [
           4.4,
           95,
           "جنوب الرياض"
          ],
          [
           4.4,
           23,
           "جنوب الرياض"
          ],
          [
           2.8,
           6,
           "جنوب الرياض"
          ],
          [
           4.5,
           92,
           "جنوب الرياض"
          ],
          [
           3.3,
           6,
           "جنوب الرياض"
          ],
          [
           5,
           8,
           "جنوب الرياض"
          ],
          [
           3,
           3,
           "جنوب الرياض"
          ],
          [
           3.6,
           7,
           "جنوب الرياض"
          ],
          [
           5,
           14,
           "جنوب الرياض"
          ],
          [
           4.5,
           16,
           "جنوب الرياض"
          ],
          [
           3,
           2,
           "جنوب الرياض"
          ],
          [
           4,
           4,
           "جنوب الرياض"
          ],
          [
           3.8,
           13,
           "جنوب الرياض"
          ],
          [
           5,
           1,
           "جنوب الرياض"
          ],
          [
           1.5,
           2,
           "جنوب الرياض"
          ],
          [
           5,
           8,
           "جنوب الرياض"
          ],
          [
           3.8,
           58,
           "جنوب الرياض"
          ],
          [
           3.7,
           9,
           "جنوب الرياض"
          ],
          [
           5,
           1,
           "جنوب الرياض"
          ],
          [
           4.7,
           18,
           "جنوب الرياض"
          ],
          [
           4.1,
           27,
           "جنوب الرياض"
          ],
          [
           3.9,
           59,
           "جنوب الرياض"
          ],
          [
           3.4,
           19,
           "جنوب الرياض"
          ],
          [
           3.7,
           3,
           "جنوب الرياض"
          ],
          [
           5,
           2,
           "جنوب الرياض"
          ],
          [
           4.9,
           14,
           "جنوب الرياض"
          ],
          [
           5,
           2,
           "جنوب الرياض"
          ],
          [
           1.9,
           9,
           "جنوب الرياض"
          ],
          [
           2.7,
           7,
           "جنوب الرياض"
          ],
          [
           5,
           1,
           "جنوب الرياض"
          ],
          [
           5,
           1,
           "جنوب الرياض"
          ],
          [
           4.1,
           66,
           "جنوب الرياض"
          ],
          [
           5,
           46,
           "جنوب الرياض"
          ],
          [
           4.2,
           40,
           "جنوب الرياض"
          ],
          [
           4.4,
           17,
           "جنوب الرياض"
          ],
          [
           5,
           2,
           "جنوب الرياض"
          ],
          [
           4.5,
           158,
           "جنوب الرياض"
          ]
         ],
         "hovertemplate": "<b>%{hovertext}</b><br><br>Latitude=%{lat}<br>Longitude=%{lon}<br>Rates=%{customdata[0]}<br>Reviews=%{customdata[1]}<br>direction=%{customdata[2]}<extra></extra>",
         "hovertext": [
          "مركز الرواد الاذكياء لضيافة الاطفال",
          "مركز شجرة العلم لضيافة الاطفال",
          "مركز اشبال الغد لضيافة",
          "مركز نجوم صغيرة لضيافة الأطفال حي غرناطة",
          "حضانة فتافيت السكر المنزليه",
          "مدرسة الروضة 59",
          "حضانة بيتي الثاني",
          "مركز جود لضيافة الاطفال",
          "ركن الطفل حضانة ورياض أطفال",
          "حضانة غيمة",
          "الروضة 14 بحي العقيق",
          "روضة براعم الاجيال الاهلية",
          "Bambino حضانة بامبينو",
          "مركز اركان النمو للرعاية النهارية",
          "حضانة عالم النهار",
          "مدارس الموسوعة الرائدة الأهلية",
          "مدرسة غدي المشرق الأهلية",
          "مدرسة راية الابداع العالمية بالنظام المنتسوري",
          "مدرسة شخصيتي المبدعة",
          "روضة ٧١",
          "مدارس النخلة الأهلية",
          "مركزالحديقة الحية لضيافة الاطفال حي النرجس",
          "مركز نمو المعرفة لضيافة الأطفال",
          "حضانه ايمي",
          "مركز الحديقة الحيه لضيافة الاطفال ( مسار وطني وعالمي) حضانة و روضة و نادي بعد المدرسة",
          "حضانة بيت الطفل",
          "روضة و حضانة مدينة الطفل الاهلية - العارض",
          "مركز عالم الطفل لضيافة الأطفال",
          "مركز رحلة الطفولة لضيافة الأطفال الأهلية",
          "روضة دوحة المجد الأهلية",
          "مركز فصل الربيع لضيافة الأطفال",
          "حضانة أطفال",
          "حضانة بيتي الدافئ",
          "مركز تكبر معانا لضيافة الاطفال الأهلية",
          "المكان الأفضل لحضانة الأطفال",
          "مركز فراشات القيروان لضيافة الأطفال",
          "مركز الأطفال في توجان كمباوند",
          "مركز تدريب معلمات رياض الأطفال بالرياض",
          "روضة جنة الريم",
          "مركز براعم النخيل للأطفال - المصيف",
          "روضة و حضانة التعليم الممتع",
          "حضانه منزليه للأطفال - الرياض",
          "مركز براعم المصيف ( زهور المصيف)",
          "حضانه المروج",
          "WeCare Nursery & Kindergarten",
          "حضانة و روضة منطقة النجوم لضيافة الأطفال",
          "مركز الأيدي الصغيرة لضيافة الأطفال",
          "رمال الطفل",
          "حضانة",
          "حضانة الاصدقاء الصغار",
          "حضانة هابنيس 2",
          "Kid’s day care",
          "حضانة الأصدقاء المرحون",
          "أكاديمية الصغار",
          "روضة قدراتي العالمية",
          "مدارس الدرة الاهلية",
          "مركز زهرة البنفسج لضيافة الأطفال - Violet Center fo Children Hospitality",
          "Super kids Academy",
          "مركز رعاية الصغار",
          "مركز القرية الصغيرة لضيافة الاطفال فرع النفل",
          "مركز نجوم صغيرة لضيافة الأطفال",
          "مركز قلعة الصغار لضيافة الأطفال الأهلية",
          "مركز بيت أمي - ضيافة أطفال",
          "المنار لضيافة الأطفال ( حضانة - روضة )",
          "مركز مران لضيافة الأطفال الأهلية",
          "دافدلز كيدز",
          "مركز أمنيتي الصغيرة لضيافة الاطفال",
          "روضة أنير الاهلية",
          "حضانة كون",
          "حضانة توت تفاح لضيافة الأطفال فرع النرجس",
          "مركز صفوة الأجيال لرعاية الأطفال",
          "مدارس تعلم العالمية",
          "مدارس العناية الأهلية",
          "ccc حضانة كرز وتوت - مركز",
          "روضة حيتان المستقبل حضانه اطفال",
          "حضانة و روضة دوح لضيافة الاطفال",
          "مركز حيتان المستقبل لضيافة الاطفال",
          "حضانه LEADERS CLOUD",
          "مركز تكوين لضيافة الأطفال فرع النخيل",
          "مركز براعم النخيل للأطفال - النخيل",
          "حضانة وقت العلم",
          "مركز الوان الربيع لضيافة الأطفال",
          "Success International School",
          "مركز دانة الافكار لضيافة الاطفال",
          "مركز براعم النخيل للاطفال",
          "مدارس رياض الأنطلاقة - فرع الربيع",
          "سبعة صباحًا لضيافة الأطفال",
          "حضانة تطور الطفل",
          "البلدة الصغيرة لضيافة الأطفال | Tiny town Daycare",
          "مركز بيتي الصغير لحضانة الأطفال My Little Home Daycare",
          "مركز كواكب مضيئة لضيافة الاطفال Luminous Planet Center",
          "روضة البراعم ( دار نوره الغنام )",
          "حضانة المظلة الصغيرة",
          "مركز قلب أم لحضانة الأطفال",
          "البراعم المتميزون",
          "روضه مدينه الأمير سلطان",
          "PSMMC Nursery and kindergarten الحضانة والروضة",
          "مركز القرية الصغيرة لضيافة الاطفال",
          "الروضة 140",
          "الروضة ١٦١ بحي التعاون",
          "حضانة النمو الآمن",
          "المهارة الأولى لحضانة الأطفال",
          "مركز إضاءات لضيافة الأطفال",
          "مركز بسمات الطفولة لضيافة الاطفال الأهلية",
          "سحابة طفلي لحضانة الاطفال",
          "الروضة 141 بحي الوادي",
          "روضة أجيال النخبة",
          "مركز أطفال",
          "مركز ترانيم الطفولة لضيافة الأطفال الأهلية",
          "Al-Irfan International School",
          "Little Hands Kindergarten حضانة حنان المطيري",
          "ضيافة أطفال منزلية ( وريف) التعليمية",
          "حضانة و روضة تلال المرح",
          "مركز كوكب الإبداع لضيافة الأطفال الأهلية",
          "خطوات النمو",
          "حضانة إثراء المعرفة",
          "مركز قرات الأعين لضيافة الأطفال الأهلية",
          "حضانة كرز وتوت لضيافة الاطفال-الياسمين",
          "حضانة عالم الألوان",
          "روضة براعم رواد الخليج الدولية",
          "روضة واو",
          "كينز",
          "روضة الياسمين-أهلية تتبع جامع أبوحيمد",
          "مركز عصافير حطين",
          "حضانة مظلة الأمل المنزليه",
          "مركز نقطة لعب لضيافة الأطفال",
          "ملتقى الاصدقاء",
          "حضانة محطة الطفل لضيافة الاطفال",
          "قرة لحضانة الأطفال - مركز الملك سلمان الإجتماعي | Qurrah Daycare - KSSC",
          "مركز موسوعة الطفولة لضيافة الاطفال",
          "الروضة 135 - المدينة الجامعية للطالبات - رياض اطفال",
          "حضانة تكوين",
          "حضانة هيا نبدأ",
          "مدينة السعادة للترفيه - ترفيه + حضانه",
          "حضانة بدايات",
          "مدرسة هنا لنكبر العالمية - حضانة اطفال",
          "حضانة بيتي الثاني",
          "الشاملة مونتيسوري",
          "روضة سهيل الطفولة الاهلية",
          "روضة 24",
          "حضانة براعم الملقا للاطفال",
          "حضانة Almalqa Village Nursery",
          "مدرسة روضة واحة الغد فرع الملقا",
          "مركز عناقيد الأمل لضيافة الأطفال",
          "مركز رامة ضيافة الأطفال",
          "Bedayaat Nursery Al Malqa1-حضانة بدايات الملقا1",
          "Bedayaat Nursery Al Malqa 2-حضانة بدايات الملقا 2",
          "روضة براعم رواد الخليج العالمية",
          "قرة لحضانة الأطفال",
          "حضانة براعم الاستكشاف - صفا الملقا | Exploration Sprouts Daycare - Safa Al malqa",
          "الروضة الثالثة و الثلاثون 33",
          "مركز ناشئون ضيافة الأطفال",
          "روضة أرض الطفولة الأهلية",
          "Stability Center - مركز ستابيلتي",
          "سباركيز اكاديمى",
          "Malqa",
          "قرة لحضانة الأطفال - مجمع غرناطة التجاري | Qurrah Daycare - Granada Mall",
          "حضانة القدس",
          "مركز زينة الدنيا لضيافة الأطفال",
          "كرز وتوت",
          "مدارس الشمس الاهلية - مبنى 2",
          "مركز عالم سما لضيافة الاطفال (فرع الفيحاء)",
          "الروضة 148",
          "حضانه الأطفال الأهلية أنهار العلم",
          "حضانه لتين الطفولة للضيافة الاطفال",
          "الروضة ١٦٥",
          "LEADERS CLOUD حضانة",
          "مدارس رياض العلم",
          "مدرسة روضة 55",
          "Bedayaat Nursery Ishbilia - حضانة بدايات اشبيليا",
          "حضانة كيدز بارك الجزيرة",
          "مركز أحضان لضيافة الاطفال",
          "مركز السوسن لضيافة الاطفال",
          "جزيرة الصغار الضيافة الأطفال مدعوم من قرة",
          "الروضة 68",
          "حضانة نجوم الجزيرة",
          "حضانة طفل الجزيرة",
          "حضانه ميلاد",
          "مركز نحو القمة لضيافة الأطفال",
          "اسيل الطفولة فرع المعالي",
          "روضه",
          "الروضة 99 بنات",
          "مدرسة منيرة بنت عبدالله الرويتع النسائية",
          "حضانة نماء الطفل",
          "منتسورى هاوس",
          "حضانة النخبة للطفولة",
          "مركز أبنائي الغالين لضيافة الأطفال",
          "مركز ألواني ضيافة أطفال",
          "غيمة المستقبل لضيافة الأطفال",
          "حضانة سنابل كيدز",
          "روضة المخترع الصغير",
          "روضه الفلاح",
          "مركز حضانة اهتمام أم الأهلي لضيافة الأطفال",
          "مركز اشراقة البراعم التعليمي",
          "مدارس منارات الخليج العالمية",
          "الروضة 64",
          "تم الافتتاح the first step حضانة منزلية للاطفال",
          "الروضة الثانية",
          "بيت السعادة لضيافة الأطفال",
          "حضانة أحباب الرحمن",
          "حضانة الاطفال الاذكياء",
          "حضانة عالم دلال",
          "سبعة صباحاً لضيافة الأطفال المونسية",
          "حظانه طفلي السعيد",
          "مركز بنفسج لضيافة الاطفال الأهلية",
          "مركز بداية خطوة",
          "حضانة و روضة الملهمون الصغار الأهلية",
          "مركز خطوتي الجميلة لضيافة الأطفال",
          "حضانه مسائية",
          "Smart Kids Montessori - Al Reem Compound",
          "روضة يوم جديد (دار تحفيظ)",
          "حضانة وطن الصغار",
          "مركز وادي المعرفة لضيافة الأطفال",
          "مركز مجرة الطفل",
          "حضانة بتوتي",
          "حضانة",
          "مركز نخبة المستقبل لضيافة الاطفال الأهلية",
          "روضة عباقرة الرياض للاطفال",
          "حضانة سحاب",
          "حضانه لتين الطفولة لضيافة الاطفال",
          "مركز قادة المنار",
          "مركز عناية الطفل لضيافة الأطفال",
          "مركز حنان الطفل",
          "مركز شروق المعرفة لضيافة الأطفال الأهلية فرع 1",
          "الروضة ٤٤ بنات ب حي النظيم",
          "الروضة 105",
          "أسيل الطفولة فرع السويلمي",
          "الروضة 215",
          "اسيل الطفوله فرع سلطانه",
          "كلكم جايين من التيك توك",
          "مركز عبير الطفولة لضيافة الأطفال",
          "مدرسة روضة تمهيدي النظيم",
          "روضة حي النظيم",
          "مركز سحاب لرعايه الأطفال",
          "مدارس الإبداع الأهلية بحي الندوة",
          "مدارس راية الطفولة لرياض الاطفال والمرحلة الابتدائية",
          "براعم الندوة الأهلية",
          "روضه سما الشام لرعاية الاطفال",
          "روضة أرضّ الطفولة الأهلية",
          "مركز ايادي مبدعة",
          "إبداع الصغار لضيافة الأطفال(حضانه -روضه - دمج -جلسات تنميه مهارات )",
          "روضة عباقرة الرياض فرع الشروق",
          "مركز سنابل الشرق لضيافة الأطفال",
          "Bedayaat Nursery Al Nahda- حضانة بدايات النهضة",
          "Little inventor academy",
          "حضانة",
          "روضة و حضانة رؤية الطفولة",
          "مدارس براعم الرياحين الاهلية",
          "داري الصغيرة لضيافة الأطفال",
          "روضة القيروان",
          "الروضة 102",
          "مركز حكاية عبير لحضانة الأطفال",
          "مدرسة رواد المجد الأهلية روضة - تمهيدي - إبتدائي بنات",
          "حضانة أحباب الرحمن (القادسيه )",
          "مركز ثمار الغد لضيافة الاطفال",
          "روضة بهيج لضيافة الأطفال",
          "روضة واحة طفلي",
          "روضة ثمار الغد (روضة، حضانة )",
          "روضة وادي الأمان",
          "حضانة أحباب الرحمن 2",
          "مدرسة روضه وتمهيدي اقراء ودار تحفيظ",
          "روضة أقراؤ",
          "مركز عوامل النجاح ضيافة الاطفال الاهلية حضانة",
          "مكعبات ضيافة أطفال",
          "حضانة هابينيس لضيافة الاطفال",
          "Bedayaat Nursery َQurtoba - حضانة بدايات قرطبة",
          "حضانة حكاية طفل",
          "حضانة براعم الاستكشاف - المحمل قرطبة | Exploration Sprouts Daycare - AlMahmal Qurtubah",
          "حضانة المستقبل",
          "حضانة اطفال",
          "روضة ابن رشد قرطبة",
          "Kindergarten seventh",
          "مركز واحة المرح لضيافة الأطفال الأهلية",
          "Kindergarten and tomorrow's new Children's Center",
          "Basmat Al-Anoud International School",
          "مدارس الاوائل الأهلية ابتدائي",
          "مدرسة الهداية النسائية لتحفيظ القرآن الكريم",
          "Atyab Schools - Boys",
          "دار الروابي النسائي",
          "Atyab Schools - Girls",
          "مركز تكوين لضيافة الأطفال فرع النخيل",
          "مركز تكوين لضيافة الأطفال فرع الرائد",
          "Siwar",
          "Social care center in Rabwa",
          "ارض الاحلام لضيافة الاطفال",
          "مركز بستان الطفولة لضيافة الأطفال الأهلية",
          "عباقرة المعرفه",
          "مركز بيت البراعم للأطفال",
          "مركز طفل المعرفة لضيافة الاطفال",
          "مركز مهارة و علم لضيافة الأطفال",
          "مدرسة رمال العلم الأهليه",
          "روضة اتقان المعرفة لضيافة الاطفال",
          "هابي دي لضيافة الأطفال",
          "مركز وحضانة سما الورد لضيافة الأطفال",
          "حضانة منزلية",
          "مركز أحضان آمنه لضيافة اللأطفال الأهلية",
          "مدرسة تنال الأهلية",
          "حضانة كوكب الطفل",
          "Kids Corner Montessori kindergarten كيدز كورنير ضيافة الأطفال",
          "مركز عالم دلال",
          "مركز شروق المعرفه لضيافة الأطفال الأهليه",
          "حضانه منزليه",
          "مركز أغصان لضيافة الاطفال المنزلية",
          "مركز ضيافة نصنع الغد",
          "مركز عالم مودة لضيافة الأطفال",
          "مركز مدارك الطفل الأولى لضيافة الاطفال",
          "مركز سماء ونجوم لضيافة الأطفال",
          "مركز واحة المرح لضيافة الأطفال الأهلية",
          "......",
          "مركز الفراشات الصغيره لضيافه الاطفال",
          "مركز قطرة الندى لضيافة الأطفال",
          "مدارس اجيال المرح الاهلية",
          "مجموعة الطفل العبقري",
          "روضة 60",
          "روضة حكاية غرس الأهلية",
          "مركز مياسم ضيافة الأطفال الأهلية",
          "المدرسة الروضة ٢٦ بنات",
          "مركز طفلي الموهوب لضيافة الاطفال",
          "روضة إشبيلية",
          "نحو القمة لضيافة الاطفال",
          "مركز حديقة الطفل لضيافة الاطفال",
          "مركز ضياء المستقبل لضيافة الاطفال",
          "مركز قطار الحروف لضيافة الأطفال",
          "جيل جديد لضيافة الاطفال",
          "الروضة الرائدة للأطفال",
          "مركز أرض الطفولة إشبيليا",
          "مدارس اطفال الشروق الأهلية",
          "مدرسة سرايا الأطفال العالمية",
          "الروضة 194",
          "الروضه ٦٩",
          "مدرسة أشبيليا لتحفيظ القرأن الكريم للفتاة",
          "مدارس اشبيليا الأهلية للبنات",
          "روضة أطفال",
          "Ishbilia Kindergarten",
          "مدرسة بقعة التفكير الأهلية",
          "حضانة بدايات",
          "الروضه ١٥٥",
          "مدرسة ٥٤ رياض أطفال",
          "روضة 54",
          "مركز توته لضيافة الأطفال",
          "حضانة السنوات الاولى",
          "مملكة الطفل ضيافة الاطفال الأهلية",
          "روضة البيان",
          "الروضة ١٥٢",
          "مركز طفل المستقبل",
          "روضة الفيصلية",
          "روضة ركن العباقرة لضيافة الأطفال",
          "الروضة ٢٣",
          "مركز عالم سما لضيافة الأطفال (فرع السلام)",
          "الروضة ٢١٤",
          "مدارس رواد القادة الأهلية",
          "حضانة حبات السكر من عمر الشهر الى الاربع سنوات ونصف",
          "كيان الغد لإستضافة الأطفال",
          "الروضه ٦٩",
          "مدرسة اليرموك النسائية",
          "رياض اطفال حي اليرموك",
          "الروضة 69",
          "مركز مهجتي للضيافة الأطفال الأهلية",
          "حضانة اطفال",
          "حضانة ماما يويو",
          "حضانة افاق الطفل",
          "الروضة ١١٠ خشم العان",
          "روضة ١٠٨",
          "الروضة ١١١ اسكان الحرس",
          "روضة حروفي الأولى لضيافة الاطفال",
          "School",
          "مركز حرية الإبداع لضيافة الأطفال",
          "مدرسة براعم الامتياز",
          "حضانة الصغار بالنهضه",
          "حضانة أحلى عالم",
          "حضانة و روضة مركز الغد الجديد للاطفال",
          "مركز براعم وأزهار ضيافة أطفال أهلية",
          "حضانة ديم",
          "مركز خطوة نجاح لضيافة الأطفال",
          "مدارس التربية النموذجية رياض أطفال",
          "حضانة رياض الريان",
          "آي آم سبيشل للأطفال",
          "عالم منتسوري روضة تمهيدي حضانة",
          "مركز اسماء عبد الله علي القناص لضيافة الأطفال الأهلية",
          "مركز براعم البديعة لضيافة الاطفال جديد",
          "الروضة 83 بحي الدريهمية",
          "مركز المجد لضيافة الأطفال الأهلية",
          "مدارس روضة القادة الاهلية",
          "مركز حروف الطفولة",
          "مدارس رائدة التعليم الاهلية",
          "روضة 34",
          "روضة المبدعون النموذجية",
          "مركز الجيل الناجح لضيافة الأطفال الاهليه فرع العريجاء الغربي",
          "مركز روعة الطفولة لضيافة الأطفال",
          "مركز الأفضل",
          "مركز الضيافة الأولى للأطفال",
          "حضانة خطواتي الأولى",
          "روضة براعم دار بلقيس",
          "روضة 74",
          "مركز وحضانة الجيل الناجح فرع الطويق",
          "مدرسه قطاف الغد الاهليه",
          "غراس اليوم الأهلية",
          "مركز موهبة الطفولة",
          "روضة عفراء الانصاريه",
          "مدارس المجد الأهلية (مجمع العريجاء)",
          "مركز طفلي للرعاية النهارية",
          "حضانه ذيبان",
          "رياض الاطفال",
          "مركز البسمة الجميلة لضيافة الأطفال",
          "مركز نجوم صغيرة فرع الشفاء",
          "مركز طفلي المحبوب لضيافة الاطفال",
          "مركز بيت الحنان لضيافة الأطفال",
          "مركز واحة الطفل لضيافة الاطفال",
          "حضانه",
          "مركز حروف الطفولة لضيافة الأطفال - الشفاء",
          "مجمع النورالتعليمي",
          "مركز غِراس النموذجي",
          "روضة براعم الايمان المتطورة",
          "حضانة الابداع",
          "حضانة شمس وسحاب المنزلية",
          "روضة الأجيال",
          "الروضة 62",
          "Al-Tibyan Kindergarten for the memorization of the Qur’an",
          "مركز ضيافة الاطفال المبتكر الصغيرة",
          "روضة أجيال المها الأهلية",
          "مدارس صغاري الأهلية",
          "حضانة عالم الطفوله",
          "مركز سمائي لضيافة الأطفال",
          "حضانة واحة بيت الطفولة فرع نمار",
          "مركز وجدان لحضانة الأطفال",
          "حضانة قلعة المستقبل لضيافة الأطفال",
          "عهد الاصدقاء حضانة منزليه لضيافة الاطفال",
          "مركز أركان البراعم لضيافة الأطفال الأهلية",
          "مركز دروب الغد لضيافة الأطفال",
          "حضانة ماما",
          "اكاديميه نوابغ طويق",
          "حضانه الرحمه",
          "حضانه",
          "مدرسة المتقنات النسائية.. روضة أطفال",
          "مدارس بناء المبدعين الأهلية ( رياض أطفال وصفوف أولية ابتدائي )",
          "حضانة ماما روزي",
          "روضه",
          "مركز اجمل بداية لضيافة الاطفال الاهليه",
          "مركز اليد الحنون لضيافة الاطفال",
          "الروضة ٢١٢",
          "مركز براعم العلم لضيافة الأطفال الأهلية",
          "مركز عالم الألوان لضيافة الاطفال",
          "حضانة ماما ميمي المنزلية لضيافة الاطفال",
          "روضة فراشات صغيرة للأطفال",
          "روضة ٧٥",
          "روضه طويق الاولى",
          "حضانة ماما ميمي المنزلية",
          "‏مشاريعي",
          "حضانه دنيا الطفوله المنزليه",
          "روضة الجيل الواعد لرياض الأطفال",
          "العوالي",
          "حضانة اطفال الغد فرع لبن ١",
          "حضانة ظل الهناء",
          "حضانة اطفال الغد فرع ٢",
          "حضانة ماما سارة",
          "مركز قصص الاطفال لضيافة الاطفال",
          "كيد فرست لضيافة الاطفال",
          "مركز الخطوة المبكرة لحضانة وضيافة الاطفال",
          "روضة سنا الطفولة",
          "ومضه لضيافة الأطفال",
          "Kids stories",
          "مركز زينة الدنيا لضيافة الأطفال2",
          "مركز الأفضل",
          "مركز الفنانون الصغار لضيافة الأطفال",
          "جنة الصغار ضيافة الاطفال",
          "روضة اسس إرتقاء المعرفة لرياض الاطفال",
          "مركز أرض الطفولة والمرح لضيافة الأطفال",
          "مركز الأيادي البيضاء المميزة لضيافة الأطفال",
          "مركز أشبال المستقبل لرعاية الأطفال",
          "مدارس الأفق العالمية (فرع / ظهرة لبن)",
          "الروضة 210",
          "حضانة براعم منزلية و دروس خصوصية",
          "روضة ١٧٩",
          "دار روضات الجنان النسائية",
          "الروضة ٧٨ بظهرة لبن",
          "روضة أطفال",
          "مدرسه صرح الطفوله الاهليه",
          "روضة وحضانة مدينة الطفل الأهلية",
          "روضة ٥١",
          "مركز الورود الصغيرة لضيافة الأطفال",
          "حروف وأرقام لضيافة الأطفال الاهلية",
          "احببك ليان❤️❤️",
          "مدرسة طريق الفجر الاهلية",
          "مدرسة عرين الشبل لرياض الأطفال الأهليه",
          "حضانة أجيال المهدية",
          "Sh3",
          "الروضة ٦٣ عرقة",
          "الروضة الرابعة بعرقة",
          "مدرسة عرقه الاولى للطفوله المبكره",
          "حضانة عالم الطفل عرقه.",
          "Smart Kids Montessori preschool",
          "دار والدة عبد العزيز الكريديس النسائية",
          "مدارس مسك",
          "قرة لحضانة الأطفال - السفارات",
          "الروضة الرابعة عشر",
          "روضة جامعة الملك سعود فرع عليشة",
          "دار الحضانة الاجتماعية بالرياض عليشة",
          "مركز سارة لضيافة الاطفال",
          "مركز هيفاء ضيافة الأطفال",
          "يوم الطفل لضيافة الأطفال",
          "واحة الابناء العالمية",
          "مدارس الابتهاج الأهلية",
          "مدرسة روضة 43 حكومية",
          "مدرسة نوره الصبيح وحفيداتها النسائية لتحفيظ القرآن الكريم",
          "مدارس جيل القادة الاهلية",
          "حضانه حمزه المقر الجديد",
          "حضانه حمزه",
          "مدرسة الإمام محمد بن سعود النسائية لتحفيظ القرآن",
          "روضة 41",
          "مركز الحفلة الرائعة",
          "حضانه واحة بيت الطفولة",
          "مركز لحظات الطفل",
          "روضة وحضانة فوز الطفل لرياض الاطفال",
          "روضة براعم الاصيل الصباحيه قسم البنين",
          "الروضة 80",
          "الروضة ٨١",
          "مدرسه",
          "حضانة حضن ماما منيرة",
          "حضانة الكوخ الريفي المنزليه",
          "مركز الطفل البطل لضيافة الأطفال",
          "حضانة فرح المنزلية",
          "الروضه الخامسة عشر (١٥)",
          "حضانة ومركز المستكشف الصغير",
          "حضانة الطفل المميز",
          "دنيا الاناقه",
          "دار الفرقان",
          "مركز الشروق",
          "الروضة 92",
          "روضة اطفال اهلية",
          "مركز الطفولة المزدهرة",
          "روضة ميرال",
          "روضة الأداب النموذجية الأهلية",
          "حضانة مولي المنزلية 👼🏻",
          "مدارس عالمية نموذجية",
          "مدرسة آسيا بنت مزاحم النسائية( روضة آسيا الصباحية)",
          "تخاطب وصعوبه النطق والتعلم",
          "مركز فراشات صغيرة",
          "روضه",
          "روضة تعليم الإبداع بالدار البيضاء",
          "مُدرِّسة جميع المواد أم دحوم",
          "حضانة منزليه 👩🏻‍🍼",
          "حضانه منزليه الدار البيضاء شارع بن حجر",
          "حضانة الطفل السعيد الدار البيضاء",
          "روضة 158 بحي المنصورة",
          "وادي الجيح",
          "Cute",
          "Rainbow kids kindergarten + pre school",
          "مدارس أضواء الآفاق العالمية",
          "الروضة التطبيقية",
          "المنفوحه حي الطرفاء",
          "روضة الأطفال الثالثة",
          "مدرسة 57 الابتدائية",
          "مدرسة البراء بن مالك المتوسطة",
          "الروضة 47",
          "اجيال المستقبل",
          "حضانة إقرأة",
          "الروضة ١١٣ بمدينة الأمير بدر السكنية",
          "حضانة منزلية",
          "روضة ثبيتة الأوسية",
          "روضة براعم الهدى",
          "ABC KIDS",
          "ABC",
          "Kids Station Nursery",
          "مركز ضيافة نصنع الغد2",
          "حضانة الملز بيبي كير",
          "حضانة كرز وتوت",
          "حضانة ام يوسف",
          "Butterflies House International School_مدرسة منزل الفراشات العالمية"
         ],
         "lat": {
          "bdata": "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",
          "dtype": "f8"
         },
         "legendgroup": "",
         "lon": {
          "bdata": "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",
          "dtype": "f8"
         },
         "marker": {
          "color": "fuchsia"
         },
         "mode": "markers",
         "name": "",
         "showlegend": false,
         "subplot": "map",
         "type": "scattermap"
        }
       ],
       "layout": {
        "height": 500,
        "legend": {
         "tracegroupgap": 0
        },
        "map": {
         "center": {
          "lat": 24.717486820246478,
          "lon": 46.70690922376761
         },
         "domain": {
          "x": [
           0,
           1
          ],
          "y": [
           0,
           1
          ]
         },
         "style": "open-street-map",
         "zoom": 9
        },
        "mapbox": {
         "center": {
          "lat": 24.717486820246478,
          "lon": 46.70690922376761
         },
         "zoom": 9
        },
        "margin": {
         "b": 0,
         "l": 0,
         "r": 0,
         "t": 0
        },
        "template": {
         "data": {
          "bar": [
           {
            "error_x": {
             "color": "#2a3f5f"
            },
            "error_y": {
             "color": "#2a3f5f"
            },
            "marker": {
             "line": {
              "color": "#E5ECF6",
              "width": 0.5
             },
             "pattern": {
              "fillmode": "overlay",
              "size": 10,
              "solidity": 0.2
             }
            },
            "type": "bar"
           }
          ],
          "barpolar": [
           {
            "marker": {
             "line": {
              "color": "#E5ECF6",
              "width": 0.5
             },
             "pattern": {
              "fillmode": "overlay",
              "size": 10,
              "solidity": 0.2
             }
            },
            "type": "barpolar"
           }
          ],
          "carpet": [
           {
            "aaxis": {
             "endlinecolor": "#2a3f5f",
             "gridcolor": "white",
             "linecolor": "white",
             "minorgridcolor": "white",
             "startlinecolor": "#2a3f5f"
            },
            "baxis": {
             "endlinecolor": "#2a3f5f",
             "gridcolor": "white",
             "linecolor": "white",
             "minorgridcolor": "white",
             "startlinecolor": "#2a3f5f"
            },
            "type": "carpet"
           }
          ],
          "choropleth": [
           {
            "colorbar": {
             "outlinewidth": 0,
             "ticks": ""
            },
            "type": "choropleth"
           }
          ],
          "contour": [
           {
            "colorbar": {
             "outlinewidth": 0,
             "ticks": ""
            },
            "colorscale": [
             [
              0,
              "#0d0887"
             ],
             [
              0.1111111111111111,
              "#46039f"
             ],
             [
              0.2222222222222222,
              "#7201a8"
             ],
             [
              0.3333333333333333,
              "#9c179e"
             ],
             [
              0.4444444444444444,
              "#bd3786"
             ],
             [
              0.5555555555555556,
              "#d8576b"
             ],
             [
              0.6666666666666666,
              "#ed7953"
             ],
             [
              0.7777777777777778,
              "#fb9f3a"
             ],
             [
              0.8888888888888888,
              "#fdca26"
             ],
             [
              1,
              "#f0f921"
             ]
            ],
            "type": "contour"
           }
          ],
          "contourcarpet": [
           {
            "colorbar": {
             "outlinewidth": 0,
             "ticks": ""
            },
            "type": "contourcarpet"
           }
          ],
          "heatmap": [
           {
            "colorbar": {
             "outlinewidth": 0,
             "ticks": ""
            },
            "colorscale": [
             [
              0,
              "#0d0887"
             ],
             [
              0.1111111111111111,
              "#46039f"
             ],
             [
              0.2222222222222222,
              "#7201a8"
             ],
             [
              0.3333333333333333,
              "#9c179e"
             ],
             [
              0.4444444444444444,
              "#bd3786"
             ],
             [
              0.5555555555555556,
              "#d8576b"
             ],
             [
              0.6666666666666666,
              "#ed7953"
             ],
             [
              0.7777777777777778,
              "#fb9f3a"
             ],
             [
              0.8888888888888888,
              "#fdca26"
             ],
             [
              1,
              "#f0f921"
             ]
            ],
            "type": "heatmap"
           }
          ],
          "histogram": [
           {
            "marker": {
             "pattern": {
              "fillmode": "overlay",
              "size": 10,
              "solidity": 0.2
             }
            },
            "type": "histogram"
           }
          ],
          "histogram2d": [
           {
            "colorbar": {
             "outlinewidth": 0,
             "ticks": ""
            },
            "colorscale": [
             [
              0,
              "#0d0887"
             ],
             [
              0.1111111111111111,
              "#46039f"
             ],
             [
              0.2222222222222222,
              "#7201a8"
             ],
             [
              0.3333333333333333,
              "#9c179e"
             ],
             [
              0.4444444444444444,
              "#bd3786"
             ],
             [
              0.5555555555555556,
              "#d8576b"
             ],
             [
              0.6666666666666666,
              "#ed7953"
             ],
             [
              0.7777777777777778,
              "#fb9f3a"
             ],
             [
              0.8888888888888888,
              "#fdca26"
             ],
             [
              1,
              "#f0f921"
             ]
            ],
            "type": "histogram2d"
           }
          ],
          "histogram2dcontour": [
           {
            "colorbar": {
             "outlinewidth": 0,
             "ticks": ""
            },
            "colorscale": [
             [
              0,
              "#0d0887"
             ],
             [
              0.1111111111111111,
              "#46039f"
             ],
             [
              0.2222222222222222,
              "#7201a8"
             ],
             [
              0.3333333333333333,
              "#9c179e"
             ],
             [
              0.4444444444444444,
              "#bd3786"
             ],
             [
              0.5555555555555556,
              "#d8576b"
             ],
             [
              0.6666666666666666,
              "#ed7953"
             ],
             [
              0.7777777777777778,
              "#fb9f3a"
             ],
             [
              0.8888888888888888,
              "#fdca26"
             ],
             [
              1,
              "#f0f921"
             ]
            ],
            "type": "histogram2dcontour"
           }
          ],
          "mesh3d": [
           {
            "colorbar": {
             "outlinewidth": 0,
             "ticks": ""
            },
            "type": "mesh3d"
           }
          ],
          "parcoords": [
           {
            "line": {
             "colorbar": {
              "outlinewidth": 0,
              "ticks": ""
             }
            },
            "type": "parcoords"
           }
          ],
          "pie": [
           {
            "automargin": true,
            "type": "pie"
           }
          ],
          "scatter": [
           {
            "fillpattern": {
             "fillmode": "overlay",
             "size": 10,
             "solidity": 0.2
            },
            "type": "scatter"
           }
          ],
          "scatter3d": [
           {
            "line": {
             "colorbar": {
              "outlinewidth": 0,
              "ticks": ""
             }
            },
            "marker": {
             "colorbar": {
              "outlinewidth": 0,
              "ticks": ""
             }
            },
            "type": "scatter3d"
           }
          ],
          "scattercarpet": [
           {
            "marker": {
             "colorbar": {
              "outlinewidth": 0,
              "ticks": ""
             }
            },
            "type": "scattercarpet"
           }
          ],
          "scattergeo": [
           {
            "marker": {
             "colorbar": {
              "outlinewidth": 0,
              "ticks": ""
             }
            },
            "type": "scattergeo"
           }
          ],
          "scattergl": [
           {
            "marker": {
             "colorbar": {
              "outlinewidth": 0,
              "ticks": ""
             }
            },
            "type": "scattergl"
           }
          ],
          "scattermap": [
           {
            "marker": {
             "colorbar": {
              "outlinewidth": 0,
              "ticks": ""
             }
            },
            "type": "scattermap"
           }
          ],
          "scattermapbox": [
           {
            "marker": {
             "colorbar": {
              "outlinewidth": 0,
              "ticks": ""
             }
            },
            "type": "scattermapbox"
           }
          ],
          "scatterpolar": [
           {
            "marker": {
             "colorbar": {
              "outlinewidth": 0,
              "ticks": ""
             }
            },
            "type": "scatterpolar"
           }
          ],
          "scatterpolargl": [
           {
            "marker": {
             "colorbar": {
              "outlinewidth": 0,
              "ticks": ""
             }
            },
            "type": "scatterpolargl"
           }
          ],
          "scatterternary": [
           {
            "marker": {
             "colorbar": {
              "outlinewidth": 0,
              "ticks": ""
             }
            },
            "type": "scatterternary"
           }
          ],
          "surface": [
           {
            "colorbar": {
             "outlinewidth": 0,
             "ticks": ""
            },
            "colorscale": [
             [
              0,
              "#0d0887"
             ],
             [
              0.1111111111111111,
              "#46039f"
             ],
             [
              0.2222222222222222,
              "#7201a8"
             ],
             [
              0.3333333333333333,
              "#9c179e"
             ],
             [
              0.4444444444444444,
              "#bd3786"
             ],
             [
              0.5555555555555556,
              "#d8576b"
             ],
             [
              0.6666666666666666,
              "#ed7953"
             ],
             [
              0.7777777777777778,
              "#fb9f3a"
             ],
             [
              0.8888888888888888,
              "#fdca26"
             ],
             [
              1,
              "#f0f921"
             ]
            ],
            "type": "surface"
           }
          ],
          "table": [
           {
            "cells": {
             "fill": {
              "color": "#EBF0F8"
             },
             "line": {
              "color": "white"
             }
            },
            "header": {
             "fill": {
              "color": "#C8D4E3"
             },
             "line": {
              "color": "white"
             }
            },
            "type": "table"
           }
          ]
         },
         "layout": {
          "annotationdefaults": {
           "arrowcolor": "#2a3f5f",
           "arrowhead": 0,
           "arrowwidth": 1
          },
          "autotypenumbers": "strict",
          "coloraxis": {
           "colorbar": {
            "outlinewidth": 0,
            "ticks": ""
           }
          },
          "colorscale": {
           "diverging": [
            [
             0,
             "#8e0152"
            ],
            [
             0.1,
             "#c51b7d"
            ],
            [
             0.2,
             "#de77ae"
            ],
            [
             0.3,
             "#f1b6da"
            ],
            [
             0.4,
             "#fde0ef"
            ],
            [
             0.5,
             "#f7f7f7"
            ],
            [
             0.6,
             "#e6f5d0"
            ],
            [
             0.7,
             "#b8e186"
            ],
            [
             0.8,
             "#7fbc41"
            ],
            [
             0.9,
             "#4d9221"
            ],
            [
             1,
             "#276419"
            ]
           ],
           "sequential": [
            [
             0,
             "#0d0887"
            ],
            [
             0.1111111111111111,
             "#46039f"
            ],
            [
             0.2222222222222222,
             "#7201a8"
            ],
            [
             0.3333333333333333,
             "#9c179e"
            ],
            [
             0.4444444444444444,
             "#bd3786"
            ],
            [
             0.5555555555555556,
             "#d8576b"
            ],
            [
             0.6666666666666666,
             "#ed7953"
            ],
            [
             0.7777777777777778,
             "#fb9f3a"
            ],
            [
             0.8888888888888888,
             "#fdca26"
            ],
            [
             1,
             "#f0f921"
            ]
           ],
           "sequentialminus": [
            [
             0,
             "#0d0887"
            ],
            [
             0.1111111111111111,
             "#46039f"
            ],
            [
             0.2222222222222222,
             "#7201a8"
            ],
            [
             0.3333333333333333,
             "#9c179e"
            ],
            [
             0.4444444444444444,
             "#bd3786"
            ],
            [
             0.5555555555555556,
             "#d8576b"
            ],
            [
             0.6666666666666666,
             "#ed7953"
            ],
            [
             0.7777777777777778,
             "#fb9f3a"
            ],
            [
             0.8888888888888888,
             "#fdca26"
            ],
            [
             1,
             "#f0f921"
            ]
           ]
          },
          "colorway": [
           "#636efa",
           "#EF553B",
           "#00cc96",
           "#ab63fa",
           "#FFA15A",
           "#19d3f3",
           "#FF6692",
           "#B6E880",
           "#FF97FF",
           "#FECB52"
          ],
          "font": {
           "color": "#2a3f5f"
          },
          "geo": {
           "bgcolor": "white",
           "lakecolor": "white",
           "landcolor": "#E5ECF6",
           "showlakes": true,
           "showland": true,
           "subunitcolor": "white"
          },
          "hoverlabel": {
           "align": "left"
          },
          "hovermode": "closest",
          "mapbox": {
           "style": "light"
          },
          "paper_bgcolor": "white",
          "plot_bgcolor": "#E5ECF6",
          "polar": {
           "angularaxis": {
            "gridcolor": "white",
            "linecolor": "white",
            "ticks": ""
           },
           "bgcolor": "#E5ECF6",
           "radialaxis": {
            "gridcolor": "white",
            "linecolor": "white",
            "ticks": ""
           }
          },
          "scene": {
           "xaxis": {
            "backgroundcolor": "#E5ECF6",
            "gridcolor": "white",
            "gridwidth": 2,
            "linecolor": "white",
            "showbackground": true,
            "ticks": "",
            "zerolinecolor": "white"
           },
           "yaxis": {
            "backgroundcolor": "#E5ECF6",
            "gridcolor": "white",
            "gridwidth": 2,
            "linecolor": "white",
            "showbackground": true,
            "ticks": "",
            "zerolinecolor": "white"
           },
           "zaxis": {
            "backgroundcolor": "#E5ECF6",
            "gridcolor": "white",
            "gridwidth": 2,
            "linecolor": "white",
            "showbackground": true,
            "ticks": "",
            "zerolinecolor": "white"
           }
          },
          "shapedefaults": {
           "line": {
            "color": "#2a3f5f"
           }
          },
          "ternary": {
           "aaxis": {
            "gridcolor": "white",
            "linecolor": "white",
            "ticks": ""
           },
           "baxis": {
            "gridcolor": "white",
            "linecolor": "white",
            "ticks": ""
           },
           "bgcolor": "#E5ECF6",
           "caxis": {
            "gridcolor": "white",
            "linecolor": "white",
            "ticks": ""
           }
          },
          "title": {
           "x": 0.05
          },
          "xaxis": {
           "automargin": true,
           "gridcolor": "white",
           "linecolor": "white",
           "ticks": "",
           "title": {
            "standoff": 15
           },
           "zerolinecolor": "white",
           "zerolinewidth": 2
          },
          "yaxis": {
           "automargin": true,
           "gridcolor": "white",
           "linecolor": "white",
           "ticks": "",
           "title": {
            "standoff": 15
           },
           "zerolinecolor": "white",
           "zerolinewidth": 2
          }
         }
        }
       }
      }
     },
     "metadata": {},
     "output_type": "display_data"
    }
   ],
   "source": [
    "fig = px.scatter_map(df, lat=\"Latitude\", lon=\"Longitude\", hover_name=\"Name\", hover_data=[\"Rates\", \"Reviews\" , \"direction\"],\n",
    "                        color_discrete_sequence=[\"fuchsia\"], zoom=9, height=500)\n",
    "fig.update_layout(map_style=\"open-street-map\")\n",
    "fig.update_layout(margin={\"r\":0,\"t\":0,\"l\":0,\"b\":0})\n",
    "fig.show()"
   ]
  },
  {
   "cell_type": "markdown",
   "id": "e961b1c3",
   "metadata": {},
   "source": [
    "Creative Kids Nursery"
   ]
  },
  {
   "cell_type": "markdown",
   "id": "c52b8d5e",
   "metadata": {},
   "source": [
    "## اكثر الحضانات تقييم في شمال الرياض"
   ]
  },
  {
   "cell_type": "code",
   "execution_count": null,
   "id": "0f495bae",
   "metadata": {},
   "outputs": [],
   "source": [
    "top_N = df[(df[\"Reviews\"] > 30) & (df[\"Rates\"] > 4) &  (df[\"direction\"] == \"شمال الرياض\")]"
   ]
  },
  {
   "cell_type": "code",
   "execution_count": null,
   "id": "2f398c64",
   "metadata": {},
   "outputs": [],
   "source": [
    "df_avg_N= top_N.groupby(\"Neighborhood\", as_index=False)[\"Rates\"].mean()"
   ]
  },
  {
   "cell_type": "code",
   "execution_count": null,
   "id": "e0738338",
   "metadata": {},
   "outputs": [
    {
     "data": {
      "application/vnd.plotly.v1+json": {
       "config": {
        "plotlyServerURL": "https://plot.ly"
       },
       "data": [
        {
         "hovertemplate": "Neighborhood=%{x}<br>Rates=%{marker.color}<extra></extra>",
         "legendgroup": "",
         "marker": {
          "color": {
           "bdata": "zMzMzMzMEEDd3d3d3d0RQDMzMzMzsxFAmZmZmZmZEUBmZmZmZmYRQFD6pE/6pBFAZmZmZmZmEEDNzMzMzMwQQJqZmZmZmRJAZ2ZmZmZmEkDe3d3d3d0RQML1KFyPwhFAzczMzMxMEkAiIiIiIiISQM3MzMzMzBBAmpmZmZmZEUDNzMzMzMwSQNu2bdu2bRFAERERERERE0CamZmZmZkRQDQzMzMzsxFAzczMzMzMEkDrUbgehesRQDMzMzMzMxFAZmZmZmZmEkA=",
           "dtype": "f8"
          },
          "coloraxis": "coloraxis",
          "pattern": {
           "shape": ""
          }
         },
         "name": "",
         "orientation": "v",
         "showlegend": false,
         "textposition": "auto",
         "type": "bar",
         "x": [
          "الازدهار",
          "الربيع",
          "السليمانية",
          "الصحافة",
          "العارض",
          "العقيق",
          "الغدير",
          "الفلاح",
          "القيران",
          "المصيف",
          "المغرزات",
          "الملقا",
          "الملك عبدالعزيز",
          "الملك عبدالله",
          "الملك فهد",
          "المورسلات",
          "النخيل",
          "النرجس",
          "النزهة",
          "النفل",
          "الوادي",
          "الورود",
          "الياسمين",
          "حطين",
          "صلاح الدين"
         ],
         "xaxis": "x",
         "y": {
          "bdata": "zMzMzMzMEEDd3d3d3d0RQDMzMzMzsxFAmZmZmZmZEUBmZmZmZmYRQFD6pE/6pBFAZmZmZmZmEEDNzMzMzMwQQJqZmZmZmRJAZ2ZmZmZmEkDe3d3d3d0RQML1KFyPwhFAzczMzMxMEkAiIiIiIiISQM3MzMzMzBBAmpmZmZmZEUDNzMzMzMwSQNu2bdu2bRFAERERERERE0CamZmZmZkRQDQzMzMzsxFAzczMzMzMEkDrUbgehesRQDMzMzMzMxFAZmZmZmZmEkA=",
          "dtype": "f8"
         },
         "yaxis": "y"
        }
       ],
       "layout": {
        "barmode": "relative",
        "coloraxis": {
         "colorbar": {
          "title": {
           "text": "Rates"
          }
         },
         "colorscale": [
          [
           0,
           "rgb(247,251,255)"
          ],
          [
           0.125,
           "rgb(222,235,247)"
          ],
          [
           0.25,
           "rgb(198,219,239)"
          ],
          [
           0.375,
           "rgb(158,202,225)"
          ],
          [
           0.5,
           "rgb(107,174,214)"
          ],
          [
           0.625,
           "rgb(66,146,198)"
          ],
          [
           0.75,
           "rgb(33,113,181)"
          ],
          [
           0.875,
           "rgb(8,81,156)"
          ],
          [
           1,
           "rgb(8,48,107)"
          ]
         ]
        },
        "legend": {
         "tracegroupgap": 0
        },
        "template": {
         "data": {
          "bar": [
           {
            "error_x": {
             "color": "#2a3f5f"
            },
            "error_y": {
             "color": "#2a3f5f"
            },
            "marker": {
             "line": {
              "color": "#E5ECF6",
              "width": 0.5
             },
             "pattern": {
              "fillmode": "overlay",
              "size": 10,
              "solidity": 0.2
             }
            },
            "type": "bar"
           }
          ],
          "barpolar": [
           {
            "marker": {
             "line": {
              "color": "#E5ECF6",
              "width": 0.5
             },
             "pattern": {
              "fillmode": "overlay",
              "size": 10,
              "solidity": 0.2
             }
            },
            "type": "barpolar"
           }
          ],
          "carpet": [
           {
            "aaxis": {
             "endlinecolor": "#2a3f5f",
             "gridcolor": "white",
             "linecolor": "white",
             "minorgridcolor": "white",
             "startlinecolor": "#2a3f5f"
            },
            "baxis": {
             "endlinecolor": "#2a3f5f",
             "gridcolor": "white",
             "linecolor": "white",
             "minorgridcolor": "white",
             "startlinecolor": "#2a3f5f"
            },
            "type": "carpet"
           }
          ],
          "choropleth": [
           {
            "colorbar": {
             "outlinewidth": 0,
             "ticks": ""
            },
            "type": "choropleth"
           }
          ],
          "contour": [
           {
            "colorbar": {
             "outlinewidth": 0,
             "ticks": ""
            },
            "colorscale": [
             [
              0,
              "#0d0887"
             ],
             [
              0.1111111111111111,
              "#46039f"
             ],
             [
              0.2222222222222222,
              "#7201a8"
             ],
             [
              0.3333333333333333,
              "#9c179e"
             ],
             [
              0.4444444444444444,
              "#bd3786"
             ],
             [
              0.5555555555555556,
              "#d8576b"
             ],
             [
              0.6666666666666666,
              "#ed7953"
             ],
             [
              0.7777777777777778,
              "#fb9f3a"
             ],
             [
              0.8888888888888888,
              "#fdca26"
             ],
             [
              1,
              "#f0f921"
             ]
            ],
            "type": "contour"
           }
          ],
          "contourcarpet": [
           {
            "colorbar": {
             "outlinewidth": 0,
             "ticks": ""
            },
            "type": "contourcarpet"
           }
          ],
          "heatmap": [
           {
            "colorbar": {
             "outlinewidth": 0,
             "ticks": ""
            },
            "colorscale": [
             [
              0,
              "#0d0887"
             ],
             [
              0.1111111111111111,
              "#46039f"
             ],
             [
              0.2222222222222222,
              "#7201a8"
             ],
             [
              0.3333333333333333,
              "#9c179e"
             ],
             [
              0.4444444444444444,
              "#bd3786"
             ],
             [
              0.5555555555555556,
              "#d8576b"
             ],
             [
              0.6666666666666666,
              "#ed7953"
             ],
             [
              0.7777777777777778,
              "#fb9f3a"
             ],
             [
              0.8888888888888888,
              "#fdca26"
             ],
             [
              1,
              "#f0f921"
             ]
            ],
            "type": "heatmap"
           }
          ],
          "histogram": [
           {
            "marker": {
             "pattern": {
              "fillmode": "overlay",
              "size": 10,
              "solidity": 0.2
             }
            },
            "type": "histogram"
           }
          ],
          "histogram2d": [
           {
            "colorbar": {
             "outlinewidth": 0,
             "ticks": ""
            },
            "colorscale": [
             [
              0,
              "#0d0887"
             ],
             [
              0.1111111111111111,
              "#46039f"
             ],
             [
              0.2222222222222222,
              "#7201a8"
             ],
             [
              0.3333333333333333,
              "#9c179e"
             ],
             [
              0.4444444444444444,
              "#bd3786"
             ],
             [
              0.5555555555555556,
              "#d8576b"
             ],
             [
              0.6666666666666666,
              "#ed7953"
             ],
             [
              0.7777777777777778,
              "#fb9f3a"
             ],
             [
              0.8888888888888888,
              "#fdca26"
             ],
             [
              1,
              "#f0f921"
             ]
            ],
            "type": "histogram2d"
           }
          ],
          "histogram2dcontour": [
           {
            "colorbar": {
             "outlinewidth": 0,
             "ticks": ""
            },
            "colorscale": [
             [
              0,
              "#0d0887"
             ],
             [
              0.1111111111111111,
              "#46039f"
             ],
             [
              0.2222222222222222,
              "#7201a8"
             ],
             [
              0.3333333333333333,
              "#9c179e"
             ],
             [
              0.4444444444444444,
              "#bd3786"
             ],
             [
              0.5555555555555556,
              "#d8576b"
             ],
             [
              0.6666666666666666,
              "#ed7953"
             ],
             [
              0.7777777777777778,
              "#fb9f3a"
             ],
             [
              0.8888888888888888,
              "#fdca26"
             ],
             [
              1,
              "#f0f921"
             ]
            ],
            "type": "histogram2dcontour"
           }
          ],
          "mesh3d": [
           {
            "colorbar": {
             "outlinewidth": 0,
             "ticks": ""
            },
            "type": "mesh3d"
           }
          ],
          "parcoords": [
           {
            "line": {
             "colorbar": {
              "outlinewidth": 0,
              "ticks": ""
             }
            },
            "type": "parcoords"
           }
          ],
          "pie": [
           {
            "automargin": true,
            "type": "pie"
           }
          ],
          "scatter": [
           {
            "fillpattern": {
             "fillmode": "overlay",
             "size": 10,
             "solidity": 0.2
            },
            "type": "scatter"
           }
          ],
          "scatter3d": [
           {
            "line": {
             "colorbar": {
              "outlinewidth": 0,
              "ticks": ""
             }
            },
            "marker": {
             "colorbar": {
              "outlinewidth": 0,
              "ticks": ""
             }
            },
            "type": "scatter3d"
           }
          ],
          "scattercarpet": [
           {
            "marker": {
             "colorbar": {
              "outlinewidth": 0,
              "ticks": ""
             }
            },
            "type": "scattercarpet"
           }
          ],
          "scattergeo": [
           {
            "marker": {
             "colorbar": {
              "outlinewidth": 0,
              "ticks": ""
             }
            },
            "type": "scattergeo"
           }
          ],
          "scattergl": [
           {
            "marker": {
             "colorbar": {
              "outlinewidth": 0,
              "ticks": ""
             }
            },
            "type": "scattergl"
           }
          ],
          "scattermap": [
           {
            "marker": {
             "colorbar": {
              "outlinewidth": 0,
              "ticks": ""
             }
            },
            "type": "scattermap"
           }
          ],
          "scattermapbox": [
           {
            "marker": {
             "colorbar": {
              "outlinewidth": 0,
              "ticks": ""
             }
            },
            "type": "scattermapbox"
           }
          ],
          "scatterpolar": [
           {
            "marker": {
             "colorbar": {
              "outlinewidth": 0,
              "ticks": ""
             }
            },
            "type": "scatterpolar"
           }
          ],
          "scatterpolargl": [
           {
            "marker": {
             "colorbar": {
              "outlinewidth": 0,
              "ticks": ""
             }
            },
            "type": "scatterpolargl"
           }
          ],
          "scatterternary": [
           {
            "marker": {
             "colorbar": {
              "outlinewidth": 0,
              "ticks": ""
             }
            },
            "type": "scatterternary"
           }
          ],
          "surface": [
           {
            "colorbar": {
             "outlinewidth": 0,
             "ticks": ""
            },
            "colorscale": [
             [
              0,
              "#0d0887"
             ],
             [
              0.1111111111111111,
              "#46039f"
             ],
             [
              0.2222222222222222,
              "#7201a8"
             ],
             [
              0.3333333333333333,
              "#9c179e"
             ],
             [
              0.4444444444444444,
              "#bd3786"
             ],
             [
              0.5555555555555556,
              "#d8576b"
             ],
             [
              0.6666666666666666,
              "#ed7953"
             ],
             [
              0.7777777777777778,
              "#fb9f3a"
             ],
             [
              0.8888888888888888,
              "#fdca26"
             ],
             [
              1,
              "#f0f921"
             ]
            ],
            "type": "surface"
           }
          ],
          "table": [
           {
            "cells": {
             "fill": {
              "color": "#EBF0F8"
             },
             "line": {
              "color": "white"
             }
            },
            "header": {
             "fill": {
              "color": "#C8D4E3"
             },
             "line": {
              "color": "white"
             }
            },
            "type": "table"
           }
          ]
         },
         "layout": {
          "annotationdefaults": {
           "arrowcolor": "#2a3f5f",
           "arrowhead": 0,
           "arrowwidth": 1
          },
          "autotypenumbers": "strict",
          "coloraxis": {
           "colorbar": {
            "outlinewidth": 0,
            "ticks": ""
           }
          },
          "colorscale": {
           "diverging": [
            [
             0,
             "#8e0152"
            ],
            [
             0.1,
             "#c51b7d"
            ],
            [
             0.2,
             "#de77ae"
            ],
            [
             0.3,
             "#f1b6da"
            ],
            [
             0.4,
             "#fde0ef"
            ],
            [
             0.5,
             "#f7f7f7"
            ],
            [
             0.6,
             "#e6f5d0"
            ],
            [
             0.7,
             "#b8e186"
            ],
            [
             0.8,
             "#7fbc41"
            ],
            [
             0.9,
             "#4d9221"
            ],
            [
             1,
             "#276419"
            ]
           ],
           "sequential": [
            [
             0,
             "#0d0887"
            ],
            [
             0.1111111111111111,
             "#46039f"
            ],
            [
             0.2222222222222222,
             "#7201a8"
            ],
            [
             0.3333333333333333,
             "#9c179e"
            ],
            [
             0.4444444444444444,
             "#bd3786"
            ],
            [
             0.5555555555555556,
             "#d8576b"
            ],
            [
             0.6666666666666666,
             "#ed7953"
            ],
            [
             0.7777777777777778,
             "#fb9f3a"
            ],
            [
             0.8888888888888888,
             "#fdca26"
            ],
            [
             1,
             "#f0f921"
            ]
           ],
           "sequentialminus": [
            [
             0,
             "#0d0887"
            ],
            [
             0.1111111111111111,
             "#46039f"
            ],
            [
             0.2222222222222222,
             "#7201a8"
            ],
            [
             0.3333333333333333,
             "#9c179e"
            ],
            [
             0.4444444444444444,
             "#bd3786"
            ],
            [
             0.5555555555555556,
             "#d8576b"
            ],
            [
             0.6666666666666666,
             "#ed7953"
            ],
            [
             0.7777777777777778,
             "#fb9f3a"
            ],
            [
             0.8888888888888888,
             "#fdca26"
            ],
            [
             1,
             "#f0f921"
            ]
           ]
          },
          "colorway": [
           "#636efa",
           "#EF553B",
           "#00cc96",
           "#ab63fa",
           "#FFA15A",
           "#19d3f3",
           "#FF6692",
           "#B6E880",
           "#FF97FF",
           "#FECB52"
          ],
          "font": {
           "color": "#2a3f5f"
          },
          "geo": {
           "bgcolor": "white",
           "lakecolor": "white",
           "landcolor": "#E5ECF6",
           "showlakes": true,
           "showland": true,
           "subunitcolor": "white"
          },
          "hoverlabel": {
           "align": "left"
          },
          "hovermode": "closest",
          "mapbox": {
           "style": "light"
          },
          "paper_bgcolor": "white",
          "plot_bgcolor": "#E5ECF6",
          "polar": {
           "angularaxis": {
            "gridcolor": "white",
            "linecolor": "white",
            "ticks": ""
           },
           "bgcolor": "#E5ECF6",
           "radialaxis": {
            "gridcolor": "white",
            "linecolor": "white",
            "ticks": ""
           }
          },
          "scene": {
           "xaxis": {
            "backgroundcolor": "#E5ECF6",
            "gridcolor": "white",
            "gridwidth": 2,
            "linecolor": "white",
            "showbackground": true,
            "ticks": "",
            "zerolinecolor": "white"
           },
           "yaxis": {
            "backgroundcolor": "#E5ECF6",
            "gridcolor": "white",
            "gridwidth": 2,
            "linecolor": "white",
            "showbackground": true,
            "ticks": "",
            "zerolinecolor": "white"
           },
           "zaxis": {
            "backgroundcolor": "#E5ECF6",
            "gridcolor": "white",
            "gridwidth": 2,
            "linecolor": "white",
            "showbackground": true,
            "ticks": "",
            "zerolinecolor": "white"
           }
          },
          "shapedefaults": {
           "line": {
            "color": "#2a3f5f"
           }
          },
          "ternary": {
           "aaxis": {
            "gridcolor": "white",
            "linecolor": "white",
            "ticks": ""
           },
           "baxis": {
            "gridcolor": "white",
            "linecolor": "white",
            "ticks": ""
           },
           "bgcolor": "#E5ECF6",
           "caxis": {
            "gridcolor": "white",
            "linecolor": "white",
            "ticks": ""
           }
          },
          "title": {
           "x": 0.05
          },
          "xaxis": {
           "automargin": true,
           "gridcolor": "white",
           "linecolor": "white",
           "ticks": "",
           "title": {
            "standoff": 15
           },
           "zerolinecolor": "white",
           "zerolinewidth": 2
          },
          "yaxis": {
           "automargin": true,
           "gridcolor": "white",
           "linecolor": "white",
           "ticks": "",
           "title": {
            "standoff": 15
           },
           "zerolinecolor": "white",
           "zerolinewidth": 2
          }
         }
        },
        "title": {
         "text": "Average Rating by Neighborhood"
        },
        "xaxis": {
         "anchor": "y",
         "domain": [
          0,
          1
         ],
         "title": {
          "text": "Neighborhood"
         }
        },
        "yaxis": {
         "anchor": "x",
         "domain": [
          0,
          1
         ],
         "title": {
          "text": "Rates"
         }
        }
       }
      }
     },
     "metadata": {},
     "output_type": "display_data"
    }
   ],
   "source": [
    "# fig22 = px.bar(df_avg_N, x=\"Neighborhood\", y=\"Rates\", \n",
    "#              title=\"متوسط التقييم حسب الحي (شمال الرياض)\", \n",
    "#              color=\"التقييم\", \n",
    "#              color_continuous_scale=\"Blues\")\n",
    "\n",
    "# fig22.show()"
   ]
  },
  {
   "cell_type": "markdown",
   "id": "41730623",
   "metadata": {},
   "source": [
    "Nursery ratings in the northern neighborhoods of Riyadh show noticeable differences in quality and service. Some areas, such as Al-Qairuan, Al-Nakheel, and Al-Nuzhah, have higher-rated nurseries, suggesting better facilities, experienced staff, and higher service standards. In contrast, neighborhoods like Al-Izdihar, Al-Falah, and King Fahd show slightly lower average ratings, which could indicate challenges such as limited resources, overcrowding, or varying service quality. With most ratings ranging between 4.2 and 4.6, nurseries in North Riyadh generally provide good services, though some neighborhoods stand out more than others. To help parents make informed decisions, a deeper analysis of parent reviews will be conducted to uncover key factors behind these ratings. This will provide valuable insights into the strengths, concerns, and overall experiences of nurseries in North Riyadh, enabling parents to choose the best options for their children."
   ]
  },
  {
   "cell_type": "code",
   "execution_count": null,
   "id": "64637b72",
   "metadata": {},
   "outputs": [
    {
     "data": {
      "text/html": [
       "<div>\n",
       "<style scoped>\n",
       "    .dataframe tbody tr th:only-of-type {\n",
       "        vertical-align: middle;\n",
       "    }\n",
       "\n",
       "    .dataframe tbody tr th {\n",
       "        vertical-align: top;\n",
       "    }\n",
       "\n",
       "    .dataframe thead th {\n",
       "        text-align: right;\n",
       "    }\n",
       "</style>\n",
       "<table border=\"1\" class=\"dataframe\">\n",
       "  <thead>\n",
       "    <tr style=\"text-align: right;\">\n",
       "      <th></th>\n",
       "      <th>url</th>\n",
       "      <th>Name</th>\n",
       "      <th>Rates</th>\n",
       "      <th>Reviews</th>\n",
       "      <th>Type</th>\n",
       "      <th>Phone</th>\n",
       "      <th>Neighborhood</th>\n",
       "      <th>Website</th>\n",
       "      <th>direction</th>\n",
       "      <th>Latitude</th>\n",
       "      <th>Longitude</th>\n",
       "    </tr>\n",
       "  </thead>\n",
       "  <tbody>\n",
       "    <tr>\n",
       "      <th>0</th>\n",
       "      <td>https://www.google.com/maps/place/%D9%85%D8%B1...</td>\n",
       "      <td>مركز الرواد الاذكياء لضيافة الاطفال</td>\n",
       "      <td>4.3</td>\n",
       "      <td>163</td>\n",
       "      <td>حضانة أطفال</td>\n",
       "      <td>050 994 8694</td>\n",
       "      <td>الازدهار</td>\n",
       "      <td>No Website</td>\n",
       "      <td>شمال الرياض</td>\n",
       "      <td>24.775561</td>\n",
       "      <td>46.721974</td>\n",
       "    </tr>\n",
       "  </tbody>\n",
       "</table>\n",
       "</div>"
      ],
      "text/plain": [
       "                                                 url  \\\n",
       "0  https://www.google.com/maps/place/%D9%85%D8%B1...   \n",
       "\n",
       "                                  Name  Rates  Reviews         Type  \\\n",
       "0  مركز الرواد الاذكياء لضيافة الاطفال    4.3      163  حضانة أطفال   \n",
       "\n",
       "          Phone Neighborhood     Website    direction   Latitude  Longitude  \n",
       "0  050 994 8694     الازدهار  No Website  شمال الرياض  24.775561  46.721974  "
      ]
     },
     "metadata": {},
     "output_type": "display_data"
    }
   ],
   "source": [
    "top_N.head(1)"
   ]
  },
  {
   "cell_type": "code",
   "execution_count": null,
   "id": "27b370d3",
   "metadata": {},
   "outputs": [],
   "source": [
    "df_avg_N = top_N.groupby(\"Neighborhood\", as_index=False)[\"Rates\"].mean()"
   ]
  },
  {
   "cell_type": "code",
   "execution_count": null,
   "id": "56680840",
   "metadata": {},
   "outputs": [
    {
     "data": {
      "text/html": [
       "<div>\n",
       "<style scoped>\n",
       "    .dataframe tbody tr th:only-of-type {\n",
       "        vertical-align: middle;\n",
       "    }\n",
       "\n",
       "    .dataframe tbody tr th {\n",
       "        vertical-align: top;\n",
       "    }\n",
       "\n",
       "    .dataframe thead th {\n",
       "        text-align: right;\n",
       "    }\n",
       "</style>\n",
       "<table border=\"1\" class=\"dataframe\">\n",
       "  <thead>\n",
       "    <tr style=\"text-align: right;\">\n",
       "      <th></th>\n",
       "      <th>url</th>\n",
       "      <th>Name</th>\n",
       "      <th>Rates</th>\n",
       "      <th>Reviews</th>\n",
       "      <th>Type</th>\n",
       "      <th>Phone</th>\n",
       "      <th>Neighborhood</th>\n",
       "      <th>Website</th>\n",
       "      <th>direction</th>\n",
       "      <th>Latitude</th>\n",
       "      <th>Longitude</th>\n",
       "    </tr>\n",
       "  </thead>\n",
       "  <tbody>\n",
       "    <tr>\n",
       "      <th>0</th>\n",
       "      <td>https://www.google.com/maps/place/%D9%85%D8%B1...</td>\n",
       "      <td>مركز الرواد الاذكياء لضيافة الاطفال</td>\n",
       "      <td>4.3</td>\n",
       "      <td>163</td>\n",
       "      <td>حضانة أطفال</td>\n",
       "      <td>050 994 8694</td>\n",
       "      <td>الازدهار</td>\n",
       "      <td>No Website</td>\n",
       "      <td>شمال الرياض</td>\n",
       "      <td>24.775561</td>\n",
       "      <td>46.721974</td>\n",
       "    </tr>\n",
       "    <tr>\n",
       "      <th>3</th>\n",
       "      <td>https://www.google.com/maps/place/%D9%85%D8%B1...</td>\n",
       "      <td>مركز نجوم صغيرة لضيافة الأطفال حي غرناطة</td>\n",
       "      <td>4.1</td>\n",
       "      <td>81</td>\n",
       "      <td>حضانة أطفال</td>\n",
       "      <td>050 004 6990</td>\n",
       "      <td>الازدهار</td>\n",
       "      <td>No Website</td>\n",
       "      <td>شمال الرياض</td>\n",
       "      <td>24.786064</td>\n",
       "      <td>46.739789</td>\n",
       "    </tr>\n",
       "    <tr>\n",
       "      <th>6</th>\n",
       "      <td>https://www.google.com/maps/place/%D8%AD%D8%B6...</td>\n",
       "      <td>حضانة بيتي الثاني</td>\n",
       "      <td>4.1</td>\n",
       "      <td>224</td>\n",
       "      <td>حضانة</td>\n",
       "      <td>9200 22756</td>\n",
       "      <td>العقيق</td>\n",
       "      <td>https://my2ndhome.com.sa/</td>\n",
       "      <td>شمال الرياض</td>\n",
       "      <td>24.776405</td>\n",
       "      <td>46.628531</td>\n",
       "    </tr>\n",
       "    <tr>\n",
       "      <th>7</th>\n",
       "      <td>https://www.google.com/maps/place/%D9%85%D8%B1...</td>\n",
       "      <td>مركز جود لضيافة الاطفال</td>\n",
       "      <td>4.9</td>\n",
       "      <td>74</td>\n",
       "      <td>حضانة أطفال</td>\n",
       "      <td>050 480 3224</td>\n",
       "      <td>العقيق</td>\n",
       "      <td>No Website</td>\n",
       "      <td>شمال الرياض</td>\n",
       "      <td>24.780397</td>\n",
       "      <td>46.634487</td>\n",
       "    </tr>\n",
       "    <tr>\n",
       "      <th>8</th>\n",
       "      <td>https://www.google.com/maps/place/%D8%B1%D9%83...</td>\n",
       "      <td>ركن الطفل حضانة ورياض أطفال</td>\n",
       "      <td>4.5</td>\n",
       "      <td>43</td>\n",
       "      <td>حضانة أطفال</td>\n",
       "      <td>055 190 9956</td>\n",
       "      <td>العقيق</td>\n",
       "      <td>https://childcorner.net/</td>\n",
       "      <td>شمال الرياض</td>\n",
       "      <td>24.772107</td>\n",
       "      <td>46.631729</td>\n",
       "    </tr>\n",
       "  </tbody>\n",
       "</table>\n",
       "</div>"
      ],
      "text/plain": [
       "                                                 url  \\\n",
       "0  https://www.google.com/maps/place/%D9%85%D8%B1...   \n",
       "3  https://www.google.com/maps/place/%D9%85%D8%B1...   \n",
       "6  https://www.google.com/maps/place/%D8%AD%D8%B6...   \n",
       "7  https://www.google.com/maps/place/%D9%85%D8%B1...   \n",
       "8  https://www.google.com/maps/place/%D8%B1%D9%83...   \n",
       "\n",
       "                                       Name  Rates  Reviews         Type  \\\n",
       "0       مركز الرواد الاذكياء لضيافة الاطفال    4.3      163  حضانة أطفال   \n",
       "3  مركز نجوم صغيرة لضيافة الأطفال حي غرناطة    4.1       81  حضانة أطفال   \n",
       "6                         حضانة بيتي الثاني    4.1      224        حضانة   \n",
       "7                   مركز جود لضيافة الاطفال    4.9       74  حضانة أطفال   \n",
       "8               ركن الطفل حضانة ورياض أطفال    4.5       43  حضانة أطفال   \n",
       "\n",
       "          Phone Neighborhood                    Website    direction  \\\n",
       "0  050 994 8694     الازدهار                 No Website  شمال الرياض   \n",
       "3  050 004 6990     الازدهار                 No Website  شمال الرياض   \n",
       "6    9200 22756       العقيق  https://my2ndhome.com.sa/  شمال الرياض   \n",
       "7  050 480 3224       العقيق                 No Website  شمال الرياض   \n",
       "8  055 190 9956       العقيق   https://childcorner.net/  شمال الرياض   \n",
       "\n",
       "    Latitude  Longitude  \n",
       "0  24.775561  46.721974  \n",
       "3  24.786064  46.739789  \n",
       "6  24.776405  46.628531  \n",
       "7  24.780397  46.634487  \n",
       "8  24.772107  46.631729  "
      ]
     },
     "metadata": {},
     "output_type": "display_data"
    }
   ],
   "source": [
    "top_N.head(5)"
   ]
  },
  {
   "cell_type": "code",
   "execution_count": null,
   "id": "62940ea1",
   "metadata": {},
   "outputs": [
    {
     "data": {
      "text/plain": [
       "(76, 11)"
      ]
     },
     "metadata": {},
     "output_type": "display_data"
    }
   ],
   "source": [
    "top_N.shape"
   ]
  },
  {
   "cell_type": "code",
   "execution_count": null,
   "id": "97db281d",
   "metadata": {},
   "outputs": [],
   "source": [
    "top_N[\"Latitude\"] = pd.to_numeric(top_N[\"Latitude\"], errors=\"coerce\")\n",
    "top_N[\"Longitude\"] = pd.to_numeric(top_N[\"Longitude\"], errors=\"coerce\")"
   ]
  },
  {
   "cell_type": "code",
   "execution_count": null,
   "id": "3fc49f79",
   "metadata": {},
   "outputs": [
    {
     "data": {
      "text/html": [
       "<div>\n",
       "<style scoped>\n",
       "    .dataframe tbody tr th:only-of-type {\n",
       "        vertical-align: middle;\n",
       "    }\n",
       "\n",
       "    .dataframe tbody tr th {\n",
       "        vertical-align: top;\n",
       "    }\n",
       "\n",
       "    .dataframe thead th {\n",
       "        text-align: right;\n",
       "    }\n",
       "</style>\n",
       "<table border=\"1\" class=\"dataframe\">\n",
       "  <thead>\n",
       "    <tr style=\"text-align: right;\">\n",
       "      <th></th>\n",
       "      <th>url</th>\n",
       "      <th>Name</th>\n",
       "      <th>Rates</th>\n",
       "      <th>Reviews</th>\n",
       "      <th>Type</th>\n",
       "      <th>Phone</th>\n",
       "      <th>Neighborhood</th>\n",
       "      <th>Website</th>\n",
       "      <th>direction</th>\n",
       "      <th>Latitude</th>\n",
       "      <th>Longitude</th>\n",
       "    </tr>\n",
       "  </thead>\n",
       "  <tbody>\n",
       "    <tr>\n",
       "      <th>0</th>\n",
       "      <td>https://www.google.com/maps/place/%D9%85%D8%B1...</td>\n",
       "      <td>مركز الرواد الاذكياء لضيافة الاطفال</td>\n",
       "      <td>4.3</td>\n",
       "      <td>163</td>\n",
       "      <td>حضانة أطفال</td>\n",
       "      <td>050 994 8694</td>\n",
       "      <td>الازدهار</td>\n",
       "      <td>No Website</td>\n",
       "      <td>شمال الرياض</td>\n",
       "      <td>24.775561</td>\n",
       "      <td>46.721974</td>\n",
       "    </tr>\n",
       "  </tbody>\n",
       "</table>\n",
       "</div>"
      ],
      "text/plain": [
       "                                                 url  \\\n",
       "0  https://www.google.com/maps/place/%D9%85%D8%B1...   \n",
       "\n",
       "                                  Name  Rates  Reviews         Type  \\\n",
       "0  مركز الرواد الاذكياء لضيافة الاطفال    4.3      163  حضانة أطفال   \n",
       "\n",
       "          Phone Neighborhood     Website    direction   Latitude  Longitude  \n",
       "0  050 994 8694     الازدهار  No Website  شمال الرياض  24.775561  46.721974  "
      ]
     },
     "metadata": {},
     "output_type": "display_data"
    }
   ],
   "source": [
    "top_N.head(1)"
   ]
  },
  {
   "cell_type": "markdown",
   "id": "7e94aac6",
   "metadata": {},
   "source": [
    "## اكثر الروضات تقييم شمال الرياض \n"
   ]
  },
  {
   "cell_type": "code",
   "execution_count": null,
   "id": "87a6f543",
   "metadata": {},
   "outputs": [
    {
     "data": {
      "application/vnd.plotly.v1+json": {
       "config": {
        "plotlyServerURL": "https://plot.ly"
       },
       "data": [
        {
         "customdata": {
          "bdata": "MzMzMzMzEUAAAAAAAGBkQGZmZmZmZhBAAAAAAABAVEBmZmZmZmYQQAAAAAAAAGxAmpmZmZmZE0AAAAAAAIBSQAAAAAAAABJAAAAAAACARUBmZmZmZmYQQAAAAAAAAERAAAAAAAAAEkAAAAAAAABMQM3MzMzMzBJAAAAAAADAV0CamZmZmZkRQAAAAAAAAFVAZmZmZmZmEEAAAAAAAEBZQJqZmZmZmRFAAAAAAABAUkDNzMzMzMwQQAAAAAAAAFVAAAAAAAAAEkAAAAAAAABRQM3MzMzMzBBAAAAAAADAUUBmZmZmZmYSQAAAAAAAAEFAzczMzMzMEkAAAAAAAIBBQGZmZmZmZhBAAAAAAAAAREAzMzMzMzMTQAAAAAAAgFJAZmZmZmZmEEAAAAAAAMBVQJqZmZmZmRNAAAAAAAAAQECamZmZmZkRQAAAAAAAAE5AzczMzMzMEkAAAAAAAIBZQDMzMzMzMxFAAAAAAADAaEAAAAAAAAASQAAAAAAAAE5AMzMzMzMzEUAAAAAAAEBQQJqZmZmZmRFAAAAAAABAUUCamZmZmZkRQAAAAAAAgEFAZmZmZmZmEEAAAAAAAEBhQDMzMzMzMxFAAAAAAADAcUAzMzMzMzMRQAAAAAAAQFdAzczMzMzMEkAAAAAAAABKQM3MzMzMzBBAAAAAAACARUCamZmZmZkRQAAAAAAAgGRAAAAAAAAAEkAAAAAAAABMQM3MzMzMzBJAAAAAAAAARUAzMzMzMzMTQAAAAAAAAE1AMzMzMzMzE0AAAAAAAIBCQM3MzMzMzBJAAAAAAAAAVkBmZmZmZmYSQAAAAAAAAEdAzczMzMzMEEAAAAAAAKBjQGZmZmZmZhJAAAAAAADAUEAAAAAAAAASQAAAAAAAwFNAMzMzMzMzEUAAAAAAAMBXQJqZmZmZmRFAAAAAAAAAQ0AzMzMzMzMRQAAAAAAAAElAMzMzMzMzEUAAAAAAAABFQJqZmZmZmRFAAAAAAAAAP0DNzMzMzMwSQAAAAAAAAHJAmpmZmZmZEUAAAAAAAIBMQJqZmZmZmRFAAAAAAAAAV0AAAAAAAAASQAAAAAAAgEhAmpmZmZmZEUAAAAAAAABbQM3MzMzMzBJAAAAAAACAZkCamZmZmZkRQAAAAAAAAFFAAAAAAAAAFEAAAAAAAABPQGZmZmZmZhJAAAAAAAAAV0AzMzMzMzMTQAAAAAAAAEtAMzMzMzMzEUAAAAAAAIBNQGZmZmZmZhBAAAAAAACAV0BmZmZmZmYSQAAAAAAAgFVAMzMzMzMzEUAAAAAAAIBJQGZmZmZmZhJAAAAAAABAZUAAAAAAAAASQAAAAAAAgEFAAAAAAAAAEkAAAAAAAABtQJqZmZmZmRNAAAAAAAAAT0CamZmZmZkRQAAAAAAAAFFAMzMzMzMzEUAAAAAAAMBpQM3MzMzMzBJAAAAAAAAwfUDNzMzMzMwQQAAAAAAAgE1AMzMzMzMzEUAAAAAAAIBBQM3MzMzMzBBAAAAAAACAaUBmZmZmZmYSQAAAAAAAAEpAzczMzMzMEEAAAAAAAIBJQJqZmZmZmRNAAAAAAACAUUDNzMzMzMwSQAAAAAAAAEBAAAAAAAAAEkAAAAAAAMBaQA==",
          "dtype": "f8",
          "shape": "76, 2"
         },
         "hovertemplate": "<b>%{hovertext}</b><br><br>Latitude=%{lat}<br>Longitude=%{lon}<br>Rates=%{customdata[0]}<br>Reviews=%{customdata[1]}<extra></extra>",
         "hovertext": [
          "مركز الرواد الاذكياء لضيافة الاطفال",
          "مركز نجوم صغيرة لضيافة الأطفال حي غرناطة",
          "حضانة بيتي الثاني",
          "مركز جود لضيافة الاطفال",
          "ركن الطفل حضانة ورياض أطفال",
          "روضة براعم الاجيال الاهلية",
          "Bambino حضانة بامبينو",
          "مركز اركان النمو للرعاية النهارية",
          "حضانة عالم النهار",
          "مدارس الموسوعة الرائدة الأهلية",
          "روضة ٧١",
          "مركز نمو المعرفة لضيافة الأطفال",
          "روضة و حضانة مدينة الطفل الاهلية - العارض",
          "مركز عالم الطفل لضيافة الأطفال",
          "مركز تكبر معانا لضيافة الاطفال الأهلية",
          "المكان الأفضل لحضانة الأطفال",
          "مركز تدريب معلمات رياض الأطفال بالرياض",
          "مركز براعم النخيل للأطفال - المصيف",
          "روضة و حضانة التعليم الممتع",
          "حضانه منزليه للأطفال - الرياض",
          "WeCare Nursery & Kindergarten",
          "حضانة و روضة منطقة النجوم لضيافة الأطفال",
          "مركز الأيدي الصغيرة لضيافة الأطفال",
          "حضانة الأصدقاء المرحون",
          "مدارس الدرة الاهلية",
          "مركز رعاية الصغار",
          "مركز القرية الصغيرة لضيافة الاطفال فرع النفل",
          "مركز قلعة الصغار لضيافة الأطفال الأهلية",
          "مركز بيت أمي - ضيافة أطفال",
          "مركز مران لضيافة الأطفال الأهلية",
          "دافدلز كيدز",
          "مركز أمنيتي الصغيرة لضيافة الاطفال",
          "روضة أنير الاهلية",
          "مدارس تعلم العالمية",
          "روضة حيتان المستقبل حضانه اطفال",
          "حضانة و روضة دوح لضيافة الاطفال",
          "مركز حيتان المستقبل لضيافة الاطفال",
          "مركز تكوين لضيافة الأطفال فرع النخيل",
          "مركز الوان الربيع لضيافة الأطفال",
          "Success International School",
          "مدارس رياض الأنطلاقة - فرع الربيع",
          "سبعة صباحًا لضيافة الأطفال",
          "حضانة تطور الطفل",
          "روضة البراعم ( دار نوره الغنام )",
          "حضانة المظلة الصغيرة",
          "مركز قلب أم لحضانة الأطفال",
          "البراعم المتميزون",
          "مركز الطفل الصغير لضيافة اطفال المنتسوري",
          "مركز إضاءات لضيافة الأطفال",
          "مركز بسمات الطفولة لضيافة الاطفال الأهلية",
          "سحابة طفلي لحضانة الاطفال",
          "روضة أجيال النخبة",
          "مركز الورود لضيافة الأطفال",
          "Al-Irfan International School",
          "Little Hands Kindergarten حضانة حنان المطيري",
          "حضانة و روضة تلال المرح",
          "مركز كوكب الإبداع لضيافة الأطفال الأهلية",
          "خطوات النمو",
          "حضانة إثراء المعرفة",
          "مركز قرات الأعين لضيافة الأطفال الأهلية",
          "مركز نقطة لعب لضيافة الأطفال",
          "مركز موسوعة الطفولة لضيافة الاطفال",
          "الروضة 135 - المدينة الجامعية للطالبات - رياض اطفال",
          "حضانة تكوين",
          "مدينة السعادة للترفيه - ترفيه + حضانه",
          "حضانة بدايات",
          "مدرسة هنا لنكبر العالمية - حضانة اطفال",
          "حضانة بيتي الثاني",
          "الشاملة مونتيسوري",
          "حضانة براعم الملقا للاطفال",
          "مدرسة روضة واحة الغد فرع الملقا",
          "مركز رامة ضيافة الأطفال",
          "Bedayaat Nursery Al Malqa1-حضانة بدايات الملقا1",
          "Stability Center - مركز ستابيلتي",
          "قرة لحضانة الأطفال - مجمع غرناطة التجاري | Qurrah Daycare - Granada Mall",
          "مركز زينة الدنيا لضيافة الأطفال"
         ],
         "lat": {
          "bdata": "lQ1rKovGOEB2k852O8k4QJfyEHzCxjhAWGZbF8jHOECSAUXRqMU4QPWz/dBxxjhA1rA6zV3GOED3VslsNcY4QGm4txEFzzhAGKGOfX/JOECBSkubYMo4QBpjcUkf4jhAFAX6RJ7gOEAKxQxDms04QHRFKSFY0ThAH7naL0TTOEA/My1Wecc4QKtwcI7fxDhAE08spojEOECjpgKTwMM4QE9/rJYqwThAaUgm8QPBOED23zlKFMI4QFp+4CpPwDhAX0VGByTBOEBpOwGoPco4QJiRMMLKyThA9D3Zg//VOEBu/yUEBtA4QMNB59q81DhAd6YrMwDZOEDso1NXPuU4QCU7NgLx1DhA5NcPscHcOEC1Qw3w7sA4QGD1NuytwzhAqfrwh/rAOEA3YnfLH784QGh9JevLyzhAA48UNqjOOEAQXOUJhMs4QLb4FADjzzhAd9mvO93JOEBVAOcgQ844QJ4y7VFuszhAiLzl6se0OEB74//pYbU4QMbVEjzPgTVAT/y9uWTJOEDBdosbEsw4QPYoXI/CyzhAscwR6ALLOECxLhPqjoQ1QMsln2houThA1YLN7+q5OEAR3sPKDdM4QKUtrvGZ0jhAtHgM6rbPOEC0Z+CRwtI4QJz0YzhD0jhAA5MbRdbGOEAPd5pxv744QL107tF2uThAoM1gQru1OEBclgqFY704QJDStquh1jhAZZ07C4y+OEDIsmDij7Y4QOHa5EsDwDhAPUfku5TeOECKOa2A5804QFZbVgZ6yzhAJlRweEHQOEAhViTL7sw4QP4V6MnrxzhA+C3fn/elOEA=",
          "dtype": "f8"
         },
         "legendgroup": "",
         "lon": {
          "bdata": "pkmEoWlcR0Ait3BqsV5HQABC2rVzUEdAc6CH2jZRR0DoOG183FBHQNnG6TWHT0dAIxXGFoJRR0BrS3idaE9HQKs9kcyPTkdAv1e+eFBQR0Dkayrme1BHQIlMr4M5TUdA7AIU2b1PR0CUugljsFpHQKXap+MxS0dAXHi546hLR0B6n/TPHVRHQCvawS3EVUdAijmtgOdVR0C4GRMHdVdHQKxyofKvXEdAIgPUL2xcR0BgffJmw11HQOatX1ViWUdAEaOMXUdXR0Db1fVVA1ZHQFa1SeqpVkdAON/jp8xWR0CjE1MztVVHQD6bsFgeV0dAObNdoQ9XR0BMQAI1a1BHQHJID+jxV0dAA+Dp3z9UR0D3+M5511pHQPkMTX4wWkdAIWQPo9ZaR0DXzXtS3FJHQK/kz1xMVEdAwE9mzdlVR0DWpxyTxVNHQJ29M9qqUUdAM1mS8klSR0DB8jFpnVJHQNBCp4wkW0dAxitaykNbR0CEfkulRFlHQAbWcfxQoENAt6BSgINYR0DLaU/JOVlHQGQ730+NWEdAGonQCDZZR0D9chwuKJpDQAe6Ub9mV0dA3bOu0XJWR0BVkiurn09HQMHBgwseVEdAdKycB8FUR0BSqF0CplJHQCEdwwiGUEdApyGq8GdKR0ClWY+xyV9HQMLAc+/hUUdAn53CAHhRR0B7fOe8a1dHQF3BNuLJXUdA5GKx8nBaR0By0kVU8mJHQJlN2xpsVkdAC9aTVAFQR0BFOBxMeUxHQKV0n9J3T0dA/mK2ZFVNR0Dn5EUm4ExHQIMfiyPFXUdASAJo7+dJR0A=",
          "dtype": "f8"
         },
         "marker": {
          "color": "fuchsia"
         },
         "mode": "markers",
         "name": "",
         "showlegend": false,
         "subplot": "map",
         "type": "scattermap"
        }
       ],
       "layout": {
        "height": 500,
        "legend": {
         "tracegroupgap": 0
        },
        "map": {
         "center": {
          "lat": 24.698679028947375,
          "lon": 46.468903471052634
         },
         "domain": {
          "x": [
           0,
           1
          ],
          "y": [
           0,
           1
          ]
         },
         "style": "open-street-map",
         "zoom": 3
        },
        "mapbox": {
         "center": {
          "lat": 24.698679028947375,
          "lon": 46.468903471052634
         },
         "zoom": 3
        },
        "margin": {
         "b": 0,
         "l": 0,
         "r": 0,
         "t": 0
        },
        "template": {
         "data": {
          "bar": [
           {
            "error_x": {
             "color": "#2a3f5f"
            },
            "error_y": {
             "color": "#2a3f5f"
            },
            "marker": {
             "line": {
              "color": "#E5ECF6",
              "width": 0.5
             },
             "pattern": {
              "fillmode": "overlay",
              "size": 10,
              "solidity": 0.2
             }
            },
            "type": "bar"
           }
          ],
          "barpolar": [
           {
            "marker": {
             "line": {
              "color": "#E5ECF6",
              "width": 0.5
             },
             "pattern": {
              "fillmode": "overlay",
              "size": 10,
              "solidity": 0.2
             }
            },
            "type": "barpolar"
           }
          ],
          "carpet": [
           {
            "aaxis": {
             "endlinecolor": "#2a3f5f",
             "gridcolor": "white",
             "linecolor": "white",
             "minorgridcolor": "white",
             "startlinecolor": "#2a3f5f"
            },
            "baxis": {
             "endlinecolor": "#2a3f5f",
             "gridcolor": "white",
             "linecolor": "white",
             "minorgridcolor": "white",
             "startlinecolor": "#2a3f5f"
            },
            "type": "carpet"
           }
          ],
          "choropleth": [
           {
            "colorbar": {
             "outlinewidth": 0,
             "ticks": ""
            },
            "type": "choropleth"
           }
          ],
          "contour": [
           {
            "colorbar": {
             "outlinewidth": 0,
             "ticks": ""
            },
            "colorscale": [
             [
              0,
              "#0d0887"
             ],
             [
              0.1111111111111111,
              "#46039f"
             ],
             [
              0.2222222222222222,
              "#7201a8"
             ],
             [
              0.3333333333333333,
              "#9c179e"
             ],
             [
              0.4444444444444444,
              "#bd3786"
             ],
             [
              0.5555555555555556,
              "#d8576b"
             ],
             [
              0.6666666666666666,
              "#ed7953"
             ],
             [
              0.7777777777777778,
              "#fb9f3a"
             ],
             [
              0.8888888888888888,
              "#fdca26"
             ],
             [
              1,
              "#f0f921"
             ]
            ],
            "type": "contour"
           }
          ],
          "contourcarpet": [
           {
            "colorbar": {
             "outlinewidth": 0,
             "ticks": ""
            },
            "type": "contourcarpet"
           }
          ],
          "heatmap": [
           {
            "colorbar": {
             "outlinewidth": 0,
             "ticks": ""
            },
            "colorscale": [
             [
              0,
              "#0d0887"
             ],
             [
              0.1111111111111111,
              "#46039f"
             ],
             [
              0.2222222222222222,
              "#7201a8"
             ],
             [
              0.3333333333333333,
              "#9c179e"
             ],
             [
              0.4444444444444444,
              "#bd3786"
             ],
             [
              0.5555555555555556,
              "#d8576b"
             ],
             [
              0.6666666666666666,
              "#ed7953"
             ],
             [
              0.7777777777777778,
              "#fb9f3a"
             ],
             [
              0.8888888888888888,
              "#fdca26"
             ],
             [
              1,
              "#f0f921"
             ]
            ],
            "type": "heatmap"
           }
          ],
          "histogram": [
           {
            "marker": {
             "pattern": {
              "fillmode": "overlay",
              "size": 10,
              "solidity": 0.2
             }
            },
            "type": "histogram"
           }
          ],
          "histogram2d": [
           {
            "colorbar": {
             "outlinewidth": 0,
             "ticks": ""
            },
            "colorscale": [
             [
              0,
              "#0d0887"
             ],
             [
              0.1111111111111111,
              "#46039f"
             ],
             [
              0.2222222222222222,
              "#7201a8"
             ],
             [
              0.3333333333333333,
              "#9c179e"
             ],
             [
              0.4444444444444444,
              "#bd3786"
             ],
             [
              0.5555555555555556,
              "#d8576b"
             ],
             [
              0.6666666666666666,
              "#ed7953"
             ],
             [
              0.7777777777777778,
              "#fb9f3a"
             ],
             [
              0.8888888888888888,
              "#fdca26"
             ],
             [
              1,
              "#f0f921"
             ]
            ],
            "type": "histogram2d"
           }
          ],
          "histogram2dcontour": [
           {
            "colorbar": {
             "outlinewidth": 0,
             "ticks": ""
            },
            "colorscale": [
             [
              0,
              "#0d0887"
             ],
             [
              0.1111111111111111,
              "#46039f"
             ],
             [
              0.2222222222222222,
              "#7201a8"
             ],
             [
              0.3333333333333333,
              "#9c179e"
             ],
             [
              0.4444444444444444,
              "#bd3786"
             ],
             [
              0.5555555555555556,
              "#d8576b"
             ],
             [
              0.6666666666666666,
              "#ed7953"
             ],
             [
              0.7777777777777778,
              "#fb9f3a"
             ],
             [
              0.8888888888888888,
              "#fdca26"
             ],
             [
              1,
              "#f0f921"
             ]
            ],
            "type": "histogram2dcontour"
           }
          ],
          "mesh3d": [
           {
            "colorbar": {
             "outlinewidth": 0,
             "ticks": ""
            },
            "type": "mesh3d"
           }
          ],
          "parcoords": [
           {
            "line": {
             "colorbar": {
              "outlinewidth": 0,
              "ticks": ""
             }
            },
            "type": "parcoords"
           }
          ],
          "pie": [
           {
            "automargin": true,
            "type": "pie"
           }
          ],
          "scatter": [
           {
            "fillpattern": {
             "fillmode": "overlay",
             "size": 10,
             "solidity": 0.2
            },
            "type": "scatter"
           }
          ],
          "scatter3d": [
           {
            "line": {
             "colorbar": {
              "outlinewidth": 0,
              "ticks": ""
             }
            },
            "marker": {
             "colorbar": {
              "outlinewidth": 0,
              "ticks": ""
             }
            },
            "type": "scatter3d"
           }
          ],
          "scattercarpet": [
           {
            "marker": {
             "colorbar": {
              "outlinewidth": 0,
              "ticks": ""
             }
            },
            "type": "scattercarpet"
           }
          ],
          "scattergeo": [
           {
            "marker": {
             "colorbar": {
              "outlinewidth": 0,
              "ticks": ""
             }
            },
            "type": "scattergeo"
           }
          ],
          "scattergl": [
           {
            "marker": {
             "colorbar": {
              "outlinewidth": 0,
              "ticks": ""
             }
            },
            "type": "scattergl"
           }
          ],
          "scattermap": [
           {
            "marker": {
             "colorbar": {
              "outlinewidth": 0,
              "ticks": ""
             }
            },
            "type": "scattermap"
           }
          ],
          "scattermapbox": [
           {
            "marker": {
             "colorbar": {
              "outlinewidth": 0,
              "ticks": ""
             }
            },
            "type": "scattermapbox"
           }
          ],
          "scatterpolar": [
           {
            "marker": {
             "colorbar": {
              "outlinewidth": 0,
              "ticks": ""
             }
            },
            "type": "scatterpolar"
           }
          ],
          "scatterpolargl": [
           {
            "marker": {
             "colorbar": {
              "outlinewidth": 0,
              "ticks": ""
             }
            },
            "type": "scatterpolargl"
           }
          ],
          "scatterternary": [
           {
            "marker": {
             "colorbar": {
              "outlinewidth": 0,
              "ticks": ""
             }
            },
            "type": "scatterternary"
           }
          ],
          "surface": [
           {
            "colorbar": {
             "outlinewidth": 0,
             "ticks": ""
            },
            "colorscale": [
             [
              0,
              "#0d0887"
             ],
             [
              0.1111111111111111,
              "#46039f"
             ],
             [
              0.2222222222222222,
              "#7201a8"
             ],
             [
              0.3333333333333333,
              "#9c179e"
             ],
             [
              0.4444444444444444,
              "#bd3786"
             ],
             [
              0.5555555555555556,
              "#d8576b"
             ],
             [
              0.6666666666666666,
              "#ed7953"
             ],
             [
              0.7777777777777778,
              "#fb9f3a"
             ],
             [
              0.8888888888888888,
              "#fdca26"
             ],
             [
              1,
              "#f0f921"
             ]
            ],
            "type": "surface"
           }
          ],
          "table": [
           {
            "cells": {
             "fill": {
              "color": "#EBF0F8"
             },
             "line": {
              "color": "white"
             }
            },
            "header": {
             "fill": {
              "color": "#C8D4E3"
             },
             "line": {
              "color": "white"
             }
            },
            "type": "table"
           }
          ]
         },
         "layout": {
          "annotationdefaults": {
           "arrowcolor": "#2a3f5f",
           "arrowhead": 0,
           "arrowwidth": 1
          },
          "autotypenumbers": "strict",
          "coloraxis": {
           "colorbar": {
            "outlinewidth": 0,
            "ticks": ""
           }
          },
          "colorscale": {
           "diverging": [
            [
             0,
             "#8e0152"
            ],
            [
             0.1,
             "#c51b7d"
            ],
            [
             0.2,
             "#de77ae"
            ],
            [
             0.3,
             "#f1b6da"
            ],
            [
             0.4,
             "#fde0ef"
            ],
            [
             0.5,
             "#f7f7f7"
            ],
            [
             0.6,
             "#e6f5d0"
            ],
            [
             0.7,
             "#b8e186"
            ],
            [
             0.8,
             "#7fbc41"
            ],
            [
             0.9,
             "#4d9221"
            ],
            [
             1,
             "#276419"
            ]
           ],
           "sequential": [
            [
             0,
             "#0d0887"
            ],
            [
             0.1111111111111111,
             "#46039f"
            ],
            [
             0.2222222222222222,
             "#7201a8"
            ],
            [
             0.3333333333333333,
             "#9c179e"
            ],
            [
             0.4444444444444444,
             "#bd3786"
            ],
            [
             0.5555555555555556,
             "#d8576b"
            ],
            [
             0.6666666666666666,
             "#ed7953"
            ],
            [
             0.7777777777777778,
             "#fb9f3a"
            ],
            [
             0.8888888888888888,
             "#fdca26"
            ],
            [
             1,
             "#f0f921"
            ]
           ],
           "sequentialminus": [
            [
             0,
             "#0d0887"
            ],
            [
             0.1111111111111111,
             "#46039f"
            ],
            [
             0.2222222222222222,
             "#7201a8"
            ],
            [
             0.3333333333333333,
             "#9c179e"
            ],
            [
             0.4444444444444444,
             "#bd3786"
            ],
            [
             0.5555555555555556,
             "#d8576b"
            ],
            [
             0.6666666666666666,
             "#ed7953"
            ],
            [
             0.7777777777777778,
             "#fb9f3a"
            ],
            [
             0.8888888888888888,
             "#fdca26"
            ],
            [
             1,
             "#f0f921"
            ]
           ]
          },
          "colorway": [
           "#636efa",
           "#EF553B",
           "#00cc96",
           "#ab63fa",
           "#FFA15A",
           "#19d3f3",
           "#FF6692",
           "#B6E880",
           "#FF97FF",
           "#FECB52"
          ],
          "font": {
           "color": "#2a3f5f"
          },
          "geo": {
           "bgcolor": "white",
           "lakecolor": "white",
           "landcolor": "#E5ECF6",
           "showlakes": true,
           "showland": true,
           "subunitcolor": "white"
          },
          "hoverlabel": {
           "align": "left"
          },
          "hovermode": "closest",
          "mapbox": {
           "style": "light"
          },
          "paper_bgcolor": "white",
          "plot_bgcolor": "#E5ECF6",
          "polar": {
           "angularaxis": {
            "gridcolor": "white",
            "linecolor": "white",
            "ticks": ""
           },
           "bgcolor": "#E5ECF6",
           "radialaxis": {
            "gridcolor": "white",
            "linecolor": "white",
            "ticks": ""
           }
          },
          "scene": {
           "xaxis": {
            "backgroundcolor": "#E5ECF6",
            "gridcolor": "white",
            "gridwidth": 2,
            "linecolor": "white",
            "showbackground": true,
            "ticks": "",
            "zerolinecolor": "white"
           },
           "yaxis": {
            "backgroundcolor": "#E5ECF6",
            "gridcolor": "white",
            "gridwidth": 2,
            "linecolor": "white",
            "showbackground": true,
            "ticks": "",
            "zerolinecolor": "white"
           },
           "zaxis": {
            "backgroundcolor": "#E5ECF6",
            "gridcolor": "white",
            "gridwidth": 2,
            "linecolor": "white",
            "showbackground": true,
            "ticks": "",
            "zerolinecolor": "white"
           }
          },
          "shapedefaults": {
           "line": {
            "color": "#2a3f5f"
           }
          },
          "ternary": {
           "aaxis": {
            "gridcolor": "white",
            "linecolor": "white",
            "ticks": ""
           },
           "baxis": {
            "gridcolor": "white",
            "linecolor": "white",
            "ticks": ""
           },
           "bgcolor": "#E5ECF6",
           "caxis": {
            "gridcolor": "white",
            "linecolor": "white",
            "ticks": ""
           }
          },
          "title": {
           "x": 0.05
          },
          "xaxis": {
           "automargin": true,
           "gridcolor": "white",
           "linecolor": "white",
           "ticks": "",
           "title": {
            "standoff": 15
           },
           "zerolinecolor": "white",
           "zerolinewidth": 2
          },
          "yaxis": {
           "automargin": true,
           "gridcolor": "white",
           "linecolor": "white",
           "ticks": "",
           "title": {
            "standoff": 15
           },
           "zerolinecolor": "white",
           "zerolinewidth": 2
          }
         }
        }
       }
      }
     },
     "metadata": {},
     "output_type": "display_data"
    }
   ],
   "source": [
    "fig1 = px.scatter_map(top_N, lat=\"Latitude\", lon=\"Longitude\", hover_name=\"Name\", hover_data=[\"Rates\", \"Reviews\"],\n",
    "                        color_discrete_sequence=[\"fuchsia\"], zoom=3, height=500)\n",
    "fig1.update_layout(map_style=\"open-street-map\")\n",
    "fig1.update_layout(margin={\"r\":0,\"t\":0,\"l\":0,\"b\":0})\n",
    "fig1.show()"
   ]
  },
  {
   "cell_type": "code",
   "execution_count": null,
   "id": "96be363b",
   "metadata": {},
   "outputs": [
    {
     "data": {
      "text/html": [
       "<div>\n",
       "<style scoped>\n",
       "    .dataframe tbody tr th:only-of-type {\n",
       "        vertical-align: middle;\n",
       "    }\n",
       "\n",
       "    .dataframe tbody tr th {\n",
       "        vertical-align: top;\n",
       "    }\n",
       "\n",
       "    .dataframe thead th {\n",
       "        text-align: right;\n",
       "    }\n",
       "</style>\n",
       "<table border=\"1\" class=\"dataframe\">\n",
       "  <thead>\n",
       "    <tr style=\"text-align: right;\">\n",
       "      <th></th>\n",
       "      <th>url</th>\n",
       "      <th>Name</th>\n",
       "      <th>Rates</th>\n",
       "      <th>Reviews</th>\n",
       "      <th>Type</th>\n",
       "      <th>Phone</th>\n",
       "      <th>Neighborhood</th>\n",
       "      <th>Website</th>\n",
       "      <th>direction</th>\n",
       "      <th>Latitude</th>\n",
       "      <th>Longitude</th>\n",
       "    </tr>\n",
       "  </thead>\n",
       "  <tbody>\n",
       "    <tr>\n",
       "      <th>0</th>\n",
       "      <td>https://www.google.com/maps/place/%D9%85%D8%B1...</td>\n",
       "      <td>مركز الرواد الاذكياء لضيافة الاطفال</td>\n",
       "      <td>4.3</td>\n",
       "      <td>163</td>\n",
       "      <td>حضانة أطفال</td>\n",
       "      <td>050 994 8694</td>\n",
       "      <td>الازدهار</td>\n",
       "      <td>No Website</td>\n",
       "      <td>شمال الرياض</td>\n",
       "      <td>24.775561</td>\n",
       "      <td>46.721974</td>\n",
       "    </tr>\n",
       "    <tr>\n",
       "      <th>1</th>\n",
       "      <td>https://www.google.com/maps/place/%D9%85%D8%B1...</td>\n",
       "      <td>مركز شجرة العلم لضيافة الاطفال</td>\n",
       "      <td>3.8</td>\n",
       "      <td>48</td>\n",
       "      <td>حضانة أطفال</td>\n",
       "      <td>054 327 5455</td>\n",
       "      <td>الازدهار</td>\n",
       "      <td>No Website</td>\n",
       "      <td>شمال الرياض</td>\n",
       "      <td>24.776412</td>\n",
       "      <td>46.724232</td>\n",
       "    </tr>\n",
       "    <tr>\n",
       "      <th>2</th>\n",
       "      <td>https://www.google.com/maps/place/%D9%85%D8%B1...</td>\n",
       "      <td>مركز اشبال الغد لضيافة</td>\n",
       "      <td>3.6</td>\n",
       "      <td>32</td>\n",
       "      <td>حضانة أطفال</td>\n",
       "      <td>050 908 4095</td>\n",
       "      <td>الازدهار</td>\n",
       "      <td>No Website</td>\n",
       "      <td>شمال الرياض</td>\n",
       "      <td>24.781084</td>\n",
       "      <td>46.722319</td>\n",
       "    </tr>\n",
       "    <tr>\n",
       "      <th>3</th>\n",
       "      <td>https://www.google.com/maps/place/%D9%85%D8%B1...</td>\n",
       "      <td>مركز نجوم صغيرة لضيافة الأطفال حي غرناطة</td>\n",
       "      <td>4.1</td>\n",
       "      <td>81</td>\n",
       "      <td>حضانة أطفال</td>\n",
       "      <td>050 004 6990</td>\n",
       "      <td>الازدهار</td>\n",
       "      <td>No Website</td>\n",
       "      <td>شمال الرياض</td>\n",
       "      <td>24.786064</td>\n",
       "      <td>46.739789</td>\n",
       "    </tr>\n",
       "    <tr>\n",
       "      <th>4</th>\n",
       "      <td>https://www.google.com/maps/place/%D8%AD%D8%B6...</td>\n",
       "      <td>حضانة فتافيت السكر المنزليه</td>\n",
       "      <td>4.0</td>\n",
       "      <td>2</td>\n",
       "      <td>حضانة أطفال</td>\n",
       "      <td>No Phone</td>\n",
       "      <td>الازدهار</td>\n",
       "      <td>No Website</td>\n",
       "      <td>شمال الرياض</td>\n",
       "      <td>24.775388</td>\n",
       "      <td>46.721808</td>\n",
       "    </tr>\n",
       "    <tr>\n",
       "      <th>...</th>\n",
       "      <td>...</td>\n",
       "      <td>...</td>\n",
       "      <td>...</td>\n",
       "      <td>...</td>\n",
       "      <td>...</td>\n",
       "      <td>...</td>\n",
       "      <td>...</td>\n",
       "      <td>...</td>\n",
       "      <td>...</td>\n",
       "      <td>...</td>\n",
       "      <td>...</td>\n",
       "    </tr>\n",
       "    <tr>\n",
       "      <th>570</th>\n",
       "      <td>https://www.google.com/maps/place/%D9%85%D8%B1...</td>\n",
       "      <td>مركز ضيافة نصنع الغد2</td>\n",
       "      <td>5.0</td>\n",
       "      <td>46</td>\n",
       "      <td>حضانة أطفال</td>\n",
       "      <td>054 427 9223</td>\n",
       "      <td>منفوحة الجديدة</td>\n",
       "      <td>No Website</td>\n",
       "      <td>جنوب الرياض</td>\n",
       "      <td>24.672552</td>\n",
       "      <td>46.735377</td>\n",
       "    </tr>\n",
       "    <tr>\n",
       "      <th>571</th>\n",
       "      <td>https://www.google.com/maps/place/%D8%AD%D8%B6...</td>\n",
       "      <td>حضانة الملز بيبي كير</td>\n",
       "      <td>4.2</td>\n",
       "      <td>40</td>\n",
       "      <td>حضانة أطفال</td>\n",
       "      <td>No Phone</td>\n",
       "      <td>منفوحة الجديدة</td>\n",
       "      <td>No Website</td>\n",
       "      <td>جنوب الرياض</td>\n",
       "      <td>24.670961</td>\n",
       "      <td>46.747783</td>\n",
       "    </tr>\n",
       "    <tr>\n",
       "      <th>572</th>\n",
       "      <td>https://www.google.com/maps/place/%D8%AD%D8%B6...</td>\n",
       "      <td>حضانة كرز وتوت</td>\n",
       "      <td>4.4</td>\n",
       "      <td>17</td>\n",
       "      <td>حضانة أطفال</td>\n",
       "      <td>055 252 9564</td>\n",
       "      <td>منفوحة الجديدة</td>\n",
       "      <td>No Website</td>\n",
       "      <td>جنوب الرياض</td>\n",
       "      <td>24.673863</td>\n",
       "      <td>46.685576</td>\n",
       "    </tr>\n",
       "    <tr>\n",
       "      <th>573</th>\n",
       "      <td>https://www.google.com/maps/place/%D8%AD%D8%B6...</td>\n",
       "      <td>حضانة ام يوسف</td>\n",
       "      <td>5.0</td>\n",
       "      <td>2</td>\n",
       "      <td>حضانة أطفال</td>\n",
       "      <td>No Phone</td>\n",
       "      <td>منفوحة الجديدة</td>\n",
       "      <td>No Website</td>\n",
       "      <td>جنوب الرياض</td>\n",
       "      <td>24.615075</td>\n",
       "      <td>46.719176</td>\n",
       "    </tr>\n",
       "    <tr>\n",
       "      <th>574</th>\n",
       "      <td>https://www.google.com/maps/place/Butterflies+...</td>\n",
       "      <td>Butterflies House International School_مدرسة م...</td>\n",
       "      <td>4.5</td>\n",
       "      <td>158</td>\n",
       "      <td>مدرسة دولية</td>\n",
       "      <td>058 383 3530</td>\n",
       "      <td>منفوحة الجديدة</td>\n",
       "      <td>No Website</td>\n",
       "      <td>جنوب الرياض</td>\n",
       "      <td>24.656699</td>\n",
       "      <td>46.740663</td>\n",
       "    </tr>\n",
       "  </tbody>\n",
       "</table>\n",
       "<p>575 rows × 11 columns</p>\n",
       "</div>"
      ],
      "text/plain": [
       "                                                   url  \\\n",
       "0    https://www.google.com/maps/place/%D9%85%D8%B1...   \n",
       "1    https://www.google.com/maps/place/%D9%85%D8%B1...   \n",
       "2    https://www.google.com/maps/place/%D9%85%D8%B1...   \n",
       "3    https://www.google.com/maps/place/%D9%85%D8%B1...   \n",
       "4    https://www.google.com/maps/place/%D8%AD%D8%B6...   \n",
       "..                                                 ...   \n",
       "570  https://www.google.com/maps/place/%D9%85%D8%B1...   \n",
       "571  https://www.google.com/maps/place/%D8%AD%D8%B6...   \n",
       "572  https://www.google.com/maps/place/%D8%AD%D8%B6...   \n",
       "573  https://www.google.com/maps/place/%D8%AD%D8%B6...   \n",
       "574  https://www.google.com/maps/place/Butterflies+...   \n",
       "\n",
       "                                                  Name  Rates  Reviews  \\\n",
       "0                  مركز الرواد الاذكياء لضيافة الاطفال    4.3      163   \n",
       "1                       مركز شجرة العلم لضيافة الاطفال    3.8       48   \n",
       "2                               مركز اشبال الغد لضيافة    3.6       32   \n",
       "3             مركز نجوم صغيرة لضيافة الأطفال حي غرناطة    4.1       81   \n",
       "4                          حضانة فتافيت السكر المنزليه    4.0        2   \n",
       "..                                                 ...    ...      ...   \n",
       "570                              مركز ضيافة نصنع الغد2    5.0       46   \n",
       "571                               حضانة الملز بيبي كير    4.2       40   \n",
       "572                                     حضانة كرز وتوت    4.4       17   \n",
       "573                                      حضانة ام يوسف    5.0        2   \n",
       "574  Butterflies House International School_مدرسة م...    4.5      158   \n",
       "\n",
       "            Type         Phone    Neighborhood     Website    direction  \\\n",
       "0    حضانة أطفال  050 994 8694        الازدهار  No Website  شمال الرياض   \n",
       "1    حضانة أطفال  054 327 5455        الازدهار  No Website  شمال الرياض   \n",
       "2    حضانة أطفال  050 908 4095        الازدهار  No Website  شمال الرياض   \n",
       "3    حضانة أطفال  050 004 6990        الازدهار  No Website  شمال الرياض   \n",
       "4    حضانة أطفال      No Phone        الازدهار  No Website  شمال الرياض   \n",
       "..           ...           ...             ...         ...          ...   \n",
       "570  حضانة أطفال  054 427 9223  منفوحة الجديدة  No Website  جنوب الرياض   \n",
       "571  حضانة أطفال      No Phone  منفوحة الجديدة  No Website  جنوب الرياض   \n",
       "572  حضانة أطفال  055 252 9564  منفوحة الجديدة  No Website  جنوب الرياض   \n",
       "573  حضانة أطفال      No Phone  منفوحة الجديدة  No Website  جنوب الرياض   \n",
       "574  مدرسة دولية  058 383 3530  منفوحة الجديدة  No Website  جنوب الرياض   \n",
       "\n",
       "      Latitude  Longitude  \n",
       "0    24.775561  46.721974  \n",
       "1    24.776412  46.724232  \n",
       "2    24.781084  46.722319  \n",
       "3    24.786064  46.739789  \n",
       "4    24.775388  46.721808  \n",
       "..         ...        ...  \n",
       "570  24.672552  46.735377  \n",
       "571  24.670961  46.747783  \n",
       "572  24.673863  46.685576  \n",
       "573  24.615075  46.719176  \n",
       "574  24.656699  46.740663  \n",
       "\n",
       "[575 rows x 11 columns]"
      ]
     },
     "metadata": {},
     "output_type": "display_data"
    }
   ],
   "source": [
    "df"
   ]
  },
  {
   "cell_type": "markdown",
   "id": "4b6911f4",
   "metadata": {},
   "source": [
    "## اكثر الروضات تقييم شرق الرياض \n"
   ]
  },
  {
   "cell_type": "code",
   "execution_count": null,
   "id": "7f35b6c7",
   "metadata": {},
   "outputs": [],
   "source": [
    "top_W = df[(df[\"Reviews\"] > 30) & (df[\"Rates\"] > 4) &  (df[\"direction\"] == \"شرق الرياض\")]"
   ]
  },
  {
   "cell_type": "code",
   "execution_count": null,
   "id": "6d43e558",
   "metadata": {},
   "outputs": [
    {
     "data": {
      "application/vnd.plotly.v1+json": {
       "config": {
        "plotlyServerURL": "https://plot.ly"
       },
       "data": [
        {
         "customdata": {
          "bdata": "ZmZmZmZmEkAAAAAAAABAQAAAAAAAABJAAAAAAACAQUAzMzMzMzMRQAAAAAAAgEBAmpmZmZmZEUAAAAAAAABOQM3MzMzMzBJAAAAAAAAAWUAAAAAAAAASQAAAAAAAAEJAZmZmZmZmEkAAAAAAAABaQJqZmZmZmRFAAAAAAACARECamZmZmZkTQAAAAAAAgGNAZmZmZmZmEkAAAAAAAABTQGZmZmZmZhBAAAAAAADAWEDNzMzMzMwQQAAAAAAAAElAMzMzMzMzEUAAAAAAAABFQJqZmZmZmRFAAAAAAAAAT0BmZmZmZmYSQAAAAAAAAE9AzczMzMzMEkAAAAAAAIBFQM3MzMzMzBJAAAAAAACAQkCamZmZmZkRQAAAAAAAgEdAmpmZmZmZE0AAAAAAAIBIQM3MzMzMzBJAAAAAAAAAS0DNzMzMzMwQQAAAAAAAgENAZmZmZmZmEEAAAAAAAIBRQDMzMzMzMxNAAAAAAACATUCamZmZmZkRQAAAAAAAIGpAMzMzMzMzEUAAAAAAAABAQGZmZmZmZhBAAAAAAAAAU0AzMzMzMzMTQAAAAAAAgF9AmpmZmZmZE0AAAAAAAABOQGZmZmZmZhBAAAAAAACAQkCamZmZmZkRQAAAAAAAgFBAmpmZmZmZE0AAAAAAAABOQM3MzMzMzBBAAAAAAADAVUCamZmZmZkRQAAAAAAAgERAMzMzMzMzEUAAAAAAAIBBQDMzMzMzMxFAAAAAAACAUUCamZmZmZkRQAAAAAAAYGRAmpmZmZmZEUAAAAAAAIBhQM3MzMzMzBJAAAAAAAAAQEAAAAAAAAASQAAAAAAAAD9AzczMzMzMEkAAAAAAAEBYQGZmZmZmZhBAAAAAAAAAX0BmZmZmZmYQQAAAAAAAQFdAMzMzMzMzE0AAAAAAAIBKQM3MzMzMzBJAAAAAAABAVUDNzMzMzMwQQAAAAAAAwGJAAAAAAAAAEkAAAAAAAIBLQGZmZmZmZhJAAAAAAAAAVEDNzMzMzMwSQAAAAAAAAFZAAAAAAAAAEkAAAAAAAABtQAAAAAAAABJAAAAAAAAAR0DNzMzMzMwSQAAAAAAAYHBAmpmZmZmZEUAAAAAAAABAQGZmZmZmZhBAAAAAAADAUEAzMzMzMzMTQAAAAAAAgFBAAAAAAAAAEkAAAAAAAABKQJqZmZmZmRNAAAAAAACARECamZmZmZkRQAAAAAAAQFNAZmZmZmZmEkAAAAAAAABJQGZmZmZmZhJAAAAAAACAQkCamZmZmZkTQAAAAAAAgEJAMzMzMzMzE0AAAAAAAEBVQJqZmZmZmRNAAAAAAAAgYEDNzMzMzMwSQAAAAAAAQFVAZmZmZmZmEEAAAAAAAIBXQDMzMzMzMxNAAAAAAACATEBmZmZmZmYQQAAAAAAAgEhAMzMzMzMzEUAAAAAAAMBYQM3MzMzMzBJAAAAAAAAAP0BmZmZmZmYQQAAAAAAAQGJAZmZmZmZmEEAAAAAAAIBIQGZmZmZmZhBAAAAAAAAAUEAAAAAAAAASQAAAAAAAoGJAAAAAAAAAEkAAAAAAAIBSQJqZmZmZmRFAAAAAAAAAUkAzMzMzMzMTQAAAAAAAQFlAmpmZmZmZEUAAAAAAAIBZQGZmZmZmZhBAAAAAAACAQ0AAAAAAAAASQAAAAAAAAGNAzczMzMzMEEAAAAAAAABEQDMzMzMzMxNAAAAAAACAQkBmZmZmZmYSQAAAAAAAgFNAZmZmZmZmEkAAAAAAAABNQJqZmZmZmRFAAAAAAAAAVkA=",
          "dtype": "f8",
          "shape": "83, 2"
         },
         "hovertemplate": "<b>%{hovertext}</b><br><br>Latitude=%{lat}<br>Longitude=%{lon}<br>Rates=%{customdata[0]}<br>Reviews=%{customdata[1]}<extra></extra>",
         "hovertext": [
          "الروضة 148",
          "حضانه الأطفال الأهلية أنهار العلم",
          "حضانه لتين الطفولة للضيافة الاطفال",
          "LEADERS CLOUD حضانة",
          "مدارس رياض العلم",
          "حضانة كيدز بارك الجزيرة",
          "مركز أحضان لضيافة الاطفال",
          "اسيل الطفولة فرع المعالي",
          "حضانة نماء الطفل",
          "منتسورى هاوس",
          "حضانة النخبة للطفولة",
          "مركز ألواني ضيافة أطفال",
          "مركز حضانة اهتمام أم الأهلي لضيافة الأطفال",
          "بيت السعادة لضيافة الأطفال",
          "حضانة أحباب الرحمن",
          "حضانة الاطفال الاذكياء",
          "حضانة عالم دلال",
          "حظانه طفلي السعيد",
          "مركز بنفسج لضيافة الاطفال الأهلية",
          "حضانة و روضة الملهمون الصغار الأهلية",
          "Smart Kids Montessori - Al Reem Compound",
          "مركز مجرة الطفل",
          "مركز نخبة المستقبل لضيافة الاطفال الأهلية",
          "روضة عباقرة الرياض للاطفال",
          "حضانة سحاب",
          "حضانه لتين الطفولة لضيافة الاطفال",
          "مركز قادة المنار",
          "مركز عناية الطفل لضيافة الأطفال",
          "أسيل الطفولة فرع السويلمي",
          "اسيل الطفوله فرع سلطانه",
          "مركز ايادي مبدعة",
          "إبداع الصغار لضيافة الأطفال(حضانه -روضه - دمج -جلسات تنميه مهارات )",
          "Bedayaat Nursery Al Nahda- حضانة بدايات النهضة",
          "مدارس براعم الرياحين الاهلية",
          "داري الصغيرة لضيافة الأطفال",
          "مدرسة رواد المجد الأهلية روضة - تمهيدي - إبتدائي بنات",
          "مركز ثمار الغد لضيافة الاطفال",
          "روضة واحة طفلي",
          "روضة ثمار الغد (روضة، حضانة )",
          "مركز عوامل النجاح ضيافة الاطفال الاهلية حضانة",
          "مكعبات ضيافة أطفال",
          "Bedayaat Nursery َQurtoba - حضانة بدايات قرطبة",
          "حضانة حكاية طفل",
          "مركز واحة المرح لضيافة الأطفال الأهلية",
          "Basmat Al-Anoud International School",
          "مدرسة الهداية النسائية لتحفيظ القرآن الكريم",
          "دار الروابي النسائي",
          "مركز تكوين لضيافة الأطفال فرع النخيل",
          "مركز تكوين لضيافة الأطفال فرع الرائد",
          "Social care center in Rabwa",
          "ارض الاحلام لضيافة الاطفال",
          "عباقرة المعرفه",
          "مركز بيت البراعم للأطفال",
          "مركز مهارة و علم لضيافة الأطفال",
          "مدرسة رمال العلم الأهليه",
          "روضة اتقان المعرفة لضيافة الاطفال",
          "مدرسة تنال الأهلية",
          "مركز أغصان لضيافة الاطفال المنزلية",
          "مركز ضيافة نصنع الغد",
          "مركز عالم مودة لضيافة الأطفال",
          "مركز مدارك الطفل الأولى لضيافة الاطفال",
          "مركز سماء ونجوم لضيافة الأطفال",
          "مركز واحة المرح لضيافة الأطفال الأهلية",
          "......",
          "مركز قطرة الندى لضيافة الأطفال",
          "روضة 60",
          "روضة حكاية غرس الأهلية",
          "مركز طفلي الموهوب لضيافة الاطفال",
          "نحو القمة لضيافة الاطفال",
          "مركز حديقة الطفل لضيافة الاطفال",
          "الروضة 194",
          "مدرسة بقعة التفكير الأهلية",
          "مركز توته لضيافة الأطفال",
          "حضانة السنوات الاولى",
          "روضة البيان",
          "مركز طفل المستقبل",
          "مركز عالم سما لضيافة الأطفال (فرع السلام)",
          "مدارس رواد القادة الأهلية",
          "مركز مهجتي للضيافة الأطفال الأهلية",
          "حضانة أحلى عالم",
          "مركز براعم وأزهار ضيافة أطفال أهلية",
          "مركز خطوة نجاح لضيافة الأطفال",
          "مدارس التربية النموذجية رياض أطفال"
         ],
         "lat": {
          "bdata": "AALWql2tOEAI3trTH604QD7KiAtAxzhAYWwhyEHHOECAAjly7sQ4QPhT46WbqjhAp804DVGtOEAb9ntindY4QHe+nxovwzhATDIXXYPHOECj+a3ntcU4QMARkyaUxjhAd2v0xTnDOEBdS21OytM4QFZcwdso0ThAp3Sw/s/ROEC9aZ8zDtg4QCdh8Hp62DhAhMoJJHLROECmv/J79tc4QKUOl8G91ThA2+3E9qTROECVXGopxcs4QAMO/ANAzDhA9QqwNJXOOEDqoWyAiNE4QOLfDKPFzjhAEVfO3hnPOEB2pztPPMk4QBhRJKmWzjhA09KBUe7NOEAF+G7zxrs4QPvDO2XavzhAvaVBdoO7OECel4qNeb84QLBrIAKzuzhA2tg21g/ROECKyRtg5tM4QMknGlpTzzhAo5ZBEHvSOECElVS3xNE4QOmsYGV+zzhAlmapq/HQOEAg4P99fLg4QHk15a81sDhArUyd7AuxOECBFfHnJbI4QDdid8sfvzhAoM1gQru1OEDTk+gbh7I4QIIavoV1rzhADopBu57bOECvGwC75Nc4QPaX3ZOH2ThABkJXx5baOEB7fyg9eOA4QNuGURA87DhAlWtlHemvOECFIoIWt7I4QK4BW2/lsDhABh1j3S6wOECUAsHSr7k4QCDg/318uDhAOlj/5zC5OEC7CPja2L04QE3rgDUYtDhAJg7qbBLFOEBcPpKSHrA4QCq+6330zThAY9dRML7JOEB5knTN5Mk4QF83tuiuzDhAn01YLI+ROEAyqgzjbrw4QIFhVK3grDhA7MA5I0q5OEBd4PJYM7Q4QCx96IL6tjhAXtkFg2vOOED0cjM3OrQ4QF2htNw+tjhAAhe/hGW3OEBQj8jS4rU4QA==",
          "dtype": "f8"
         },
         "legendgroup": "",
         "lon": {
          "bdata": "XDdKA+RoR0Bqs/ufDWdHQOfNPBRgYkdAqAmRwqtfR0DnoVtUMGFHQHnpJjEIZ0dA3ZkJhnNmR0CXcymuKnBHQP7UeOkmZkdAsVh5uNNnR0CW83tRcWdHQJ14GKQqaEdAMwnNZO5lR0CXDoxyH2NHQLGg1W5gY0dAwKz16ohjR0ByYll6fmNHQJVDMLN0Y0dA7M1ebBBhR0CczC7OzmNHQPUUlP1OYEdAC/yXWqVfR0CaWIVyR3BHQK2u+acKb0dADq81pQZxR0Anra75p3JHQC2fQDPjcUdAKG82DNVxR0Ahsw6iEHRHQD2t7MxOc0dA1tRoKKRuR0CEQqliz21HQCdyd4zhZUdACQ0OQLRnR0Cm0HmNXWxHQFsClZY2bEdA05fvKrVpR0AkEuBP6GdHQNPH1/kSaEdAkvAYebReR0CkBFg/kV1HQP8lqUwxX0dAnJ1WG61eR0DwX2qVqmFHQLrREQpbX0dAwv+xa9ZfR0DGoLiIlGRHQNfNe1LcUkdAn53CAHhRR0DFmE+xxV5HQHXgQVgyY0dAQcKLGTxsR0C/r9uxImtHQBPEL6tmakdANVDPcSRqR0B6iOu9nWtHQCyuOycHZUdAxLRv7q9kR0Dxdzk2TGRHQArt5vObZUdADRr6J7hlR0C1jZoKTGJHQPBfapWqYUdA/eiKCLViR0B98aA0L2FHQALJhRRNa0dAKcXYU7xiR0BL9VPSeWtHQCB8KNGSZ0dAVT66x4hiR0Dl+5jFemZHQEOqKF5lX0dAQ2vq4XBDR0D3YRgLnlJHQOY7ndCQY0dAKeDodGplR0D89VSYCGdHQLUSX5JvaEdAFtRcE3dmR0CySX7Er2JHQEq+yLpuZUdAlVqUfmdjR0Bd3EYDeGNHQA==",
          "dtype": "f8"
         },
         "marker": {
          "color": "fuchsia"
         },
         "mode": "markers",
         "name": "",
         "showlegend": false,
         "subplot": "map",
         "type": "scattermap"
        }
       ],
       "layout": {
        "height": 500,
        "legend": {
         "tracegroupgap": 0
        },
        "map": {
         "center": {
          "lat": 24.764631424096386,
          "lon": 46.79222767951807
         },
         "domain": {
          "x": [
           0,
           1
          ],
          "y": [
           0,
           1
          ]
         },
         "style": "open-street-map",
         "zoom": 10
        },
        "mapbox": {
         "center": {
          "lat": 24.764631424096386,
          "lon": 46.79222767951807
         },
         "zoom": 10
        },
        "margin": {
         "b": 0,
         "l": 0,
         "r": 0,
         "t": 0
        },
        "template": {
         "data": {
          "bar": [
           {
            "error_x": {
             "color": "#2a3f5f"
            },
            "error_y": {
             "color": "#2a3f5f"
            },
            "marker": {
             "line": {
              "color": "#E5ECF6",
              "width": 0.5
             },
             "pattern": {
              "fillmode": "overlay",
              "size": 10,
              "solidity": 0.2
             }
            },
            "type": "bar"
           }
          ],
          "barpolar": [
           {
            "marker": {
             "line": {
              "color": "#E5ECF6",
              "width": 0.5
             },
             "pattern": {
              "fillmode": "overlay",
              "size": 10,
              "solidity": 0.2
             }
            },
            "type": "barpolar"
           }
          ],
          "carpet": [
           {
            "aaxis": {
             "endlinecolor": "#2a3f5f",
             "gridcolor": "white",
             "linecolor": "white",
             "minorgridcolor": "white",
             "startlinecolor": "#2a3f5f"
            },
            "baxis": {
             "endlinecolor": "#2a3f5f",
             "gridcolor": "white",
             "linecolor": "white",
             "minorgridcolor": "white",
             "startlinecolor": "#2a3f5f"
            },
            "type": "carpet"
           }
          ],
          "choropleth": [
           {
            "colorbar": {
             "outlinewidth": 0,
             "ticks": ""
            },
            "type": "choropleth"
           }
          ],
          "contour": [
           {
            "colorbar": {
             "outlinewidth": 0,
             "ticks": ""
            },
            "colorscale": [
             [
              0,
              "#0d0887"
             ],
             [
              0.1111111111111111,
              "#46039f"
             ],
             [
              0.2222222222222222,
              "#7201a8"
             ],
             [
              0.3333333333333333,
              "#9c179e"
             ],
             [
              0.4444444444444444,
              "#bd3786"
             ],
             [
              0.5555555555555556,
              "#d8576b"
             ],
             [
              0.6666666666666666,
              "#ed7953"
             ],
             [
              0.7777777777777778,
              "#fb9f3a"
             ],
             [
              0.8888888888888888,
              "#fdca26"
             ],
             [
              1,
              "#f0f921"
             ]
            ],
            "type": "contour"
           }
          ],
          "contourcarpet": [
           {
            "colorbar": {
             "outlinewidth": 0,
             "ticks": ""
            },
            "type": "contourcarpet"
           }
          ],
          "heatmap": [
           {
            "colorbar": {
             "outlinewidth": 0,
             "ticks": ""
            },
            "colorscale": [
             [
              0,
              "#0d0887"
             ],
             [
              0.1111111111111111,
              "#46039f"
             ],
             [
              0.2222222222222222,
              "#7201a8"
             ],
             [
              0.3333333333333333,
              "#9c179e"
             ],
             [
              0.4444444444444444,
              "#bd3786"
             ],
             [
              0.5555555555555556,
              "#d8576b"
             ],
             [
              0.6666666666666666,
              "#ed7953"
             ],
             [
              0.7777777777777778,
              "#fb9f3a"
             ],
             [
              0.8888888888888888,
              "#fdca26"
             ],
             [
              1,
              "#f0f921"
             ]
            ],
            "type": "heatmap"
           }
          ],
          "histogram": [
           {
            "marker": {
             "pattern": {
              "fillmode": "overlay",
              "size": 10,
              "solidity": 0.2
             }
            },
            "type": "histogram"
           }
          ],
          "histogram2d": [
           {
            "colorbar": {
             "outlinewidth": 0,
             "ticks": ""
            },
            "colorscale": [
             [
              0,
              "#0d0887"
             ],
             [
              0.1111111111111111,
              "#46039f"
             ],
             [
              0.2222222222222222,
              "#7201a8"
             ],
             [
              0.3333333333333333,
              "#9c179e"
             ],
             [
              0.4444444444444444,
              "#bd3786"
             ],
             [
              0.5555555555555556,
              "#d8576b"
             ],
             [
              0.6666666666666666,
              "#ed7953"
             ],
             [
              0.7777777777777778,
              "#fb9f3a"
             ],
             [
              0.8888888888888888,
              "#fdca26"
             ],
             [
              1,
              "#f0f921"
             ]
            ],
            "type": "histogram2d"
           }
          ],
          "histogram2dcontour": [
           {
            "colorbar": {
             "outlinewidth": 0,
             "ticks": ""
            },
            "colorscale": [
             [
              0,
              "#0d0887"
             ],
             [
              0.1111111111111111,
              "#46039f"
             ],
             [
              0.2222222222222222,
              "#7201a8"
             ],
             [
              0.3333333333333333,
              "#9c179e"
             ],
             [
              0.4444444444444444,
              "#bd3786"
             ],
             [
              0.5555555555555556,
              "#d8576b"
             ],
             [
              0.6666666666666666,
              "#ed7953"
             ],
             [
              0.7777777777777778,
              "#fb9f3a"
             ],
             [
              0.8888888888888888,
              "#fdca26"
             ],
             [
              1,
              "#f0f921"
             ]
            ],
            "type": "histogram2dcontour"
           }
          ],
          "mesh3d": [
           {
            "colorbar": {
             "outlinewidth": 0,
             "ticks": ""
            },
            "type": "mesh3d"
           }
          ],
          "parcoords": [
           {
            "line": {
             "colorbar": {
              "outlinewidth": 0,
              "ticks": ""
             }
            },
            "type": "parcoords"
           }
          ],
          "pie": [
           {
            "automargin": true,
            "type": "pie"
           }
          ],
          "scatter": [
           {
            "fillpattern": {
             "fillmode": "overlay",
             "size": 10,
             "solidity": 0.2
            },
            "type": "scatter"
           }
          ],
          "scatter3d": [
           {
            "line": {
             "colorbar": {
              "outlinewidth": 0,
              "ticks": ""
             }
            },
            "marker": {
             "colorbar": {
              "outlinewidth": 0,
              "ticks": ""
             }
            },
            "type": "scatter3d"
           }
          ],
          "scattercarpet": [
           {
            "marker": {
             "colorbar": {
              "outlinewidth": 0,
              "ticks": ""
             }
            },
            "type": "scattercarpet"
           }
          ],
          "scattergeo": [
           {
            "marker": {
             "colorbar": {
              "outlinewidth": 0,
              "ticks": ""
             }
            },
            "type": "scattergeo"
           }
          ],
          "scattergl": [
           {
            "marker": {
             "colorbar": {
              "outlinewidth": 0,
              "ticks": ""
             }
            },
            "type": "scattergl"
           }
          ],
          "scattermap": [
           {
            "marker": {
             "colorbar": {
              "outlinewidth": 0,
              "ticks": ""
             }
            },
            "type": "scattermap"
           }
          ],
          "scattermapbox": [
           {
            "marker": {
             "colorbar": {
              "outlinewidth": 0,
              "ticks": ""
             }
            },
            "type": "scattermapbox"
           }
          ],
          "scatterpolar": [
           {
            "marker": {
             "colorbar": {
              "outlinewidth": 0,
              "ticks": ""
             }
            },
            "type": "scatterpolar"
           }
          ],
          "scatterpolargl": [
           {
            "marker": {
             "colorbar": {
              "outlinewidth": 0,
              "ticks": ""
             }
            },
            "type": "scatterpolargl"
           }
          ],
          "scatterternary": [
           {
            "marker": {
             "colorbar": {
              "outlinewidth": 0,
              "ticks": ""
             }
            },
            "type": "scatterternary"
           }
          ],
          "surface": [
           {
            "colorbar": {
             "outlinewidth": 0,
             "ticks": ""
            },
            "colorscale": [
             [
              0,
              "#0d0887"
             ],
             [
              0.1111111111111111,
              "#46039f"
             ],
             [
              0.2222222222222222,
              "#7201a8"
             ],
             [
              0.3333333333333333,
              "#9c179e"
             ],
             [
              0.4444444444444444,
              "#bd3786"
             ],
             [
              0.5555555555555556,
              "#d8576b"
             ],
             [
              0.6666666666666666,
              "#ed7953"
             ],
             [
              0.7777777777777778,
              "#fb9f3a"
             ],
             [
              0.8888888888888888,
              "#fdca26"
             ],
             [
              1,
              "#f0f921"
             ]
            ],
            "type": "surface"
           }
          ],
          "table": [
           {
            "cells": {
             "fill": {
              "color": "#EBF0F8"
             },
             "line": {
              "color": "white"
             }
            },
            "header": {
             "fill": {
              "color": "#C8D4E3"
             },
             "line": {
              "color": "white"
             }
            },
            "type": "table"
           }
          ]
         },
         "layout": {
          "annotationdefaults": {
           "arrowcolor": "#2a3f5f",
           "arrowhead": 0,
           "arrowwidth": 1
          },
          "autotypenumbers": "strict",
          "coloraxis": {
           "colorbar": {
            "outlinewidth": 0,
            "ticks": ""
           }
          },
          "colorscale": {
           "diverging": [
            [
             0,
             "#8e0152"
            ],
            [
             0.1,
             "#c51b7d"
            ],
            [
             0.2,
             "#de77ae"
            ],
            [
             0.3,
             "#f1b6da"
            ],
            [
             0.4,
             "#fde0ef"
            ],
            [
             0.5,
             "#f7f7f7"
            ],
            [
             0.6,
             "#e6f5d0"
            ],
            [
             0.7,
             "#b8e186"
            ],
            [
             0.8,
             "#7fbc41"
            ],
            [
             0.9,
             "#4d9221"
            ],
            [
             1,
             "#276419"
            ]
           ],
           "sequential": [
            [
             0,
             "#0d0887"
            ],
            [
             0.1111111111111111,
             "#46039f"
            ],
            [
             0.2222222222222222,
             "#7201a8"
            ],
            [
             0.3333333333333333,
             "#9c179e"
            ],
            [
             0.4444444444444444,
             "#bd3786"
            ],
            [
             0.5555555555555556,
             "#d8576b"
            ],
            [
             0.6666666666666666,
             "#ed7953"
            ],
            [
             0.7777777777777778,
             "#fb9f3a"
            ],
            [
             0.8888888888888888,
             "#fdca26"
            ],
            [
             1,
             "#f0f921"
            ]
           ],
           "sequentialminus": [
            [
             0,
             "#0d0887"
            ],
            [
             0.1111111111111111,
             "#46039f"
            ],
            [
             0.2222222222222222,
             "#7201a8"
            ],
            [
             0.3333333333333333,
             "#9c179e"
            ],
            [
             0.4444444444444444,
             "#bd3786"
            ],
            [
             0.5555555555555556,
             "#d8576b"
            ],
            [
             0.6666666666666666,
             "#ed7953"
            ],
            [
             0.7777777777777778,
             "#fb9f3a"
            ],
            [
             0.8888888888888888,
             "#fdca26"
            ],
            [
             1,
             "#f0f921"
            ]
           ]
          },
          "colorway": [
           "#636efa",
           "#EF553B",
           "#00cc96",
           "#ab63fa",
           "#FFA15A",
           "#19d3f3",
           "#FF6692",
           "#B6E880",
           "#FF97FF",
           "#FECB52"
          ],
          "font": {
           "color": "#2a3f5f"
          },
          "geo": {
           "bgcolor": "white",
           "lakecolor": "white",
           "landcolor": "#E5ECF6",
           "showlakes": true,
           "showland": true,
           "subunitcolor": "white"
          },
          "hoverlabel": {
           "align": "left"
          },
          "hovermode": "closest",
          "mapbox": {
           "style": "light"
          },
          "paper_bgcolor": "white",
          "plot_bgcolor": "#E5ECF6",
          "polar": {
           "angularaxis": {
            "gridcolor": "white",
            "linecolor": "white",
            "ticks": ""
           },
           "bgcolor": "#E5ECF6",
           "radialaxis": {
            "gridcolor": "white",
            "linecolor": "white",
            "ticks": ""
           }
          },
          "scene": {
           "xaxis": {
            "backgroundcolor": "#E5ECF6",
            "gridcolor": "white",
            "gridwidth": 2,
            "linecolor": "white",
            "showbackground": true,
            "ticks": "",
            "zerolinecolor": "white"
           },
           "yaxis": {
            "backgroundcolor": "#E5ECF6",
            "gridcolor": "white",
            "gridwidth": 2,
            "linecolor": "white",
            "showbackground": true,
            "ticks": "",
            "zerolinecolor": "white"
           },
           "zaxis": {
            "backgroundcolor": "#E5ECF6",
            "gridcolor": "white",
            "gridwidth": 2,
            "linecolor": "white",
            "showbackground": true,
            "ticks": "",
            "zerolinecolor": "white"
           }
          },
          "shapedefaults": {
           "line": {
            "color": "#2a3f5f"
           }
          },
          "ternary": {
           "aaxis": {
            "gridcolor": "white",
            "linecolor": "white",
            "ticks": ""
           },
           "baxis": {
            "gridcolor": "white",
            "linecolor": "white",
            "ticks": ""
           },
           "bgcolor": "#E5ECF6",
           "caxis": {
            "gridcolor": "white",
            "linecolor": "white",
            "ticks": ""
           }
          },
          "title": {
           "x": 0.05
          },
          "xaxis": {
           "automargin": true,
           "gridcolor": "white",
           "linecolor": "white",
           "ticks": "",
           "title": {
            "standoff": 15
           },
           "zerolinecolor": "white",
           "zerolinewidth": 2
          },
          "yaxis": {
           "automargin": true,
           "gridcolor": "white",
           "linecolor": "white",
           "ticks": "",
           "title": {
            "standoff": 15
           },
           "zerolinecolor": "white",
           "zerolinewidth": 2
          }
         }
        }
       }
      }
     },
     "metadata": {},
     "output_type": "display_data"
    }
   ],
   "source": [
    "fig1 = px.scatter_map(top_W, lat=\"Latitude\", lon=\"Longitude\", hover_name=\"Name\", hover_data=[\"Rates\", \"Reviews\"],\n",
    "                        color_discrete_sequence=[\"fuchsia\"], zoom=10, height=500)\n",
    "fig1.update_layout(map_style=\"open-street-map\")\n",
    "fig1.update_layout(margin={\"r\":0,\"t\":0,\"l\":0,\"b\":0})\n",
    "fig1.show()"
   ]
  },
  {
   "cell_type": "markdown",
   "id": "1deb3c1c",
   "metadata": {},
   "source": [
    "## اكثر الروضات تقييم في غرب الرياض"
   ]
  },
  {
   "cell_type": "code",
   "execution_count": null,
   "id": "d6d2d5e9",
   "metadata": {},
   "outputs": [],
   "source": [
    "top_E = df[(df[\"Reviews\"] > 30) & (df[\"Rates\"] > 4) &  (df[\"direction\"] == \"غرب الرياض\")]"
   ]
  },
  {
   "cell_type": "code",
   "execution_count": null,
   "id": "2157e832",
   "metadata": {},
   "outputs": [
    {
     "data": {
      "application/vnd.plotly.v1+json": {
       "config": {
        "plotlyServerURL": "https://plot.ly"
       },
       "data": [
        {
         "customdata": {
          "bdata": "ZmZmZmZmEEAAAAAAAMBRQGZmZmZmZhJAAAAAAAAAUEAzMzMzMzMTQAAAAAAAQFxAzczMzMzMEkAAAAAAAIBLQDMzMzMzMxFAAAAAAACAXEAzMzMzMzMRQAAAAAAAwFJAzczMzMzMEEAAAAAAAIBAQM3MzMzMzBBAAAAAAABAUUAAAAAAAAASQAAAAAAAAGBAmpmZmZmZEUAAAAAAAMiBQGZmZmZmZhBAAAAAAAAAVkAAAAAAAAASQAAAAAAAwGFAzczMzMzMEkAAAAAAACBoQDMzMzMzMxFAAAAAAACAU0AzMzMzMzMTQAAAAAAAwFBAzczMzMzMEkAAAAAAAIBfQDMzMzMzMxFAAAAAAABAUEDNzMzMzMwQQAAAAAAAAEJAmpmZmZmZEUAAAAAAAIBIQGZmZmZmZhBAAAAAAACAYUDNzMzMzMwQQAAAAAAAgElAmpmZmZmZEUAAAAAAAABQQAAAAAAAABJAAAAAAAAAQkDNzMzMzMwQQAAAAAAA4G5AmpmZmZmZEUAAAAAAAIBTQGZmZmZmZhBAAAAAAACASEAzMzMzMzMRQAAAAAAAgEJAZmZmZmZmEkAAAAAAAMBVQM3MzMzMzBBAAAAAAADAckCamZmZmZkRQAAAAAAAgEtAMzMzMzMzEUAAAAAAAABYQGZmZmZmZhBAAAAAAAAAZUCamZmZmZkRQAAAAAAAAFdAzczMzMzMEkAAAAAAAIBMQJqZmZmZmRFAAAAAAACASECamZmZmZkRQAAAAAAAgENAAAAAAAAAEkAAAAAAAIBHQJqZmZmZmRNAAAAAAACASUAAAAAAAAASQAAAAAAAIGJAMzMzMzMzEUAAAAAAAIBAQA==",
          "dtype": "f8",
          "shape": "40, 2"
         },
         "hovertemplate": "<b>%{hovertext}</b><br><br>Latitude=%{lat}<br>Longitude=%{lon}<br>Rates=%{customdata[0]}<br>Reviews=%{customdata[1]}<extra></extra>",
         "hovertext": [
          "مركز براعم البديعة لضيافة الاطفال جديد",
          "مركز المجد لضيافة الأطفال الأهلية",
          "مركز حروف الطفولة",
          "مركز الجيل الناجح لضيافة الأطفال الاهليه فرع العريجاء الغربي",
          "مركز روعة الطفولة لضيافة الأطفال",
          "مركز الضيافة الأولى للأطفال",
          "روضة براعم دار بلقيس",
          "مدرسه قطاف الغد الاهليه",
          "غراس اليوم الأهلية",
          "مدارس المجد الأهلية (مجمع العريجاء)",
          "مركز البسمة الجميلة لضيافة الأطفال",
          "مركز طفلي المحبوب لضيافة الاطفال",
          "مركز بيت الحنان لضيافة الأطفال",
          "مركز غِراس النموذجي",
          "مركز ضيافة الاطفال المبتكر الصغيرة",
          "مدارس صغاري الأهلية",
          "مركز سمائي لضيافة الأطفال",
          "مركز دروب الغد لضيافة الأطفال",
          "مدرسة المتقنات النسائية.. روضة أطفال",
          "مدارس بناء المبدعين الأهلية ( رياض أطفال وصفوف أولية ابتدائي )",
          "مركز اليد الحنون لضيافة الاطفال",
          "مركز عالم الألوان لضيافة الاطفال",
          "حضانه دنيا الطفوله المنزليه",
          "روضة الجيل الواعد لرياض الأطفال",
          "حضانة ظل الهناء",
          "حضانة ماما سارة",
          "مركز قصص الاطفال لضيافة الاطفال",
          "كيد فرست لضيافة الاطفال",
          "روضة سنا الطفولة",
          "مركز الفنانون الصغار لضيافة الأطفال",
          "روضة اسس إرتقاء المعرفة لرياض الاطفال",
          "مدرسه صرح الطفوله الاهليه",
          "روضة وحضانة مدينة الطفل الأهلية",
          "مركز الورود الصغيرة لضيافة الأطفال",
          "مدرسة طريق الفجر الاهلية",
          "مركز سارة لضيافة الاطفال",
          "مركز هيفاء ضيافة الأطفال",
          "يوم الطفل لضيافة الأطفال",
          "مدارس جيل القادة الاهلية",
          "مدرسة الإمام محمد بن سعود النسائية لتحفيظ القرآن"
         ],
         "lat": {
          "bdata": "VDntKTmZOEB9y5wui5M4QPuOhvgslDhA83dKYqSWOEAeWVQfo5k4QKaIwh1enDhAJKmWviGaOEAu7S8W4Zc4QFaVIp6RjThAOR/osuKTOEDhdaLJao04QGjJiLCGjjhA3PwapDuLOECyp9NwgIs4QLezrzxIjThAQeYULvWLOEAU+T/RhpU4QLytmSH6jDhApGMYwRCVOECgT+RJ0os4QGySxDe5kDhATcaMS7CNOEACy1u/qpA4QO5UZYRcjjhAdMBkmTSiOEASoEvdOqA4QJIUoo1tozhAAw2RLpGgOEDDmJk+4KI4QDPw7acQpThArlD/tKyeOEBh3LLoQp84QEZPgBdspThAa0dxjjqiOECrPZHMj6I4QLEuE+qOoDhAasoEso2wOEAo/0kyYbI4QLvJuV7klThANS89UF2ZOEA=",
          "dtype": "f8"
         },
         "legendgroup": "",
         "lon": {
          "bdata": "smfPZWpTR0BsskY9RFRHQI+5fDVRVEdAonZkUX1MR0CJfzOMFktHQB1znrEvUUdARUt5CD5PR0Bqj3KLVE9HQJrSVRV1UUdAv0f99QpNR0CKqZlaW1dHQEcy9QTTWkdAHogs0sRYR0CWl/xP/ltHQOZuIdltQkdAvtwnRwFGR0B5HtydtUNHQGqRo+8kRUdAHp7KDpZJR0DrbG2GwEFHQO/+HfbnQkdAj02XagtCR0Bma32R0EtHQDR6f82DTkdAB9MwfERIR0ArB2l8FUZHQGDtg4fER0dADCHn/X9FR0D9eWS9YkdHQOY1G9B3SUdAovGfyVlCR0CxZ3Ss90hHQCoqLAKtQEdAOU361uI9R0CVL8PaczxHQH9ne/SGV0dAnpeKjXlSR0CjK8ca5FNHQD62wHnMUUdAg39bwYBXR0A=",
          "dtype": "f8"
         },
         "marker": {
          "color": "fuchsia"
         },
         "mode": "markers",
         "name": "",
         "showlegend": false,
         "subplot": "map",
         "type": "scattermap"
        }
       ],
       "layout": {
        "height": 500,
        "legend": {
         "tracegroupgap": 0
        },
        "map": {
         "center": {
          "lat": 24.596003145000005,
          "lon": 46.593493345
         },
         "domain": {
          "x": [
           0,
           1
          ],
          "y": [
           0,
           1
          ]
         },
         "style": "open-street-map",
         "zoom": 10
        },
        "mapbox": {
         "center": {
          "lat": 24.596003145000005,
          "lon": 46.593493345
         },
         "zoom": 10
        },
        "margin": {
         "b": 0,
         "l": 0,
         "r": 0,
         "t": 0
        },
        "template": {
         "data": {
          "bar": [
           {
            "error_x": {
             "color": "#2a3f5f"
            },
            "error_y": {
             "color": "#2a3f5f"
            },
            "marker": {
             "line": {
              "color": "#E5ECF6",
              "width": 0.5
             },
             "pattern": {
              "fillmode": "overlay",
              "size": 10,
              "solidity": 0.2
             }
            },
            "type": "bar"
           }
          ],
          "barpolar": [
           {
            "marker": {
             "line": {
              "color": "#E5ECF6",
              "width": 0.5
             },
             "pattern": {
              "fillmode": "overlay",
              "size": 10,
              "solidity": 0.2
             }
            },
            "type": "barpolar"
           }
          ],
          "carpet": [
           {
            "aaxis": {
             "endlinecolor": "#2a3f5f",
             "gridcolor": "white",
             "linecolor": "white",
             "minorgridcolor": "white",
             "startlinecolor": "#2a3f5f"
            },
            "baxis": {
             "endlinecolor": "#2a3f5f",
             "gridcolor": "white",
             "linecolor": "white",
             "minorgridcolor": "white",
             "startlinecolor": "#2a3f5f"
            },
            "type": "carpet"
           }
          ],
          "choropleth": [
           {
            "colorbar": {
             "outlinewidth": 0,
             "ticks": ""
            },
            "type": "choropleth"
           }
          ],
          "contour": [
           {
            "colorbar": {
             "outlinewidth": 0,
             "ticks": ""
            },
            "colorscale": [
             [
              0,
              "#0d0887"
             ],
             [
              0.1111111111111111,
              "#46039f"
             ],
             [
              0.2222222222222222,
              "#7201a8"
             ],
             [
              0.3333333333333333,
              "#9c179e"
             ],
             [
              0.4444444444444444,
              "#bd3786"
             ],
             [
              0.5555555555555556,
              "#d8576b"
             ],
             [
              0.6666666666666666,
              "#ed7953"
             ],
             [
              0.7777777777777778,
              "#fb9f3a"
             ],
             [
              0.8888888888888888,
              "#fdca26"
             ],
             [
              1,
              "#f0f921"
             ]
            ],
            "type": "contour"
           }
          ],
          "contourcarpet": [
           {
            "colorbar": {
             "outlinewidth": 0,
             "ticks": ""
            },
            "type": "contourcarpet"
           }
          ],
          "heatmap": [
           {
            "colorbar": {
             "outlinewidth": 0,
             "ticks": ""
            },
            "colorscale": [
             [
              0,
              "#0d0887"
             ],
             [
              0.1111111111111111,
              "#46039f"
             ],
             [
              0.2222222222222222,
              "#7201a8"
             ],
             [
              0.3333333333333333,
              "#9c179e"
             ],
             [
              0.4444444444444444,
              "#bd3786"
             ],
             [
              0.5555555555555556,
              "#d8576b"
             ],
             [
              0.6666666666666666,
              "#ed7953"
             ],
             [
              0.7777777777777778,
              "#fb9f3a"
             ],
             [
              0.8888888888888888,
              "#fdca26"
             ],
             [
              1,
              "#f0f921"
             ]
            ],
            "type": "heatmap"
           }
          ],
          "histogram": [
           {
            "marker": {
             "pattern": {
              "fillmode": "overlay",
              "size": 10,
              "solidity": 0.2
             }
            },
            "type": "histogram"
           }
          ],
          "histogram2d": [
           {
            "colorbar": {
             "outlinewidth": 0,
             "ticks": ""
            },
            "colorscale": [
             [
              0,
              "#0d0887"
             ],
             [
              0.1111111111111111,
              "#46039f"
             ],
             [
              0.2222222222222222,
              "#7201a8"
             ],
             [
              0.3333333333333333,
              "#9c179e"
             ],
             [
              0.4444444444444444,
              "#bd3786"
             ],
             [
              0.5555555555555556,
              "#d8576b"
             ],
             [
              0.6666666666666666,
              "#ed7953"
             ],
             [
              0.7777777777777778,
              "#fb9f3a"
             ],
             [
              0.8888888888888888,
              "#fdca26"
             ],
             [
              1,
              "#f0f921"
             ]
            ],
            "type": "histogram2d"
           }
          ],
          "histogram2dcontour": [
           {
            "colorbar": {
             "outlinewidth": 0,
             "ticks": ""
            },
            "colorscale": [
             [
              0,
              "#0d0887"
             ],
             [
              0.1111111111111111,
              "#46039f"
             ],
             [
              0.2222222222222222,
              "#7201a8"
             ],
             [
              0.3333333333333333,
              "#9c179e"
             ],
             [
              0.4444444444444444,
              "#bd3786"
             ],
             [
              0.5555555555555556,
              "#d8576b"
             ],
             [
              0.6666666666666666,
              "#ed7953"
             ],
             [
              0.7777777777777778,
              "#fb9f3a"
             ],
             [
              0.8888888888888888,
              "#fdca26"
             ],
             [
              1,
              "#f0f921"
             ]
            ],
            "type": "histogram2dcontour"
           }
          ],
          "mesh3d": [
           {
            "colorbar": {
             "outlinewidth": 0,
             "ticks": ""
            },
            "type": "mesh3d"
           }
          ],
          "parcoords": [
           {
            "line": {
             "colorbar": {
              "outlinewidth": 0,
              "ticks": ""
             }
            },
            "type": "parcoords"
           }
          ],
          "pie": [
           {
            "automargin": true,
            "type": "pie"
           }
          ],
          "scatter": [
           {
            "fillpattern": {
             "fillmode": "overlay",
             "size": 10,
             "solidity": 0.2
            },
            "type": "scatter"
           }
          ],
          "scatter3d": [
           {
            "line": {
             "colorbar": {
              "outlinewidth": 0,
              "ticks": ""
             }
            },
            "marker": {
             "colorbar": {
              "outlinewidth": 0,
              "ticks": ""
             }
            },
            "type": "scatter3d"
           }
          ],
          "scattercarpet": [
           {
            "marker": {
             "colorbar": {
              "outlinewidth": 0,
              "ticks": ""
             }
            },
            "type": "scattercarpet"
           }
          ],
          "scattergeo": [
           {
            "marker": {
             "colorbar": {
              "outlinewidth": 0,
              "ticks": ""
             }
            },
            "type": "scattergeo"
           }
          ],
          "scattergl": [
           {
            "marker": {
             "colorbar": {
              "outlinewidth": 0,
              "ticks": ""
             }
            },
            "type": "scattergl"
           }
          ],
          "scattermap": [
           {
            "marker": {
             "colorbar": {
              "outlinewidth": 0,
              "ticks": ""
             }
            },
            "type": "scattermap"
           }
          ],
          "scattermapbox": [
           {
            "marker": {
             "colorbar": {
              "outlinewidth": 0,
              "ticks": ""
             }
            },
            "type": "scattermapbox"
           }
          ],
          "scatterpolar": [
           {
            "marker": {
             "colorbar": {
              "outlinewidth": 0,
              "ticks": ""
             }
            },
            "type": "scatterpolar"
           }
          ],
          "scatterpolargl": [
           {
            "marker": {
             "colorbar": {
              "outlinewidth": 0,
              "ticks": ""
             }
            },
            "type": "scatterpolargl"
           }
          ],
          "scatterternary": [
           {
            "marker": {
             "colorbar": {
              "outlinewidth": 0,
              "ticks": ""
             }
            },
            "type": "scatterternary"
           }
          ],
          "surface": [
           {
            "colorbar": {
             "outlinewidth": 0,
             "ticks": ""
            },
            "colorscale": [
             [
              0,
              "#0d0887"
             ],
             [
              0.1111111111111111,
              "#46039f"
             ],
             [
              0.2222222222222222,
              "#7201a8"
             ],
             [
              0.3333333333333333,
              "#9c179e"
             ],
             [
              0.4444444444444444,
              "#bd3786"
             ],
             [
              0.5555555555555556,
              "#d8576b"
             ],
             [
              0.6666666666666666,
              "#ed7953"
             ],
             [
              0.7777777777777778,
              "#fb9f3a"
             ],
             [
              0.8888888888888888,
              "#fdca26"
             ],
             [
              1,
              "#f0f921"
             ]
            ],
            "type": "surface"
           }
          ],
          "table": [
           {
            "cells": {
             "fill": {
              "color": "#EBF0F8"
             },
             "line": {
              "color": "white"
             }
            },
            "header": {
             "fill": {
              "color": "#C8D4E3"
             },
             "line": {
              "color": "white"
             }
            },
            "type": "table"
           }
          ]
         },
         "layout": {
          "annotationdefaults": {
           "arrowcolor": "#2a3f5f",
           "arrowhead": 0,
           "arrowwidth": 1
          },
          "autotypenumbers": "strict",
          "coloraxis": {
           "colorbar": {
            "outlinewidth": 0,
            "ticks": ""
           }
          },
          "colorscale": {
           "diverging": [
            [
             0,
             "#8e0152"
            ],
            [
             0.1,
             "#c51b7d"
            ],
            [
             0.2,
             "#de77ae"
            ],
            [
             0.3,
             "#f1b6da"
            ],
            [
             0.4,
             "#fde0ef"
            ],
            [
             0.5,
             "#f7f7f7"
            ],
            [
             0.6,
             "#e6f5d0"
            ],
            [
             0.7,
             "#b8e186"
            ],
            [
             0.8,
             "#7fbc41"
            ],
            [
             0.9,
             "#4d9221"
            ],
            [
             1,
             "#276419"
            ]
           ],
           "sequential": [
            [
             0,
             "#0d0887"
            ],
            [
             0.1111111111111111,
             "#46039f"
            ],
            [
             0.2222222222222222,
             "#7201a8"
            ],
            [
             0.3333333333333333,
             "#9c179e"
            ],
            [
             0.4444444444444444,
             "#bd3786"
            ],
            [
             0.5555555555555556,
             "#d8576b"
            ],
            [
             0.6666666666666666,
             "#ed7953"
            ],
            [
             0.7777777777777778,
             "#fb9f3a"
            ],
            [
             0.8888888888888888,
             "#fdca26"
            ],
            [
             1,
             "#f0f921"
            ]
           ],
           "sequentialminus": [
            [
             0,
             "#0d0887"
            ],
            [
             0.1111111111111111,
             "#46039f"
            ],
            [
             0.2222222222222222,
             "#7201a8"
            ],
            [
             0.3333333333333333,
             "#9c179e"
            ],
            [
             0.4444444444444444,
             "#bd3786"
            ],
            [
             0.5555555555555556,
             "#d8576b"
            ],
            [
             0.6666666666666666,
             "#ed7953"
            ],
            [
             0.7777777777777778,
             "#fb9f3a"
            ],
            [
             0.8888888888888888,
             "#fdca26"
            ],
            [
             1,
             "#f0f921"
            ]
           ]
          },
          "colorway": [
           "#636efa",
           "#EF553B",
           "#00cc96",
           "#ab63fa",
           "#FFA15A",
           "#19d3f3",
           "#FF6692",
           "#B6E880",
           "#FF97FF",
           "#FECB52"
          ],
          "font": {
           "color": "#2a3f5f"
          },
          "geo": {
           "bgcolor": "white",
           "lakecolor": "white",
           "landcolor": "#E5ECF6",
           "showlakes": true,
           "showland": true,
           "subunitcolor": "white"
          },
          "hoverlabel": {
           "align": "left"
          },
          "hovermode": "closest",
          "mapbox": {
           "style": "light"
          },
          "paper_bgcolor": "white",
          "plot_bgcolor": "#E5ECF6",
          "polar": {
           "angularaxis": {
            "gridcolor": "white",
            "linecolor": "white",
            "ticks": ""
           },
           "bgcolor": "#E5ECF6",
           "radialaxis": {
            "gridcolor": "white",
            "linecolor": "white",
            "ticks": ""
           }
          },
          "scene": {
           "xaxis": {
            "backgroundcolor": "#E5ECF6",
            "gridcolor": "white",
            "gridwidth": 2,
            "linecolor": "white",
            "showbackground": true,
            "ticks": "",
            "zerolinecolor": "white"
           },
           "yaxis": {
            "backgroundcolor": "#E5ECF6",
            "gridcolor": "white",
            "gridwidth": 2,
            "linecolor": "white",
            "showbackground": true,
            "ticks": "",
            "zerolinecolor": "white"
           },
           "zaxis": {
            "backgroundcolor": "#E5ECF6",
            "gridcolor": "white",
            "gridwidth": 2,
            "linecolor": "white",
            "showbackground": true,
            "ticks": "",
            "zerolinecolor": "white"
           }
          },
          "shapedefaults": {
           "line": {
            "color": "#2a3f5f"
           }
          },
          "ternary": {
           "aaxis": {
            "gridcolor": "white",
            "linecolor": "white",
            "ticks": ""
           },
           "baxis": {
            "gridcolor": "white",
            "linecolor": "white",
            "ticks": ""
           },
           "bgcolor": "#E5ECF6",
           "caxis": {
            "gridcolor": "white",
            "linecolor": "white",
            "ticks": ""
           }
          },
          "title": {
           "x": 0.05
          },
          "xaxis": {
           "automargin": true,
           "gridcolor": "white",
           "linecolor": "white",
           "ticks": "",
           "title": {
            "standoff": 15
           },
           "zerolinecolor": "white",
           "zerolinewidth": 2
          },
          "yaxis": {
           "automargin": true,
           "gridcolor": "white",
           "linecolor": "white",
           "ticks": "",
           "title": {
            "standoff": 15
           },
           "zerolinecolor": "white",
           "zerolinewidth": 2
          }
         }
        }
       }
      }
     },
     "metadata": {},
     "output_type": "display_data"
    }
   ],
   "source": [
    "fig1 = px.scatter_map(top_E, lat=\"Latitude\", lon=\"Longitude\", hover_name=\"Name\", hover_data=[\"Rates\", \"Reviews\"],\n",
    "                        color_discrete_sequence=[\"fuchsia\"], zoom=10, height=500)\n",
    "fig1.update_layout(map_style=\"open-street-map\")\n",
    "fig1.update_layout(margin={\"r\":0,\"t\":0,\"l\":0,\"b\":0})\n",
    "fig1.show()"
   ]
  },
  {
   "cell_type": "markdown",
   "id": "664631cf",
   "metadata": {},
   "source": [
    "## اكثر الروضات تقييم في جنوب الرياض"
   ]
  },
  {
   "cell_type": "code",
   "execution_count": null,
   "id": "1cd5835c",
   "metadata": {},
   "outputs": [],
   "source": [
    "top_S = df[(df[\"Reviews\"] > 30) & (df[\"Rates\"] > 4) &  (df[\"direction\"] == \"جنوب الرياض\")]"
   ]
  },
  {
   "cell_type": "code",
   "execution_count": null,
   "id": "ecab5c3b",
   "metadata": {},
   "outputs": [
    {
     "data": {
      "application/vnd.plotly.v1+json": {
       "config": {
        "plotlyServerURL": "https://plot.ly"
       },
       "data": [
        {
         "customdata": {
          "bdata": "MzMzMzMzE0AAAAAAAABFQM3MzMzMzBJAAAAAAAAATUAzMzMzMzMRQAAAAAAAIGNAAAAAAAAAEkAAAAAAAABIQM3MzMzMzBJAAAAAAACAV0CamZmZmZkRQAAAAAAAwFdAAAAAAAAAEkAAAAAAAABKQAAAAAAAABJAAAAAAAAAV0DNzMzMzMwSQAAAAAAAgE9AZmZmZmZmEEAAAAAAAIBQQAAAAAAAABRAAAAAAAAAR0DNzMzMzMwQQAAAAAAAAERAAAAAAAAAEkAAAAAAAMBjQA==",
          "dtype": "f8",
          "shape": "13, 2"
         },
         "hovertemplate": "<b>%{hovertext}</b><br><br>Latitude=%{lat}<br>Longitude=%{lon}<br>Rates=%{customdata[0]}<br>Reviews=%{customdata[1]}<extra></extra>",
         "hovertext": [
          "حضانه واحة بيت الطفولة",
          "مركز لحظات الطفل",
          "مركز الطفل البطل لضيافة الأطفال",
          "حضانة ومركز المستكشف الصغير",
          "دار الفرقان",
          "روضة الأداب النموذجية الأهلية",
          "مركز انامل الابداع لضيافة الاطفال",
          "مدرسة آسيا بنت مزاحم النسائية( روضة آسيا الصباحية)",
          "مركز القرش الصغير لضيافة الاطفال",
          "Kids Station Nursery",
          "مركز ضيافة نصنع الغد2",
          "حضانة الملز بيبي كير",
          "Butterflies House International School_مدرسة منزل الفراشات العالمية"
         ],
         "lat": {
          "bdata": "7+GS406NOEBp/Gdy1oo4QNd4n5kWlzhAmBzSA3qSOEB9pT1vdJc4QNXhMrj3kjhAIaF3dG0pOkAuQgzPppQ4QLVau0j8ZzpALXGJyFWrOEAB3CxeLKw4QIri+hzEqzhA31D4bB2oOEA=",
          "dtype": "f8"
         },
         "legendgroup": "",
         "lon": {
          "bdata": "8sLnmD1UR0AXpHREGVNHQNvebkkOYkdAP/yhPm5gR0AG4PoLmGNHQHaXesz2YkdAJvJudrUSSUDpJWt5imJHQNvf2R69A0lA8HEBw01fR0DGXt7SIF5HQN6B8Fe3X0dAT+1nDM5eR0A=",
          "dtype": "f8"
         },
         "marker": {
          "color": "fuchsia"
         },
         "mode": "markers",
         "name": "",
         "showlegend": false,
         "subplot": "map",
         "type": "scattermap"
        }
       ],
       "layout": {
        "height": 500,
        "legend": {
         "tracegroupgap": 0
        },
        "map": {
         "center": {
          "lat": 24.864659638461543,
          "lon": 47.2532003
         },
         "domain": {
          "x": [
           0,
           1
          ],
          "y": [
           0,
           1
          ]
         },
         "style": "open-street-map",
         "zoom": 10
        },
        "mapbox": {
         "center": {
          "lat": 24.864659638461543,
          "lon": 47.2532003
         },
         "zoom": 10
        },
        "margin": {
         "b": 0,
         "l": 0,
         "r": 0,
         "t": 0
        },
        "template": {
         "data": {
          "bar": [
           {
            "error_x": {
             "color": "#2a3f5f"
            },
            "error_y": {
             "color": "#2a3f5f"
            },
            "marker": {
             "line": {
              "color": "#E5ECF6",
              "width": 0.5
             },
             "pattern": {
              "fillmode": "overlay",
              "size": 10,
              "solidity": 0.2
             }
            },
            "type": "bar"
           }
          ],
          "barpolar": [
           {
            "marker": {
             "line": {
              "color": "#E5ECF6",
              "width": 0.5
             },
             "pattern": {
              "fillmode": "overlay",
              "size": 10,
              "solidity": 0.2
             }
            },
            "type": "barpolar"
           }
          ],
          "carpet": [
           {
            "aaxis": {
             "endlinecolor": "#2a3f5f",
             "gridcolor": "white",
             "linecolor": "white",
             "minorgridcolor": "white",
             "startlinecolor": "#2a3f5f"
            },
            "baxis": {
             "endlinecolor": "#2a3f5f",
             "gridcolor": "white",
             "linecolor": "white",
             "minorgridcolor": "white",
             "startlinecolor": "#2a3f5f"
            },
            "type": "carpet"
           }
          ],
          "choropleth": [
           {
            "colorbar": {
             "outlinewidth": 0,
             "ticks": ""
            },
            "type": "choropleth"
           }
          ],
          "contour": [
           {
            "colorbar": {
             "outlinewidth": 0,
             "ticks": ""
            },
            "colorscale": [
             [
              0,
              "#0d0887"
             ],
             [
              0.1111111111111111,
              "#46039f"
             ],
             [
              0.2222222222222222,
              "#7201a8"
             ],
             [
              0.3333333333333333,
              "#9c179e"
             ],
             [
              0.4444444444444444,
              "#bd3786"
             ],
             [
              0.5555555555555556,
              "#d8576b"
             ],
             [
              0.6666666666666666,
              "#ed7953"
             ],
             [
              0.7777777777777778,
              "#fb9f3a"
             ],
             [
              0.8888888888888888,
              "#fdca26"
             ],
             [
              1,
              "#f0f921"
             ]
            ],
            "type": "contour"
           }
          ],
          "contourcarpet": [
           {
            "colorbar": {
             "outlinewidth": 0,
             "ticks": ""
            },
            "type": "contourcarpet"
           }
          ],
          "heatmap": [
           {
            "colorbar": {
             "outlinewidth": 0,
             "ticks": ""
            },
            "colorscale": [
             [
              0,
              "#0d0887"
             ],
             [
              0.1111111111111111,
              "#46039f"
             ],
             [
              0.2222222222222222,
              "#7201a8"
             ],
             [
              0.3333333333333333,
              "#9c179e"
             ],
             [
              0.4444444444444444,
              "#bd3786"
             ],
             [
              0.5555555555555556,
              "#d8576b"
             ],
             [
              0.6666666666666666,
              "#ed7953"
             ],
             [
              0.7777777777777778,
              "#fb9f3a"
             ],
             [
              0.8888888888888888,
              "#fdca26"
             ],
             [
              1,
              "#f0f921"
             ]
            ],
            "type": "heatmap"
           }
          ],
          "histogram": [
           {
            "marker": {
             "pattern": {
              "fillmode": "overlay",
              "size": 10,
              "solidity": 0.2
             }
            },
            "type": "histogram"
           }
          ],
          "histogram2d": [
           {
            "colorbar": {
             "outlinewidth": 0,
             "ticks": ""
            },
            "colorscale": [
             [
              0,
              "#0d0887"
             ],
             [
              0.1111111111111111,
              "#46039f"
             ],
             [
              0.2222222222222222,
              "#7201a8"
             ],
             [
              0.3333333333333333,
              "#9c179e"
             ],
             [
              0.4444444444444444,
              "#bd3786"
             ],
             [
              0.5555555555555556,
              "#d8576b"
             ],
             [
              0.6666666666666666,
              "#ed7953"
             ],
             [
              0.7777777777777778,
              "#fb9f3a"
             ],
             [
              0.8888888888888888,
              "#fdca26"
             ],
             [
              1,
              "#f0f921"
             ]
            ],
            "type": "histogram2d"
           }
          ],
          "histogram2dcontour": [
           {
            "colorbar": {
             "outlinewidth": 0,
             "ticks": ""
            },
            "colorscale": [
             [
              0,
              "#0d0887"
             ],
             [
              0.1111111111111111,
              "#46039f"
             ],
             [
              0.2222222222222222,
              "#7201a8"
             ],
             [
              0.3333333333333333,
              "#9c179e"
             ],
             [
              0.4444444444444444,
              "#bd3786"
             ],
             [
              0.5555555555555556,
              "#d8576b"
             ],
             [
              0.6666666666666666,
              "#ed7953"
             ],
             [
              0.7777777777777778,
              "#fb9f3a"
             ],
             [
              0.8888888888888888,
              "#fdca26"
             ],
             [
              1,
              "#f0f921"
             ]
            ],
            "type": "histogram2dcontour"
           }
          ],
          "mesh3d": [
           {
            "colorbar": {
             "outlinewidth": 0,
             "ticks": ""
            },
            "type": "mesh3d"
           }
          ],
          "parcoords": [
           {
            "line": {
             "colorbar": {
              "outlinewidth": 0,
              "ticks": ""
             }
            },
            "type": "parcoords"
           }
          ],
          "pie": [
           {
            "automargin": true,
            "type": "pie"
           }
          ],
          "scatter": [
           {
            "fillpattern": {
             "fillmode": "overlay",
             "size": 10,
             "solidity": 0.2
            },
            "type": "scatter"
           }
          ],
          "scatter3d": [
           {
            "line": {
             "colorbar": {
              "outlinewidth": 0,
              "ticks": ""
             }
            },
            "marker": {
             "colorbar": {
              "outlinewidth": 0,
              "ticks": ""
             }
            },
            "type": "scatter3d"
           }
          ],
          "scattercarpet": [
           {
            "marker": {
             "colorbar": {
              "outlinewidth": 0,
              "ticks": ""
             }
            },
            "type": "scattercarpet"
           }
          ],
          "scattergeo": [
           {
            "marker": {
             "colorbar": {
              "outlinewidth": 0,
              "ticks": ""
             }
            },
            "type": "scattergeo"
           }
          ],
          "scattergl": [
           {
            "marker": {
             "colorbar": {
              "outlinewidth": 0,
              "ticks": ""
             }
            },
            "type": "scattergl"
           }
          ],
          "scattermap": [
           {
            "marker": {
             "colorbar": {
              "outlinewidth": 0,
              "ticks": ""
             }
            },
            "type": "scattermap"
           }
          ],
          "scattermapbox": [
           {
            "marker": {
             "colorbar": {
              "outlinewidth": 0,
              "ticks": ""
             }
            },
            "type": "scattermapbox"
           }
          ],
          "scatterpolar": [
           {
            "marker": {
             "colorbar": {
              "outlinewidth": 0,
              "ticks": ""
             }
            },
            "type": "scatterpolar"
           }
          ],
          "scatterpolargl": [
           {
            "marker": {
             "colorbar": {
              "outlinewidth": 0,
              "ticks": ""
             }
            },
            "type": "scatterpolargl"
           }
          ],
          "scatterternary": [
           {
            "marker": {
             "colorbar": {
              "outlinewidth": 0,
              "ticks": ""
             }
            },
            "type": "scatterternary"
           }
          ],
          "surface": [
           {
            "colorbar": {
             "outlinewidth": 0,
             "ticks": ""
            },
            "colorscale": [
             [
              0,
              "#0d0887"
             ],
             [
              0.1111111111111111,
              "#46039f"
             ],
             [
              0.2222222222222222,
              "#7201a8"
             ],
             [
              0.3333333333333333,
              "#9c179e"
             ],
             [
              0.4444444444444444,
              "#bd3786"
             ],
             [
              0.5555555555555556,
              "#d8576b"
             ],
             [
              0.6666666666666666,
              "#ed7953"
             ],
             [
              0.7777777777777778,
              "#fb9f3a"
             ],
             [
              0.8888888888888888,
              "#fdca26"
             ],
             [
              1,
              "#f0f921"
             ]
            ],
            "type": "surface"
           }
          ],
          "table": [
           {
            "cells": {
             "fill": {
              "color": "#EBF0F8"
             },
             "line": {
              "color": "white"
             }
            },
            "header": {
             "fill": {
              "color": "#C8D4E3"
             },
             "line": {
              "color": "white"
             }
            },
            "type": "table"
           }
          ]
         },
         "layout": {
          "annotationdefaults": {
           "arrowcolor": "#2a3f5f",
           "arrowhead": 0,
           "arrowwidth": 1
          },
          "autotypenumbers": "strict",
          "coloraxis": {
           "colorbar": {
            "outlinewidth": 0,
            "ticks": ""
           }
          },
          "colorscale": {
           "diverging": [
            [
             0,
             "#8e0152"
            ],
            [
             0.1,
             "#c51b7d"
            ],
            [
             0.2,
             "#de77ae"
            ],
            [
             0.3,
             "#f1b6da"
            ],
            [
             0.4,
             "#fde0ef"
            ],
            [
             0.5,
             "#f7f7f7"
            ],
            [
             0.6,
             "#e6f5d0"
            ],
            [
             0.7,
             "#b8e186"
            ],
            [
             0.8,
             "#7fbc41"
            ],
            [
             0.9,
             "#4d9221"
            ],
            [
             1,
             "#276419"
            ]
           ],
           "sequential": [
            [
             0,
             "#0d0887"
            ],
            [
             0.1111111111111111,
             "#46039f"
            ],
            [
             0.2222222222222222,
             "#7201a8"
            ],
            [
             0.3333333333333333,
             "#9c179e"
            ],
            [
             0.4444444444444444,
             "#bd3786"
            ],
            [
             0.5555555555555556,
             "#d8576b"
            ],
            [
             0.6666666666666666,
             "#ed7953"
            ],
            [
             0.7777777777777778,
             "#fb9f3a"
            ],
            [
             0.8888888888888888,
             "#fdca26"
            ],
            [
             1,
             "#f0f921"
            ]
           ],
           "sequentialminus": [
            [
             0,
             "#0d0887"
            ],
            [
             0.1111111111111111,
             "#46039f"
            ],
            [
             0.2222222222222222,
             "#7201a8"
            ],
            [
             0.3333333333333333,
             "#9c179e"
            ],
            [
             0.4444444444444444,
             "#bd3786"
            ],
            [
             0.5555555555555556,
             "#d8576b"
            ],
            [
             0.6666666666666666,
             "#ed7953"
            ],
            [
             0.7777777777777778,
             "#fb9f3a"
            ],
            [
             0.8888888888888888,
             "#fdca26"
            ],
            [
             1,
             "#f0f921"
            ]
           ]
          },
          "colorway": [
           "#636efa",
           "#EF553B",
           "#00cc96",
           "#ab63fa",
           "#FFA15A",
           "#19d3f3",
           "#FF6692",
           "#B6E880",
           "#FF97FF",
           "#FECB52"
          ],
          "font": {
           "color": "#2a3f5f"
          },
          "geo": {
           "bgcolor": "white",
           "lakecolor": "white",
           "landcolor": "#E5ECF6",
           "showlakes": true,
           "showland": true,
           "subunitcolor": "white"
          },
          "hoverlabel": {
           "align": "left"
          },
          "hovermode": "closest",
          "mapbox": {
           "style": "light"
          },
          "paper_bgcolor": "white",
          "plot_bgcolor": "#E5ECF6",
          "polar": {
           "angularaxis": {
            "gridcolor": "white",
            "linecolor": "white",
            "ticks": ""
           },
           "bgcolor": "#E5ECF6",
           "radialaxis": {
            "gridcolor": "white",
            "linecolor": "white",
            "ticks": ""
           }
          },
          "scene": {
           "xaxis": {
            "backgroundcolor": "#E5ECF6",
            "gridcolor": "white",
            "gridwidth": 2,
            "linecolor": "white",
            "showbackground": true,
            "ticks": "",
            "zerolinecolor": "white"
           },
           "yaxis": {
            "backgroundcolor": "#E5ECF6",
            "gridcolor": "white",
            "gridwidth": 2,
            "linecolor": "white",
            "showbackground": true,
            "ticks": "",
            "zerolinecolor": "white"
           },
           "zaxis": {
            "backgroundcolor": "#E5ECF6",
            "gridcolor": "white",
            "gridwidth": 2,
            "linecolor": "white",
            "showbackground": true,
            "ticks": "",
            "zerolinecolor": "white"
           }
          },
          "shapedefaults": {
           "line": {
            "color": "#2a3f5f"
           }
          },
          "ternary": {
           "aaxis": {
            "gridcolor": "white",
            "linecolor": "white",
            "ticks": ""
           },
           "baxis": {
            "gridcolor": "white",
            "linecolor": "white",
            "ticks": ""
           },
           "bgcolor": "#E5ECF6",
           "caxis": {
            "gridcolor": "white",
            "linecolor": "white",
            "ticks": ""
           }
          },
          "title": {
           "x": 0.05
          },
          "xaxis": {
           "automargin": true,
           "gridcolor": "white",
           "linecolor": "white",
           "ticks": "",
           "title": {
            "standoff": 15
           },
           "zerolinecolor": "white",
           "zerolinewidth": 2
          },
          "yaxis": {
           "automargin": true,
           "gridcolor": "white",
           "linecolor": "white",
           "ticks": "",
           "title": {
            "standoff": 15
           },
           "zerolinecolor": "white",
           "zerolinewidth": 2
          }
         }
        }
       }
      }
     },
     "metadata": {},
     "output_type": "display_data"
    }
   ],
   "source": [
    "fig1 = px.scatter_map(top_S, lat=\"Latitude\", lon=\"Longitude\", hover_name=\"Name\", hover_data=[\"Rates\", \"Reviews\"],\n",
    "                        color_discrete_sequence=[\"fuchsia\"], zoom=10, height=500)\n",
    "fig1.update_layout(map_style=\"open-street-map\")\n",
    "fig1.update_layout(margin={\"r\":0,\"t\":0,\"l\":0,\"b\":0})\n",
    "fig1.show()"
   ]
  },
  {
   "cell_type": "markdown",
   "id": "0d57c4b9-9bb3-494d-85dd-b8d39afda139",
   "metadata": {},
   "source": [
    "#### I. Categorical Variables:"
   ]
  },
  {
   "cell_type": "code",
   "execution_count": null,
   "id": "72ece4b7-5508-403a-8fb0-f519fc74272a",
   "metadata": {},
   "outputs": [
    {
     "ename": "ValueError",
     "evalue": "Mime type rendering requires nbformat>=4.2.0 but it is not installed",
     "output_type": "error",
     "traceback": [
      "\u001b[31m---------------------------------------------------------------------------\u001b[39m",
      "\u001b[31mValueError\u001b[39m                                Traceback (most recent call last)",
      "\u001b[36mCell\u001b[39m\u001b[36m \u001b[39m\u001b[32mIn[686]\u001b[39m\u001b[32m, line 15\u001b[39m\n\u001b[32m      6\u001b[39m fig = px.pie(direction_counts, \n\u001b[32m      7\u001b[39m              names=\u001b[33m'\u001b[39m\u001b[33mDirection\u001b[39m\u001b[33m'\u001b[39m, \n\u001b[32m      8\u001b[39m              values=\u001b[33m'\u001b[39m\u001b[33mCount\u001b[39m\u001b[33m'\u001b[39m, \n\u001b[32m      9\u001b[39m              title=\u001b[33m'\u001b[39m\u001b[33mDistribution of Directions\u001b[39m\u001b[33m'\u001b[39m, \n\u001b[32m     10\u001b[39m              color=\u001b[33m'\u001b[39m\u001b[33mDirection\u001b[39m\u001b[33m'\u001b[39m,\n\u001b[32m     11\u001b[39m              color_discrete_sequence=px.colors.sequential.Blues)\n\u001b[32m     13\u001b[39m fig.update_traces(textinfo=\u001b[33m'\u001b[39m\u001b[33mpercent+label\u001b[39m\u001b[33m'\u001b[39m, pull=[\u001b[32m0.05\u001b[39m]*\u001b[38;5;28mlen\u001b[39m(direction_counts))\n\u001b[32m---> \u001b[39m\u001b[32m15\u001b[39m \u001b[43mfig\u001b[49m\u001b[43m.\u001b[49m\u001b[43mshow\u001b[49m\u001b[43m(\u001b[49m\u001b[43m)\u001b[49m\n",
      "\u001b[36mFile \u001b[39m\u001b[32m~\\AppData\\Roaming\\Python\\Python313\\site-packages\\plotly\\basedatatypes.py:3414\u001b[39m, in \u001b[36mBaseFigure.show\u001b[39m\u001b[34m(self, *args, **kwargs)\u001b[39m\n\u001b[32m   3381\u001b[39m \u001b[38;5;250m\u001b[39m\u001b[33;03m\"\"\"\u001b[39;00m\n\u001b[32m   3382\u001b[39m \u001b[33;03mShow a figure using either the default renderer(s) or the renderer(s)\u001b[39;00m\n\u001b[32m   3383\u001b[39m \u001b[33;03mspecified by the renderer argument\u001b[39;00m\n\u001b[32m   (...)\u001b[39m\u001b[32m   3410\u001b[39m \u001b[33;03mNone\u001b[39;00m\n\u001b[32m   3411\u001b[39m \u001b[33;03m\"\"\"\u001b[39;00m\n\u001b[32m   3412\u001b[39m \u001b[38;5;28;01mimport\u001b[39;00m\u001b[38;5;250m \u001b[39m\u001b[34;01mplotly\u001b[39;00m\u001b[34;01m.\u001b[39;00m\u001b[34;01mio\u001b[39;00m\u001b[38;5;250m \u001b[39m\u001b[38;5;28;01mas\u001b[39;00m\u001b[38;5;250m \u001b[39m\u001b[34;01mpio\u001b[39;00m\n\u001b[32m-> \u001b[39m\u001b[32m3414\u001b[39m \u001b[38;5;28;01mreturn\u001b[39;00m \u001b[43mpio\u001b[49m\u001b[43m.\u001b[49m\u001b[43mshow\u001b[49m\u001b[43m(\u001b[49m\u001b[38;5;28;43mself\u001b[39;49m\u001b[43m,\u001b[49m\u001b[43m \u001b[49m\u001b[43m*\u001b[49m\u001b[43margs\u001b[49m\u001b[43m,\u001b[49m\u001b[43m \u001b[49m\u001b[43m*\u001b[49m\u001b[43m*\u001b[49m\u001b[43mkwargs\u001b[49m\u001b[43m)\u001b[49m\n",
      "\u001b[36mFile \u001b[39m\u001b[32m~\\AppData\\Roaming\\Python\\Python313\\site-packages\\plotly\\io\\_renderers.py:425\u001b[39m, in \u001b[36mshow\u001b[39m\u001b[34m(fig, renderer, validate, **kwargs)\u001b[39m\n\u001b[32m    420\u001b[39m     \u001b[38;5;28;01mraise\u001b[39;00m \u001b[38;5;167;01mValueError\u001b[39;00m(\n\u001b[32m    421\u001b[39m         \u001b[33m\"\u001b[39m\u001b[33mMime type rendering requires ipython but it is not installed\u001b[39m\u001b[33m\"\u001b[39m\n\u001b[32m    422\u001b[39m     )\n\u001b[32m    424\u001b[39m \u001b[38;5;28;01mif\u001b[39;00m \u001b[38;5;129;01mnot\u001b[39;00m nbformat \u001b[38;5;129;01mor\u001b[39;00m Version(nbformat.__version__) < Version(\u001b[33m\"\u001b[39m\u001b[33m4.2.0\u001b[39m\u001b[33m\"\u001b[39m):\n\u001b[32m--> \u001b[39m\u001b[32m425\u001b[39m     \u001b[38;5;28;01mraise\u001b[39;00m \u001b[38;5;167;01mValueError\u001b[39;00m(\n\u001b[32m    426\u001b[39m         \u001b[33m\"\u001b[39m\u001b[33mMime type rendering requires nbformat>=4.2.0 but it is not installed\u001b[39m\u001b[33m\"\u001b[39m\n\u001b[32m    427\u001b[39m     )\n\u001b[32m    429\u001b[39m display_jupyter_version_warnings()\n\u001b[32m    431\u001b[39m ipython_display.display(bundle, raw=\u001b[38;5;28;01mTrue\u001b[39;00m)\n",
      "\u001b[31mValueError\u001b[39m: Mime type rendering requires nbformat>=4.2.0 but it is not installed"
     ]
    }
   ],
   "source": [
    "\n",
    "\n",
    "# Count occurrences of each unique value in the 'direction' column\n",
    "direction_counts = df['direction'].value_counts().reset_index()\n",
    "direction_counts.columns = ['Direction', 'Count']\n",
    "\n",
    "# Create pie chart using Plotly\n",
    "fig = px.pie(direction_counts, \n",
    "             names='أي جهة من الرياض', \n",
    "             values='العدد', \n",
    "             title='توزيع الجهات', \n",
    "             color='الجهة',\n",
    "             color_discrete_sequence=px.colors.sequential.Blues)\n",
    "\n",
    "fig.update_traces(textinfo='percent+label', pull=[0.05]*len(direction_counts))\n",
    "\n",
    "fig.show()"
   ]
  },
  {
   "cell_type": "markdown",
   "id": "23b3c306",
   "metadata": {},
   "source": [
    "The distribution of nurseries across different directions in Riyadh reveals some interesting trends. The data shows that East Riyadh (شرق الرياض) has the highest number of nurseries, with 217 nurseries, followed by North Riyadh (شمال الرياض) with 161 nurseries. This suggests that these areas have a higher concentration of childcare facilities, possibly due to higher population density, increased demand, or better infrastructure for families.\n",
    "\n",
    "On the other hand, West Riyadh (غرب الرياض) has 133 nurseries, which is still a significant number but lower than the eastern and northern regions. This could indicate a slightly lower demand or fewer established facilities in this part of the city.\n",
    "\n",
    "South Riyadh (جنوب الرياض) has the fewest nurseries, with only 64, making it the least serviced area in terms of nursery availability. This might indicate a lower population density in the southern part of Riyadh or fewer investments in early childhood education centers compared to other areas."
   ]
  },
  {
   "cell_type": "code",
   "execution_count": 687,
   "id": "e75b474b",
   "metadata": {},
   "outputs": [
    {
     "data": {
      "text/plain": [
       "direction\n",
       "شرق الرياض     217\n",
       "شمال الرياض    161\n",
       "غرب الرياض     133\n",
       "جنوب الرياض     64\n",
       "Name: count, dtype: int64"
      ]
     },
     "execution_count": 687,
     "metadata": {},
     "output_type": "execute_result"
    }
   ],
   "source": [
    "df['direction'].value_counts()"
   ]
  },
  {
   "cell_type": "code",
   "execution_count": null,
   "id": "51038129",
   "metadata": {},
   "outputs": [
    {
     "data": {
      "image/png": "[encoded data removed]",
      "text/plain": [
       "<Figure size 1000x600 with 1 Axes>"
      ]
     },
     "metadata": {},
     "output_type": "display_data"
    }
   ],
   "source": [
    "# Count occurrences of each unique value in the 'Type' column\n",
    "type_counts = df['Type'].value_counts().reset_index()\n",
    "type_counts.columns = ['Type', 'Count']\n",
    "\n",
    "# Create bar chart using Plotly\n",
    "fig = px.bar(type_counts, \n",
    "             x='Type', \n",
    "             y='Count', \n",
    "             title='توزيع الحضانات والمدارس حسب النوع', \n",
    "             text='Count',\n",
    "             color='Count',\n",
    "             color_continuous_scale='pinkyl')\n",
    "\n",
    "# Update layout for better readability\n",
    "fig.update_traces(textposition='outside')\n",
    "fig.update_layout(xaxis_title='نوع المؤسسة', \n",
    "                  yaxis_title='عدد المؤسسات', \n",
    "                  xaxis_tickangle=-45)\n",
    "\n",
    "fig.show()"
   ]
  },
  {
   "cell_type": "markdown",
   "id": "d122b3b3",
   "metadata": {},
   "source": [
    "The distribution of nurseries and schools in North Riyadh shows a strong focus on early childhood education, with nurseries leading at 287 establishments, followed by schools with 114 entries and kindergartens with 92 entries. This suggests a high demand for childcare and early education services, reflecting the city's growing population and emphasis on foundational learning. Additionally, the presence of private, international, and Montessori schools indicates a diverse educational landscape, offering parents multiple choices based on teaching methodologies and curriculum preferences. However, specialized institutions such as childcare centers, religious schools, and facilities for children with special needs are significantly fewer, highlighting a potential gap in accessibility for specific groups. Further analysis of parent reviews, pricing, and service quality could provide deeper insights into how these institutions are meeting the needs of families in Riyadh."
   ]
  },
  {
   "cell_type": "markdown",
   "id": "d2641f0d-80f2-493b-99b7-15476379a1e2",
   "metadata": {},
   "source": [
    "#### II. Numerical Variables:"
   ]
  },
  {
   "cell_type": "code",
   "execution_count": 694,
   "id": "5be16f08-a072-4a02-a3ee-6f9d57786fb4",
   "metadata": {},
   "outputs": [
    {
     "data": {
      "text/plain": [
       "url              object\n",
       "Name             object\n",
       "Rates           float64\n",
       "Reviews           int64\n",
       "Type             object\n",
       "Phone            object\n",
       "Neighborhood     object\n",
       "Website          object\n",
       "direction        object\n",
       "Latitude        float64\n",
       "Longitude       float64\n",
       "dtype: object"
      ]
     },
     "execution_count": 694,
     "metadata": {},
     "output_type": "execute_result"
    }
   ],
   "source": [
    "df.dtypes"
   ]
  },
  {
   "cell_type": "markdown",
   "id": "d66677d3-44ad-414f-9b39-f9c1995ad043",
   "metadata": {},
   "source": [
    "### 2. Univariate Non-Graphical analysis: "
   ]
  },
  {
   "cell_type": "code",
   "execution_count": 696,
   "id": "f1058d84-e61e-4f5b-b66a-29931e77821b",
   "metadata": {},
   "outputs": [
    {
     "ename": "ValueError",
     "evalue": "Mime type rendering requires nbformat>=4.2.0 but it is not installed",
     "output_type": "error",
     "traceback": [
      "\u001b[31m---------------------------------------------------------------------------\u001b[39m",
      "\u001b[31mValueError\u001b[39m                                Traceback (most recent call last)",
      "\u001b[36mCell\u001b[39m\u001b[36m \u001b[39m\u001b[32mIn[696]\u001b[39m\u001b[32m, line 13\u001b[39m\n\u001b[32m      8\u001b[39m \u001b[38;5;66;03m# Update layout for better readability\u001b[39;00m\n\u001b[32m      9\u001b[39m fig.update_layout(xaxis_title=\u001b[33m'\u001b[39m\u001b[33mالتقييمات\u001b[39m\u001b[33m'\u001b[39m, \n\u001b[32m     10\u001b[39m                   yaxis_title=\u001b[33m'\u001b[39m\u001b[33mعدد الحضانات\u001b[39m\u001b[33m'\u001b[39m, \n\u001b[32m     11\u001b[39m                   bargap=\u001b[32m0.1\u001b[39m)\n\u001b[32m---> \u001b[39m\u001b[32m13\u001b[39m \u001b[43mfig\u001b[49m\u001b[43m.\u001b[49m\u001b[43mshow\u001b[49m\u001b[43m(\u001b[49m\u001b[43m)\u001b[49m\n",
      "\u001b[36mFile \u001b[39m\u001b[32m~\\AppData\\Roaming\\Python\\Python313\\site-packages\\plotly\\basedatatypes.py:3414\u001b[39m, in \u001b[36mBaseFigure.show\u001b[39m\u001b[34m(self, *args, **kwargs)\u001b[39m\n\u001b[32m   3381\u001b[39m \u001b[38;5;250m\u001b[39m\u001b[33;03m\"\"\"\u001b[39;00m\n\u001b[32m   3382\u001b[39m \u001b[33;03mShow a figure using either the default renderer(s) or the renderer(s)\u001b[39;00m\n\u001b[32m   3383\u001b[39m \u001b[33;03mspecified by the renderer argument\u001b[39;00m\n\u001b[32m   (...)\u001b[39m\u001b[32m   3410\u001b[39m \u001b[33;03mNone\u001b[39;00m\n\u001b[32m   3411\u001b[39m \u001b[33;03m\"\"\"\u001b[39;00m\n\u001b[32m   3412\u001b[39m \u001b[38;5;28;01mimport\u001b[39;00m\u001b[38;5;250m \u001b[39m\u001b[34;01mplotly\u001b[39;00m\u001b[34;01m.\u001b[39;00m\u001b[34;01mio\u001b[39;00m\u001b[38;5;250m \u001b[39m\u001b[38;5;28;01mas\u001b[39;00m\u001b[38;5;250m \u001b[39m\u001b[34;01mpio\u001b[39;00m\n\u001b[32m-> \u001b[39m\u001b[32m3414\u001b[39m \u001b[38;5;28;01mreturn\u001b[39;00m \u001b[43mpio\u001b[49m\u001b[43m.\u001b[49m\u001b[43mshow\u001b[49m\u001b[43m(\u001b[49m\u001b[38;5;28;43mself\u001b[39;49m\u001b[43m,\u001b[49m\u001b[43m \u001b[49m\u001b[43m*\u001b[49m\u001b[43margs\u001b[49m\u001b[43m,\u001b[49m\u001b[43m \u001b[49m\u001b[43m*\u001b[49m\u001b[43m*\u001b[49m\u001b[43mkwargs\u001b[49m\u001b[43m)\u001b[49m\n",
      "\u001b[36mFile \u001b[39m\u001b[32m~\\AppData\\Roaming\\Python\\Python313\\site-packages\\plotly\\io\\_renderers.py:425\u001b[39m, in \u001b[36mshow\u001b[39m\u001b[34m(fig, renderer, validate, **kwargs)\u001b[39m\n\u001b[32m    420\u001b[39m     \u001b[38;5;28;01mraise\u001b[39;00m \u001b[38;5;167;01mValueError\u001b[39;00m(\n\u001b[32m    421\u001b[39m         \u001b[33m\"\u001b[39m\u001b[33mMime type rendering requires ipython but it is not installed\u001b[39m\u001b[33m\"\u001b[39m\n\u001b[32m    422\u001b[39m     )\n\u001b[32m    424\u001b[39m \u001b[38;5;28;01mif\u001b[39;00m \u001b[38;5;129;01mnot\u001b[39;00m nbformat \u001b[38;5;129;01mor\u001b[39;00m Version(nbformat.__version__) < Version(\u001b[33m\"\u001b[39m\u001b[33m4.2.0\u001b[39m\u001b[33m\"\u001b[39m):\n\u001b[32m--> \u001b[39m\u001b[32m425\u001b[39m     \u001b[38;5;28;01mraise\u001b[39;00m \u001b[38;5;167;01mValueError\u001b[39;00m(\n\u001b[32m    426\u001b[39m         \u001b[33m\"\u001b[39m\u001b[33mMime type rendering requires nbformat>=4.2.0 but it is not installed\u001b[39m\u001b[33m\"\u001b[39m\n\u001b[32m    427\u001b[39m     )\n\u001b[32m    429\u001b[39m display_jupyter_version_warnings()\n\u001b[32m    431\u001b[39m ipython_display.display(bundle, raw=\u001b[38;5;28;01mTrue\u001b[39;00m)\n",
      "\u001b[31mValueError\u001b[39m: Mime type rendering requires nbformat>=4.2.0 but it is not installed"
     ]
    }
   ],
   "source": [
    "# Create histogram for 'Rates' column\n",
    "fig = px.histogram(df, \n",
    "                   x='Rates', \n",
    "                   title='توزيع التقييمات', \n",
    "                   nbins=20, \n",
    "                   color_discrete_sequence=['pink'])\n",
    "\n",
    "# Update layout for better readability\n",
    "fig.update_layout(xaxis_title='التقييمات', \n",
    "                  yaxis_title='عدد الحضانات', \n",
    "                  bargap=0.1)\n",
    "\n",
    "fig.show()"
   ]
  },
  {
   "cell_type": "markdown",
   "id": "846c3fa9",
   "metadata": {},
   "source": [
    "The distribution of nursery ratings across Riyadh indicates a strong tendency toward higher ratings, with most nurseries receiving scores between 4.0 and 5.0. This suggests that the majority of nurseries in the city maintain high service quality and parent satisfaction. The highest concentration of ratings is around 4.5, reflecting a generally positive perception of childcare facilities. Lower ratings, particularly those below 2.5, are relatively rare, indicating that poorly rated nurseries are not widespread. The right-skewed nature of the distribution further supports the idea that most nurseries offer good to excellent services. However, analyzing the few lower-rated nurseries could help identify common challenges, such as staff quality, facilities, or curriculum effectiveness. Further investigation into how ratings vary by neighborhood or nursery type could provide deeper insights, helping parents make informed decisions when selecting the best childcare options in Riyadh."
   ]
  },
  {
   "cell_type": "markdown",
   "id": "f09bb809-0edd-432b-bf23-abd0840b3e16",
   "metadata": {},
   "source": [
    "## 4. Bivariate/Multivariate Analysis:"
   ]
  },
  {
   "cell_type": "code",
   "execution_count": null,
   "id": "73f9f2ac-8477-49ea-9c68-4fe44d4395b6",
   "metadata": {},
   "outputs": [
    {
     "ename": "ValueError",
     "evalue": "Mime type rendering requires nbformat>=4.2.0 but it is not installed",
     "output_type": "error",
     "traceback": [
      "\u001b[31m---------------------------------------------------------------------------\u001b[39m",
      "\u001b[31mValueError\u001b[39m                                Traceback (most recent call last)",
      "\u001b[36mCell\u001b[39m\u001b[36m \u001b[39m\u001b[32mIn[703]\u001b[39m\u001b[32m, line 19\u001b[39m\n\u001b[32m     14\u001b[39m fig.update_traces(texttemplate=\u001b[33m'\u001b[39m\u001b[33m%\u001b[39m\u001b[38;5;132;01m{text:.2f}\u001b[39;00m\u001b[33m'\u001b[39m, textposition=\u001b[33m'\u001b[39m\u001b[33moutside\u001b[39m\u001b[33m'\u001b[39m)\n\u001b[32m     15\u001b[39m fig.update_layout(xaxis_title=\u001b[33m'\u001b[39m\u001b[33mنوع الحضانة\u001b[39m\u001b[33m'\u001b[39m, \n\u001b[32m     16\u001b[39m                   yaxis_title=\u001b[33m'\u001b[39m\u001b[33mمتوسط التقييمات\u001b[39m\u001b[33m'\u001b[39m, \n\u001b[32m     17\u001b[39m                   xaxis_tickangle=-\u001b[32m45\u001b[39m)\n\u001b[32m---> \u001b[39m\u001b[32m19\u001b[39m \u001b[43mfig\u001b[49m\u001b[43m.\u001b[49m\u001b[43mshow\u001b[49m\u001b[43m(\u001b[49m\u001b[43m)\u001b[49m\n",
      "\u001b[36mFile \u001b[39m\u001b[32m~\\AppData\\Roaming\\Python\\Python313\\site-packages\\plotly\\basedatatypes.py:3414\u001b[39m, in \u001b[36mBaseFigure.show\u001b[39m\u001b[34m(self, *args, **kwargs)\u001b[39m\n\u001b[32m   3381\u001b[39m \u001b[38;5;250m\u001b[39m\u001b[33;03m\"\"\"\u001b[39;00m\n\u001b[32m   3382\u001b[39m \u001b[33;03mShow a figure using either the default renderer(s) or the renderer(s)\u001b[39;00m\n\u001b[32m   3383\u001b[39m \u001b[33;03mspecified by the renderer argument\u001b[39;00m\n\u001b[32m   (...)\u001b[39m\u001b[32m   3410\u001b[39m \u001b[33;03mNone\u001b[39;00m\n\u001b[32m   3411\u001b[39m \u001b[33;03m\"\"\"\u001b[39;00m\n\u001b[32m   3412\u001b[39m \u001b[38;5;28;01mimport\u001b[39;00m\u001b[38;5;250m \u001b[39m\u001b[34;01mplotly\u001b[39;00m\u001b[34;01m.\u001b[39;00m\u001b[34;01mio\u001b[39;00m\u001b[38;5;250m \u001b[39m\u001b[38;5;28;01mas\u001b[39;00m\u001b[38;5;250m \u001b[39m\u001b[34;01mpio\u001b[39;00m\n\u001b[32m-> \u001b[39m\u001b[32m3414\u001b[39m \u001b[38;5;28;01mreturn\u001b[39;00m \u001b[43mpio\u001b[49m\u001b[43m.\u001b[49m\u001b[43mshow\u001b[49m\u001b[43m(\u001b[49m\u001b[38;5;28;43mself\u001b[39;49m\u001b[43m,\u001b[49m\u001b[43m \u001b[49m\u001b[43m*\u001b[49m\u001b[43margs\u001b[49m\u001b[43m,\u001b[49m\u001b[43m \u001b[49m\u001b[43m*\u001b[49m\u001b[43m*\u001b[49m\u001b[43mkwargs\u001b[49m\u001b[43m)\u001b[49m\n",
      "\u001b[36mFile \u001b[39m\u001b[32m~\\AppData\\Roaming\\Python\\Python313\\site-packages\\plotly\\io\\_renderers.py:425\u001b[39m, in \u001b[36mshow\u001b[39m\u001b[34m(fig, renderer, validate, **kwargs)\u001b[39m\n\u001b[32m    420\u001b[39m     \u001b[38;5;28;01mraise\u001b[39;00m \u001b[38;5;167;01mValueError\u001b[39;00m(\n\u001b[32m    421\u001b[39m         \u001b[33m\"\u001b[39m\u001b[33mMime type rendering requires ipython but it is not installed\u001b[39m\u001b[33m\"\u001b[39m\n\u001b[32m    422\u001b[39m     )\n\u001b[32m    424\u001b[39m \u001b[38;5;28;01mif\u001b[39;00m \u001b[38;5;129;01mnot\u001b[39;00m nbformat \u001b[38;5;129;01mor\u001b[39;00m Version(nbformat.__version__) < Version(\u001b[33m\"\u001b[39m\u001b[33m4.2.0\u001b[39m\u001b[33m\"\u001b[39m):\n\u001b[32m--> \u001b[39m\u001b[32m425\u001b[39m     \u001b[38;5;28;01mraise\u001b[39;00m \u001b[38;5;167;01mValueError\u001b[39;00m(\n\u001b[32m    426\u001b[39m         \u001b[33m\"\u001b[39m\u001b[33mMime type rendering requires nbformat>=4.2.0 but it is not installed\u001b[39m\u001b[33m\"\u001b[39m\n\u001b[32m    427\u001b[39m     )\n\u001b[32m    429\u001b[39m display_jupyter_version_warnings()\n\u001b[32m    431\u001b[39m ipython_display.display(bundle, raw=\u001b[38;5;28;01mTrue\u001b[39;00m)\n",
      "\u001b[31mValueError\u001b[39m: Mime type rendering requires nbformat>=4.2.0 but it is not installed"
     ]
    }
   ],
   "source": [
    "# Calculate the average rating for each nursery type\n",
    "type_avg_rates = df.groupby('Type', as_index=False)['Rates'].mean()\n",
    "\n",
    "# Create a bar chart using Plotly\n",
    "fig = px.bar(type_avg_rates, \n",
    "             x='Type', \n",
    "             y='Rates', \n",
    "             title='متوسط التقييمات حسب نوع الحضانة', \n",
    "             text='Rates',\n",
    "             color='Rates',\n",
    "             color_continuous_scale='pinkyl')\n",
    "\n",
    "# Update layout for better readability\n",
    "fig.update_traces(texttemplate='%{text:.2f}', textposition='outside')\n",
    "fig.update_layout(xaxis_title='نوع الحضانة', \n",
    "                  yaxis_title='متوسط التقييمات', \n",
    "                  xaxis_tickangle=-45)\n",
    "\n",
    "fig.show()"
   ]
  },
  {
   "cell_type": "code",
   "execution_count": null,
   "id": "8406f58f-b825-4a15-8f6e-c68ca66bd483",
   "metadata": {},
   "outputs": [],
   "source": []
  },
  {
   "cell_type": "code",
   "execution_count": null,
   "id": "5c31233f",
   "metadata": {},
   "outputs": [],
   "source": []
  }
 ],
 "metadata": {
  "kernelspec": {
   "display_name": "base",
   "language": "python",
   "name": "python3"
  },
  "language_info": {
   "codemirror_mode": {
    "name": "ipython",
    "version": 3
   },
   "file_extension": ".py",
   "mimetype": "text/x-python",
   "name": "python",
   "nbconvert_exporter": "python",
   "pygments_lexer": "ipython3",
   "version": "3.12.7"
  }
 },
 "nbformat": 4,
 "nbformat_minor": 5
}
